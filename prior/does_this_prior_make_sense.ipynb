{
 "cells": [
  {
   "cell_type": "markdown",
   "id": "3cfd7e65-ad54-4875-a20a-3fd7b2a6a6e9",
   "metadata": {},
   "source": [
    "# Pick a target and energy that KDUQ should be fit to, and see if our prior looks somewhat similar"
   ]
  },
  {
   "cell_type": "code",
   "execution_count": 1,
   "id": "a3368054-75e8-4f71-af34-014591e7499c",
   "metadata": {},
   "outputs": [],
   "source": [
    "import numpy as np"
   ]
  },
  {
   "cell_type": "code",
   "execution_count": 2,
   "id": "7f6ea6e1-0568-4d0f-8e74-05de662b38f1",
   "metadata": {},
   "outputs": [],
   "source": [
    "neutron = (1, 0)\n",
    "proton = (1, 1)"
   ]
  },
  {
   "cell_type": "code",
   "execution_count": 3,
   "id": "d824cf21-eb10-46a3-8e96-b38feb50228f",
   "metadata": {},
   "outputs": [],
   "source": [
    "from jitr.reactions import ElasticReaction"
   ]
  },
  {
   "cell_type": "code",
   "execution_count": 4,
   "id": "30ca7f12-9895-475a-b7cd-822ab0e8c2b5",
   "metadata": {},
   "outputs": [],
   "source": [
    "from jitr.optical_potentials import kduq"
   ]
  },
  {
   "cell_type": "code",
   "execution_count": 5,
   "id": "966756d1-543b-4aef-8cd0-8a02be491bcf",
   "metadata": {},
   "outputs": [
    {
     "name": "stdout",
     "output_type": "stream",
     "text": [
      "Using database version X4-2024-12-31 located in: /home/kyle/db/exfor/unpack_exfor-2024/X4-2024-12-31\n"
     ]
    }
   ],
   "source": [
    "import pickle\n",
    "\n",
    "import elm\n",
    "\n",
    "with open(\"./prior_distribution.pickle\", \"rb\") as f:\n",
    "    prior = pickle.load(f)\n",
    "prior_samples = elm.elm.array_to_list(prior.rvs(1000))"
   ]
  },
  {
   "cell_type": "code",
   "execution_count": 6,
   "id": "e4433afb-f2d5-451c-9396-8dd2204d329a",
   "metadata": {},
   "outputs": [],
   "source": [
    "target = (208, 82)\n",
    "projectile = neutron\n",
    "energy_lab = 35\n",
    "rxn = ElasticReaction(target=target, projectile=projectile)"
   ]
  },
  {
   "cell_type": "code",
   "execution_count": 7,
   "id": "df68c735-827f-4553-b3ae-b9a805422b42",
   "metadata": {},
   "outputs": [],
   "source": [
    "kduq_samples = kduq.get_samples_federal(projectile)"
   ]
  },
  {
   "cell_type": "code",
   "execution_count": 8,
   "id": "9f3905f2-a240-4368-9474-12d2d08f012f",
   "metadata": {},
   "outputs": [
    {
     "data": {
      "text/plain": [
       "ChannelKinematics(Elab=35, Ecm=34.83103657194142, mu=np.float64(969.4312284969092), k=np.float64(1.305130762020223), eta=np.float64(0.0))"
      ]
     },
     "execution_count": 8,
     "metadata": {},
     "output_type": "execute_result"
    }
   ],
   "source": [
    "kinematics = rxn.kinematics(energy_lab)\n",
    "kinematics"
   ]
  },
  {
   "cell_type": "code",
   "execution_count": 9,
   "id": "620bf470-a586-42cb-b43c-f46de951f339",
   "metadata": {},
   "outputs": [],
   "source": [
    "elm_prior_params = [\n",
    "    elm.elm.calculate_parameters(projectile, target, kinematics.Ecm, rxn.Ef, p)\n",
    "    for p in prior_samples\n",
    "]"
   ]
  },
  {
   "cell_type": "code",
   "execution_count": 10,
   "id": "72196de9-16ab-4bbc-bc27-2487abaf478e",
   "metadata": {},
   "outputs": [],
   "source": [
    "isoscalar, isovector, so0, so1, coul, asym = (\n",
    "    np.array(l) for l in zip(*elm_prior_params)\n",
    ")"
   ]
  },
  {
   "cell_type": "code",
   "execution_count": 11,
   "id": "424db87d-e5fd-4a9f-8000-2a32678f7ea2",
   "metadata": {},
   "outputs": [
    {
     "data": {
      "text/plain": [
       "np.float64(1.1464178613303104)"
      ]
     },
     "execution_count": 11,
     "metadata": {},
     "output_type": "execute_result"
    }
   ],
   "source": [
    "np.mean(asym) * np.mean(isovector[0])"
   ]
  },
  {
   "cell_type": "code",
   "execution_count": 12,
   "id": "08534b06-0085-4df9-b211-fada42ad7119",
   "metadata": {},
   "outputs": [],
   "source": [
    "kduq_params = [\n",
    "    kduq.calculate_params(projectile, target, kinematics.Elab, p) for p in kduq_samples\n",
    "]"
   ]
  },
  {
   "cell_type": "code",
   "execution_count": 13,
   "id": "5a331359-544e-4bac-99e1-0e6c83b42049",
   "metadata": {},
   "outputs": [],
   "source": [
    "kduq_coul, kduq_central, kduq_so = (np.array(l) for l in zip(*kduq_params))"
   ]
  },
  {
   "cell_type": "code",
   "execution_count": 14,
   "id": "c4e99bf8-fa20-4e63-ace4-44f74796c438",
   "metadata": {},
   "outputs": [
    {
     "data": {
      "text/plain": [
       "array([38.90670638,  7.1957479 ,  0.71487971,  3.31161616,  7.1957479 ,\n",
       "        0.71487971,  4.95517375,  7.39212527,  0.57457236])"
      ]
     },
     "execution_count": 14,
     "metadata": {},
     "output_type": "execute_result"
    }
   ],
   "source": [
    "np.mean(kduq_central, axis=0)"
   ]
  },
  {
   "cell_type": "code",
   "execution_count": 15,
   "id": "da3724df-2327-4c13-80b6-b9b23dd6db45",
   "metadata": {},
   "outputs": [
    {
     "data": {
      "text/plain": [
       "array([41.60104451,  4.43696836,  7.29502765,  6.90779391,  0.72965038,\n",
       "        6.90779391,  0.72965038])"
      ]
     },
     "execution_count": 15,
     "metadata": {},
     "output_type": "execute_result"
    }
   ],
   "source": [
    "np.mean(isoscalar, axis=0)"
   ]
  },
  {
   "cell_type": "code",
   "execution_count": 16,
   "id": "5ce326fc-9cdd-4697-b57c-0a973f4a6070",
   "metadata": {},
   "outputs": [
    {
     "data": {
      "text/plain": [
       "array([1.02311291e+01, 1.46711096e-02, 1.85685291e+01, 6.90731686e+00,\n",
       "       7.28606033e-01, 6.90731686e+00, 7.28606033e-01])"
      ]
     },
     "execution_count": 16,
     "metadata": {},
     "output_type": "execute_result"
    }
   ],
   "source": [
    "np.mean(isovector, axis=0)"
   ]
  },
  {
   "cell_type": "code",
   "execution_count": 17,
   "id": "f909c1a4-f06a-4534-8ec0-c23ed3f74e0d",
   "metadata": {},
   "outputs": [
    {
     "data": {
      "text/plain": [
       "array([ 4.01925533,  6.50920067,  0.57430756, -0.11610853,  6.50920067,\n",
       "        0.57430756])"
      ]
     },
     "execution_count": 17,
     "metadata": {},
     "output_type": "execute_result"
    }
   ],
   "source": [
    "np.mean(kduq_so, axis=0)"
   ]
  },
  {
   "cell_type": "code",
   "execution_count": 18,
   "id": "5a3d5b91-20ce-48f4-9882-3cda99852b1d",
   "metadata": {},
   "outputs": [
    {
     "data": {
      "text/plain": [
       "array([5.58      , 0.        , 6.90779391, 0.72965038])"
      ]
     },
     "execution_count": 18,
     "metadata": {},
     "output_type": "execute_result"
    }
   ],
   "source": [
    "np.mean(so0, axis=0)"
   ]
  },
  {
   "cell_type": "code",
   "execution_count": 19,
   "id": "1f9237ff-1659-41c7-88b6-ca095167f64a",
   "metadata": {},
   "outputs": [
    {
     "data": {
      "text/plain": [
       "array([0.        , 0.        , 6.90731686, 0.72860603])"
      ]
     },
     "execution_count": 19,
     "metadata": {},
     "output_type": "execute_result"
    }
   ],
   "source": [
    "np.mean(so1, axis=0)"
   ]
  },
  {
   "cell_type": "code",
   "execution_count": 20,
   "id": "75aaf8ae-1533-41eb-87c4-e8a10ed466dd",
   "metadata": {},
   "outputs": [
    {
     "data": {
      "text/plain": [
       "array([82.        ,  6.90779391])"
      ]
     },
     "execution_count": 20,
     "metadata": {},
     "output_type": "execute_result"
    }
   ],
   "source": [
    "np.mean(coul, axis=0)"
   ]
  },
  {
   "cell_type": "code",
   "execution_count": 21,
   "id": "dcb9f4d5-8dfc-462f-b57f-72b55f3aee00",
   "metadata": {},
   "outputs": [
    {
     "data": {
      "text/plain": [
       "np.float64(0.21153846153846154)"
      ]
     },
     "execution_count": 21,
     "metadata": {},
     "output_type": "execute_result"
    }
   ],
   "source": [
    "np.mean(asym, axis=0)"
   ]
  },
  {
   "cell_type": "code",
   "execution_count": 22,
   "id": "f387fc28-7142-4f2d-b64a-ee119e4afa85",
   "metadata": {},
   "outputs": [
    {
     "data": {
      "text/plain": [
       "array([1.87681882, 2.33166382, 2.557736  , 0.2180077 , 0.0246645 ,\n",
       "       0.2180077 , 0.0246645 ])"
      ]
     },
     "execution_count": 22,
     "metadata": {},
     "output_type": "execute_result"
    }
   ],
   "source": [
    "np.std(isoscalar, axis=0)"
   ]
  },
  {
   "cell_type": "code",
   "execution_count": 23,
   "id": "dd3d4fe7-52e1-45dc-8738-9e20e4fa8c44",
   "metadata": {},
   "outputs": [
    {
     "data": {
      "text/plain": [
       "array([4.50327648, 2.9510064 , 7.26224164, 0.21593798, 0.02522436,\n",
       "       0.21593798, 0.02522436])"
      ]
     },
     "execution_count": 23,
     "metadata": {},
     "output_type": "execute_result"
    }
   ],
   "source": [
    "np.std(isovector, axis=0)"
   ]
  },
  {
   "cell_type": "code",
   "execution_count": 24,
   "id": "f6a92c21-5e31-4c6d-bfdc-0b251c130eba",
   "metadata": {},
   "outputs": [
    {
     "data": {
      "text/plain": [
       "array([5.59552404e-14, 0.00000000e+00, 2.18007696e-01, 2.46644957e-02])"
      ]
     },
     "execution_count": 24,
     "metadata": {},
     "output_type": "execute_result"
    }
   ],
   "source": [
    "np.std(so0, axis=0)"
   ]
  },
  {
   "cell_type": "code",
   "execution_count": 25,
   "id": "96467941-3626-4d81-9ca1-6849e0187212",
   "metadata": {},
   "outputs": [
    {
     "data": {
      "text/plain": [
       "array([0.        , 0.        , 0.21593798, 0.02522436])"
      ]
     },
     "execution_count": 25,
     "metadata": {},
     "output_type": "execute_result"
    }
   ],
   "source": [
    "np.std(so1, axis=0)"
   ]
  },
  {
   "cell_type": "code",
   "execution_count": 26,
   "id": "56f51a55-f127-49dd-a3bb-9fcbb0f687e9",
   "metadata": {},
   "outputs": [
    {
     "data": {
      "text/plain": [
       "array([0.       , 0.2180077])"
      ]
     },
     "execution_count": 26,
     "metadata": {},
     "output_type": "execute_result"
    }
   ],
   "source": [
    "np.std(coul, axis=0)"
   ]
  },
  {
   "cell_type": "code",
   "execution_count": 27,
   "id": "ac93d580-e76a-4a52-a164-fd74b061245b",
   "metadata": {},
   "outputs": [
    {
     "data": {
      "text/plain": [
       "np.float64(0.0)"
      ]
     },
     "execution_count": 27,
     "metadata": {},
     "output_type": "execute_result"
    }
   ],
   "source": [
    "np.std(asym, axis=0)"
   ]
  },
  {
   "cell_type": "code",
   "execution_count": 28,
   "id": "adb181f5-4b33-4699-908c-2c926196f0c4",
   "metadata": {},
   "outputs": [],
   "source": [
    "r = np.linspace(0.1, 10, 100)\n",
    "vso_kduq = kduq.spin_orbit(r, *np.mean(kduq_so, axis=0))\n",
    "vso_elm = elm.elm.spin_orbit(r, 0, np.mean(so0, axis=0), np.mean(so1, axis=0))"
   ]
  },
  {
   "cell_type": "code",
   "execution_count": 29,
   "id": "d24af3fd-68ed-4529-bd31-7859c65428de",
   "metadata": {},
   "outputs": [],
   "source": [
    "from matplotlib import pyplot as plt"
   ]
  },
  {
   "cell_type": "markdown",
   "id": "5d54fba1-80c0-4814-8e85-f440f13f96d0",
   "metadata": {},
   "source": []
  },
  {
   "cell_type": "code",
   "execution_count": 30,
   "id": "54685db5-2654-410d-9967-b01b316c8977",
   "metadata": {},
   "outputs": [
    {
     "data": {
      "text/plain": [
       "<matplotlib.legend.Legend at 0x746a02b7a740>"
      ]
     },
     "execution_count": 30,
     "metadata": {},
     "output_type": "execute_result"
    },
    {
     "data": {
      "image/png": "[encoded data removed]",
      "text/plain": [
       "<Figure size 640x480 with 1 Axes>"
      ]
     },
     "metadata": {},
     "output_type": "display_data"
    }
   ],
   "source": [
    "(p1,) = plt.plot(r, vso_kduq.real, alpha=0.7, label=\"KDUQ\")\n",
    "(p2,) = plt.plot(r, vso_elm.real, alpha=0.7, label=\"ELM\")\n",
    "plt.plot(r, vso_kduq.imag, \":\", color=p1.get_color())\n",
    "plt.plot(r, vso_elm.imag, \":\", color=p2.get_color())\n",
    "\n",
    "plt.legend()"
   ]
  },
  {
   "cell_type": "code",
   "execution_count": null,
   "id": "48dc6013-c855-411a-8893-1190b47b6041",
   "metadata": {},
   "outputs": [],
   "source": []
  }
 ],
 "metadata": {
  "kernelspec": {
   "display_name": "Python 3 (ipykernel)",
   "language": "python",
   "name": "python3"
  },
  "language_info": {
   "codemirror_mode": {
    "name": "ipython",
    "version": 3
   },
   "file_extension": ".py",
   "mimetype": "text/x-python",
   "name": "python",
   "nbconvert_exporter": "python",
   "pygments_lexer": "ipython3",
   "version": "3.10.14"
  }
 },
 "nbformat": 4,
 "nbformat_minor": 5
}
