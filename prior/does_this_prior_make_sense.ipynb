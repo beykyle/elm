{
 "cells": [
  {
   "cell_type": "markdown",
   "id": "3cfd7e65-ad54-4875-a20a-3fd7b2a6a6e9",
   "metadata": {},
   "source": [
    "# Pick a target and energy that KDUQ should be fit to, and see if our prior looks somewhat similar"
   ]
  },
  {
   "cell_type": "code",
   "execution_count": 136,
   "id": "a3368054-75e8-4f71-af34-014591e7499c",
   "metadata": {},
   "outputs": [],
   "source": [
    "import pickle\n",
    "\n",
    "import numpy as np"
   ]
  },
  {
   "cell_type": "code",
   "execution_count": 137,
   "id": "7f6ea6e1-0568-4d0f-8e74-05de662b38f1",
   "metadata": {},
   "outputs": [],
   "source": [
    "neutron = (1, 0)\n",
    "proton = (1, 1)"
   ]
  },
  {
   "cell_type": "code",
   "execution_count": 138,
   "id": "d824cf21-eb10-46a3-8e96-b38feb50228f",
   "metadata": {},
   "outputs": [],
   "source": [
    "from jitr.reactions import ElasticReaction"
   ]
  },
  {
   "cell_type": "code",
   "execution_count": 139,
   "id": "30ca7f12-9895-475a-b7cd-822ab0e8c2b5",
   "metadata": {},
   "outputs": [],
   "source": [
    "from jitr.optical_potentials import kduq"
   ]
  },
  {
   "cell_type": "code",
   "execution_count": 140,
   "id": "8d0cebd9-e76c-4eae-bee7-6f8c5d643dde",
   "metadata": {},
   "outputs": [],
   "source": [
    "import rxmc\n",
    "import elm"
   ]
  },
  {
   "cell_type": "code",
   "execution_count": 141,
   "id": "966756d1-543b-4aef-8cd0-8a02be491bcf",
   "metadata": {},
   "outputs": [],
   "source": [
    "with open(\"./prior_distribution.pickle\", \"rb\") as f:\n",
    "    prior = pickle.load(f)\n",
    "prior_samples = rxmc.params.array_to_list(prior.rvs(1000), elm.params)"
   ]
  },
  {
   "cell_type": "code",
   "execution_count": 142,
   "id": "e4433afb-f2d5-451c-9396-8dd2204d329a",
   "metadata": {},
   "outputs": [],
   "source": [
    "target = (40, 20)\n",
    "projectile = neutron\n",
    "energy_lab = 100\n",
    "rxn = ElasticReaction(target=target, projectile=projectile)"
   ]
  },
  {
   "cell_type": "code",
   "execution_count": 143,
   "id": "df68c735-827f-4553-b3ae-b9a805422b42",
   "metadata": {},
   "outputs": [],
   "source": [
    "kduq_samples = kduq.get_samples_federal(projectile)"
   ]
  },
  {
   "cell_type": "code",
   "execution_count": 144,
   "id": "9f3905f2-a240-4368-9474-12d2d08f012f",
   "metadata": {},
   "outputs": [
    {
     "data": {
      "text/plain": [
       "ChannelKinematics(Elab=100, Ecm=97.53745605430512, mu=np.float64(1007.6720298321881), k=np.float64(2.193384770954192), eta=np.float64(0.0))"
      ]
     },
     "execution_count": 144,
     "metadata": {},
     "output_type": "execute_result"
    }
   ],
   "source": [
    "kinematics = rxn.kinematics(energy_lab)\n",
    "kinematics"
   ]
  },
  {
   "cell_type": "code",
   "execution_count": 145,
   "id": "620bf470-a586-42cb-b43c-f46de951f339",
   "metadata": {},
   "outputs": [],
   "source": [
    "elm_prior_params = [\n",
    "    elm.elm.calculate_parameters(projectile, target, kinematics.Ecm, rxn.Ef, p)\n",
    "    for p in prior_samples\n",
    "]"
   ]
  },
  {
   "cell_type": "code",
   "execution_count": 146,
   "id": "72196de9-16ab-4bbc-bc27-2487abaf478e",
   "metadata": {},
   "outputs": [],
   "source": [
    "isoscalar, isovector, so0, so1, coul, asym = (\n",
    "    np.array(l) for l in zip(*elm_prior_params)\n",
    ")"
   ]
  },
  {
   "cell_type": "code",
   "execution_count": 147,
   "id": "424db87d-e5fd-4a9f-8000-2a32678f7ea2",
   "metadata": {},
   "outputs": [
    {
     "data": {
      "text/plain": [
       "array([0., 0., 0.])"
      ]
     },
     "execution_count": 147,
     "metadata": {},
     "output_type": "execute_result"
    }
   ],
   "source": [
    "np.mean(asym) * np.mean(isovector[:,:3], axis=0)"
   ]
  },
  {
   "cell_type": "code",
   "execution_count": 148,
   "id": "08534b06-0085-4df9-b211-fada42ad7119",
   "metadata": {},
   "outputs": [],
   "source": [
    "kduq_params = [\n",
    "    kduq.calculate_params(projectile, target, kinematics.Elab, p) for p in kduq_samples\n",
    "]"
   ]
  },
  {
   "cell_type": "code",
   "execution_count": 149,
   "id": "5a331359-544e-4bac-99e1-0e6c83b42049",
   "metadata": {},
   "outputs": [],
   "source": [
    "kduq_coul, kduq_central, kduq_so = (np.array(l) for l in zip(*kduq_params))"
   ]
  },
  {
   "cell_type": "code",
   "execution_count": 150,
   "id": "c4e99bf8-fa20-4e63-ace4-44f74796c438",
   "metadata": {},
   "outputs": [
    {
     "data": {
      "text/plain": [
       "array([26.38605059,  3.98116843,  0.67744189, 11.16166646,  3.98116843,\n",
       "        0.67744189,  0.95771457,  4.42616682,  0.56072929])"
      ]
     },
     "execution_count": 150,
     "metadata": {},
     "output_type": "execute_result"
    }
   ],
   "source": [
    "np.mean(kduq_central, axis=0)"
   ]
  },
  {
   "cell_type": "code",
   "execution_count": 151,
   "id": "da3724df-2327-4c13-80b6-b9b23dd6db45",
   "metadata": {},
   "outputs": [
    {
     "data": {
      "text/plain": [
       "array([16.62479224,  9.4746472 ,  8.6763912 ,  3.90240948,  0.72974723,\n",
       "        3.90240948,  0.72974723])"
      ]
     },
     "execution_count": 151,
     "metadata": {},
     "output_type": "execute_result"
    }
   ],
   "source": [
    "np.mean(isoscalar, axis=0)"
   ]
  },
  {
   "cell_type": "code",
   "execution_count": 152,
   "id": "5ce326fc-9cdd-4697-b57c-0a973f4a6070",
   "metadata": {},
   "outputs": [
    {
     "data": {
      "text/plain": [
       "array([ 4.12481992,  0.03661003, 22.3805833 ,  3.90365259,  0.72952374,\n",
       "        3.90365259,  0.72952374])"
      ]
     },
     "execution_count": 152,
     "metadata": {},
     "output_type": "execute_result"
    }
   ],
   "source": [
    "np.mean(isovector, axis=0)"
   ]
  },
  {
   "cell_type": "code",
   "execution_count": 153,
   "id": "f909c1a4-f06a-4534-8ec0-c23ed3f74e0d",
   "metadata": {},
   "outputs": [
    {
     "data": {
      "text/plain": [
       "array([ 3.01710951,  3.48486319,  0.57430756, -0.62471753,  3.48486319,\n",
       "        0.57430756])"
      ]
     },
     "execution_count": 153,
     "metadata": {},
     "output_type": "execute_result"
    }
   ],
   "source": [
    "np.mean(kduq_so, axis=0)"
   ]
  },
  {
   "cell_type": "code",
   "execution_count": 154,
   "id": "5a3d5b91-20ce-48f4-9882-3cda99852b1d",
   "metadata": {},
   "outputs": [
    {
     "data": {
      "text/plain": [
       "array([5.58      , 0.        , 3.90240948, 0.72974723])"
      ]
     },
     "execution_count": 154,
     "metadata": {},
     "output_type": "execute_result"
    }
   ],
   "source": [
    "np.mean(so0, axis=0)"
   ]
  },
  {
   "cell_type": "code",
   "execution_count": 155,
   "id": "1f9237ff-1659-41c7-88b6-ca095167f64a",
   "metadata": {},
   "outputs": [
    {
     "data": {
      "text/plain": [
       "array([0.        , 0.        , 3.90365259, 0.72952374])"
      ]
     },
     "execution_count": 155,
     "metadata": {},
     "output_type": "execute_result"
    }
   ],
   "source": [
    "np.mean(so1, axis=0)"
   ]
  },
  {
   "cell_type": "code",
   "execution_count": 156,
   "id": "75aaf8ae-1533-41eb-87c4-e8a10ed466dd",
   "metadata": {},
   "outputs": [
    {
     "data": {
      "text/plain": [
       "array([20.        ,  3.90240948])"
      ]
     },
     "execution_count": 156,
     "metadata": {},
     "output_type": "execute_result"
    }
   ],
   "source": [
    "np.mean(coul, axis=0)"
   ]
  },
  {
   "cell_type": "code",
   "execution_count": 157,
   "id": "dcb9f4d5-8dfc-462f-b57f-72b55f3aee00",
   "metadata": {},
   "outputs": [
    {
     "data": {
      "text/plain": [
       "np.float64(0.0)"
      ]
     },
     "execution_count": 157,
     "metadata": {},
     "output_type": "execute_result"
    }
   ],
   "source": [
    "np.mean(asym, axis=0)"
   ]
  },
  {
   "cell_type": "code",
   "execution_count": 158,
   "id": "f387fc28-7142-4f2d-b64a-ee119e4afa85",
   "metadata": {},
   "outputs": [
    {
     "data": {
      "text/plain": [
       "array([3.1664073 , 3.67882004, 3.1155914 , 0.10527471, 0.02482164,\n",
       "       0.10527471, 0.02482164])"
      ]
     },
     "execution_count": 158,
     "metadata": {},
     "output_type": "execute_result"
    }
   ],
   "source": [
    "np.std(isoscalar, axis=0)"
   ]
  },
  {
   "cell_type": "code",
   "execution_count": 159,
   "id": "dd3d4fe7-52e1-45dc-8738-9e20e4fa8c44",
   "metadata": {},
   "outputs": [
    {
     "data": {
      "text/plain": [
       "array([1.96362381, 9.88043602, 8.36474135, 0.10476824, 0.02551352,\n",
       "       0.10476824, 0.02551352])"
      ]
     },
     "execution_count": 159,
     "metadata": {},
     "output_type": "execute_result"
    }
   ],
   "source": [
    "np.std(isovector, axis=0)"
   ]
  },
  {
   "cell_type": "code",
   "execution_count": 160,
   "id": "f6a92c21-5e31-4c6d-bfdc-0b251c130eba",
   "metadata": {},
   "outputs": [
    {
     "data": {
      "text/plain": [
       "array([5.59552404e-14, 0.00000000e+00, 1.05274707e-01, 2.48216378e-02])"
      ]
     },
     "execution_count": 160,
     "metadata": {},
     "output_type": "execute_result"
    }
   ],
   "source": [
    "np.std(so0, axis=0)"
   ]
  },
  {
   "cell_type": "code",
   "execution_count": 161,
   "id": "96467941-3626-4d81-9ca1-6849e0187212",
   "metadata": {},
   "outputs": [
    {
     "data": {
      "text/plain": [
       "array([0.        , 0.        , 0.10476824, 0.02551352])"
      ]
     },
     "execution_count": 161,
     "metadata": {},
     "output_type": "execute_result"
    }
   ],
   "source": [
    "np.std(so1, axis=0)"
   ]
  },
  {
   "cell_type": "code",
   "execution_count": 162,
   "id": "56f51a55-f127-49dd-a3bb-9fcbb0f687e9",
   "metadata": {},
   "outputs": [
    {
     "data": {
      "text/plain": [
       "array([0.        , 0.10527471])"
      ]
     },
     "execution_count": 162,
     "metadata": {},
     "output_type": "execute_result"
    }
   ],
   "source": [
    "np.std(coul, axis=0)"
   ]
  },
  {
   "cell_type": "code",
   "execution_count": 163,
   "id": "ac93d580-e76a-4a52-a164-fd74b061245b",
   "metadata": {},
   "outputs": [
    {
     "data": {
      "text/plain": [
       "np.float64(0.0)"
      ]
     },
     "execution_count": 163,
     "metadata": {},
     "output_type": "execute_result"
    }
   ],
   "source": [
    "np.std(asym, axis=0)"
   ]
  },
  {
   "cell_type": "code",
   "execution_count": 164,
   "id": "adb181f5-4b33-4699-908c-2c926196f0c4",
   "metadata": {},
   "outputs": [],
   "source": [
    "r = np.linspace(0.1, 10, 100)\n",
    "vso_kduq = kduq.spin_orbit(r, *np.mean(kduq_so, axis=0))\n",
    "vso_elm = elm.spin_orbit(r, np.mean(asym), np.mean(so0, axis=0), np.mean(so1, axis=0))\n",
    "\n",
    "vcentral_kduq = kduq.central(r, *np.mean(kduq_central, axis=0))\n",
    "vcentral_elm = elm.central(r, np.mean(asym), np.mean(isoscalar, axis=0), np.mean(isovector,  axis=0) )"
   ]
  },
  {
   "cell_type": "code",
   "execution_count": 165,
   "id": "d24af3fd-68ed-4529-bd31-7859c65428de",
   "metadata": {},
   "outputs": [],
   "source": [
    "from matplotlib import pyplot as plt"
   ]
  },
  {
   "cell_type": "markdown",
   "id": "5d54fba1-80c0-4814-8e85-f440f13f96d0",
   "metadata": {},
   "source": []
  },
  {
   "cell_type": "code",
   "execution_count": 166,
   "id": "54685db5-2654-410d-9967-b01b316c8977",
   "metadata": {},
   "outputs": [
    {
     "data": {
      "text/plain": [
       "<matplotlib.legend.Legend at 0x754be78368d0>"
      ]
     },
     "execution_count": 166,
     "metadata": {},
     "output_type": "execute_result"
    },
    {
     "data": {
      "image/png": "[encoded data removed]",
      "text/plain": [
       "<Figure size 640x480 with 1 Axes>"
      ]
     },
     "metadata": {},
     "output_type": "display_data"
    }
   ],
   "source": [
    "(p1,) = plt.plot(r, vso_kduq.real, alpha=0.7, label=\"KDUQ\")\n",
    "(p2,) = plt.plot(r, vso_elm.real, alpha=0.7, label=\"ELM\")\n",
    "plt.plot(r, vso_kduq.imag, \":\", color=p1.get_color())\n",
    "plt.plot(r, vso_elm.imag, \":\", color=p2.get_color())\n",
    "plt.ylabel(r\"$V_{so}(r)$ [MeV]\")\n",
    "plt.xlabel(r\"$r$ [fm]\")\n",
    "\n",
    "plt.legend()"
   ]
  },
  {
   "cell_type": "code",
   "execution_count": 167,
   "id": "48dc6013-c855-411a-8893-1190b47b6041",
   "metadata": {},
   "outputs": [
    {
     "data": {
      "text/plain": [
       "<matplotlib.legend.Legend at 0x754be788cbd0>"
      ]
     },
     "execution_count": 167,
     "metadata": {},
     "output_type": "execute_result"
    },
    {
     "data": {
      "image/png": "[encoded data removed]",
      "text/plain": [
       "<Figure size 640x480 with 1 Axes>"
      ]
     },
     "metadata": {},
     "output_type": "display_data"
    }
   ],
   "source": [
    "(p1,) = plt.plot(r, vcentral_kduq.real, alpha=0.7, label=\"KDUQ\")\n",
    "(p2,) = plt.plot(r, vcentral_elm.real, alpha=0.7, label=\"ELM\")\n",
    "plt.plot(r, vcentral_kduq.imag, \":\", color=p1.get_color())\n",
    "plt.plot(r, vcentral_elm.imag, \":\", color=p2.get_color())\n",
    "plt.ylabel(r\"$V(r)$ [MeV]\")\n",
    "plt.xlabel(r\"$r$ [fm]\")\n",
    "plt.legend()"
   ]
  },
  {
   "cell_type": "code",
   "execution_count": null,
   "id": "40976d19-1a9f-4a9c-94e3-6d03835354f0",
   "metadata": {},
   "outputs": [],
   "source": []
  }
 ],
 "metadata": {
  "kernelspec": {
   "display_name": "Python 3 (ipykernel)",
   "language": "python",
   "name": "python3"
  },
  "language_info": {
   "codemirror_mode": {
    "name": "ipython",
    "version": 3
   },
   "file_extension": ".py",
   "mimetype": "text/x-python",
   "name": "python",
   "nbconvert_exporter": "python",
   "pygments_lexer": "ipython3",
   "version": "3.11.9"
  }
 },
 "nbformat": 4,
 "nbformat_minor": 5
}
