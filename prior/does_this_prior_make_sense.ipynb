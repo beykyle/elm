{
 "cells": [
  {
   "cell_type": "markdown",
   "id": "3cfd7e65-ad54-4875-a20a-3fd7b2a6a6e9",
   "metadata": {},
   "source": [
    "# Pick a target and energy that KDUQ should be fit to, and see if our prior looks somewhat similar"
   ]
  },
  {
   "cell_type": "code",
   "execution_count": 1,
   "id": "a3368054-75e8-4f71-af34-014591e7499c",
   "metadata": {},
   "outputs": [],
   "source": [
    "import pickle\n",
    "\n",
    "import numpy as np"
   ]
  },
  {
   "cell_type": "code",
   "execution_count": 2,
   "id": "7f6ea6e1-0568-4d0f-8e74-05de662b38f1",
   "metadata": {},
   "outputs": [],
   "source": [
    "neutron = (1, 0)\n",
    "proton = (1, 1)"
   ]
  },
  {
   "cell_type": "code",
   "execution_count": 3,
   "id": "d824cf21-eb10-46a3-8e96-b38feb50228f",
   "metadata": {},
   "outputs": [],
   "source": [
    "from jitr.reactions import ElasticReaction"
   ]
  },
  {
   "cell_type": "code",
   "execution_count": 4,
   "id": "30ca7f12-9895-475a-b7cd-822ab0e8c2b5",
   "metadata": {},
   "outputs": [],
   "source": [
    "from jitr.optical_potentials import kduq"
   ]
  },
  {
   "cell_type": "code",
   "execution_count": 5,
   "id": "8d0cebd9-e76c-4eae-bee7-6f8c5d643dde",
   "metadata": {},
   "outputs": [
    {
     "name": "stdout",
     "output_type": "stream",
     "text": [
      "Using database version X4-2024-12-31 located in: /home/beyerk/db/exfor/unpack_exfor-2024/X4-2024-12-31\n"
     ]
    }
   ],
   "source": [
    "import rxmc\n",
    "import elm"
   ]
  },
  {
   "cell_type": "code",
   "execution_count": 6,
   "id": "966756d1-543b-4aef-8cd0-8a02be491bcf",
   "metadata": {},
   "outputs": [],
   "source": [
    "with open(\"./prior_distribution.pickle\", \"rb\") as f:\n",
    "    prior = pickle.load(f)\n",
    "prior_samples = prior.rvs(1000)"
   ]
  },
  {
   "cell_type": "code",
   "execution_count": 7,
   "id": "e4433afb-f2d5-451c-9396-8dd2204d329a",
   "metadata": {},
   "outputs": [],
   "source": [
    "target = (208, 82)\n",
    "projectile = neutron\n",
    "energy_lab = 20\n",
    "rxn = ElasticReaction(target=target, projectile=projectile)"
   ]
  },
  {
   "cell_type": "code",
   "execution_count": 8,
   "id": "df68c735-827f-4553-b3ae-b9a805422b42",
   "metadata": {},
   "outputs": [],
   "source": [
    "kduq_samples = kduq.get_samples_federal(projectile)"
   ]
  },
  {
   "cell_type": "code",
   "execution_count": 9,
   "id": "9f3905f2-a240-4368-9474-12d2d08f012f",
   "metadata": {},
   "outputs": [
    {
     "data": {
      "text/plain": [
       "ChannelKinematics(Elab=20, Ecm=19.903449469680808, mu=np.float64(954.6903694711453), k=np.float64(0.982788204101379), eta=np.float64(0.0))"
      ]
     },
     "execution_count": 9,
     "metadata": {},
     "output_type": "execute_result"
    }
   ],
   "source": [
    "kinematics = rxn.kinematics(energy_lab)\n",
    "kinematics"
   ]
  },
  {
   "cell_type": "code",
   "execution_count": 10,
   "id": "4a19d451-8926-4336-9d02-08728de34e5c",
   "metadata": {},
   "outputs": [
    {
     "data": {
      "text/plain": [
       "array([ 5.86071378e+01,  1.65056562e+01,  2.72277190e+01,  3.05066643e+01,\n",
       "        1.90438628e+01,  3.15851111e+01, -3.77981533e-01,  4.55959511e-04,\n",
       "        5.23367997e+01,  2.41660293e+01,  1.17038719e+00,  1.36028575e+00,\n",
       "        7.19144385e-01,  5.04104800e-01])"
      ]
     },
     "execution_count": 10,
     "metadata": {},
     "output_type": "execute_result"
    }
   ],
   "source": [
    "np.mean(prior_samples, axis=0)"
   ]
  },
  {
   "cell_type": "code",
   "execution_count": 11,
   "id": "43604024-e7f0-48e0-a7d3-ffff663bd0bb",
   "metadata": {},
   "outputs": [
    {
     "data": {
      "text/plain": [
       "OrderedDict([('V0', np.float64(58.607137801217675)),\n",
       "             ('W0', np.float64(16.50565620665539)),\n",
       "             ('Wd0', np.float64(27.227719021720592)),\n",
       "             ('V1', np.float64(30.506664309750864)),\n",
       "             ('W1', np.float64(19.043862766603006)),\n",
       "             ('Wd1', np.float64(31.585111082202108)),\n",
       "             ('alpha', np.float64(-0.37798153337321044)),\n",
       "             ('beta', np.float64(0.00045595951061689553)),\n",
       "             ('gamma_w', np.float64(52.33679968272646)),\n",
       "             ('gamma_d', np.float64(24.16602929368712)),\n",
       "             ('r0A', np.float64(1.1703871921922537)),\n",
       "             ('r1A', np.float64(1.3602857532687354)),\n",
       "             ('a0', np.float64(0.7191443847854432)),\n",
       "             ('a1', np.float64(0.5041047999090419))])"
      ]
     },
     "execution_count": 11,
     "metadata": {},
     "output_type": "execute_result"
    }
   ],
   "source": [
    "rxmc.params.to_ordered_dict(\n",
    "    np.mean(prior_samples, axis=0), [p.name for p in elm.params]\n",
    ")"
   ]
  },
  {
   "cell_type": "code",
   "execution_count": null,
   "id": "5501b30d-832a-4ae9-8d7a-e0a79c031963",
   "metadata": {},
   "outputs": [],
   "source": []
  },
  {
   "cell_type": "code",
   "execution_count": 12,
   "id": "620bf470-a586-42cb-b43c-f46de951f339",
   "metadata": {},
   "outputs": [],
   "source": [
    "elm_prior_params = [\n",
    "    elm.elm.calculate_parameters(projectile, target, kinematics.Ecm, rxn.Ef, *p)\n",
    "    for p in prior_samples\n",
    "]"
   ]
  },
  {
   "cell_type": "code",
   "execution_count": 13,
   "id": "72196de9-16ab-4bbc-bc27-2487abaf478e",
   "metadata": {},
   "outputs": [],
   "source": [
    "isoscalar, isovector, so0, so1, coul, asym = (\n",
    "    np.array(l) for l in zip(*elm_prior_params)\n",
    ")"
   ]
  },
  {
   "cell_type": "code",
   "execution_count": null,
   "id": "2d1eff47-4772-4a56-9faa-325c1b1b7cad",
   "metadata": {},
   "outputs": [],
   "source": []
  },
  {
   "cell_type": "code",
   "execution_count": 14,
   "id": "c35b3d49-c041-4df6-9b6a-3a5422f055bc",
   "metadata": {},
   "outputs": [
    {
     "data": {
      "text/plain": [
       "array([26.68456281,  2.41191991,  5.60132053])"
      ]
     },
     "execution_count": 14,
     "metadata": {},
     "output_type": "execute_result"
    }
   ],
   "source": [
    "np.mean(isovector[:, :3], axis=0)"
   ]
  },
  {
   "cell_type": "code",
   "execution_count": 15,
   "id": "d0c5335f-604e-4f04-812c-6dfa6c37fd5f",
   "metadata": {},
   "outputs": [
    {
     "data": {
      "text/plain": [
       "np.float64(0.21153846153846154)"
      ]
     },
     "execution_count": 15,
     "metadata": {},
     "output_type": "execute_result"
    }
   ],
   "source": [
    "np.mean(asym)"
   ]
  },
  {
   "cell_type": "code",
   "execution_count": 17,
   "id": "08534b06-0085-4df9-b211-fada42ad7119",
   "metadata": {},
   "outputs": [],
   "source": [
    "kduq_params = [\n",
    "    kduq.calculate_params(projectile, target, kinematics.Elab, *p) for p in kduq_samples\n",
    "]"
   ]
  },
  {
   "cell_type": "code",
   "execution_count": 18,
   "id": "5a331359-544e-4bac-99e1-0e6c83b42049",
   "metadata": {},
   "outputs": [],
   "source": [
    "kduq_coul, kduq_central, kduq_so = (np.array(l) for l in zip(*kduq_params))"
   ]
  },
  {
   "cell_type": "code",
   "execution_count": 19,
   "id": "c4e99bf8-fa20-4e63-ace4-44f74796c438",
   "metadata": {},
   "outputs": [
    {
     "data": {
      "text/plain": [
       "array([42.84972517,  7.1957479 ,  0.71487971,  1.57565274,  7.1957479 ,\n",
       "        0.71487971,  6.20241389,  7.39212527,  0.57457236])"
      ]
     },
     "execution_count": 19,
     "metadata": {},
     "output_type": "execute_result"
    }
   ],
   "source": [
    "np.mean(kduq_central, axis=0)"
   ]
  },
  {
   "cell_type": "code",
   "execution_count": 20,
   "id": "da3724df-2327-4c13-80b6-b9b23dd6db45",
   "metadata": {},
   "outputs": [
    {
     "data": {
      "text/plain": [
       "array([51.26462858,  2.09036506,  4.82854957,  6.93453491,  0.71914438,\n",
       "        6.93453491,  0.71914438])"
      ]
     },
     "execution_count": 20,
     "metadata": {},
     "output_type": "execute_result"
    }
   ],
   "source": [
    "np.mean(isoscalar, axis=0)"
   ]
  },
  {
   "cell_type": "code",
   "execution_count": 21,
   "id": "5ce326fc-9cdd-4697-b57c-0a973f4a6070",
   "metadata": {},
   "outputs": [
    {
     "data": {
      "text/plain": [
       "array([26.68456281,  2.41191991,  5.60132053,  8.05968239,  0.5041048 ,\n",
       "        8.05968239,  0.5041048 ])"
      ]
     },
     "execution_count": 21,
     "metadata": {},
     "output_type": "execute_result"
    }
   ],
   "source": [
    "np.mean(isovector, axis=0)"
   ]
  },
  {
   "cell_type": "code",
   "execution_count": 22,
   "id": "f909c1a4-f06a-4534-8ec0-c23ed3f74e0d",
   "metadata": {},
   "outputs": [
    {
     "data": {
      "text/plain": [
       "array([ 4.39717482,  6.50920067,  0.57430756, -0.04989921,  6.50920067,\n",
       "        0.57430756])"
      ]
     },
     "execution_count": 22,
     "metadata": {},
     "output_type": "execute_result"
    }
   ],
   "source": [
    "np.mean(kduq_so, axis=0)"
   ]
  },
  {
   "cell_type": "code",
   "execution_count": 23,
   "id": "5a3d5b91-20ce-48f4-9882-3cda99852b1d",
   "metadata": {},
   "outputs": [
    {
     "data": {
      "text/plain": [
       "array([5.58      , 0.        , 6.93453491, 0.71914438])"
      ]
     },
     "execution_count": 23,
     "metadata": {},
     "output_type": "execute_result"
    }
   ],
   "source": [
    "np.mean(so0, axis=0)"
   ]
  },
  {
   "cell_type": "code",
   "execution_count": 24,
   "id": "1f9237ff-1659-41c7-88b6-ca095167f64a",
   "metadata": {},
   "outputs": [
    {
     "data": {
      "text/plain": [
       "array([0.        , 0.        , 8.05968239, 0.5041048 ])"
      ]
     },
     "execution_count": 24,
     "metadata": {},
     "output_type": "execute_result"
    }
   ],
   "source": [
    "np.mean(so1, axis=0)"
   ]
  },
  {
   "cell_type": "code",
   "execution_count": 25,
   "id": "75aaf8ae-1533-41eb-87c4-e8a10ed466dd",
   "metadata": {},
   "outputs": [
    {
     "data": {
      "text/plain": [
       "array([0.        , 6.93453491])"
      ]
     },
     "execution_count": 25,
     "metadata": {},
     "output_type": "execute_result"
    }
   ],
   "source": [
    "np.mean(coul, axis=0)"
   ]
  },
  {
   "cell_type": "code",
   "execution_count": 26,
   "id": "dcb9f4d5-8dfc-462f-b57f-72b55f3aee00",
   "metadata": {},
   "outputs": [
    {
     "data": {
      "text/plain": [
       "np.float64(0.21153846153846154)"
      ]
     },
     "execution_count": 26,
     "metadata": {},
     "output_type": "execute_result"
    }
   ],
   "source": [
    "np.mean(asym, axis=0)"
   ]
  },
  {
   "cell_type": "code",
   "execution_count": 27,
   "id": "f387fc28-7142-4f2d-b64a-ee119e4afa85",
   "metadata": {},
   "outputs": [
    {
     "data": {
      "text/plain": [
       "array([0.34097314, 0.13817091, 0.08074784, 0.00994605, 0.00313246,\n",
       "       0.00994605, 0.00313246])"
      ]
     },
     "execution_count": 27,
     "metadata": {},
     "output_type": "execute_result"
    }
   ],
   "source": [
    "np.std(isoscalar, axis=0)"
   ]
  },
  {
   "cell_type": "code",
   "execution_count": 28,
   "id": "dd3d4fe7-52e1-45dc-8738-9e20e4fa8c44",
   "metadata": {},
   "outputs": [
    {
     "data": {
      "text/plain": [
       "array([0.41899238, 0.17268437, 0.29899819, 0.02930589, 0.00911012,\n",
       "       0.02930589, 0.00911012])"
      ]
     },
     "execution_count": 28,
     "metadata": {},
     "output_type": "execute_result"
    }
   ],
   "source": [
    "np.std(isovector, axis=0)"
   ]
  },
  {
   "cell_type": "code",
   "execution_count": 29,
   "id": "f6a92c21-5e31-4c6d-bfdc-0b251c130eba",
   "metadata": {},
   "outputs": [
    {
     "data": {
      "text/plain": [
       "array([5.59552404e-14, 0.00000000e+00, 9.94605109e-03, 3.13246423e-03])"
      ]
     },
     "execution_count": 29,
     "metadata": {},
     "output_type": "execute_result"
    }
   ],
   "source": [
    "np.std(so0, axis=0)"
   ]
  },
  {
   "cell_type": "code",
   "execution_count": 30,
   "id": "96467941-3626-4d81-9ca1-6849e0187212",
   "metadata": {},
   "outputs": [
    {
     "data": {
      "text/plain": [
       "array([0.        , 0.        , 0.02930589, 0.00911012])"
      ]
     },
     "execution_count": 30,
     "metadata": {},
     "output_type": "execute_result"
    }
   ],
   "source": [
    "np.std(so1, axis=0)"
   ]
  },
  {
   "cell_type": "code",
   "execution_count": 31,
   "id": "56f51a55-f127-49dd-a3bb-9fcbb0f687e9",
   "metadata": {},
   "outputs": [
    {
     "data": {
      "text/plain": [
       "array([0.        , 0.00994605])"
      ]
     },
     "execution_count": 31,
     "metadata": {},
     "output_type": "execute_result"
    }
   ],
   "source": [
    "np.std(coul, axis=0)"
   ]
  },
  {
   "cell_type": "code",
   "execution_count": 32,
   "id": "ac93d580-e76a-4a52-a164-fd74b061245b",
   "metadata": {},
   "outputs": [
    {
     "data": {
      "text/plain": [
       "np.float64(0.0)"
      ]
     },
     "execution_count": 32,
     "metadata": {},
     "output_type": "execute_result"
    }
   ],
   "source": [
    "np.std(asym, axis=0)"
   ]
  },
  {
   "cell_type": "code",
   "execution_count": 33,
   "id": "adb181f5-4b33-4699-908c-2c926196f0c4",
   "metadata": {},
   "outputs": [],
   "source": [
    "r = np.linspace(0.1, 10, 100)\n",
    "vso_kduq = kduq.spin_orbit(r, *np.mean(kduq_so, axis=0))\n",
    "vso_elm = elm.model_form.spin_orbit(\n",
    "    r, np.mean(asym), np.mean(so0, axis=0), np.mean(so1, axis=0)\n",
    ")\n",
    "\n",
    "vcentral_kduq = kduq.central(r, *np.mean(kduq_central, axis=0))\n",
    "vcentral_elm = elm.model_form.central(\n",
    "    r, np.mean(asym), np.mean(isoscalar, axis=0), np.mean(isovector, axis=0)\n",
    ")"
   ]
  },
  {
   "cell_type": "code",
   "execution_count": 34,
   "id": "d24af3fd-68ed-4529-bd31-7859c65428de",
   "metadata": {},
   "outputs": [],
   "source": [
    "from matplotlib import pyplot as plt"
   ]
  },
  {
   "cell_type": "markdown",
   "id": "5d54fba1-80c0-4814-8e85-f440f13f96d0",
   "metadata": {},
   "source": []
  },
  {
   "cell_type": "code",
   "execution_count": 35,
   "id": "54685db5-2654-410d-9967-b01b316c8977",
   "metadata": {},
   "outputs": [
    {
     "data": {
      "text/plain": [
       "<matplotlib.legend.Legend at 0x7f4b4068e4d0>"
      ]
     },
     "execution_count": 35,
     "metadata": {},
     "output_type": "execute_result"
    },
    {
     "data": {
      "image/png": "[encoded data removed]",
      "text/plain": [
       "<Figure size 640x480 with 1 Axes>"
      ]
     },
     "metadata": {},
     "output_type": "display_data"
    }
   ],
   "source": [
    "(p1,) = plt.plot(r, vso_kduq.real, alpha=0.7, label=\"KDUQ\")\n",
    "(p2,) = plt.plot(r, vso_elm.real, alpha=0.7, label=\"ELM\")\n",
    "plt.plot(r, vso_kduq.imag, \":\", color=p1.get_color())\n",
    "plt.plot(r, vso_elm.imag, \":\", color=p2.get_color())\n",
    "plt.ylabel(r\"$V_{so}(r)$ [MeV]\")\n",
    "plt.xlabel(r\"$r$ [fm]\")\n",
    "\n",
    "plt.legend()"
   ]
  },
  {
   "cell_type": "code",
   "execution_count": 36,
   "id": "48dc6013-c855-411a-8893-1190b47b6041",
   "metadata": {},
   "outputs": [
    {
     "data": {
      "text/plain": [
       "<matplotlib.legend.Legend at 0x7f4b403a9b10>"
      ]
     },
     "execution_count": 36,
     "metadata": {},
     "output_type": "execute_result"
    },
    {
     "data": {
      "image/png": "[encoded data removed]",
      "text/plain": [
       "<Figure size 640x480 with 1 Axes>"
      ]
     },
     "metadata": {},
     "output_type": "display_data"
    }
   ],
   "source": [
    "(p1,) = plt.plot(r, vcentral_kduq.real, alpha=0.7, label=\"KDUQ\")\n",
    "(p2,) = plt.plot(r, vcentral_elm.real, alpha=0.7, label=\"ELM\")\n",
    "plt.plot(r, vcentral_kduq.imag, \":\", color=p1.get_color())\n",
    "plt.plot(r, vcentral_elm.imag, \":\", color=p2.get_color())\n",
    "plt.ylabel(r\"$V(r)$ [MeV]\")\n",
    "plt.xlabel(r\"$r$ [fm]\")\n",
    "plt.legend()"
   ]
  }
 ],
 "metadata": {
  "kernelspec": {
   "display_name": "Python 3 (ipykernel)",
   "language": "python",
   "name": "python3"
  },
  "language_info": {
   "codemirror_mode": {
    "name": "ipython",
    "version": 3
   },
   "file_extension": ".py",
   "mimetype": "text/x-python",
   "name": "python",
   "nbconvert_exporter": "python",
   "pygments_lexer": "ipython3",
   "version": "3.11.9"
  }
 },
 "nbformat": 4,
 "nbformat_minor": 5
}
