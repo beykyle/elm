{
 "cells": [
  {
   "cell_type": "markdown",
   "id": "93a49da0",
   "metadata": {},
   "source": [
    "# CHUQ prior generation"
   ]
  },
  {
   "cell_type": "code",
   "execution_count": 1,
   "id": "9fbc70e4-6ac7-4a99-8a84-3197e65a8666",
   "metadata": {
    "scrolled": true
   },
   "outputs": [],
   "source": [
    "import dill as pickle\n",
    "from pathlib import Path\n",
    "\n",
    "import corner\n",
    "import numpy as np\n",
    "from scipy import stats"
   ]
  },
  {
   "cell_type": "markdown",
   "id": "1415cd0b-41ad-4bf7-a18e-9cfe7e1469de",
   "metadata": {},
   "source": [
    "## Define potential and parameters\n"
   ]
  },
  {
   "cell_type": "code",
   "execution_count": 2,
   "id": "a1c67a9d-a4bd-4b98-91ad-4ae5bf869411",
   "metadata": {},
   "outputs": [],
   "source": [
    "import corner"
   ]
  },
  {
   "cell_type": "code",
   "execution_count": 3,
   "id": "6b6c24c7-19af-4357-8815-134ce7dde120",
   "metadata": {},
   "outputs": [
    {
     "name": "stdout",
     "output_type": "stream",
     "text": [
      "Using database version X4-2024-12-31 located in: /mnt/home/beyerkyl/x4db/unpack_exfor-2024/X4-2024-12-31\n"
     ]
    },
    {
     "data": {
      "text/plain": [
       "22"
      ]
     },
     "execution_count": 3,
     "metadata": {},
     "output_type": "execute_result"
    }
   ],
   "source": [
    "from elm import chuq\n",
    "\n",
    "chuq.NUM_PARAMS"
   ]
  },
  {
   "cell_type": "code",
   "execution_count": 4,
   "id": "b059ea6c-57f8-44a0-beb3-647b24944fac",
   "metadata": {},
   "outputs": [
    {
     "data": {
      "text/latex": [
       "$\\displaystyle V_0 \\text{ [MeV]}$"
      ],
      "text/plain": [
       "<IPython.core.display.Math object>"
      ]
     },
     "metadata": {},
     "output_type": "display_data"
    },
    {
     "data": {
      "text/latex": [
       "$\\displaystyle V_e \\text{ [no-dim]}$"
      ],
      "text/plain": [
       "<IPython.core.display.Math object>"
      ]
     },
     "metadata": {},
     "output_type": "display_data"
    },
    {
     "data": {
      "text/latex": [
       "$\\displaystyle V_t \\text{ [MeV]}$"
      ],
      "text/plain": [
       "<IPython.core.display.Math object>"
      ]
     },
     "metadata": {},
     "output_type": "display_data"
    },
    {
     "data": {
      "text/latex": [
       "$\\displaystyle r_0 \\text{ [fm]}$"
      ],
      "text/plain": [
       "<IPython.core.display.Math object>"
      ]
     },
     "metadata": {},
     "output_type": "display_data"
    },
    {
     "data": {
      "text/latex": [
       "$\\displaystyle r_0^{(0)} \\text{ [fm]}$"
      ],
      "text/plain": [
       "<IPython.core.display.Math object>"
      ]
     },
     "metadata": {},
     "output_type": "display_data"
    },
    {
     "data": {
      "text/latex": [
       "$\\displaystyle a_0 \\text{ [fm]}$"
      ],
      "text/plain": [
       "<IPython.core.display.Math object>"
      ]
     },
     "metadata": {},
     "output_type": "display_data"
    },
    {
     "data": {
      "text/latex": [
       "$\\displaystyle W_{v0} \\text{ [MeV]}$"
      ],
      "text/plain": [
       "<IPython.core.display.Math object>"
      ]
     },
     "metadata": {},
     "output_type": "display_data"
    },
    {
     "data": {
      "text/latex": [
       "$\\displaystyle W_{ve0} \\text{ [MeV]}$"
      ],
      "text/plain": [
       "<IPython.core.display.Math object>"
      ]
     },
     "metadata": {},
     "output_type": "display_data"
    },
    {
     "data": {
      "text/latex": [
       "$\\displaystyle W_{vew} \\text{ [MeV]}$"
      ],
      "text/plain": [
       "<IPython.core.display.Math object>"
      ]
     },
     "metadata": {},
     "output_type": "display_data"
    },
    {
     "data": {
      "text/latex": [
       "$\\displaystyle r_w \\text{ [fm]}$"
      ],
      "text/plain": [
       "<IPython.core.display.Math object>"
      ]
     },
     "metadata": {},
     "output_type": "display_data"
    },
    {
     "data": {
      "text/latex": [
       "$\\displaystyle r_w^{(0)} \\text{ [fm]}$"
      ],
      "text/plain": [
       "<IPython.core.display.Math object>"
      ]
     },
     "metadata": {},
     "output_type": "display_data"
    },
    {
     "data": {
      "text/latex": [
       "$\\displaystyle a_w \\text{ [fm]}$"
      ],
      "text/plain": [
       "<IPython.core.display.Math object>"
      ]
     },
     "metadata": {},
     "output_type": "display_data"
    },
    {
     "data": {
      "text/latex": [
       "$\\displaystyle W_{s0} \\text{ [MeV]}$"
      ],
      "text/plain": [
       "<IPython.core.display.Math object>"
      ]
     },
     "metadata": {},
     "output_type": "display_data"
    },
    {
     "data": {
      "text/latex": [
       "$\\displaystyle W_{st} \\text{ [MeV]}$"
      ],
      "text/plain": [
       "<IPython.core.display.Math object>"
      ]
     },
     "metadata": {},
     "output_type": "display_data"
    },
    {
     "data": {
      "text/latex": [
       "$\\displaystyle W_{se0} \\text{ [MeV]}$"
      ],
      "text/plain": [
       "<IPython.core.display.Math object>"
      ]
     },
     "metadata": {},
     "output_type": "display_data"
    },
    {
     "data": {
      "text/latex": [
       "$\\displaystyle W_{sew} \\text{ [MeV]}$"
      ],
      "text/plain": [
       "<IPython.core.display.Math object>"
      ]
     },
     "metadata": {},
     "output_type": "display_data"
    },
    {
     "data": {
      "text/latex": [
       "$\\displaystyle V_{so} \\text{ [MeV]}$"
      ],
      "text/plain": [
       "<IPython.core.display.Math object>"
      ]
     },
     "metadata": {},
     "output_type": "display_data"
    },
    {
     "data": {
      "text/latex": [
       "$\\displaystyle r_{so} \\text{ [fm]}$"
      ],
      "text/plain": [
       "<IPython.core.display.Math object>"
      ]
     },
     "metadata": {},
     "output_type": "display_data"
    },
    {
     "data": {
      "text/latex": [
       "$\\displaystyle r_{so}^{(0)} \\text{ [fm]}$"
      ],
      "text/plain": [
       "<IPython.core.display.Math object>"
      ]
     },
     "metadata": {},
     "output_type": "display_data"
    },
    {
     "data": {
      "text/latex": [
       "$\\displaystyle a_{so} \\text{ [fm]}$"
      ],
      "text/plain": [
       "<IPython.core.display.Math object>"
      ]
     },
     "metadata": {},
     "output_type": "display_data"
    },
    {
     "data": {
      "text/latex": [
       "$\\displaystyle r_c \\text{ [fm]}$"
      ],
      "text/plain": [
       "<IPython.core.display.Math object>"
      ]
     },
     "metadata": {},
     "output_type": "display_data"
    },
    {
     "data": {
      "text/latex": [
       "$\\displaystyle r_c^{(0)} \\text{ [fm]}$"
      ],
      "text/plain": [
       "<IPython.core.display.Math object>"
      ]
     },
     "metadata": {},
     "output_type": "display_data"
    }
   ],
   "source": [
    "from IPython.display import Math, display\n",
    "\n",
    "for p in chuq.params:\n",
    "    display(Math(f\"{p.latex_name} \\\\text{{ [{ p.unit}]}}\"))"
   ]
  },
  {
   "cell_type": "code",
   "execution_count": 5,
   "id": "05d39fdf-e226-4619-a978-fa5bd723bfe9",
   "metadata": {},
   "outputs": [],
   "source": [
    "from collections import OrderedDict\n",
    "\n",
    "prior_mean_chuq = OrderedDict(\n",
    "    [\n",
    "        (\"V0\", 56.19),\n",
    "        (\"Ve\", -0.36),\n",
    "        (\"Vt\", 13.82),\n",
    "        (\"r0\", 1.20),\n",
    "        (\"r0_0\", -0.20),\n",
    "        (\"a0\", 0.73),\n",
    "        (\"Wv0\", 9.92),\n",
    "        (\"Wve0\", 33.15),\n",
    "        (\"Wvew\", 24.00),\n",
    "        (\"rw\", 1.32),\n",
    "        (\"rw_0\", -0.41),\n",
    "        (\"aw\", 0.69),\n",
    "        (\"Ws0\", 10.59),\n",
    "        (\"Wst\", 27.09),\n",
    "        (\"Wse0\", 20.00),\n",
    "        (\"Wsew\", 36.38),\n",
    "        (\"Vso\", 5.58),\n",
    "        (\"rso\", 1.29),\n",
    "        (\"rso_0\", -1.12),\n",
    "        (\"aso\", 0.61),\n",
    "        (\"rc\", 1.25),\n",
    "        (\"rc_0\", 0.13),\n",
    "    ]\n",
    ")\n",
    "\n",
    "prior_std_chuq = OrderedDict(\n",
    "    [\n",
    "        (\"V0\", 1.625),  # (1.43 + 1.82) / 2\n",
    "        (\"Ve\", 0.025),  # (0.03 + 0.02) / 2\n",
    "        (\"Vt\", 6.14),  # (7.03 + 5.25) / 2\n",
    "        (\"r0\", 0.03),\n",
    "        (\"r0_0\", 0.125),\n",
    "        (\"a0\", 0.025),\n",
    "        (\"Wv0\", 3.775),\n",
    "        (\"Wve0\", 22.425),\n",
    "        (\"Wvew\", 10.42),\n",
    "        (\"rw\", 0.08),\n",
    "        (\"rw_0\", 0.34),\n",
    "        (\"aw\", 0.05),\n",
    "        (\"Ws0\", 3.69),\n",
    "        (\"Wst\", 10.50),\n",
    "        (\"Wse0\", 21.26),\n",
    "        (\"Wsew\", 18.71),\n",
    "        (\"Vso\", 0.55),\n",
    "        (\"rso\", 0.11),\n",
    "        (\"rso_0\", 0.48),\n",
    "        (\"aso\", 0.04),\n",
    "        (\"rc\", 0.12),\n",
    "        (\"rc_0\", 0.105),\n",
    "    ]\n",
    ")"
   ]
  },
  {
   "cell_type": "code",
   "execution_count": 6,
   "id": "03c82aa1-f445-47d4-b9fc-07ef93d319a5",
   "metadata": {},
   "outputs": [],
   "source": [
    "covariance = np.diag(list(prior_std_chuq.values())) ** 2\n",
    "mean = np.array(list(prior_mean_chuq.values()))"
   ]
  },
  {
   "cell_type": "code",
   "execution_count": 7,
   "id": "16746b36-ff7e-4692-ad5a-154dff08c947",
   "metadata": {},
   "outputs": [],
   "source": [
    "prior_distribution = stats.multivariate_normal(mean, covariance)"
   ]
  },
  {
   "cell_type": "code",
   "execution_count": 8,
   "id": "d9a47a07-a33f-45fc-94aa-a0eb3c5c6a65",
   "metadata": {},
   "outputs": [],
   "source": [
    "n_prior_samples = 100000\n",
    "prior_samples = prior_distribution.rvs(size=n_prior_samples)"
   ]
  },
  {
   "cell_type": "code",
   "execution_count": 9,
   "id": "603e9915-b250-4cea-ab2c-50cd6f5811e9",
   "metadata": {},
   "outputs": [],
   "source": [
    "with open(\"prior_distribution_chuq.pickle\", \"wb\") as f:\n",
    "    pickle.dump(prior_distribution, f)"
   ]
  }
 ],
 "metadata": {
  "kernelspec": {
   "display_name": "Python 3 (ipykernel)",
   "language": "python",
   "name": "python3"
  },
  "language_info": {
   "codemirror_mode": {
    "name": "ipython",
    "version": 3
   },
   "file_extension": ".py",
   "mimetype": "text/x-python",
   "name": "python",
   "nbconvert_exporter": "python",
   "pygments_lexer": "ipython3",
   "version": "3.13.3"
  }
 },
 "nbformat": 4,
 "nbformat_minor": 5
}
