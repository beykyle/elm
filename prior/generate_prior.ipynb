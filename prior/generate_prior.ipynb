{
 "cells": [
  {
   "cell_type": "markdown",
   "id": "93a49da0",
   "metadata": {},
   "source": [
    "# ELM prior generation"
   ]
  },
  {
   "cell_type": "code",
   "execution_count": 2,
   "id": "9fbc70e4-6ac7-4a99-8a84-3197e65a8666",
   "metadata": {
    "scrolled": true
   },
   "outputs": [],
   "source": [
    "import pickle\n",
    "from pathlib import Path\n",
    "\n",
    "#import corner\n",
    "import numpy as np\n",
    "from scipy import stats"
   ]
  },
  {
   "cell_type": "markdown",
   "id": "1415cd0b-41ad-4bf7-a18e-9cfe7e1469de",
   "metadata": {},
   "source": [
    "## Define potential and parameters\n",
    "These are defined in the `elm` package."
   ]
  },
  {
   "cell_type": "code",
   "execution_count": 3,
   "id": "6b6c24c7-19af-4357-8815-134ce7dde120",
   "metadata": {},
   "outputs": [
    {
     "name": "stdout",
     "output_type": "stream",
     "text": [
      "Using database version X4-2024-12-31 located in: /mnt/home/beyerkyl/x4db/unpack_exfor-2024/X4-2024-12-31\n"
     ]
    },
    {
     "data": {
      "text/plain": [
       "13"
      ]
     },
     "execution_count": 3,
     "metadata": {},
     "output_type": "execute_result"
    }
   ],
   "source": [
    "from elm import elm\n",
    "\n",
    "elm.NUM_PARAMS"
   ]
  },
  {
   "cell_type": "code",
   "execution_count": 4,
   "id": "b059ea6c-57f8-44a0-beb3-647b24944fac",
   "metadata": {},
   "outputs": [
    {
     "data": {
      "text/latex": [
       "$\\displaystyle V_0 \\text{ [MeV]}$"
      ],
      "text/plain": [
       "<IPython.core.display.Math object>"
      ]
     },
     "metadata": {},
     "output_type": "display_data"
    },
    {
     "data": {
      "text/latex": [
       "$\\displaystyle W_0 \\text{ [MeV]}$"
      ],
      "text/plain": [
       "<IPython.core.display.Math object>"
      ]
     },
     "metadata": {},
     "output_type": "display_data"
    },
    {
     "data": {
      "text/latex": [
       "$\\displaystyle W_{D0} \\text{ [MeV]}$"
      ],
      "text/plain": [
       "<IPython.core.display.Math object>"
      ]
     },
     "metadata": {},
     "output_type": "display_data"
    },
    {
     "data": {
      "text/latex": [
       "$\\displaystyle V_1 \\text{ [MeV]}$"
      ],
      "text/plain": [
       "<IPython.core.display.Math object>"
      ]
     },
     "metadata": {},
     "output_type": "display_data"
    },
    {
     "data": {
      "text/latex": [
       "$\\displaystyle W_1 \\text{ [MeV]}$"
      ],
      "text/plain": [
       "<IPython.core.display.Math object>"
      ]
     },
     "metadata": {},
     "output_type": "display_data"
    },
    {
     "data": {
      "text/latex": [
       "$\\displaystyle W_{D1} \\text{ [MeV]}$"
      ],
      "text/plain": [
       "<IPython.core.display.Math object>"
      ]
     },
     "metadata": {},
     "output_type": "display_data"
    },
    {
     "data": {
      "text/latex": [
       "$\\displaystyle \\alpha \\text{ [dimensionless]}$"
      ],
      "text/plain": [
       "<IPython.core.display.Math object>"
      ]
     },
     "metadata": {},
     "output_type": "display_data"
    },
    {
     "data": {
      "text/latex": [
       "$\\displaystyle \\gamma_W \\text{ [MeV]}$"
      ],
      "text/plain": [
       "<IPython.core.display.Math object>"
      ]
     },
     "metadata": {},
     "output_type": "display_data"
    },
    {
     "data": {
      "text/latex": [
       "$\\displaystyle \\gamma_D \\text{ [MeV]}$"
      ],
      "text/plain": [
       "<IPython.core.display.Math object>"
      ]
     },
     "metadata": {},
     "output_type": "display_data"
    },
    {
     "data": {
      "text/latex": [
       "$\\displaystyle r_{0A} \\text{ [fm]}$"
      ],
      "text/plain": [
       "<IPython.core.display.Math object>"
      ]
     },
     "metadata": {},
     "output_type": "display_data"
    },
    {
     "data": {
      "text/latex": [
       "$\\displaystyle r_{1A} \\text{ [fm]}$"
      ],
      "text/plain": [
       "<IPython.core.display.Math object>"
      ]
     },
     "metadata": {},
     "output_type": "display_data"
    },
    {
     "data": {
      "text/latex": [
       "$\\displaystyle a_0 \\text{ [fm]}$"
      ],
      "text/plain": [
       "<IPython.core.display.Math object>"
      ]
     },
     "metadata": {},
     "output_type": "display_data"
    },
    {
     "data": {
      "text/latex": [
       "$\\displaystyle a_1 \\text{ [fm]}$"
      ],
      "text/plain": [
       "<IPython.core.display.Math object>"
      ]
     },
     "metadata": {},
     "output_type": "display_data"
    }
   ],
   "source": [
    "from IPython.display import Math, display\n",
    "\n",
    "for p in elm.params:\n",
    "    display(Math(f\"{p.latex_name} \\\\text{{ [{ p.unit}]}}\"))"
   ]
  },
  {
   "cell_type": "markdown",
   "id": "81254730",
   "metadata": {},
   "source": [
    "## Prior distribution\n",
    "Let's come up with an initial guess following the logic of the [CH89 global optical model potential](https://doi.org/10.1016/0370-1573(91)90039-O) (20 free parameters) which is similar in form to ELM. Because the energy dependencies of the imaginary volume and surface terms are more similar to the [Koning Delaroche](https://www.sciencedirect.com/science/article/pii/S0375947402013210) global optical potential (46 free parameters), we will use that model to inform our prior for $\\gamma_W$ and $\\gamma_D$. Both of these potentials were re-calibrated with Bayesian uncertainty quantification by [Pruitt, et al.](https://journals.aps.org/prc/abstract/10.1103/PhysRevC.107.014602), and we will take the reported 16, 50, and 84th percentile values for parameters in tables IV and V of that work to construct our prior.  \n",
    "\n",
    "Of course, we will be fitting to a different corpus of data, and our model is different from both CH89 and KD, so this isn't an exact science. Section 2 of the original CH89 work, as well as a review article by [Hodgson](https://iopscience.iop.org/article/10.1088/0034-4885/34/2/306/meta) and chapter 12 of a textbook by [Satchler](https://www.osti.gov/etdeweb/biblio/5540661) provide physical justifications for model forms and parameter values that we will also consider. \n",
    "\n",
    "Finally, it is worthwile to consider the form of \n",
    "\n",
    "A particular difference of ELM is the independent isoscalar and isovector geometries. There is no good prior in the literature for isovector geomerties other than the work adjusting the local Koning-Delaroche potentials to quasi-elastic $(p,n)$ by [Danielwicz at al.](https://www.sciencedirect.com/science/article/pii/S0375947416302895). In the absence of strong prior constraints for a global model, we will take the strategy of setting the isoscalar andf isovector geometries to be the same in our prior, and inflate the uncertainties by hand, so that the geometry is essentially only constrained by the cross sections in our Bayesian evidence.\n",
    "\n",
    "Finally, for the sake of simplicity, we make some simplifying assumptions that depart from modern global potentials. We take the simplest approach for now, but will test later if removing these assumptions (by adding more parameters, and possible more/different evidence) leads to a posterior that is more consistent with the evidence:\n",
    " - we fix the geometry of the isoscalar real volume term, the imaginary volume and surface terms to be the same. Typically, the imaginary all terms all have independent geometries, and this is physically justified. \n",
    " - we fix the Coulomb radius to the radius of the isoscalar terms. Typically, the Coulomb radius is fit independently.\n",
    " - we will fix the real isoscalar and isovector spin orbit depths to be a constant fraction (0.44) of the corresponding real central depths, following Bohr & Mottelson Ch. 2 (page 238). The imaginary isoscalar spin-orbit depth will be fixed to -3.1 for now, and the isovector spin-orbit depth will be fixeed to 0. Future work including polarized beam elastic and $(p,n)_{IAS}$ data in the corpus will allow us to fit these.\n",
    " - it is well known that the optical potential is just the on-shell positive energy sector of single-nucleon self-energy, which is nonlocal in coordinate space, satisifies a dispersion relation, and can be related to experimental observbales both above and below the Fermi energy. We will ignore these important physical constraints for now, choosing a more traditional local, non-dispersive form fit only to positive energy observables (differential cross sections)."
   ]
  },
  {
   "cell_type": "code",
   "execution_count": 6,
   "id": "05d39fdf-e226-4619-a978-fa5bd723bfe9",
   "metadata": {},
   "outputs": [],
   "source": [
    "from collections import OrderedDict\n",
    "\n",
    "prior_mean = OrderedDict(\n",
    "    [\n",
    "        (\"V0\", 56.19),  # 51 BM\n",
    "        (\"W0\", 9.92),\n",
    "        (\"Wd0\", 10.59),\n",
    "        (\"V1\", 13.82),  # 33 BM\n",
    "        (\"W1\", 0),\n",
    "        (\"Wd1\", 27.09),\n",
    "        (\"alpha\", -0.36),\n",
    "        (\"gamma_w\", 47),\n",
    "        (\"gamma_d\", 27),\n",
    "      #  (\"r0\", -0.2),\n",
    "      #  (\"r1\", -0.2),\n",
    "        (\"r0A\", 1.2),\n",
    "        (\"r1A\", 1.2),\n",
    "        (\"a0\", 0.73),\n",
    "        (\"a1\", 0.73),\n",
    "    ]\n",
    ")\n",
    "\n",
    "# diff b/t 16th and 84th pctl in CHUQ - i.e. central 68% confidence interval\n",
    "prior_ci = OrderedDict(\n",
    "    [\n",
    "        (\"V0\", 1.43 + 1.82),\n",
    "        (\"W0\", 4.63 + 2.92),\n",
    "        (\"Wd0\", 3.99 + 3.39),\n",
    "        (\"V1\", 7.03 + 5.25),\n",
    "        (\"W1\", 7.03 + 5.25),  # not in CHUQ or KDUQ, set to same as  uncertainty in V1\n",
    "        (\"Wd1\", 12.28 + 8.72),\n",
    "        (\"alpha\", 0.03 + 0.02),\n",
    "        # take this from fitting energy dependence of depth to KDUQ\n",
    "        (\"gamma_w\", 30),\n",
    "        # take this from fitting energy dependence of depth to KDUQ\n",
    "        (\"gamma_d\", 3.5),\n",
    "     #   (\"r0\", 0.12 + 0.13),\n",
    "     #   (\"r1\", 0.12 + 0.13),\n",
    "        (\"r0A\", 0.03 + 0.03),\n",
    "        (\"r1A\", 0.03 + 0.03),\n",
    "        (\"a0\", 0.03 + 0.02),\n",
    "        (\"a1\", 0.03 + 0.02),\n",
    "    ]\n",
    ")"
   ]
  },
  {
   "cell_type": "code",
   "execution_count": 7,
   "id": "70b5a88d-605a-4505-8a9a-6a126b00596d",
   "metadata": {},
   "outputs": [],
   "source": [
    "prior_sigma = OrderedDict([(l, x / 2) for (l, x) in prior_ci.items()])"
   ]
  },
  {
   "cell_type": "code",
   "execution_count": 8,
   "id": "03c82aa1-f445-47d4-b9fc-07ef93d319a5",
   "metadata": {},
   "outputs": [],
   "source": [
    "covariance = np.diag(list(prior_sigma.values())) ** 2\n",
    "mean = np.array(list(prior_mean.values()))"
   ]
  },
  {
   "cell_type": "code",
   "execution_count": 9,
   "id": "87d64991-f97d-437b-ab0e-6e61a45da941",
   "metadata": {},
   "outputs": [],
   "source": [
    "n_prior_samples = 100000\n",
    "prior_distribution = stats.multivariate_normal(mean, covariance)\n",
    "prior_samples = prior_distribution.rvs(size=n_prior_samples)"
   ]
  },
  {
   "cell_type": "code",
   "execution_count": 10,
   "id": "603e9915-b250-4cea-ab2c-50cd6f5811e9",
   "metadata": {},
   "outputs": [],
   "source": [
    "with open(\"prior_distribution.pickle\", \"wb\") as f:\n",
    "    pickle.dump(prior_distribution, f)"
   ]
  },
  {
   "cell_type": "code",
   "execution_count": null,
   "id": "6121860b-76a4-49df-9013-686cf2ac9eae",
   "metadata": {},
   "outputs": [],
   "source": []
  }
 ],
 "metadata": {
  "kernelspec": {
   "display_name": "Python 3 (ipykernel)",
   "language": "python",
   "name": "python3"
  },
  "language_info": {
   "codemirror_mode": {
    "name": "ipython",
    "version": 3
   },
   "file_extension": ".py",
   "mimetype": "text/x-python",
   "name": "python",
   "nbconvert_exporter": "python",
   "pygments_lexer": "ipython3",
   "version": "3.13.3"
  }
 },
 "nbformat": 4,
 "nbformat_minor": 5
}
