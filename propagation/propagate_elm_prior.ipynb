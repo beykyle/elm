{
 "cells": [
  {
   "cell_type": "code",
   "execution_count": 1,
   "id": "6c38824c-cb69-4561-9f07-9f6b3fe169ac",
   "metadata": {},
   "outputs": [],
   "source": [
    "import lzma\n",
    "import pickle\n",
    "from pathlib import Path\n",
    "\n",
    "import dill\n",
    "import numpy as np\n",
    "from matplotlib import pyplot as plt\n",
    "from tqdm import tqdm"
   ]
  },
  {
   "cell_type": "code",
   "execution_count": 3,
   "id": "57172f8d-9af1-41cc-abbc-7c89cd166558",
   "metadata": {},
   "outputs": [
    {
     "name": "stdout",
     "output_type": "stream",
     "text": [
      "Using database version X4-2024-12-31 located in: /home/beyerk/db/exfor/unpack_exfor-2024/X4-2024-12-31\n"
     ]
    }
   ],
   "source": [
    "import elm"
   ]
  },
  {
   "cell_type": "code",
   "execution_count": 4,
   "id": "93399669-97a8-444d-91ef-4b4b74f8724b",
   "metadata": {},
   "outputs": [],
   "source": [
    "import rxmc"
   ]
  },
  {
   "cell_type": "code",
   "execution_count": 5,
   "id": "825b2938-c39d-4dee-9391-9b388a98d7dc",
   "metadata": {},
   "outputs": [],
   "source": [
    "evidence_dir = Path(\"../evidence/data\")\n",
    "model_dir = Path(\"../model/\")\n",
    "prior_path = Path(\"../prior/prior_distribution.pickle\")"
   ]
  },
  {
   "cell_type": "code",
   "execution_count": 6,
   "id": "92a6bbc4-4db9-4b91-8fd9-6d0d8a485978",
   "metadata": {},
   "outputs": [],
   "source": [
    "output_dir = Path(\"./elm_prior_propagation//\")\n",
    "output_dir.mkdir(parents=True, exist_ok=True)"
   ]
  },
  {
   "cell_type": "markdown",
   "id": "524fb1be-f59e-43bd-bac2-b8a61528dffb",
   "metadata": {},
   "source": [
    "## read in ELM prior parameter samples"
   ]
  },
  {
   "cell_type": "code",
   "execution_count": 7,
   "id": "59923ecf-f016-4c0e-9d2f-f2f44896a232",
   "metadata": {},
   "outputs": [],
   "source": [
    "with open(prior_path, \"rb\") as f:\n",
    "    prior = pickle.load(f)\n",
    "prior_samples = prior.rvs(1000)"
   ]
  },
  {
   "cell_type": "markdown",
   "id": "512b3967-c1b2-412e-becd-a4373d64e35e",
   "metadata": {},
   "source": [
    "## read in observations and models"
   ]
  },
  {
   "cell_type": "code",
   "execution_count": 8,
   "id": "af6e9ec9-a13e-4064-b49d-1c5c8f26cee2",
   "metadata": {},
   "outputs": [],
   "source": [
    "with lzma.open(evidence_dir / \"nn_elastic_observations.xz\", \"rb\") as f:\n",
    "    nn_elastic_obs = pickle.load(f)\n",
    "with lzma.open(evidence_dir / \"pp_elastic_observations.xz\", \"rb\") as f:\n",
    "    pp_elastic_obs = pickle.load(f)"
   ]
  },
  {
   "cell_type": "code",
   "execution_count": 9,
   "id": "5fc49f62-83d7-4061-9fa7-4a18e9df55a7",
   "metadata": {},
   "outputs": [],
   "source": [
    "with open(model_dir / \"elm_nn_model.pkl\", \"rb\") as f:\n",
    "    elm_nn_model = dill.load(f)"
   ]
  },
  {
   "cell_type": "code",
   "execution_count": 10,
   "id": "d6fda417-406e-4a33-8a1e-52273ce2221e",
   "metadata": {},
   "outputs": [],
   "source": [
    "with open(model_dir / \"elm_pp_model.pkl\", \"rb\") as f:\n",
    "    elm_pp_model = dill.load(f)"
   ]
  },
  {
   "cell_type": "markdown",
   "id": "8215260d-d1b3-4f06-a887-834db4f8a71b",
   "metadata": {},
   "source": [
    "## propagate ELM prior into constraint observables"
   ]
  },
  {
   "cell_type": "code",
   "execution_count": 11,
   "id": "f2aba072-76fe-4cfe-89a0-3e1674136b0e",
   "metadata": {},
   "outputs": [
    {
     "name": "stderr",
     "output_type": "stream",
     "text": [
      "100%|███████████████████████████████████████████████████████████████| 65/65 [02:28<00:00,  2.28s/it]\n"
     ]
    }
   ],
   "source": [
    "yth_nn = []\n",
    "for x in tqdm(nn_elastic_obs):\n",
    "    yth_nn.append([elm_nn_model(x, *p) for p in prior_samples])\n",
    "yth_nn = np.hstack(yth_nn)"
   ]
  },
  {
   "cell_type": "code",
   "execution_count": 12,
   "id": "2e18238a-67dc-4644-9455-94b3ad19b54a",
   "metadata": {},
   "outputs": [
    {
     "name": "stderr",
     "output_type": "stream",
     "text": [
      "100%|█████████████████████████████████████████████████████████████| 160/160 [06:05<00:00,  2.28s/it]\n"
     ]
    }
   ],
   "source": [
    "yth_pp = []\n",
    "for x in tqdm(pp_elastic_obs):\n",
    "    yth_pp.append([elm_pp_model(x, *p) for p in prior_samples])\n",
    "yth_pp = np.hstack(yth_pp)"
   ]
  },
  {
   "cell_type": "markdown",
   "id": "f4b0581d-f651-4d1c-b4ce-534dcb289f29",
   "metadata": {},
   "source": [
    "## write elm posterior predictive distributions to disk"
   ]
  },
  {
   "cell_type": "code",
   "execution_count": 13,
   "id": "4c1c022c-532f-424a-a3ed-df0c4179eb17",
   "metadata": {},
   "outputs": [],
   "source": [
    "with open(output_dir / \"nn_elm_posterior_predictive.pkl\", \"wb\") as f:\n",
    "    pickle.dump(yth_nn, f)"
   ]
  },
  {
   "cell_type": "code",
   "execution_count": 14,
   "id": "55031bd9-5ec3-49b8-9455-eb676733b3a6",
   "metadata": {},
   "outputs": [],
   "source": [
    "with open(output_dir / \"pp_elm_posterior_predictive.pkl\", \"wb\") as f:\n",
    "    pickle.dump(yth_pp, f)"
   ]
  }
 ],
 "metadata": {
  "kernelspec": {
   "display_name": "Python 3 (ipykernel)",
   "language": "python",
   "name": "python3"
  },
  "language_info": {
   "codemirror_mode": {
    "name": "ipython",
    "version": 3
   },
   "file_extension": ".py",
   "mimetype": "text/x-python",
   "name": "python",
   "nbconvert_exporter": "python",
   "pygments_lexer": "ipython3",
   "version": "3.11.9"
  }
 },
 "nbformat": 4,
 "nbformat_minor": 5
}
