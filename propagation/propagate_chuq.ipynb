{
 "cells": [
  {
   "cell_type": "code",
   "execution_count": 1,
   "id": "6c38824c-cb69-4561-9f07-9f6b3fe169ac",
   "metadata": {},
   "outputs": [],
   "source": [
    "import lzma\n",
    "import pickle\n",
    "\n",
    "import dill\n",
    "import numpy as np\n",
    "from matplotlib import pyplot as plt\n",
    "from tqdm import tqdm"
   ]
  },
  {
   "cell_type": "code",
   "execution_count": 2,
   "id": "57172f8d-9af1-41cc-abbc-7c89cd166558",
   "metadata": {},
   "outputs": [],
   "source": [
    "from jitr.optical_potentials import chuq"
   ]
  },
  {
   "cell_type": "code",
   "execution_count": 3,
   "id": "93399669-97a8-444d-91ef-4b4b74f8724b",
   "metadata": {},
   "outputs": [
    {
     "name": "stdout",
     "output_type": "stream",
     "text": [
      "Using database version X4-2024-12-31 located in: /mnt/home/beyerkyl/x4db/unpack_exfor-2024/X4-2024-12-31\n"
     ]
    }
   ],
   "source": [
    "import rxmc"
   ]
  },
  {
   "cell_type": "markdown",
   "id": "524fb1be-f59e-43bd-bac2-b8a61528dffb",
   "metadata": {},
   "source": [
    "## read in CHUQ parameter samples"
   ]
  },
  {
   "cell_type": "code",
   "execution_count": 4,
   "id": "2c66da99-d112-4f80-8ef9-afcf996859d8",
   "metadata": {},
   "outputs": [],
   "source": [
    "neutron = (1, 0)\n",
    "proton = (1, 1)"
   ]
  },
  {
   "cell_type": "code",
   "execution_count": 5,
   "id": "d4a5c3fe-4443-4f25-a1b5-f2dfb5e16431",
   "metadata": {},
   "outputs": [],
   "source": [
    "chuq_params = chuq.get_samples_federal()"
   ]
  },
  {
   "cell_type": "code",
   "execution_count": 6,
   "id": "59923ecf-f016-4c0e-9d2f-f2f44896a232",
   "metadata": {},
   "outputs": [],
   "source": [
    "nparams = len(chuq_params[0])"
   ]
  },
  {
   "cell_type": "markdown",
   "id": "512b3967-c1b2-412e-becd-a4373d64e35e",
   "metadata": {},
   "source": [
    "## read in observations and models"
   ]
  },
  {
   "cell_type": "code",
   "execution_count": 7,
   "id": "92a6bbc4-4db9-4b91-8fd9-6d0d8a485978",
   "metadata": {},
   "outputs": [],
   "source": [
    "from pathlib import Path\n",
    "\n",
    "evidence_dir = Path(\"../evidence/data\")\n",
    "model_dir = Path(\"../model/\")\n",
    "\n",
    "output_dir = Path(\"./chuq_propagation/\")\n",
    "output_dir.mkdir(parents=True, exist_ok=True)"
   ]
  },
  {
   "cell_type": "code",
   "execution_count": 8,
   "id": "af6e9ec9-a13e-4064-b49d-1c5c8f26cee2",
   "metadata": {},
   "outputs": [],
   "source": [
    "with lzma.open(evidence_dir / \"nn_elastic_observations.xz\", \"rb\") as f:\n",
    "    nn_elastic_obs = pickle.load(f)\n",
    "with lzma.open(evidence_dir / \"pp_elastic_observations.xz\", \"rb\") as f:\n",
    "    pp_elastic_obs = pickle.load(f)"
   ]
  },
  {
   "cell_type": "code",
   "execution_count": 9,
   "id": "5fc49f62-83d7-4061-9fa7-4a18e9df55a7",
   "metadata": {},
   "outputs": [],
   "source": [
    "with open(model_dir / \"chuq_nn_model.pkl\", \"rb\") as f:\n",
    "    nn_model = dill.load(f)"
   ]
  },
  {
   "cell_type": "code",
   "execution_count": 10,
   "id": "d6fda417-406e-4a33-8a1e-52273ce2221e",
   "metadata": {},
   "outputs": [],
   "source": [
    "with open(model_dir / \"chuq_pp_model.pkl\", \"rb\") as f:\n",
    "    pp_model = dill.load(f)"
   ]
  },
  {
   "cell_type": "code",
   "execution_count": 11,
   "id": "8a5a3c31-f2b6-4c8a-b524-4ba77f45307e",
   "metadata": {},
   "outputs": [],
   "source": [
    "def propagate(samples):\n",
    "    yth_nn = []\n",
    "    for entry_id, obs in tqdm(nn_elastic_obs.items()):\n",
    "        for x in obs:\n",
    "            yth_nn.append(\n",
    "                np.array(\n",
    "                    [\n",
    "                        nn_model.visualizable_model_prediction(x, *p)\n",
    "                        for p in samples\n",
    "                    ]\n",
    "                )\n",
    "            )\n",
    "    yth_pp = []\n",
    "    for entry_id, obs in tqdm(pp_elastic_obs.items()):\n",
    "        for x in obs:\n",
    "            yth_pp.append(\n",
    "                np.array(\n",
    "                    [\n",
    "                        pp_model.visualizable_model_prediction(x, *p)\n",
    "                        for p in samples\n",
    "                    ]\n",
    "                )\n",
    "            )\n",
    "    return yth_nn, yth_pp"
   ]
  },
  {
   "cell_type": "markdown",
   "id": "8215260d-d1b3-4f06-a887-834db4f8a71b",
   "metadata": {},
   "source": [
    "## propagate CHUQ into constraint observables"
   ]
  },
  {
   "cell_type": "code",
   "execution_count": 12,
   "id": "4397d8b8-97db-4375-9981-9f5d00cd6085",
   "metadata": {},
   "outputs": [
    {
     "name": "stderr",
     "output_type": "stream",
     "text": [
      "100%|██████████| 18/18 [00:33<00:00,  1.85s/it]\n",
      "100%|██████████| 55/55 [01:09<00:00,  1.27s/it]\n"
     ]
    }
   ],
   "source": [
    "yth_nn, yth_pp = propagate(chuq_params)"
   ]
  },
  {
   "cell_type": "markdown",
   "id": "f4b0581d-f651-4d1c-b4ce-534dcb289f29",
   "metadata": {},
   "source": [
    "## write posterior predictive distributions to disk"
   ]
  },
  {
   "cell_type": "code",
   "execution_count": 13,
   "id": "4c1c022c-532f-424a-a3ed-df0c4179eb17",
   "metadata": {},
   "outputs": [],
   "source": [
    "with open(output_dir / \"nn_chuq_posterior_predictive.pkl\", \"wb\") as f:\n",
    "    pickle.dump(yth_nn, f)"
   ]
  },
  {
   "cell_type": "code",
   "execution_count": 14,
   "id": "55031bd9-5ec3-49b8-9455-eb676733b3a6",
   "metadata": {},
   "outputs": [],
   "source": [
    "with open(output_dir / \"pp_chuq_posterior_predictive.pkl\", \"wb\") as f:\n",
    "    pickle.dump(yth_pp, f)"
   ]
  },
  {
   "cell_type": "markdown",
   "id": "8bc2d43f-7c0f-42f1-9c16-ca067fee564c",
   "metadata": {},
   "source": [
    "## Propagate posteriors from our calibration"
   ]
  },
  {
   "cell_type": "code",
   "execution_count": 18,
   "id": "78a7f3d7-5f64-449a-8f10-66695bf2f2bd",
   "metadata": {},
   "outputs": [
    {
     "data": {
      "text/plain": [
       "(64, 100000, 22)"
      ]
     },
     "execution_count": 18,
     "metadata": {},
     "output_type": "execute_result"
    }
   ],
   "source": [
    "results_1 = np.load(\"../calibration/chuq_cal_prod_1/result.npz\")\n",
    "results_01 = np.load(\"../calibration/chuq_cal_prod_01/result.npz\")\n",
    "results_001 = np.load(\"../calibration/chuq_cal_prod_001/result.npz\")\n",
    "\n",
    "n_chains, n_steps, n_params = results_1[\"model_chains\"].shape\n",
    "(n_chains, n_steps, n_params)"
   ]
  },
  {
   "cell_type": "code",
   "execution_count": 19,
   "id": "5eaecb73-0ddc-4332-a382-97280a98b6f0",
   "metadata": {},
   "outputs": [],
   "source": [
    "def draw_samples(x, low_cut=None, high_cut=None, n_samples=None):\n",
    "    chains, steps, n_params = x.shape\n",
    "    if low_cut is None:\n",
    "        low_cut = 0\n",
    "    if high_cut is None:\n",
    "        high_cut = steps - 1\n",
    "    samples = x[:, low_cut:high_cut, ...].reshape(\n",
    "        (chains * (high_cut - low_cut), n_params)\n",
    "    )\n",
    "    if n_samples is None:\n",
    "        return samples\n",
    "    else:\n",
    "        return samples[\n",
    "            np.random.choice(np.arange(chains * (high_cut - low_cut)), n_samples), ...\n",
    "        ]"
   ]
  },
  {
   "cell_type": "code",
   "execution_count": 20,
   "id": "0b17906c-f744-4c00-86fb-dca20650e841",
   "metadata": {},
   "outputs": [],
   "source": [
    "posterior_1 = draw_samples(results_1[\"model_chains\"], low_cut=50000, n_samples=1000)\n",
    "posterior_01 = draw_samples(results_1[\"model_chains\"], low_cut=50000, n_samples=1000)\n",
    "posterior_001 = draw_samples(results_1[\"model_chains\"], low_cut=50000, n_samples=1000)"
   ]
  },
  {
   "cell_type": "code",
   "execution_count": 21,
   "id": "9fe5fba2-b0f5-4804-9f47-1f672b141c20",
   "metadata": {},
   "outputs": [
    {
     "name": "stderr",
     "output_type": "stream",
     "text": [
      "100%|██████████| 18/18 [02:02<00:00,  6.81s/it]\n",
      "100%|██████████| 55/55 [05:30<00:00,  6.01s/it]\n"
     ]
    }
   ],
   "source": [
    "yth_nn, yth_pp = propagate(posterior_1)\n",
    "with open(output_dir / \"nn_chuq_cal_1.pkl\", \"wb\") as f:\n",
    "    pickle.dump(yth_nn, f)\n",
    "with open(output_dir / \"pp_chuq_cal_1.pkl\", \"wb\") as f:\n",
    "    pickle.dump(yth_pp, f)"
   ]
  },
  {
   "cell_type": "code",
   "execution_count": 22,
   "id": "56e34a36-e150-4c89-9aa6-006ea11083b8",
   "metadata": {},
   "outputs": [
    {
     "name": "stderr",
     "output_type": "stream",
     "text": [
      "100%|██████████| 18/18 [02:02<00:00,  6.79s/it]\n",
      "100%|██████████| 55/55 [05:29<00:00,  6.00s/it]\n"
     ]
    }
   ],
   "source": [
    "yth_nn, yth_pp = propagate(posterior_01)\n",
    "with open(output_dir / \"nn_chuq_cal_01.pkl\", \"wb\") as f:\n",
    "    pickle.dump(yth_nn, f)\n",
    "with open(output_dir / \"pp_chuq_cal_01.pkl\", \"wb\") as f:\n",
    "    pickle.dump(yth_pp, f)"
   ]
  },
  {
   "cell_type": "code",
   "execution_count": 23,
   "id": "26b2b126-0c38-41cf-810f-d63406d06c15",
   "metadata": {},
   "outputs": [
    {
     "name": "stderr",
     "output_type": "stream",
     "text": [
      "100%|██████████| 18/18 [02:02<00:00,  6.80s/it]\n",
      "100%|██████████| 55/55 [05:30<00:00,  6.01s/it]\n"
     ]
    }
   ],
   "source": [
    "yth_nn, yth_pp = propagate(posterior_001)\n",
    "with open(output_dir / \"nn_chuq_cal_001.pkl\", \"wb\") as f:\n",
    "    pickle.dump(yth_nn, f)\n",
    "with open(output_dir / \"pp_chuq_cal_001.pkl\", \"wb\") as f:\n",
    "    pickle.dump(yth_pp, f)"
   ]
  },
  {
   "cell_type": "code",
   "execution_count": null,
   "id": "71de2c24-c886-4e12-8957-4f0933b28ed4",
   "metadata": {},
   "outputs": [],
   "source": []
  },
  {
   "cell_type": "code",
   "execution_count": null,
   "id": "df5a54bd-600f-45fd-b3a6-76d1a6ef2a1d",
   "metadata": {},
   "outputs": [],
   "source": []
  }
 ],
 "metadata": {
  "kernelspec": {
   "display_name": "Python 3 (ipykernel)",
   "language": "python",
   "name": "python3"
  },
  "language_info": {
   "codemirror_mode": {
    "name": "ipython",
    "version": 3
   },
   "file_extension": ".py",
   "mimetype": "text/x-python",
   "name": "python",
   "nbconvert_exporter": "python",
   "pygments_lexer": "ipython3",
   "version": "3.13.3"
  }
 },
 "nbformat": 4,
 "nbformat_minor": 5
}
