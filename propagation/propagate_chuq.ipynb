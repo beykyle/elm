{
 "cells": [
  {
   "cell_type": "code",
   "execution_count": 1,
   "id": "6c38824c-cb69-4561-9f07-9f6b3fe169ac",
   "metadata": {},
   "outputs": [],
   "source": [
    "import lzma\n",
    "import pickle\n",
    "\n",
    "import dill\n",
    "import numpy as np\n",
    "from matplotlib import pyplot as plt\n",
    "from tqdm import tqdm"
   ]
  },
  {
   "cell_type": "code",
   "execution_count": 2,
   "id": "57172f8d-9af1-41cc-abbc-7c89cd166558",
   "metadata": {},
   "outputs": [],
   "source": [
    "from jitr.optical_potentials import chuq"
   ]
  },
  {
   "cell_type": "code",
   "execution_count": 3,
   "id": "93399669-97a8-444d-91ef-4b4b74f8724b",
   "metadata": {},
   "outputs": [
    {
     "name": "stdout",
     "output_type": "stream",
     "text": [
      "Using database version X4-2024-12-31 located in: /mnt/home/beyerkyl/x4db/unpack_exfor-2024/X4-2024-12-31\n"
     ]
    }
   ],
   "source": [
    "import rxmc"
   ]
  },
  {
   "cell_type": "markdown",
   "id": "524fb1be-f59e-43bd-bac2-b8a61528dffb",
   "metadata": {},
   "source": [
    "## read in CHUQ parameter samples"
   ]
  },
  {
   "cell_type": "code",
   "execution_count": 4,
   "id": "2c66da99-d112-4f80-8ef9-afcf996859d8",
   "metadata": {},
   "outputs": [],
   "source": [
    "neutron = (1, 0)\n",
    "proton = (1, 1)"
   ]
  },
  {
   "cell_type": "code",
   "execution_count": 5,
   "id": "d4a5c3fe-4443-4f25-a1b5-f2dfb5e16431",
   "metadata": {},
   "outputs": [],
   "source": [
    "chuq_params = chuq.get_samples_federal()"
   ]
  },
  {
   "cell_type": "code",
   "execution_count": 7,
   "id": "59923ecf-f016-4c0e-9d2f-f2f44896a232",
   "metadata": {},
   "outputs": [],
   "source": [
    "nparams = len(chuq_params[0])"
   ]
  },
  {
   "cell_type": "markdown",
   "id": "512b3967-c1b2-412e-becd-a4373d64e35e",
   "metadata": {},
   "source": [
    "## read in observations and models"
   ]
  },
  {
   "cell_type": "code",
   "execution_count": 8,
   "id": "92a6bbc4-4db9-4b91-8fd9-6d0d8a485978",
   "metadata": {},
   "outputs": [],
   "source": [
    "from pathlib import Path\n",
    "\n",
    "evidence_dir = Path(\"../evidence/data\")\n",
    "model_dir = Path(\"../model/\")\n",
    "\n",
    "output_dir = Path(\"./chuq_propagation/\")\n",
    "output_dir.mkdir(parents=True, exist_ok=True)"
   ]
  },
  {
   "cell_type": "code",
   "execution_count": 9,
   "id": "af6e9ec9-a13e-4064-b49d-1c5c8f26cee2",
   "metadata": {},
   "outputs": [],
   "source": [
    "with lzma.open(evidence_dir / \"nn_elastic_observations.xz\", \"rb\") as f:\n",
    "    nn_elastic_obs = pickle.load(f)\n",
    "with lzma.open(evidence_dir / \"pp_elastic_observations.xz\", \"rb\") as f:\n",
    "    pp_elastic_obs = pickle.load(f)"
   ]
  },
  {
   "cell_type": "code",
   "execution_count": 10,
   "id": "5fc49f62-83d7-4061-9fa7-4a18e9df55a7",
   "metadata": {},
   "outputs": [],
   "source": [
    "with open(model_dir / \"chuq_nn_model.pkl\", \"rb\") as f:\n",
    "    nn_model = dill.load(f)"
   ]
  },
  {
   "cell_type": "code",
   "execution_count": 11,
   "id": "d6fda417-406e-4a33-8a1e-52273ce2221e",
   "metadata": {},
   "outputs": [],
   "source": [
    "with open(model_dir / \"chuq_pp_model.pkl\", \"rb\") as f:\n",
    "    pp_model = dill.load(f)"
   ]
  },
  {
   "cell_type": "markdown",
   "id": "8215260d-d1b3-4f06-a887-834db4f8a71b",
   "metadata": {},
   "source": [
    "## propagate KDUQ into constraint observables"
   ]
  },
  {
   "cell_type": "code",
   "execution_count": 14,
   "id": "f2aba072-76fe-4cfe-89a0-3e1674136b0e",
   "metadata": {},
   "outputs": [
    {
     "name": "stderr",
     "output_type": "stream",
     "text": [
      "100%|██████████| 18/18 [00:32<00:00,  1.80s/it]\n"
     ]
    }
   ],
   "source": [
    "yth_nn = []\n",
    "for entry_id, obs in tqdm(nn_elastic_obs.items()):\n",
    "    for x in obs:\n",
    "        yth_nn.append(\n",
    "            np.array(\n",
    "                [\n",
    "                    nn_model.visualizable_model_prediction(x, *p)\n",
    "                    for p in chuq_params\n",
    "                ]\n",
    "            )\n",
    "        )"
   ]
  },
  {
   "cell_type": "code",
   "execution_count": 15,
   "id": "2e18238a-67dc-4644-9455-94b3ad19b54a",
   "metadata": {},
   "outputs": [
    {
     "name": "stderr",
     "output_type": "stream",
     "text": [
      "100%|██████████| 55/55 [01:10<00:00,  1.28s/it]\n"
     ]
    }
   ],
   "source": [
    "yth_pp = []\n",
    "for entry_id, obs in tqdm(pp_elastic_obs.items()):\n",
    "    for x in obs:\n",
    "        yth_pp.append(\n",
    "            np.array(\n",
    "                [\n",
    "                    pp_model.visualizable_model_prediction(x, *p)\n",
    "                    for p in chuq_params\n",
    "                ]\n",
    "            )\n",
    "        )"
   ]
  },
  {
   "cell_type": "markdown",
   "id": "f4b0581d-f651-4d1c-b4ce-534dcb289f29",
   "metadata": {},
   "source": [
    "## write posterior predictive distributions to disk"
   ]
  },
  {
   "cell_type": "code",
   "execution_count": 16,
   "id": "4c1c022c-532f-424a-a3ed-df0c4179eb17",
   "metadata": {},
   "outputs": [],
   "source": [
    "with open(output_dir / \"nn_chuq_posterior_predictive.pkl\", \"wb\") as f:\n",
    "    pickle.dump(yth_nn, f)"
   ]
  },
  {
   "cell_type": "code",
   "execution_count": 17,
   "id": "55031bd9-5ec3-49b8-9455-eb676733b3a6",
   "metadata": {},
   "outputs": [],
   "source": [
    "with open(output_dir / \"pp_chuq_posterior_predictive.pkl\", \"wb\") as f:\n",
    "    pickle.dump(yth_pp, f)"
   ]
  },
  {
   "cell_type": "markdown",
   "id": "8bc2d43f-7c0f-42f1-9c16-ca067fee564c",
   "metadata": {},
   "source": [
    "## Propagate posteriors from our fitting"
   ]
  },
  {
   "cell_type": "code",
   "execution_count": null,
   "id": "78a7f3d7-5f64-449a-8f10-66695bf2f2bd",
   "metadata": {},
   "outputs": [],
   "source": [
    "results_full = np.load(\"../calibration/chuq_cal_prod/result.npz\")\n",
    "n_chains, n_steps, n_params = results_full[\"model_chains\"].shape\n",
    "(n_chains, n_steps, n_params)"
   ]
  },
  {
   "cell_type": "code",
   "execution_count": null,
   "id": "5eaecb73-0ddc-4332-a382-97280a98b6f0",
   "metadata": {},
   "outputs": [],
   "source": [
    "def draw_samples(x, low_cut=None, high_cut=None, n_samples=None):\n",
    "    chains, steps, n_params = x.shape\n",
    "    if low_cut is None:\n",
    "        low_cut = 0\n",
    "    if high_cut is None:\n",
    "        high_cut = steps - 1\n",
    "    samples = x[:, low_cut:high_cut, ...].reshape(\n",
    "        (chains * (high_cut - low_cut), n_params)\n",
    "    )\n",
    "    if n_samples is None:\n",
    "        return samples\n",
    "    else:\n",
    "        return samples[\n",
    "            np.random.choice(np.arange(chains * (high_cut - low_cut)), n_samples), ...\n",
    "        ]"
   ]
  },
  {
   "cell_type": "code",
   "execution_count": null,
   "id": "0b17906c-f744-4c00-86fb-dca20650e841",
   "metadata": {},
   "outputs": [],
   "source": [
    "posterior = draw_samples(results_full[\"model_chains\"], n_samples=1000)"
   ]
  },
  {
   "cell_type": "code",
   "execution_count": null,
   "id": "039da0df-ff0d-45a2-8bb1-b632214528dd",
   "metadata": {},
   "outputs": [],
   "source": [
    "yth_nn = []\n",
    "for entry_id, obs in tqdm(nn_elastic_obs.items()):\n",
    "    for x in obs:\n",
    "        yth_nn.append(\n",
    "            np.array(\n",
    "                [\n",
    "                    nn_model.visualizable_model_prediction(x, *p)\n",
    "                    for p in posterior\n",
    "                ]\n",
    "            )\n",
    "        )"
   ]
  },
  {
   "cell_type": "code",
   "execution_count": null,
   "id": "a4b83171-957b-4e2b-b5f2-2a9f20b45196",
   "metadata": {},
   "outputs": [],
   "source": [
    "yth_pp = []\n",
    "for entry_id, obs in tqdm(pp_elastic_obs.items()):\n",
    "    for x in obs:\n",
    "        yth_pp.append(\n",
    "            np.array(\n",
    "                [\n",
    "                    pp_model.visualizable_model_prediction(x, *p)\n",
    "                    for p in posterior\n",
    "                ]\n",
    "            )\n",
    "        )"
   ]
  },
  {
   "cell_type": "markdown",
   "id": "39724459-58a9-4573-9c28-041eb8808123",
   "metadata": {},
   "source": [
    "## write posterior predictive distributions to disk"
   ]
  },
  {
   "cell_type": "code",
   "execution_count": null,
   "id": "56e34a36-e150-4c89-9aa6-006ea11083b8",
   "metadata": {},
   "outputs": [],
   "source": [
    "with open(output_dir / \"nn_chuq_cal.pkl\", \"wb\") as f:\n",
    "    pickle.dump(yth_nn, f)"
   ]
  },
  {
   "cell_type": "code",
   "execution_count": null,
   "id": "26b2b126-0c38-41cf-810f-d63406d06c15",
   "metadata": {},
   "outputs": [],
   "source": [
    "with open(output_dir / \"pp_chuq_cal.pkl\", \"wb\") as f:\n",
    "    pickle.dump(yth_pp, f)"
   ]
  },
  {
   "cell_type": "code",
   "execution_count": null,
   "id": "71de2c24-c886-4e12-8957-4f0933b28ed4",
   "metadata": {},
   "outputs": [],
   "source": []
  }
 ],
 "metadata": {
  "kernelspec": {
   "display_name": "Python 3 (ipykernel)",
   "language": "python",
   "name": "python3"
  },
  "language_info": {
   "codemirror_mode": {
    "name": "ipython",
    "version": 3
   },
   "file_extension": ".py",
   "mimetype": "text/x-python",
   "name": "python",
   "nbconvert_exporter": "python",
   "pygments_lexer": "ipython3",
   "version": "3.13.3"
  }
 },
 "nbformat": 4,
 "nbformat_minor": 5
}
