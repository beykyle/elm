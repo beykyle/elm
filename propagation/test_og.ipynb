{
 "cells": [
  {
   "cell_type": "code",
   "execution_count": null,
   "id": "7e0a5fdb-582a-4d18-8991-ccc85e57eb0e",
   "metadata": {},
   "outputs": [],
   "source": []
  },
  {
   "cell_type": "markdown",
   "id": "b1947895-7f76-4236-90ae-c449e7a27aaf",
   "metadata": {},
   "source": [
    "## Take a look at samples from a previous calibration"
   ]
  },
  {
   "cell_type": "code",
   "execution_count": 42,
   "id": "886ec6ab-05ad-45e6-a79c-8fdc3ecbc7ff",
   "metadata": {},
   "outputs": [],
   "source": [
    "good_samples = np.concatenate(\n",
    "    [np.load(\"/home/beyerk/db/chex_calibration/results/noqe_cal_sample.npy\")]\n",
    ")\n",
    "mask= np.ones(15, dtype=bool)\n",
    "mask[6] = False\n",
    "good_starting_point = np.mean(good_samples[:, mask], axis=0)\n",
    "good_ssample_stdev = np.std(good_samples[:, mask], axis=0)"
   ]
  },
  {
   "cell_type": "code",
   "execution_count": 43,
   "id": "ea7b28a8-86a5-49d2-a11c-7747fd553931",
   "metadata": {},
   "outputs": [],
   "source": [
    "good_starting_point[6:8] *= good_starting_point[0]"
   ]
  },
  {
   "cell_type": "code",
   "execution_count": 44,
   "id": "985bc07e-2981-4fe6-ac8f-493e85c2247e",
   "metadata": {},
   "outputs": [],
   "source": [
    "good_ssample_stdev[6:8] *= good_starting_point[0]"
   ]
  },
  {
   "cell_type": "code",
   "execution_count": 45,
   "id": "84f4410a-9158-41b9-b0dd-1f1872011a69",
   "metadata": {},
   "outputs": [
    {
     "name": "stdout",
     "output_type": "stream",
     "text": [
      "V0        : 54.82     prior: 56.19  bounds: (30, 80)\n",
      "W0        : 11.18     prior: 9.92  bounds: (0, 30)\n",
      "Wd0       : 28.86     prior: 10.59  bounds: (20, 50)\n",
      "V1        : 20.08     prior: 13.82  bounds: (0, 60)\n",
      "W1        : 10.29     prior: 0.00  bounds: (-10, 60)\n",
      "Wd1       : 18.35     prior: 27.09  bounds: (-10, 60)\n",
      "alpha     : -0.30     prior: -0.36  bounds: (-0.4, -0.3)\n",
      "beta      : -0.00     prior: -0.00  bounds: (-0.01, 0.01)\n",
      "gamma_w   : 44.83     prior: 20.00  bounds: (10, 60)\n",
      "gamma_d   : 26.99     prior: 50.00  bounds: (10, 60)\n",
      "r0A       : 1.20     prior: 1.20  bounds: (0.9, 1.5)\n",
      "r1A       : 1.40     prior: 1.20  bounds: (0.9, 1.5)\n",
      "a0        : 0.69     prior: 0.73  bounds: (0.4, 1.0)\n",
      "a1        : 0.51     prior: 0.73  bounds: (0.4, 1.0)\n"
     ]
    }
   ],
   "source": [
    "for p, x0, p0 in zip(elm.params, good_starting_point, mean):\n",
    "    print(f\"{p.name:10}: {x0:1.2f}     prior: {p0:1.2f}  bounds: {p.bounds}\")"
   ]
  },
  {
   "cell_type": "code",
   "execution_count": 46,
   "id": "07bf87c2-0a16-48c9-9879-da438131974a",
   "metadata": {},
   "outputs": [],
   "source": [
    "projectile = (1,1)\n",
    "target = (208,82)"
   ]
  },
  {
   "cell_type": "code",
   "execution_count": 47,
   "id": "add7d122-fc8b-4a17-aafe-dcc1aec33999",
   "metadata": {},
   "outputs": [],
   "source": [
    "(centr_isosc, centr_isov, so_isosc, so_isov, coul, asym) = elm.calculate_parameters(\n",
    "   projectile, target, 11.9, 0, *good_starting_point\n",
    ")"
   ]
  },
  {
   "cell_type": "code",
   "execution_count": 48,
   "id": "d4a2186c-5bd8-48e4-9d6c-8c6e9cddbe8a",
   "metadata": {},
   "outputs": [],
   "source": [
    "from elm import model_form"
   ]
  },
  {
   "cell_type": "code",
   "execution_count": 49,
   "id": "ec3d8508-f1ac-4aaa-b6ec-f86189e3566a",
   "metadata": {},
   "outputs": [],
   "source": [
    "from elm import elm_og"
   ]
  },
  {
   "cell_type": "code",
   "execution_count": 50,
   "id": "73906d01-405c-4fc1-a543-46d76a539652",
   "metadata": {},
   "outputs": [],
   "source": [
    "(centr_isosc_og, centr_isov_og, so_og, coul_og, asym_og) = elm_og.el_model_params(\n",
    "    projectile, *target, 11.9, np.mean(good_samples, axis=0)\n",
    ")"
   ]
  },
  {
   "cell_type": "code",
   "execution_count": 51,
   "id": "e0f24e98-7ab6-497a-b2bb-40cf80b0ada9",
   "metadata": {},
   "outputs": [
    {
     "data": {
      "text/plain": [
       "(5.58, np.float64(7.129752821626306), np.float64(0.6879353900729821))"
      ]
     },
     "execution_count": 51,
     "metadata": {},
     "output_type": "execute_result"
    }
   ],
   "source": [
    "so_og"
   ]
  },
  {
   "cell_type": "code",
   "execution_count": 52,
   "id": "fe67ee91-acd5-4901-a090-1610ffd71f81",
   "metadata": {},
   "outputs": [],
   "source": [
    "from matplotlib import pyplot as plt"
   ]
  },
  {
   "cell_type": "code",
   "execution_count": 53,
   "id": "171ed228-9075-4227-9e8d-9eb34c0040d4",
   "metadata": {},
   "outputs": [
    {
     "name": "stderr",
     "output_type": "stream",
     "text": [
      "/home/beyerk/Projects/jitr/src/jitr/optical_potentials/potential_forms.py:56: RuntimeWarning: divide by zero encountered in divide\n",
      "  y = 1.0 / r\n",
      "/home/beyerk/Projects/elm/src/elm/model_form.py:19: RuntimeWarning: invalid value encountered in multiply\n",
      "  return (Vso + 1j * Wso) / WAVENUMBER_PION ** 2 * thomas_safe(r, R, a)\n"
     ]
    }
   ],
   "source": [
    "r = np.linspace(0, 10, 100)\n",
    "vc = model_form.central(r,  asym, centr_isosc, centr_isov)\n",
    "vso = model_form.spin_orbit(r, asym, so_isosc, so_isov)"
   ]
  },
  {
   "cell_type": "code",
   "execution_count": 54,
   "id": "8754df4c-ef86-4bca-8e3f-2fc529a69301",
   "metadata": {},
   "outputs": [],
   "source": [
    "vc_og = elm_og.elm_spin_scalar(r, projectile, asym_og, centr_isosc_og, centr_isov_og)\n",
    "vso_og = elm_og.elm_so(r, *so_og)"
   ]
  },
  {
   "cell_type": "code",
   "execution_count": 55,
   "id": "52bfc8d3-9ec1-4bb9-a798-ed5718ba2c66",
   "metadata": {},
   "outputs": [
    {
     "data": {
      "text/plain": [
       "<matplotlib.legend.Legend at 0x7f578d4cd910>"
      ]
     },
     "execution_count": 55,
     "metadata": {},
     "output_type": "execute_result"
    },
    {
     "data": {
      "image/png": "[encoded data removed]",
      "text/plain": [
       "<Figure size 640x480 with 1 Axes>"
      ]
     },
     "metadata": {},
     "output_type": "display_data"
    }
   ],
   "source": [
    "p, = plt.plot(r, vc.real)\n",
    "plt.plot(r, vc.imag, \":\", color=p.get_color())\n",
    "p, = plt.plot(r, vc_og.real, label=\"OG\")\n",
    "plt.plot(r, vc_og.imag, \":\", color=p.get_color())\n",
    "plt.legend()"
   ]
  },
  {
   "cell_type": "code",
   "execution_count": 56,
   "id": "5e1a959a-e7c4-46f9-9c9f-cc6b3bfb8995",
   "metadata": {},
   "outputs": [
    {
     "data": {
      "text/plain": [
       "<matplotlib.legend.Legend at 0x7f578cf5f450>"
      ]
     },
     "execution_count": 56,
     "metadata": {},
     "output_type": "execute_result"
    },
    {
     "data": {
      "image/png": "[encoded data removed]",
      "text/plain": [
       "<Figure size 640x480 with 1 Axes>"
      ]
     },
     "metadata": {},
     "output_type": "display_data"
    }
   ],
   "source": [
    "p, = plt.plot(r, vso.real)\n",
    "plt.plot(r, vso.imag, \":\", color=p.get_color())\n",
    "p, = plt.plot(r, vso_og.real, label=\"OG\")\n",
    "plt.plot(r, vso_og.imag, \":\", color=p.get_color())\n",
    "plt.legend()"
   ]
  },
  {
   "cell_type": "code",
   "execution_count": 57,
   "id": "99532ceb-6e4f-4ece-a7ca-4f30bf9e1b95",
   "metadata": {},
   "outputs": [
    {
     "data": {
      "text/plain": [
       "(np.float64(51.220740157168215),\n",
       " np.float64(0.7357857271352961),\n",
       " np.float64(3.021951060696157),\n",
       " np.float64(7.129752821626309),\n",
       " np.float64(0.6879353900729811),\n",
       " np.float64(7.129752821626309),\n",
       " np.float64(0.6879353900729811))"
      ]
     },
     "execution_count": 57,
     "metadata": {},
     "output_type": "execute_result"
    }
   ],
   "source": [
    "centr_isosc"
   ]
  },
  {
   "cell_type": "code",
   "execution_count": 58,
   "id": "749c0d3f-d03f-41b7-8ee8-7a4a30104623",
   "metadata": {},
   "outputs": [
    {
     "data": {
      "text/plain": [
       "(np.float64(18.762824017383497),\n",
       " np.float64(0.677079805825894),\n",
       " np.float64(1.9214435221022446),\n",
       " np.float64(8.31306430869349),\n",
       " np.float64(0.5068281135880842),\n",
       " np.float64(8.31306430869349),\n",
       " np.float64(0.5068281135880842))"
      ]
     },
     "execution_count": 58,
     "metadata": {},
     "output_type": "execute_result"
    }
   ],
   "source": [
    "centr_isov"
   ]
  },
  {
   "cell_type": "code",
   "execution_count": 59,
   "id": "20b0cbe2-8c9a-45fb-9107-3033a68bf223",
   "metadata": {},
   "outputs": [
    {
     "data": {
      "text/plain": [
       "(np.float64(18.762824017383508),\n",
       " np.float64(0.6770798058258877),\n",
       " np.float64(1.9214435221022463),\n",
       " np.float64(8.313064308693487),\n",
       " np.float64(0.506828113588085))"
      ]
     },
     "execution_count": 59,
     "metadata": {},
     "output_type": "execute_result"
    }
   ],
   "source": [
    "centr_isov_og"
   ]
  },
  {
   "cell_type": "code",
   "execution_count": 65,
   "id": "e0824c53-12d4-448f-bfa5-cf858c232084",
   "metadata": {},
   "outputs": [
    {
     "data": {
      "text/plain": [
       "0.21153846153846154"
      ]
     },
     "execution_count": 65,
     "metadata": {},
     "output_type": "execute_result"
    }
   ],
   "source": [
    "asym_og"
   ]
  },
  {
   "cell_type": "code",
   "execution_count": 66,
   "id": "7b5e0419-91e7-4662-bf3d-8f8b354e4b6a",
   "metadata": {},
   "outputs": [
    {
     "data": {
      "text/plain": [
       "0.21153846153846154"
      ]
     },
     "execution_count": 66,
     "metadata": {},
     "output_type": "execute_result"
    }
   ],
   "source": [
    "asym"
   ]
  },
  {
   "cell_type": "code",
   "execution_count": null,
   "id": "55858306-826f-4278-a33d-30743d0e3709",
   "metadata": {},
   "outputs": [],
   "source": []
  },
  {
   "cell_type": "code",
   "execution_count": null,
   "id": "6b6d85ef-9739-4fdb-a792-b71dc88f4252",
   "metadata": {},
   "outputs": [],
   "source": []
  }
 ],
 "metadata": {
  "kernelspec": {
   "display_name": "Python 3 (ipykernel)",
   "language": "python",
   "name": "python3"
  },
  "language_info": {
   "codemirror_mode": {
    "name": "ipython",
    "version": 3
   },
   "file_extension": ".py",
   "mimetype": "text/x-python",
   "name": "python",
   "nbconvert_exporter": "python",
   "pygments_lexer": "ipython3",
   "version": "3.11.9"
  }
 },
 "nbformat": 4,
 "nbformat_minor": 5
}
