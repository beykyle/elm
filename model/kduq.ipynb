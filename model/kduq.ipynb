{
 "cells": [
  {
   "cell_type": "markdown",
   "id": "67372590-b12a-4ded-b0a5-76dfe400f39c",
   "metadata": {},
   "source": [
    "# Setting up KDUQ physical models for comparison to ELM"
   ]
  },
  {
   "cell_type": "code",
   "execution_count": 1,
   "id": "1362c3f0-8736-4bd2-a45d-cc3040b83831",
   "metadata": {},
   "outputs": [
    {
     "name": "stdout",
     "output_type": "stream",
     "text": [
      "Using database version X4-2024-12-31 located in: /home/beyerk/db/exfor/unpack_exfor-2024/X4-2024-12-31\n"
     ]
    }
   ],
   "source": [
    "import pickle\n",
    "\n",
    "import dill\n",
    "import rxmc\n",
    "from jitr.optical_potentials import kduq"
   ]
  },
  {
   "cell_type": "code",
   "execution_count": 2,
   "id": "5d894492-1adf-4768-a00e-20da3456836a",
   "metadata": {},
   "outputs": [],
   "source": [
    "def kduq_nn(ws, *x):\n",
    "    _, centr, spin_orb = kduq.calculate_params(\n",
    "        ws.reaction.projectile,\n",
    "        ws.reaction.target,\n",
    "        ws.kinematics.Elab,\n",
    "        *x,\n",
    "    )\n",
    "    return centr, spin_orb\n",
    "\n",
    "\n",
    "def kduq_pp(ws, *x):\n",
    "    coul, centr, spin_orb = kduq.calculate_params(\n",
    "        ws.reaction.projectile,\n",
    "        ws.reaction.target,\n",
    "        ws.kinematics.Elab,\n",
    "        *x,\n",
    "    )\n",
    "    return (centr, coul), spin_orb"
   ]
  },
  {
   "cell_type": "code",
   "execution_count": 3,
   "id": "249b9ed0-0729-4e28-9ceb-c148913990cd",
   "metadata": {},
   "outputs": [],
   "source": [
    "nn_model = rxmc.elastic_diffxs_model.ElasticDifferentialXSModel(\n",
    "    \"dXS/dA\",\n",
    "    kduq.central,\n",
    "    kduq.spin_orbit,\n",
    "    kduq_nn,\n",
    "    \"KDUQ (n,n)\",\n",
    ")\n",
    "pp_model = rxmc.elastic_diffxs_model.ElasticDifferentialXSModel(\n",
    "    \"dXS/dRuth\",\n",
    "    kduq.central_plus_coulomb,\n",
    "    kduq.spin_orbit,\n",
    "    kduq_pp,\n",
    "    \"KDUQ (p,p)\",\n",
    ")"
   ]
  },
  {
   "cell_type": "code",
   "execution_count": 4,
   "id": "1987a46a-6a3f-4318-8417-d0f98c644cb0",
   "metadata": {},
   "outputs": [],
   "source": [
    "with open(\"./kduq_nn_model.pkl\", \"wb\") as f:\n",
    "    dill.dump(nn_model, f)\n",
    "with open(\"./kduq_pp_model.pkl\", \"wb\") as f:\n",
    "    dill.dump(pp_model, f)"
   ]
  }
 ],
 "metadata": {
  "kernelspec": {
   "display_name": "Python 3 (ipykernel)",
   "language": "python",
   "name": "python3"
  },
  "language_info": {
   "codemirror_mode": {
    "name": "ipython",
    "version": 3
   },
   "file_extension": ".py",
   "mimetype": "text/x-python",
   "name": "python",
   "nbconvert_exporter": "python",
   "pygments_lexer": "ipython3",
   "version": "3.11.9"
  }
 },
 "nbformat": 4,
 "nbformat_minor": 5
}
