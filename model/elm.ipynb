{
 "cells": [
  {
   "cell_type": "markdown",
   "id": "67372590-b12a-4ded-b0a5-76dfe400f39c",
   "metadata": {},
   "source": [
    "# Setting up ELM physical models for calibration"
   ]
  },
  {
   "cell_type": "code",
   "execution_count": 1,
   "id": "1362c3f0-8736-4bd2-a45d-cc3040b83831",
   "metadata": {},
   "outputs": [
    {
     "name": "stdout",
     "output_type": "stream",
     "text": [
      "Using database version X4-2024-12-31 located in: /home/kyle/db/exfor/unpack_exfor-2024/X4-2024-12-31\n"
     ]
    }
   ],
   "source": [
    "import pickle\n",
    "\n",
    "import dill\n",
    "import rxmc\n",
    "\n",
    "import elm"
   ]
  },
  {
   "cell_type": "code",
   "execution_count": 2,
   "id": "249b9ed0-0729-4e28-9ceb-c148913990cd",
   "metadata": {},
   "outputs": [],
   "source": [
    "nn_model = rxmc.elastic_diffxs_model.ElasticDifferentialXSModel(\n",
    "    \"dXS/dA\",\n",
    "    elm.model_form.central_plus_coulomb,\n",
    "    elm.model_form.spin_orbit,\n",
    "    elm.xs.elm_elastic,\n",
    "    elm.params,\n",
    "    \"ELM (n,n)\",\n",
    ")\n",
    "pp_model = rxmc.elastic_diffxs_model.ElasticDifferentialXSModel(\n",
    "    \"dXS/dRuth\",\n",
    "    elm.model_form.central_plus_coulomb,\n",
    "    elm.model_form.spin_orbit,\n",
    "    elm.xs.elm_elastic,\n",
    "    elm.params,\n",
    "    \"ELM (p,p)\",\n",
    ")"
   ]
  },
  {
   "cell_type": "code",
   "execution_count": 3,
   "id": "1987a46a-6a3f-4318-8417-d0f98c644cb0",
   "metadata": {},
   "outputs": [],
   "source": [
    "with open(\"./elm_nn_model.pkl\", \"wb\") as f:\n",
    "    dill.dump(nn_model, f)\n",
    "with open(\"./elm_pp_model.pkl\", \"wb\") as f:\n",
    "    dill.dump(pp_model, f)"
   ]
  }
 ],
 "metadata": {
  "kernelspec": {
   "display_name": "Python 3 (ipykernel)",
   "language": "python",
   "name": "python3"
  },
  "language_info": {
   "codemirror_mode": {
    "name": "ipython",
    "version": 3
   },
   "file_extension": ".py",
   "mimetype": "text/x-python",
   "name": "python",
   "nbconvert_exporter": "python",
   "pygments_lexer": "ipython3",
   "version": "3.10.13"
  }
 },
 "nbformat": 4,
 "nbformat_minor": 5
}
