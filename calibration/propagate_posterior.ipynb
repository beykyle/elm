{
 "cells": [
  {
   "cell_type": "code",
   "execution_count": 1,
   "id": "6c38824c-cb69-4561-9f07-9f6b3fe169ac",
   "metadata": {},
   "outputs": [],
   "source": [
    "import pickle\n",
    "from collections import OrderedDict\n",
    "from pathlib import Path\n",
    "\n",
    "import numpy as np\n",
    "from matplotlib import pyplot as plt\n",
    "from periodictable import elements\n",
    "from tqdm import tqdm"
   ]
  },
  {
   "cell_type": "code",
   "execution_count": 2,
   "id": "22a9ad00-d3fc-45c0-a348-3921e515520d",
   "metadata": {},
   "outputs": [
    {
     "name": "stdout",
     "output_type": "stream",
     "text": [
      "Using database version X4-2024-12-31 located in: /home/beyerk/db/exfor/unpack_exfor-2024/X4-2024-12-31\n"
     ]
    }
   ],
   "source": [
    "from exfor_tools.distribution import AngularDistribution"
   ]
  },
  {
   "cell_type": "code",
   "execution_count": 3,
   "id": "57172f8d-9af1-41cc-abbc-7c89cd166558",
   "metadata": {},
   "outputs": [],
   "source": [
    "from jitr.optical_potentials import kduq, wlh"
   ]
  },
  {
   "cell_type": "code",
   "execution_count": 4,
   "id": "ab92d287-4cd5-40e3-8889-a655c511adb7",
   "metadata": {},
   "outputs": [],
   "source": [
    "import rxmc"
   ]
  },
  {
   "cell_type": "code",
   "execution_count": 5,
   "id": "7a7efd0a-e8b9-4999-b0b8-cbef94b4ad42",
   "metadata": {},
   "outputs": [],
   "source": [
    "import elm"
   ]
  },
  {
   "cell_type": "code",
   "execution_count": 6,
   "id": "d736d70b-ff0b-4748-b354-a80358572a2d",
   "metadata": {},
   "outputs": [],
   "source": [
    "results_dir = Path(\"./simple_so_no_intercept\")"
   ]
  },
  {
   "cell_type": "code",
   "execution_count": 7,
   "id": "2c66da99-d112-4f80-8ef9-afcf996859d8",
   "metadata": {},
   "outputs": [],
   "source": [
    "neutron = (1, 0)\n",
    "proton = (1, 1)"
   ]
  },
  {
   "cell_type": "markdown",
   "id": "c80298f1-a9d7-414b-840d-b9d7213dfb74",
   "metadata": {},
   "source": [
    "## Read in samples"
   ]
  },
  {
   "cell_type": "code",
   "execution_count": 8,
   "id": "fc7a9fef-17ce-4971-9028-4c7fb9c16286",
   "metadata": {},
   "outputs": [],
   "source": [
    "def draw_samples(chains, draws, burn):\n",
    "    return chains[:, burn:, :].reshape(\n",
    "        chains.shape[0] * (chains.shape[1] - burn), chains.shape[2]\n",
    "    )[np.random.choice(chains.shape[0] * (chains.shape[1] - burn), draws), :]"
   ]
  },
  {
   "cell_type": "markdown",
   "id": "481b4d9a-f74a-4a2f-be35-1fd81bf08404",
   "metadata": {},
   "source": [
    "## read in corpora that we used for calibration"
   ]
  },
  {
   "cell_type": "code",
   "execution_count": 9,
   "id": "e648f854-cf15-4856-826c-a5281aee6ba4",
   "metadata": {},
   "outputs": [],
   "source": [
    "with open(\"./nn_corpus.pkl\", \"rb\") as f:\n",
    "    nn_corpus = pickle.load(f)\n",
    "with open(\"./pp_corpus.pkl\", \"rb\") as f:\n",
    "    pp_corpus = pickle.load(f)"
   ]
  },
  {
   "cell_type": "code",
   "execution_count": 10,
   "id": "df92cb09-4542-4e99-b052-31cded19ea42",
   "metadata": {},
   "outputs": [],
   "source": [
    "posterior_samples = rxmc.params.array_to_list(\n",
    "    draw_samples(np.load(results_dir / \"all_chains.npy\"), 1000, 10000), nn_corpus.params\n",
    ")"
   ]
  },
  {
   "cell_type": "markdown",
   "id": "8215260d-d1b3-4f06-a887-834db4f8a71b",
   "metadata": {},
   "source": [
    "## Propagate ELM prior into constraint observables"
   ]
  },
  {
   "cell_type": "code",
   "execution_count": 11,
   "id": "6ee0eee2-2478-488f-a09d-e1b6ada7d4d4",
   "metadata": {},
   "outputs": [
    {
     "name": "stderr",
     "output_type": "stream",
     "text": [
      "100%|███████████████████████████████████████████████████████████████| 65/65 [02:20<00:00,  2.16s/it]\n"
     ]
    }
   ],
   "source": [
    "yth_nn = []\n",
    "for i, constraint in enumerate(tqdm(nn_corpus.constraints)):\n",
    "    yth_nn.append(np.vstack([constraint.model(p) for p in posterior_samples]))"
   ]
  },
  {
   "cell_type": "code",
   "execution_count": 12,
   "id": "f2aba072-76fe-4cfe-89a0-3e1674136b0e",
   "metadata": {},
   "outputs": [
    {
     "name": "stderr",
     "output_type": "stream",
     "text": [
      "100%|█████████████████████████████████████████████████████████████| 160/160 [05:24<00:00,  2.03s/it]\n"
     ]
    }
   ],
   "source": [
    "yth_pp = []\n",
    "for i, constraint in enumerate(tqdm(pp_corpus.constraints)):\n",
    "    yth_pp.append(np.vstack([constraint.model(p) for p in posterior_samples]))"
   ]
  },
  {
   "cell_type": "markdown",
   "id": "f4b0581d-f651-4d1c-b4ce-534dcb289f29",
   "metadata": {},
   "source": [
    "## Write posterior predictive distributions to disk"
   ]
  },
  {
   "cell_type": "code",
   "execution_count": 13,
   "id": "4c1c022c-532f-424a-a3ed-df0c4179eb17",
   "metadata": {},
   "outputs": [],
   "source": [
    "with open(results_dir / \"nn_elm_prior_predictive.pkl\", \"wb\") as f:\n",
    "    pickle.dump(yth_nn, f)"
   ]
  },
  {
   "cell_type": "code",
   "execution_count": 14,
   "id": "55031bd9-5ec3-49b8-9455-eb676733b3a6",
   "metadata": {},
   "outputs": [],
   "source": [
    "with open(results_dir / \"pp_elm_prior_predictive.pkl\", \"wb\") as f:\n",
    "    pickle.dump(yth_pp, f)"
   ]
  }
 ],
 "metadata": {
  "kernelspec": {
   "display_name": "Python 3 (ipykernel)",
   "language": "python",
   "name": "python3"
  },
  "language_info": {
   "codemirror_mode": {
    "name": "ipython",
    "version": 3
   },
   "file_extension": ".py",
   "mimetype": "text/x-python",
   "name": "python",
   "nbconvert_exporter": "python",
   "pygments_lexer": "ipython3",
   "version": "3.11.9"
  }
 },
 "nbformat": 4,
 "nbformat_minor": 5
}
