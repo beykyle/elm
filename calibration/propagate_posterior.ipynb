{
 "cells": [
  {
   "cell_type": "code",
   "execution_count": 7,
   "id": "6c38824c-cb69-4561-9f07-9f6b3fe169ac",
   "metadata": {},
   "outputs": [],
   "source": [
    "import pickle\n",
    "from collections import OrderedDict\n",
    "from pathlib import Path\n",
    "\n",
    "import numpy as np\n",
    "from matplotlib import pyplot as plt\n",
    "from periodictable import elements\n",
    "from tqdm import tqdm"
   ]
  },
  {
   "cell_type": "code",
   "execution_count": 8,
   "id": "22a9ad00-d3fc-45c0-a348-3921e515520d",
   "metadata": {},
   "outputs": [],
   "source": [
    "from exfor_tools.distribution import AngularDistribution"
   ]
  },
  {
   "cell_type": "code",
   "execution_count": 9,
   "id": "57172f8d-9af1-41cc-abbc-7c89cd166558",
   "metadata": {},
   "outputs": [],
   "source": [
    "from jitr.optical_potentials import kduq, wlh"
   ]
  },
  {
   "cell_type": "code",
   "execution_count": 10,
   "id": "ab92d287-4cd5-40e3-8889-a655c511adb7",
   "metadata": {},
   "outputs": [],
   "source": [
    "import rxmc"
   ]
  },
  {
   "cell_type": "code",
   "execution_count": 11,
   "id": "7a7efd0a-e8b9-4999-b0b8-cbef94b4ad42",
   "metadata": {},
   "outputs": [],
   "source": [
    "import elm"
   ]
  },
  {
   "cell_type": "code",
   "execution_count": 22,
   "id": "d736d70b-ff0b-4748-b354-a80358572a2d",
   "metadata": {},
   "outputs": [],
   "source": [
    "results_dir = Path(\"./simple_so_no_intercept\")"
   ]
  },
  {
   "cell_type": "code",
   "execution_count": 23,
   "id": "2c66da99-d112-4f80-8ef9-afcf996859d8",
   "metadata": {},
   "outputs": [],
   "source": [
    "neutron = (1, 0)\n",
    "proton = (1, 1)"
   ]
  },
  {
   "cell_type": "markdown",
   "id": "c80298f1-a9d7-414b-840d-b9d7213dfb74",
   "metadata": {},
   "source": [
    "## Read in samples"
   ]
  },
  {
   "cell_type": "code",
   "execution_count": 20,
   "id": "fc7a9fef-17ce-4971-9028-4c7fb9c16286",
   "metadata": {},
   "outputs": [],
   "source": [
    "def draw_samples(chains, draws, burn):\n",
    "    return chains[:, burn:, :].reshape(\n",
    "        chains.shape[0] * (chains.shape[1] - burn), chains.shape[2]\n",
    "    )[np.random.choice(chains.shape[0] * (chains.shape[1] - burn), draws), :]"
   ]
  },
  {
   "cell_type": "code",
   "execution_count": 24,
   "id": "df92cb09-4542-4e99-b052-31cded19ea42",
   "metadata": {},
   "outputs": [],
   "source": [
    "posterior_samples = draw_samples(np.load(results_dir / \"all_chains.npy\"), 1000, 10000)"
   ]
  },
  {
   "cell_type": "markdown",
   "id": "481b4d9a-f74a-4a2f-be35-1fd81bf08404",
   "metadata": {},
   "source": [
    "## read in corpora"
   ]
  },
  {
   "cell_type": "code",
   "execution_count": 25,
   "id": "e648f854-cf15-4856-826c-a5281aee6ba4",
   "metadata": {},
   "outputs": [
    {
     "ename": "ModuleNotFoundError",
     "evalue": "No module named 'elm.corpus'",
     "output_type": "error",
     "traceback": [
      "\u001b[0;31m---------------------------------------------------------------------------\u001b[0m",
      "\u001b[0;31mModuleNotFoundError\u001b[0m                       Traceback (most recent call last)",
      "Cell \u001b[0;32mIn[25], line 2\u001b[0m\n\u001b[1;32m      1\u001b[0m \u001b[38;5;28;01mwith\u001b[39;00m \u001b[38;5;28mopen\u001b[39m(\u001b[38;5;124m\"\u001b[39m\u001b[38;5;124m./combined_elastic_corpus.pkl\u001b[39m\u001b[38;5;124m\"\u001b[39m, \u001b[38;5;124m\"\u001b[39m\u001b[38;5;124mrb\u001b[39m\u001b[38;5;124m\"\u001b[39m) \u001b[38;5;28;01mas\u001b[39;00m f:\n\u001b[0;32m----> 2\u001b[0m     corpus \u001b[38;5;241m=\u001b[39m \u001b[43mpickle\u001b[49m\u001b[38;5;241;43m.\u001b[39;49m\u001b[43mload\u001b[49m\u001b[43m(\u001b[49m\u001b[43mf\u001b[49m\u001b[43m)\u001b[49m\n",
      "\u001b[0;31mModuleNotFoundError\u001b[0m: No module named 'elm.corpus'"
     ]
    }
   ],
   "source": [
    "with open(\"./combined_elastic_corpus.pkl\", \"rb\") as f:\n",
    "    corpus = pickle.load(f)"
   ]
  },
  {
   "cell_type": "markdown",
   "id": "8215260d-d1b3-4f06-a887-834db4f8a71b",
   "metadata": {},
   "source": [
    "## Propagate ELM prior into constraint observables"
   ]
  },
  {
   "cell_type": "code",
   "execution_count": 14,
   "id": "f2aba072-76fe-4cfe-89a0-3e1674136b0e",
   "metadata": {},
   "outputs": [
    {
     "name": "stderr",
     "output_type": "stream",
     "text": [
      "  0%|                                                                                                                                     | 0/2 [00:00<?, ?it/s]\n"
     ]
    },
    {
     "ename": "AttributeError",
     "evalue": "'ElasticAngularCorpus' object has no attribute 'model'",
     "output_type": "error",
     "traceback": [
      "\u001b[0;31m---------------------------------------------------------------------------\u001b[0m",
      "\u001b[0;31mAttributeError\u001b[0m                            Traceback (most recent call last)",
      "Cell \u001b[0;32mIn[14], line 3\u001b[0m\n\u001b[1;32m      1\u001b[0m yth_nn \u001b[38;5;241m=\u001b[39m []\n\u001b[1;32m      2\u001b[0m \u001b[38;5;28;01mfor\u001b[39;00m i, constraint \u001b[38;5;129;01min\u001b[39;00m \u001b[38;5;28menumerate\u001b[39m(tqdm(corpus\u001b[38;5;241m.\u001b[39mconstraints)):\n\u001b[0;32m----> 3\u001b[0m     yth_nn\u001b[38;5;241m.\u001b[39mappend(np\u001b[38;5;241m.\u001b[39mvstack([constraint\u001b[38;5;241m.\u001b[39mmodel(p) \u001b[38;5;28;01mfor\u001b[39;00m p \u001b[38;5;129;01min\u001b[39;00m posterior_samples]))\n",
      "Cell \u001b[0;32mIn[14], line 3\u001b[0m, in \u001b[0;36m<listcomp>\u001b[0;34m(.0)\u001b[0m\n\u001b[1;32m      1\u001b[0m yth_nn \u001b[38;5;241m=\u001b[39m []\n\u001b[1;32m      2\u001b[0m \u001b[38;5;28;01mfor\u001b[39;00m i, constraint \u001b[38;5;129;01min\u001b[39;00m \u001b[38;5;28menumerate\u001b[39m(tqdm(corpus\u001b[38;5;241m.\u001b[39mconstraints)):\n\u001b[0;32m----> 3\u001b[0m     yth_nn\u001b[38;5;241m.\u001b[39mappend(np\u001b[38;5;241m.\u001b[39mvstack([\u001b[43mconstraint\u001b[49m\u001b[38;5;241;43m.\u001b[39;49m\u001b[43mmodel\u001b[49m(p) \u001b[38;5;28;01mfor\u001b[39;00m p \u001b[38;5;129;01min\u001b[39;00m posterior_samples]))\n",
      "\u001b[0;31mAttributeError\u001b[0m: 'ElasticAngularCorpus' object has no attribute 'model'"
     ]
    }
   ],
   "source": [
    "yth_nn = []\n",
    "for i, constraint in enumerate(tqdm(corpus.constraints)):\n",
    "    yth_nn.append(np.vstack([constraint.model(p) for p in posterior_samples]))"
   ]
  },
  {
   "cell_type": "markdown",
   "id": "f4b0581d-f651-4d1c-b4ce-534dcb289f29",
   "metadata": {},
   "source": [
    "## Write posterior predictive distributions to disk"
   ]
  },
  {
   "cell_type": "code",
   "execution_count": 15,
   "id": "4c1c022c-532f-424a-a3ed-df0c4179eb17",
   "metadata": {},
   "outputs": [
    {
     "ename": "FileNotFoundError",
     "evalue": "[Errno 2] No such file or directory: 'elm_posterior_propagation/nn_elm_prior_predictive.pkl'",
     "output_type": "error",
     "traceback": [
      "\u001b[0;31m---------------------------------------------------------------------------\u001b[0m",
      "\u001b[0;31mFileNotFoundError\u001b[0m                         Traceback (most recent call last)",
      "Cell \u001b[0;32mIn[15], line 1\u001b[0m\n\u001b[0;32m----> 1\u001b[0m \u001b[38;5;28;01mwith\u001b[39;00m \u001b[38;5;28;43mopen\u001b[39;49m\u001b[43m(\u001b[49m\u001b[43moutput_dir\u001b[49m\u001b[43m \u001b[49m\u001b[38;5;241;43m/\u001b[39;49m\u001b[43m \u001b[49m\u001b[38;5;124;43m\"\u001b[39;49m\u001b[38;5;124;43mnn_elm_prior_predictive.pkl\u001b[39;49m\u001b[38;5;124;43m\"\u001b[39;49m\u001b[43m,\u001b[49m\u001b[43m \u001b[49m\u001b[38;5;124;43m\"\u001b[39;49m\u001b[38;5;124;43mwb\u001b[39;49m\u001b[38;5;124;43m\"\u001b[39;49m\u001b[43m)\u001b[49m \u001b[38;5;28;01mas\u001b[39;00m f:\n\u001b[1;32m      2\u001b[0m     pickle\u001b[38;5;241m.\u001b[39mdump(yth_nn, f)\n",
      "File \u001b[0;32m~/mambaforge/envs/om/lib/python3.10/site-packages/IPython/core/interactiveshell.py:282\u001b[0m, in \u001b[0;36m_modified_open\u001b[0;34m(file, *args, **kwargs)\u001b[0m\n\u001b[1;32m    275\u001b[0m \u001b[38;5;28;01mif\u001b[39;00m file \u001b[38;5;129;01min\u001b[39;00m {\u001b[38;5;241m0\u001b[39m, \u001b[38;5;241m1\u001b[39m, \u001b[38;5;241m2\u001b[39m}:\n\u001b[1;32m    276\u001b[0m     \u001b[38;5;28;01mraise\u001b[39;00m \u001b[38;5;167;01mValueError\u001b[39;00m(\n\u001b[1;32m    277\u001b[0m         \u001b[38;5;124mf\u001b[39m\u001b[38;5;124m\"\u001b[39m\u001b[38;5;124mIPython won\u001b[39m\u001b[38;5;124m'\u001b[39m\u001b[38;5;124mt let you open fd=\u001b[39m\u001b[38;5;132;01m{\u001b[39;00mfile\u001b[38;5;132;01m}\u001b[39;00m\u001b[38;5;124m by default \u001b[39m\u001b[38;5;124m\"\u001b[39m\n\u001b[1;32m    278\u001b[0m         \u001b[38;5;124m\"\u001b[39m\u001b[38;5;124mas it is likely to crash IPython. If you know what you are doing, \u001b[39m\u001b[38;5;124m\"\u001b[39m\n\u001b[1;32m    279\u001b[0m         \u001b[38;5;124m\"\u001b[39m\u001b[38;5;124myou can use builtins\u001b[39m\u001b[38;5;124m'\u001b[39m\u001b[38;5;124m open.\u001b[39m\u001b[38;5;124m\"\u001b[39m\n\u001b[1;32m    280\u001b[0m     )\n\u001b[0;32m--> 282\u001b[0m \u001b[38;5;28;01mreturn\u001b[39;00m \u001b[43mio_open\u001b[49m\u001b[43m(\u001b[49m\u001b[43mfile\u001b[49m\u001b[43m,\u001b[49m\u001b[43m \u001b[49m\u001b[38;5;241;43m*\u001b[39;49m\u001b[43margs\u001b[49m\u001b[43m,\u001b[49m\u001b[43m \u001b[49m\u001b[38;5;241;43m*\u001b[39;49m\u001b[38;5;241;43m*\u001b[39;49m\u001b[43mkwargs\u001b[49m\u001b[43m)\u001b[49m\n",
      "\u001b[0;31mFileNotFoundError\u001b[0m: [Errno 2] No such file or directory: 'elm_posterior_propagation/nn_elm_prior_predictive.pkl'"
     ]
    }
   ],
   "source": [
    "with open(output_dir / \"nn_elm_prior_predictive.pkl\", \"wb\") as f:\n",
    "    pickle.dump(yth_nn, f)"
   ]
  },
  {
   "cell_type": "code",
   "execution_count": 14,
   "id": "55031bd9-5ec3-49b8-9455-eb676733b3a6",
   "metadata": {},
   "outputs": [],
   "source": [
    "with open(output_dir / \"pp_elm_prior_predictive.pkl\", \"wb\") as f:\n",
    "    pickle.dump(yth_pp, f)"
   ]
  }
 ],
 "metadata": {
  "kernelspec": {
   "display_name": "Python 3 (ipykernel)",
   "language": "python",
   "name": "python3"
  },
  "language_info": {
   "codemirror_mode": {
    "name": "ipython",
    "version": 3
   },
   "file_extension": ".py",
   "mimetype": "text/x-python",
   "name": "python",
   "nbconvert_exporter": "python",
   "pygments_lexer": "ipython3",
   "version": "3.11.9"
  }
 },
 "nbformat": 4,
 "nbformat_minor": 5
}
