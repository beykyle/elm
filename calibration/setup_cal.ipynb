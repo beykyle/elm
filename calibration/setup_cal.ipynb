{
 "cells": [
  {
   "cell_type": "code",
   "execution_count": 1,
   "id": "8644269d-816a-4370-923e-f534044d68f4",
   "metadata": {},
   "outputs": [],
   "source": [
    "import pickle\n",
    "from collections import OrderedDict\n",
    "from pathlib import Path\n",
    "\n",
    "import numpy as np"
   ]
  },
  {
   "cell_type": "code",
   "execution_count": 2,
   "id": "7979c895-379f-4cdb-9d7d-d904b3466231",
   "metadata": {},
   "outputs": [
    {
     "name": "stdout",
     "output_type": "stream",
     "text": [
      "Using database version X4-2024-12-31 located in: /home/beyerk/db/exfor/unpack_exfor-2024/X4-2024-12-31\n"
     ]
    }
   ],
   "source": [
    "import rxmc"
   ]
  },
  {
   "cell_type": "code",
   "execution_count": 3,
   "id": "c4956a11-50cf-4c6f-8b55-c2abcd305520",
   "metadata": {},
   "outputs": [],
   "source": [
    "import elm"
   ]
  },
  {
   "cell_type": "code",
   "execution_count": 4,
   "id": "0da2d111-c11d-45ed-bd78-fa53726eed99",
   "metadata": {},
   "outputs": [],
   "source": [
    "corpus_dir = Path(\"../data/corpus/\")\n",
    "output_dir = Path(\"./\")"
   ]
  },
  {
   "cell_type": "code",
   "execution_count": 5,
   "id": "64d85f81-2f22-4b7b-aaa5-9d0bbc2bed0e",
   "metadata": {},
   "outputs": [],
   "source": [
    "with open(corpus_dir / \"nn_elastic_data.pkl\", \"rb\") as f:\n",
    "    nn_elastic_data = pickle.load(f)\n",
    "with open(corpus_dir / \"pp_elastic_data.pkl\", \"rb\") as f:\n",
    "    pp_elastic_data = pickle.load(f)"
   ]
  },
  {
   "cell_type": "code",
   "execution_count": 6,
   "id": "2299782a-2244-4b6d-9c15-5bffc60f3934",
   "metadata": {},
   "outputs": [],
   "source": [
    "with open(corpus_dir / \"nn_elastic_workspaces.pkl\", \"rb\") as f:\n",
    "    nn_elastic_workspaces = pickle.load(f)\n",
    "with open(corpus_dir / \"pp_elastic_workspaces.pkl\", \"rb\") as f:\n",
    "    pp_elastic_workspaces = pickle.load(f)"
   ]
  },
  {
   "cell_type": "code",
   "execution_count": 7,
   "id": "45c52c90-d38a-4f03-b109-be1b507c0684",
   "metadata": {},
   "outputs": [],
   "source": [
    "nn_corpus = rxmc.reaction_corpus.ElasticAngularCorpus(\n",
    "    elm.elm.calculate_elastic_differential_xs,\n",
    "    [p.name for p in elm.params],\n",
    "    \"ELM\",\n",
    "    \"(n,n)\",\n",
    "    \"dXS/dA\",\n",
    "    nn_elastic_workspaces,\n",
    "    nn_elastic_data,\n",
    ")\n",
    "pp_corpus = rxmc.reaction_corpus.ElasticAngularCorpus(\n",
    "    elm.elm.calculate_elastic_differential_xs,\n",
    "    [p.name for p in elm.params],\n",
    "    \"ELM\",\n",
    "    \"(p,p)\",\n",
    "    \"dXS/dRuth\",\n",
    "    pp_elastic_workspaces,\n",
    "    pp_elastic_data,\n",
    ")"
   ]
  },
  {
   "cell_type": "code",
   "execution_count": 8,
   "id": "254cd2b5-7228-4af2-8455-60d7a8cbf78a",
   "metadata": {},
   "outputs": [],
   "source": [
    "combined_elastic_corpus = rxmc.corpus.Corpus(\n",
    "    [nn_corpus, pp_corpus],\n",
    "    [p.name for p in elm.params],\n",
    "    \"ELM\",\n",
    "    \"elastic\",\n",
    ")"
   ]
  },
  {
   "cell_type": "code",
   "execution_count": 9,
   "id": "2a7feea5-f3b5-40a4-9f45-7d240aa0dce8",
   "metadata": {},
   "outputs": [],
   "source": [
    "with open(output_dir / \"nn_corpus.pkl\", \"wb\") as f:\n",
    "    pickle.dump(nn_corpus, f)\n",
    "with open(output_dir / \"pp_corpus.pkl\", \"wb\") as f:\n",
    "    pickle.dump(pp_corpus, f)\n",
    "with open(output_dir / \"combined_elastic_corpus.pkl\", \"wb\") as f:\n",
    "    pickle.dump(combined_elastic_corpus, f)"
   ]
  }
 ],
 "metadata": {
  "kernelspec": {
   "display_name": "Python 3 (ipykernel)",
   "language": "python",
   "name": "python3"
  },
  "language_info": {
   "codemirror_mode": {
    "name": "ipython",
    "version": 3
   },
   "file_extension": ".py",
   "mimetype": "text/x-python",
   "name": "python",
   "nbconvert_exporter": "python",
   "pygments_lexer": "ipython3",
   "version": "3.11.9"
  }
 },
 "nbformat": 4,
 "nbformat_minor": 5
}
