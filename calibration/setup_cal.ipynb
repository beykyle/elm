{
 "cells": [
  {
   "cell_type": "code",
   "execution_count": 1,
   "id": "8644269d-816a-4370-923e-f534044d68f4",
   "metadata": {},
   "outputs": [],
   "source": [
    "import pickle\n",
    "from pathlib import Path\n",
    "import numpy as np\n",
    "from collections import OrderedDict"
   ]
  },
  {
   "cell_type": "code",
   "execution_count": 2,
   "id": "c4956a11-50cf-4c6f-8b55-c2abcd305520",
   "metadata": {},
   "outputs": [
    {
     "name": "stdout",
     "output_type": "stream",
     "text": [
      "Using database version X4-2024-12-31 located in: /home/beyerk/db/exfor/unpack_exfor-2024/X4-2024-12-31\n"
     ]
    }
   ],
   "source": [
    "import elm"
   ]
  },
  {
   "cell_type": "code",
   "execution_count": 3,
   "id": "1919eaac-ff36-466f-9d0e-0e80e6d1b7f1",
   "metadata": {},
   "outputs": [],
   "source": [
    "with open(Path(\"../prior/prior_distribution.pickle\"), \"rb\") as f:\n",
    "    prior = pickle.load(f)"
   ]
  },
  {
   "cell_type": "code",
   "execution_count": 25,
   "id": "0da2d111-c11d-45ed-bd78-fa53726eed99",
   "metadata": {},
   "outputs": [],
   "source": [
    "corpus_dir = Path(\"../data/corpus/\")\n",
    "output_dir = Path(\"./\")"
   ]
  },
  {
   "cell_type": "code",
   "execution_count": 26,
   "id": "64d85f81-2f22-4b7b-aaa5-9d0bbc2bed0e",
   "metadata": {},
   "outputs": [],
   "source": [
    "with open(corpus_dir / \"nn_elastic_data.pkl\", \"rb\") as f:\n",
    "    nn_elastic_data = pickle.load(f)\n",
    "with open(corpus_dir / \"pp_elastic_data.pkl\", \"rb\") as f:\n",
    "    pp_elastic_data = pickle.load(f)"
   ]
  },
  {
   "cell_type": "code",
   "execution_count": 27,
   "id": "2299782a-2244-4b6d-9c15-5bffc60f3934",
   "metadata": {},
   "outputs": [],
   "source": [
    "with open(corpus_dir / \"nn_elastic_workspaces.pkl\", \"rb\") as f:\n",
    "    nn_elastic_workspaces = pickle.load(f)\n",
    "with open(corpus_dir / \"pp_elastic_workspaces.pkl\", \"rb\") as f:\n",
    "    pp_elastic_workspaces = pickle.load(f)"
   ]
  },
  {
   "cell_type": "code",
   "execution_count": 28,
   "id": "45c52c90-d38a-4f03-b109-be1b507c0684",
   "metadata": {},
   "outputs": [],
   "source": [
    "nn_corpus = elm.corpus.ElasticAngularCorpus(\n",
    "    elm.elm.calculate_elastic_differential_xs,\n",
    "    \"ELM\",\n",
    "    \"(n,n)\",\n",
    "    elm.elm.NUM_PARAMS,\n",
    "    \"dXS/dA\",\n",
    "    nn_elastic_workspaces,\n",
    "    nn_elastic_data,\n",
    ")\n",
    "pp_corpus = elm.corpus.ElasticAngularCorpus(\n",
    "    elm.elm.calculate_elastic_differential_xs,\n",
    "    \"ELM\",\n",
    "    \"(p,p)\",\n",
    "    elm.elm.NUM_PARAMS,\n",
    "    \"dXS/dRuth\",\n",
    "    pp_elastic_workspaces,\n",
    "    pp_elastic_data,\n",
    ")"
   ]
  },
  {
   "cell_type": "code",
   "execution_count": 33,
   "id": "2a7feea5-f3b5-40a4-9f45-7d240aa0dce8",
   "metadata": {},
   "outputs": [],
   "source": [
    "with open(output_dir / \"nn_corpus.pkl\", 'wb') as f:\n",
    "    pickle.dump(nn_corpus, f)\n",
    "with open(output_dir / \"pp_corpus.pkl\", 'wb') as f:\n",
    "    pickle.dump(pp_corpus,f)"
   ]
  },
  {
   "cell_type": "markdown",
   "id": "7b597b25-4d83-47ba-a73e-d6010884929c",
   "metadata": {},
   "source": [
    "### This will give us an order of magnitude for how long a single sample in the calibration will take:"
   ]
  },
  {
   "cell_type": "code",
   "execution_count": 29,
   "id": "cae13f25-6dd0-4344-bbe2-3a6bdb9b9f14",
   "metadata": {},
   "outputs": [],
   "source": [
    "def to_ordered_dict(sample: np.ndarray):\n",
    "    return OrderedDict(zip([p.name for p in elm.elm.params], sample))"
   ]
  },
  {
   "cell_type": "code",
   "execution_count": 30,
   "id": "e6eace44-5e26-428b-a12d-33e0849bf7d4",
   "metadata": {
    "collapsed": true,
    "jupyter": {
     "outputs_hidden": true
    }
   },
   "outputs": [
    {
     "data": {
      "text/plain": [
       "-52528680.0482574"
      ]
     },
     "execution_count": 30,
     "metadata": {},
     "output_type": "execute_result"
    }
   ],
   "source": [
    "%%timeit\n",
    "nn_corpus.logpdf(to_ordered_dict(prior.mean))"
   ]
  },
  {
   "cell_type": "code",
   "execution_count": 31,
   "id": "ac63ab1a-ed51-45f4-8501-ba7ba0211b42",
   "metadata": {},
   "outputs": [
    {
     "data": {
      "text/plain": [
       "-28070683004.889"
      ]
     },
     "execution_count": 31,
     "metadata": {},
     "output_type": "execute_result"
    }
   ],
   "source": [
    "%%timeit\n",
    "pp_corpus.logpdf(to_ordered_dict(prior.mean))"
   ]
  },
  {
   "cell_type": "code",
   "execution_count": 30,
   "id": "cb279052-0f68-42e0-a815-324f741c1430",
   "metadata": {
    "collapsed": true,
    "jupyter": {
     "outputs_hidden": true
    }
   },
   "outputs": [
    {
     "data": {
      "text/plain": [
       "-52528680.0482574"
      ]
     },
     "execution_count": 30,
     "metadata": {},
     "output_type": "execute_result"
    }
   ],
   "source": [
    "nn_corpus.logpdf(to_ordered_dict(prior.mean))"
   ]
  },
  {
   "cell_type": "code",
   "execution_count": 31,
   "id": "0877d1f3-72db-4898-8bf4-2ce439eb0c3d",
   "metadata": {},
   "outputs": [
    {
     "data": {
      "text/plain": [
       "-28070683004.889"
      ]
     },
     "execution_count": 31,
     "metadata": {},
     "output_type": "execute_result"
    }
   ],
   "source": [
    "pp_corpus.logpdf(to_ordered_dict(prior.mean))"
   ]
  }
 ],
 "metadata": {
  "kernelspec": {
   "display_name": "Python 3 (ipykernel)",
   "language": "python",
   "name": "python3"
  },
  "language_info": {
   "codemirror_mode": {
    "name": "ipython",
    "version": 3
   },
   "file_extension": ".py",
   "mimetype": "text/x-python",
   "name": "python",
   "nbconvert_exporter": "python",
   "pygments_lexer": "ipython3",
   "version": "3.11.9"
  }
 },
 "nbformat": 4,
 "nbformat_minor": 5
}
