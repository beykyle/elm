{
 "cells": [
  {
   "cell_type": "code",
   "execution_count": 1,
   "id": "8644269d-816a-4370-923e-f534044d68f4",
   "metadata": {},
   "outputs": [],
   "source": [
    "import pickle\n",
    "from pathlib import Path\n",
    "import numpy as np\n",
    "from collections import OrderedDict"
   ]
  },
  {
   "cell_type": "code",
   "execution_count": 2,
   "id": "c4956a11-50cf-4c6f-8b55-c2abcd305520",
   "metadata": {},
   "outputs": [
    {
     "name": "stdout",
     "output_type": "stream",
     "text": [
      "Using database version X4-2024-12-31 located in: /home/kyle/db/exfor/unpack_exfor-2024/X4-2024-12-31\n"
     ]
    }
   ],
   "source": [
    "import elm"
   ]
  },
  {
   "cell_type": "code",
   "execution_count": 5,
   "id": "1919eaac-ff36-466f-9d0e-0e80e6d1b7f1",
   "metadata": {},
   "outputs": [],
   "source": [
    "with open(Path(\"../prior/prior_distribution.pickle\"), \"rb\") as f:\n",
    "    prior = pickle.load(f)"
   ]
  },
  {
   "cell_type": "code",
   "execution_count": 8,
   "id": "0da2d111-c11d-45ed-bd78-fa53726eed99",
   "metadata": {},
   "outputs": [],
   "source": [
    "corpus_dir = Path(\"../data/corpus/\")\n",
    "output_dir = Path(\"../calibration/\")"
   ]
  },
  {
   "cell_type": "code",
   "execution_count": 9,
   "id": "64d85f81-2f22-4b7b-aaa5-9d0bbc2bed0e",
   "metadata": {},
   "outputs": [],
   "source": [
    "with open(corpus_dir / \"nn_elastic_data.pkl\", \"rb\") as f:\n",
    "    nn_elastic_data = pickle.load(f)\n",
    "with open(corpus_dir / \"pp_elastic_data.pkl\", \"rb\") as f:\n",
    "    pp_elastic_data = pickle.load(f)"
   ]
  },
  {
   "cell_type": "code",
   "execution_count": 10,
   "id": "2299782a-2244-4b6d-9c15-5bffc60f3934",
   "metadata": {},
   "outputs": [],
   "source": [
    "with open(corpus_dir / \"nn_elastic_workspaces.pkl\", \"rb\") as f:\n",
    "    nn_elastic_workspaces = pickle.load(f)\n",
    "with open(corpus_dir / \"pp_elastic_workspaces.pkl\", \"rb\") as f:\n",
    "    pp_elastic_workspaces = pickle.load(f)"
   ]
  },
  {
   "cell_type": "code",
   "execution_count": 11,
   "id": "45c52c90-d38a-4f03-b109-be1b507c0684",
   "metadata": {},
   "outputs": [
    {
     "ename": "TypeError",
     "evalue": "ElasticModel.__init__() missing 1 required positional argument: 'name'",
     "output_type": "error",
     "traceback": [
      "\u001b[0;31m---------------------------------------------------------------------------\u001b[0m",
      "\u001b[0;31mTypeError\u001b[0m                                 Traceback (most recent call last)",
      "Cell \u001b[0;32mIn[11], line 1\u001b[0m\n\u001b[0;32m----> 1\u001b[0m nn_corpus \u001b[38;5;241m=\u001b[39m \u001b[43melm\u001b[49m\u001b[38;5;241;43m.\u001b[39;49m\u001b[43mcorpus\u001b[49m\u001b[38;5;241;43m.\u001b[39;49m\u001b[43mElasticAngularCorpus\u001b[49m\u001b[43m(\u001b[49m\n\u001b[1;32m      2\u001b[0m \u001b[43m    \u001b[49m\u001b[43melm\u001b[49m\u001b[38;5;241;43m.\u001b[39;49m\u001b[43melm\u001b[49m\u001b[38;5;241;43m.\u001b[39;49m\u001b[43mcalculate_elastic_differential_xs\u001b[49m\u001b[43m,\u001b[49m\n\u001b[1;32m      3\u001b[0m \u001b[43m    \u001b[49m\u001b[38;5;124;43m\"\u001b[39;49m\u001b[38;5;124;43mELM\u001b[39;49m\u001b[38;5;124;43m\"\u001b[39;49m\u001b[43m,\u001b[49m\n\u001b[1;32m      4\u001b[0m \u001b[43m    \u001b[49m\u001b[43melm\u001b[49m\u001b[38;5;241;43m.\u001b[39;49m\u001b[43melm\u001b[49m\u001b[38;5;241;43m.\u001b[39;49m\u001b[43mNUM_PARAMS\u001b[49m\u001b[43m,\u001b[49m\n\u001b[1;32m      5\u001b[0m \u001b[43m    \u001b[49m\u001b[38;5;124;43m\"\u001b[39;49m\u001b[38;5;124;43mdXS/dA\u001b[39;49m\u001b[38;5;124;43m\"\u001b[39;49m\u001b[43m,\u001b[49m\n\u001b[1;32m      6\u001b[0m \u001b[43m    \u001b[49m\u001b[43mnn_elastic_workspaces\u001b[49m\u001b[43m,\u001b[49m\n\u001b[1;32m      7\u001b[0m \u001b[43m    \u001b[49m\u001b[43mnn_elastic_data\u001b[49m\u001b[43m,\u001b[49m\n\u001b[1;32m      8\u001b[0m \u001b[43m)\u001b[49m\n\u001b[1;32m      9\u001b[0m pp_corpus \u001b[38;5;241m=\u001b[39m elm\u001b[38;5;241m.\u001b[39mcorpus\u001b[38;5;241m.\u001b[39mElasticAngularCorpus(\n\u001b[1;32m     10\u001b[0m     elm\u001b[38;5;241m.\u001b[39melm\u001b[38;5;241m.\u001b[39mcalculate_elastic_differential_xs,\n\u001b[1;32m     11\u001b[0m     \u001b[38;5;124m\"\u001b[39m\u001b[38;5;124mELM\u001b[39m\u001b[38;5;124m\"\u001b[39m,\n\u001b[0;32m   (...)\u001b[0m\n\u001b[1;32m     15\u001b[0m     pp_elastic_data,\n\u001b[1;32m     16\u001b[0m )\n",
      "File \u001b[0;32m~/el/elm/src/elm/corpus.py:279\u001b[0m, in \u001b[0;36mElasticAngularCorpus.__init__\u001b[0;34m(self, model, model_name, n_params, quantity, workspaces, measurements, weights, **constraint_kwargs)\u001b[0m\n\u001b[1;32m    272\u001b[0m     \u001b[38;5;28;01melse\u001b[39;00m:\n\u001b[1;32m    273\u001b[0m         norm \u001b[38;5;241m=\u001b[39m \u001b[38;5;28;01mNone\u001b[39;00m\n\u001b[1;32m    275\u001b[0m     constraints\u001b[38;5;241m.\u001b[39mappend(\n\u001b[1;32m    276\u001b[0m         ReactionConstraint(\n\u001b[1;32m    277\u001b[0m             quantity\u001b[38;5;241m=\u001b[39m\u001b[38;5;28mself\u001b[39m\u001b[38;5;241m.\u001b[39mquantity,\n\u001b[1;32m    278\u001b[0m             measurement\u001b[38;5;241m=\u001b[39mmeasurement,\n\u001b[0;32m--> 279\u001b[0m             model\u001b[38;5;241m=\u001b[39m\u001b[43mElasticModel\u001b[49m\u001b[43m(\u001b[49m\u001b[43mworkspace\u001b[49m\u001b[43m,\u001b[49m\u001b[43m \u001b[49m\u001b[43mmodel\u001b[49m\u001b[43m)\u001b[49m,\n\u001b[1;32m    280\u001b[0m             normalize\u001b[38;5;241m=\u001b[39mnorm,\n\u001b[1;32m    281\u001b[0m             \u001b[38;5;241m*\u001b[39m\u001b[38;5;241m*\u001b[39mconstraint_kwargs,\n\u001b[1;32m    282\u001b[0m         )\n\u001b[1;32m    283\u001b[0m     )\n\u001b[1;32m    284\u001b[0m \u001b[38;5;28msuper\u001b[39m()\u001b[38;5;241m.\u001b[39m\u001b[38;5;21m__init__\u001b[39m(constraints, n_params, model_name, weights)\n",
      "\u001b[0;31mTypeError\u001b[0m: ElasticModel.__init__() missing 1 required positional argument: 'name'"
     ]
    }
   ],
   "source": [
    "nn_corpus = elm.corpus.ElasticAngularCorpus(\n",
    "    elm.elm.calculate_elastic_differential_xs,\n",
    "    \"ELM\",\n",
    "    elm.elm.NUM_PARAMS,\n",
    "    \"dXS/dA\",\n",
    "    nn_elastic_workspaces,\n",
    "    nn_elastic_data,\n",
    ")\n",
    "pp_corpus = elm.corpus.ElasticAngularCorpus(\n",
    "    elm.elm.calculate_elastic_differential_xs,\n",
    "    \"ELM\",\n",
    "    elm.elm.NUM_PARAMS,\n",
    "    \"dXS/dRuth\",\n",
    "    pp_elastic_workspaces,\n",
    "    pp_elastic_data,\n",
    ")"
   ]
  },
  {
   "cell_type": "code",
   "execution_count": 13,
   "id": "cae13f25-6dd0-4344-bbe2-3a6bdb9b9f14",
   "metadata": {},
   "outputs": [],
   "source": [
    "def to_ordered_dict(sample: np.ndarray):\n",
    "    return OrderedDict(zip([p.name for p in elm.elm.params], sample))"
   ]
  },
  {
   "cell_type": "code",
   "execution_count": 14,
   "id": "cb279052-0f68-42e0-a815-324f741c1430",
   "metadata": {},
   "outputs": [
    {
     "data": {
      "text/plain": [
       "np.float64(106626202.18221481)"
      ]
     },
     "execution_count": 14,
     "metadata": {},
     "output_type": "execute_result"
    }
   ],
   "source": [
    "nn_corpus.logpfg( to_ordered_dict(prior.mean))"
   ]
  },
  {
   "cell_type": "code",
   "execution_count": 15,
   "id": "0877d1f3-72db-4898-8bf4-2ce439eb0c3d",
   "metadata": {},
   "outputs": [
    {
     "data": {
      "text/plain": [
       "np.float64(14200799528.434227)"
      ]
     },
     "execution_count": 15,
     "metadata": {},
     "output_type": "execute_result"
    }
   ],
   "source": [
    "pp_corpus.logpdf( to_ordered_dict(prior.mean))"
   ]
  }
 ],
 "metadata": {
  "kernelspec": {
   "display_name": "Python 3 (ipykernel)",
   "language": "python",
   "name": "python3"
  },
  "language_info": {
   "codemirror_mode": {
    "name": "ipython",
    "version": 3
   },
   "file_extension": ".py",
   "mimetype": "text/x-python",
   "name": "python",
   "nbconvert_exporter": "python",
   "pygments_lexer": "ipython3",
   "version": "3.10.14"
  }
 },
 "nbformat": 4,
 "nbformat_minor": 5
}
