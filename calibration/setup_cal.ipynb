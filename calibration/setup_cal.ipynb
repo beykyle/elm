{
 "cells": [
  {
   "cell_type": "code",
   "execution_count": 1,
   "id": "8644269d-816a-4370-923e-f534044d68f4",
   "metadata": {},
   "outputs": [],
   "source": [
    "import pickle\n",
    "from collections import OrderedDict\n",
    "from pathlib import Path\n",
    "\n",
    "import numpy as np"
   ]
  },
  {
   "cell_type": "code",
   "execution_count": 2,
   "id": "c4956a11-50cf-4c6f-8b55-c2abcd305520",
   "metadata": {},
   "outputs": [
    {
     "name": "stdout",
     "output_type": "stream",
     "text": [
      "Using database version X4-2024-12-31 located in: /home/beyerk/db/exfor/unpack_exfor-2024/X4-2024-12-31\n"
     ]
    }
   ],
   "source": [
    "import elm"
   ]
  },
  {
   "cell_type": "code",
   "execution_count": 3,
   "id": "1919eaac-ff36-466f-9d0e-0e80e6d1b7f1",
   "metadata": {},
   "outputs": [],
   "source": [
    "with open(Path(\"../prior/prior_distribution.pickle\"), \"rb\") as f:\n",
    "    prior = pickle.load(f)"
   ]
  },
  {
   "cell_type": "code",
   "execution_count": 4,
   "id": "0da2d111-c11d-45ed-bd78-fa53726eed99",
   "metadata": {},
   "outputs": [],
   "source": [
    "corpus_dir = Path(\"../data/corpus/\")\n",
    "output_dir = Path(\"./\")"
   ]
  },
  {
   "cell_type": "code",
   "execution_count": 5,
   "id": "64d85f81-2f22-4b7b-aaa5-9d0bbc2bed0e",
   "metadata": {},
   "outputs": [],
   "source": [
    "with open(corpus_dir / \"nn_elastic_data.pkl\", \"rb\") as f:\n",
    "    nn_elastic_data = pickle.load(f)\n",
    "with open(corpus_dir / \"pp_elastic_data.pkl\", \"rb\") as f:\n",
    "    pp_elastic_data = pickle.load(f)"
   ]
  },
  {
   "cell_type": "code",
   "execution_count": 6,
   "id": "2299782a-2244-4b6d-9c15-5bffc60f3934",
   "metadata": {},
   "outputs": [],
   "source": [
    "with open(corpus_dir / \"nn_elastic_workspaces.pkl\", \"rb\") as f:\n",
    "    nn_elastic_workspaces = pickle.load(f)\n",
    "with open(corpus_dir / \"pp_elastic_workspaces.pkl\", \"rb\") as f:\n",
    "    pp_elastic_workspaces = pickle.load(f)"
   ]
  },
  {
   "cell_type": "code",
   "execution_count": 7,
   "id": "45c52c90-d38a-4f03-b109-be1b507c0684",
   "metadata": {},
   "outputs": [],
   "source": [
    "nn_corpus = elm.corpus.ElasticAngularCorpus(\n",
    "    elm.elm.calculate_elastic_differential_xs,\n",
    "    \"ELM\",\n",
    "    \"(n,n)\",\n",
    "    elm.elm.NUM_PARAMS,\n",
    "    \"dXS/dA\",\n",
    "    nn_elastic_workspaces,\n",
    "    nn_elastic_data,\n",
    ")\n",
    "pp_corpus = elm.corpus.ElasticAngularCorpus(\n",
    "    elm.elm.calculate_elastic_differential_xs,\n",
    "    \"ELM\",\n",
    "    \"(p,p)\",\n",
    "    elm.elm.NUM_PARAMS,\n",
    "    \"dXS/dRuth\",\n",
    "    pp_elastic_workspaces,\n",
    "    pp_elastic_data,\n",
    ")"
   ]
  },
  {
   "cell_type": "code",
   "execution_count": 8,
   "id": "254cd2b5-7228-4af2-8455-60d7a8cbf78a",
   "metadata": {},
   "outputs": [],
   "source": [
    "combined_elastic_corpus = elm.corpus.Corpus(\n",
    "    [nn_corpus, pp_corpus],\n",
    "    elm.elm.NUM_PARAMS,\n",
    "    \"ELM\",\n",
    "    \"elastic\",\n",
    ")"
   ]
  },
  {
   "cell_type": "code",
   "execution_count": 9,
   "id": "2a7feea5-f3b5-40a4-9f45-7d240aa0dce8",
   "metadata": {},
   "outputs": [],
   "source": [
    "with open(output_dir / \"nn_corpus.pkl\", \"wb\") as f:\n",
    "    pickle.dump(nn_corpus, f)\n",
    "with open(output_dir / \"pp_corpus.pkl\", \"wb\") as f:\n",
    "    pickle.dump(pp_corpus, f)\n",
    "with open(output_dir / \"combined_elastic_corpus.pkl\", \"wb\") as f:\n",
    "    pickle.dump(combined_elastic_corpus, f)"
   ]
  },
  {
   "cell_type": "markdown",
   "id": "7b597b25-4d83-47ba-a73e-d6010884929c",
   "metadata": {},
   "source": [
    "### This will give us an order of magnitude for how long a single sample in the calibration will take:"
   ]
  },
  {
   "cell_type": "code",
   "execution_count": 10,
   "id": "cae13f25-6dd0-4344-bbe2-3a6bdb9b9f14",
   "metadata": {},
   "outputs": [],
   "source": [
    "def to_ordered_dict(sample: np.ndarray):\n",
    "    return OrderedDict(zip([p.name for p in elm.elm.params], sample))"
   ]
  },
  {
   "cell_type": "code",
   "execution_count": 11,
   "id": "e6eace44-5e26-428b-a12d-33e0849bf7d4",
   "metadata": {},
   "outputs": [
    {
     "name": "stdout",
     "output_type": "stream",
     "text": [
      "143 ms ± 4.32 ms per loop (mean ± std. dev. of 7 runs, 1 loop each)\n"
     ]
    }
   ],
   "source": [
    "%%timeit\n",
    "nn_corpus.logpdf(to_ordered_dict(prior.mean))"
   ]
  },
  {
   "cell_type": "code",
   "execution_count": 12,
   "id": "ac63ab1a-ed51-45f4-8501-ba7ba0211b42",
   "metadata": {},
   "outputs": [
    {
     "name": "stdout",
     "output_type": "stream",
     "text": [
      "357 ms ± 13.2 ms per loop (mean ± std. dev. of 7 runs, 1 loop each)\n"
     ]
    }
   ],
   "source": [
    "%%timeit\n",
    "pp_corpus.logpdf(to_ordered_dict(prior.mean))"
   ]
  },
  {
   "cell_type": "code",
   "execution_count": 13,
   "id": "eca13597-7198-49a3-a3b4-d8478b1754bb",
   "metadata": {},
   "outputs": [
    {
     "name": "stdout",
     "output_type": "stream",
     "text": [
      "495 ms ± 16.5 ms per loop (mean ± std. dev. of 7 runs, 1 loop each)\n"
     ]
    }
   ],
   "source": [
    "%%timeit\n",
    "combined_elastic_corpus.logpdf(to_ordered_dict(prior.mean))"
   ]
  },
  {
   "cell_type": "markdown",
   "id": "a14aa6c8-c81d-478d-9260-b3de92e4fa24",
   "metadata": {},
   "source": [
    "## and just to make sure:"
   ]
  },
  {
   "cell_type": "code",
   "execution_count": 14,
   "id": "5c48c6ac-51d7-4129-ad32-65069511fb9d",
   "metadata": {},
   "outputs": [],
   "source": [
    "Ltot = combined_elastic_corpus.logpdf(to_ordered_dict(prior.mean)) "
   ]
  },
  {
   "cell_type": "code",
   "execution_count": 15,
   "id": "7c82aada-a996-481b-99bb-e90d334d1fc5",
   "metadata": {},
   "outputs": [],
   "source": [
    "Lnn = nn_corpus.logpdf(to_ordered_dict(prior.mean))"
   ]
  },
  {
   "cell_type": "code",
   "execution_count": 16,
   "id": "df1c4a87-b4b6-44c1-9c95-eccf1a9b8984",
   "metadata": {},
   "outputs": [],
   "source": [
    "Lpp = pp_corpus.logpdf(to_ordered_dict(prior.mean))"
   ]
  },
  {
   "cell_type": "code",
   "execution_count": 17,
   "id": "34b39037-3a1d-4049-adae-a798f13e1e24",
   "metadata": {},
   "outputs": [],
   "source": [
    "np.testing.assert_almost_equal(Ltot , Lnn + Lpp)"
   ]
  },
  {
   "cell_type": "code",
   "execution_count": null,
   "id": "d3821f0b-d5fb-4187-805e-153e6606e5a4",
   "metadata": {},
   "outputs": [],
   "source": []
  }
 ],
 "metadata": {
  "kernelspec": {
   "display_name": "Python 3 (ipykernel)",
   "language": "python",
   "name": "python3"
  },
  "language_info": {
   "codemirror_mode": {
    "name": "ipython",
    "version": 3
   },
   "file_extension": ".py",
   "mimetype": "text/x-python",
   "name": "python",
   "nbconvert_exporter": "python",
   "pygments_lexer": "ipython3",
   "version": "3.11.9"
  }
 },
 "nbformat": 4,
 "nbformat_minor": 5
}
