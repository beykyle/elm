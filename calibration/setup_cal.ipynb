{
 "cells": [
  {
   "cell_type": "markdown",
   "id": "3f8ff861-cc0e-43f5-b25a-8aeded2190ff",
   "metadata": {},
   "source": [
    "# Set up `rxmx.walker.Walker`"
   ]
  },
  {
   "cell_type": "code",
   "execution_count": 1,
   "id": "63f0d18f-fcdc-49ef-82f2-624f105c9afb",
   "metadata": {},
   "outputs": [],
   "source": [
    "import lzma\n",
    "from pathlib import Path\n",
    "\n",
    "import dill as pickle\n",
    "import numpy as np\n",
    "from tqdm import tqdm"
   ]
  },
  {
   "cell_type": "code",
   "execution_count": 2,
   "id": "dfcd72f3-4114-4d52-a1b4-e7f31b64f77c",
   "metadata": {},
   "outputs": [],
   "source": [
    "from scipy import stats\n",
    "from scipy.optimize import minimize"
   ]
  },
  {
   "cell_type": "code",
   "execution_count": 3,
   "id": "2f219292-9f05-4782-abf9-1ea0fd7c65c9",
   "metadata": {},
   "outputs": [
    {
     "name": "stdout",
     "output_type": "stream",
     "text": [
      "Using database version X4-2024-12-31 located in: /mnt/home/beyerkyl/x4db/unpack_exfor-2024/X4-2024-12-31\n"
     ]
    }
   ],
   "source": [
    "import elm"
   ]
  },
  {
   "cell_type": "code",
   "execution_count": 4,
   "id": "02918b94-ec87-4dd0-a873-1b72b19cc8f0",
   "metadata": {},
   "outputs": [],
   "source": [
    "import rxmc"
   ]
  },
  {
   "cell_type": "code",
   "execution_count": 5,
   "id": "5c21b22d-96af-4ed6-8ed8-ebdc291a7002",
   "metadata": {},
   "outputs": [],
   "source": [
    "evidence_dir = Path(\"../evidence/data\")\n",
    "model_dir = Path(\"../model/\")\n",
    "likelihood_model_dir = Path(\"../likelihood_model/\")\n",
    "prior_path = Path(\"../prior/prior_distribution.pickle\")"
   ]
  },
  {
   "cell_type": "markdown",
   "id": "db8255eb-1373-4433-bfb9-41e06ec647b5",
   "metadata": {},
   "source": [
    "## read in ELM prior parameter samples"
   ]
  },
  {
   "cell_type": "code",
   "execution_count": 6,
   "id": "6c7c798f-6731-454b-8d4f-8e5df47fb51c",
   "metadata": {},
   "outputs": [],
   "source": [
    "with open(prior_path, \"rb\") as f:\n",
    "    prior = pickle.load(f)\n",
    "prior_samples = prior.rvs(1000)"
   ]
  },
  {
   "cell_type": "markdown",
   "id": "93fbe315-59a9-4d38-a406-9bc7cb1fbd35",
   "metadata": {},
   "source": [
    "## read in observations"
   ]
  },
  {
   "cell_type": "code",
   "execution_count": 7,
   "id": "49caff49-5c22-440b-88f2-d64bbc55f47d",
   "metadata": {},
   "outputs": [],
   "source": [
    "with lzma.open(evidence_dir / \"nn_elastic_observations.xz\", \"rb\") as f:\n",
    "    nn_elastic_obs = pickle.load(f)\n",
    "with lzma.open(evidence_dir / \"pp_elastic_observations.xz\", \"rb\") as f:\n",
    "    pp_elastic_obs = pickle.load(f)"
   ]
  },
  {
   "cell_type": "markdown",
   "id": "d32341d0-8a98-41c5-9825-be9059e5ad3a",
   "metadata": {},
   "source": [
    "## read in physical models"
   ]
  },
  {
   "cell_type": "code",
   "execution_count": 8,
   "id": "30fcea9b-db74-4f3b-bf86-60bb8be7a6ff",
   "metadata": {},
   "outputs": [],
   "source": [
    "with open(model_dir / \"elm_nn_model.pkl\", \"rb\") as f:\n",
    "    elm_nn_model = pickle.load(f)"
   ]
  },
  {
   "cell_type": "code",
   "execution_count": 9,
   "id": "cef239c4-7f72-4636-9da8-d67f0e3c9925",
   "metadata": {},
   "outputs": [],
   "source": [
    "with open(model_dir / \"elm_pp_model.pkl\", \"rb\") as f:\n",
    "    elm_pp_model = pickle.load(f)"
   ]
  },
  {
   "cell_type": "markdown",
   "id": "3004fe73-f698-49ed-ad5c-5adb4e1165d8",
   "metadata": {},
   "source": [
    "## read in likelihood models"
   ]
  },
  {
   "cell_type": "code",
   "execution_count": 10,
   "id": "26e7e53d-74ee-4e17-8ebc-cb99a5c6d5cd",
   "metadata": {},
   "outputs": [],
   "source": [
    "with open(likelihood_model_dir / \"likelihood_model.pkl\", \"rb\") as f:\n",
    "    likelihood_model = pickle.load(f)"
   ]
  },
  {
   "cell_type": "markdown",
   "id": "3320d3e8-84d3-491e-a486-a71475c19a71",
   "metadata": {},
   "source": [
    "## Set up Evidence object"
   ]
  },
  {
   "cell_type": "code",
   "execution_count": 11,
   "id": "d32390e5-455a-498e-9faf-19a3c0d50750",
   "metadata": {},
   "outputs": [],
   "source": [
    "pp_constraints = [\n",
    "    rxmc.constraint.Constraint(\n",
    "        observations=obs,\n",
    "        physical_model=elm_pp_model,\n",
    "        likelihood_model=likelihood_model,\n",
    "    )\n",
    "    for entry_id, obs in pp_elastic_obs.items()\n",
    "]\n",
    "nn_constraints = [\n",
    "    rxmc.constraint.Constraint(\n",
    "        observations=obs,\n",
    "        physical_model=elm_nn_model,\n",
    "        likelihood_model=likelihood_model,\n",
    "    )\n",
    "    for entry_id, obs in nn_elastic_obs.items()\n",
    "]"
   ]
  },
  {
   "cell_type": "code",
   "execution_count": 12,
   "id": "cf6fa88e-9241-4a26-8cdf-04eb6ea8df0e",
   "metadata": {},
   "outputs": [],
   "source": [
    "evidence = rxmc.evidence.Evidence(constraints=nn_constraints + pp_constraints)"
   ]
  },
  {
   "cell_type": "code",
   "execution_count": 13,
   "id": "f10b5d56-628b-4700-a049-2dd1904bb032",
   "metadata": {},
   "outputs": [],
   "source": [
    "with open(\"../mlem/mlem_result.pkl\", \"rb\") as f:\n",
    "    starting_loc = pickle.load(f).x"
   ]
  },
  {
   "cell_type": "code",
   "execution_count": 14,
   "id": "f1446665-6495-4e94-b888-0322938892dd",
   "metadata": {},
   "outputs": [
    {
     "data": {
      "text/plain": [
       "array([ 5.85559187e+01,  1.31285844e+01,  2.74603112e+01,  2.97387385e+01,\n",
       "        1.89849500e+01,  3.14454870e+01, -4.00000000e-01,  1.20519866e-03,\n",
       "        5.30123070e+01,  2.23023592e+01,  1.17726497e+00,  1.39280797e+00,\n",
       "        6.82664567e-01,  4.00000000e-01])"
      ]
     },
     "execution_count": 14,
     "metadata": {},
     "output_type": "execute_result"
    }
   ],
   "source": [
    "starting_loc"
   ]
  },
  {
   "cell_type": "code",
   "execution_count": 15,
   "id": "31421b46-0f02-4251-8295-4e2a1b9e7974",
   "metadata": {},
   "outputs": [],
   "source": [
    "rng = np.random.default_rng(13)"
   ]
  },
  {
   "cell_type": "code",
   "execution_count": 16,
   "id": "7f663ce7-5337-40f0-99b5-0596b9236b70",
   "metadata": {},
   "outputs": [],
   "source": [
    "proposal = rxmc.proposal.NormalProposalDistribution(\n",
    "    cov=np.diag((np.diag(prior.cov) * 0.01**2)),\n",
    ")"
   ]
  },
  {
   "cell_type": "code",
   "execution_count": 17,
   "id": "116aad49-e76e-433e-9c71-fdc2a0a7fa95",
   "metadata": {},
   "outputs": [],
   "source": [
    "sampling_config = rxmc.param_sampling.SamplingConfig(\n",
    "    starting_location=starting_loc,\n",
    "    params=elm.elm.params,\n",
    "    proposal=proposal,\n",
    "    prior=prior,\n",
    ")"
   ]
  },
  {
   "cell_type": "code",
   "execution_count": 18,
   "id": "36be45d9-256d-4c6d-b8cd-40d3fd72457f",
   "metadata": {},
   "outputs": [],
   "source": [
    "walker = rxmc.walker.Walker(\n",
    "    model_sample_conf=sampling_config,\n",
    "    evidence=evidence,\n",
    "    rng=rng,\n",
    ")"
   ]
  },
  {
   "cell_type": "code",
   "execution_count": 19,
   "id": "de66a4e3-7b36-41a4-886a-09c8f7161b64",
   "metadata": {},
   "outputs": [],
   "source": [
    "with lzma.open(\"./walker.xz\", \"wb\") as f:\n",
    "    pickle.dump(walker, f)"
   ]
  }
 ],
 "metadata": {
  "kernelspec": {
   "display_name": "Python 3 (ipykernel)",
   "language": "python",
   "name": "python3"
  },
  "language_info": {
   "codemirror_mode": {
    "name": "ipython",
    "version": 3
   },
   "file_extension": ".py",
   "mimetype": "text/x-python",
   "name": "python",
   "nbconvert_exporter": "python",
   "pygments_lexer": "ipython3",
   "version": "3.11.9"
  }
 },
 "nbformat": 4,
 "nbformat_minor": 5
}
