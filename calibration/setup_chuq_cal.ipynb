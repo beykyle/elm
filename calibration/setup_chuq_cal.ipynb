{
 "cells": [
  {
   "cell_type": "markdown",
   "id": "3f8ff861-cc0e-43f5-b25a-8aeded2190ff",
   "metadata": {},
   "source": [
    "# Set up `rxmx.walker.Walker`"
   ]
  },
  {
   "cell_type": "code",
   "execution_count": 13,
   "id": "63f0d18f-fcdc-49ef-82f2-624f105c9afb",
   "metadata": {},
   "outputs": [],
   "source": [
    "import lzma\n",
    "from pathlib import Path\n",
    "\n",
    "import dill as pickle\n",
    "import numpy as np\n",
    "from tqdm import tqdm"
   ]
  },
  {
   "cell_type": "code",
   "execution_count": 14,
   "id": "dfcd72f3-4114-4d52-a1b4-e7f31b64f77c",
   "metadata": {},
   "outputs": [],
   "source": [
    "from scipy import stats\n",
    "from scipy.optimize import minimize"
   ]
  },
  {
   "cell_type": "code",
   "execution_count": 15,
   "id": "2f219292-9f05-4782-abf9-1ea0fd7c65c9",
   "metadata": {},
   "outputs": [],
   "source": [
    "import elm"
   ]
  },
  {
   "cell_type": "code",
   "execution_count": 16,
   "id": "02918b94-ec87-4dd0-a873-1b72b19cc8f0",
   "metadata": {},
   "outputs": [],
   "source": [
    "import rxmc"
   ]
  },
  {
   "cell_type": "code",
   "execution_count": 17,
   "id": "5c21b22d-96af-4ed6-8ed8-ebdc291a7002",
   "metadata": {},
   "outputs": [],
   "source": [
    "evidence_dir = Path(\"../evidence/data\")\n",
    "model_dir = Path(\"../model/\")\n",
    "likelihood_model_dir = Path(\"../likelihood_model/\")\n",
    "prior_path = Path(\"../prior/chuq_prior.ipynb\")"
   ]
  },
  {
   "cell_type": "markdown",
   "id": "db8255eb-1373-4433-bfb9-41e06ec647b5",
   "metadata": {},
   "source": [
    "## Prior"
   ]
  },
  {
   "cell_type": "code",
   "execution_count": 19,
   "id": "043aa6c4-2900-446c-bff5-248bc5874fda",
   "metadata": {},
   "outputs": [],
   "source": [
    "from collections import OrderedDict\n",
    "\n",
    "prior_mean_chuq = OrderedDict(\n",
    "    [\n",
    "        (\"V0\", 56.19),\n",
    "        (\"Ve\", -0.36),\n",
    "        (\"Vt\", 13.82),\n",
    "        (\"r0\", 1.20),\n",
    "        (\"r0_0\", -0.20),\n",
    "        (\"a0\", 0.73),\n",
    "        (\"Wv0\", 9.92),\n",
    "        (\"Wve0\", 33.15),\n",
    "        (\"Wvew\", 24.00),\n",
    "        (\"rw\", 1.32),\n",
    "        (\"rw_0\", -0.41),\n",
    "        (\"aw\", 0.69),\n",
    "        (\"Ws0\", 10.59),\n",
    "        (\"Wst\", 27.09),\n",
    "        (\"Wse0\", 20.00),\n",
    "        (\"Wsew\", 36.38),\n",
    "        (\"Vso\", 5.58),\n",
    "        (\"rso\", 1.29),\n",
    "        (\"rso_0\", -1.12),\n",
    "        (\"aso\", 0.61),\n",
    "        (\"rc\", 1.25),\n",
    "        (\"rc_0\", 0.13),\n",
    "    ]\n",
    ")\n",
    "\n",
    "prior_std_chuq = OrderedDict(\n",
    "    [\n",
    "        (\"V0\", 1.625),  # (1.43 + 1.82) / 2\n",
    "        (\"Ve\", 0.025),  # (0.03 + 0.02) / 2\n",
    "        (\"Vt\", 6.14),  # (7.03 + 5.25) / 2\n",
    "        (\"r0\", 0.03),\n",
    "        (\"r0_0\", 0.125),\n",
    "        (\"a0\", 0.025),\n",
    "        (\"Wv0\", 3.775),\n",
    "        (\"Wve0\", 22.425),\n",
    "        (\"Wvew\", 10.42),\n",
    "        (\"rw\", 0.08),\n",
    "        (\"rw_0\", 0.34),\n",
    "        (\"aw\", 0.05),\n",
    "        (\"Ws0\", 3.69),\n",
    "        (\"Wst\", 10.50),\n",
    "        (\"Wse0\", 21.26),\n",
    "        (\"Wsew\", 18.71),\n",
    "        (\"Vso\", 0.55),\n",
    "        (\"rso\", 0.11),\n",
    "        (\"rso_0\", 0.48),\n",
    "        (\"aso\", 0.04),\n",
    "        (\"rc\", 0.12),\n",
    "        (\"rc_0\", 0.105),\n",
    "    ]\n",
    ")"
   ]
  },
  {
   "cell_type": "code",
   "execution_count": 20,
   "id": "77a74fd3-a9ac-4613-ab07-b2fcf068fa52",
   "metadata": {},
   "outputs": [],
   "source": [
    "covariance = np.diag(list(prior_std_chuq.values())) ** 2\n",
    "mean = np.array(list(prior_mean_chuq.values()))"
   ]
  },
  {
   "cell_type": "code",
   "execution_count": 21,
   "id": "b8f19121-c154-4ab7-95eb-6d9de09dbcff",
   "metadata": {},
   "outputs": [],
   "source": [
    "prior_distribution = stats.multivariate_normal(mean, covariance)"
   ]
  },
  {
   "cell_type": "markdown",
   "id": "93fbe315-59a9-4d38-a406-9bc7cb1fbd35",
   "metadata": {},
   "source": [
    "## read in observations"
   ]
  },
  {
   "cell_type": "code",
   "execution_count": 22,
   "id": "49caff49-5c22-440b-88f2-d64bbc55f47d",
   "metadata": {},
   "outputs": [],
   "source": [
    "with lzma.open(evidence_dir / \"nn_elastic_observations.xz\", \"rb\") as f:\n",
    "    nn_elastic_obs = pickle.load(f)\n",
    "with lzma.open(evidence_dir / \"pp_elastic_observations.xz\", \"rb\") as f:\n",
    "    pp_elastic_obs = pickle.load(f)"
   ]
  },
  {
   "cell_type": "markdown",
   "id": "d32341d0-8a98-41c5-9825-be9059e5ad3a",
   "metadata": {},
   "source": [
    "## read in physical models"
   ]
  },
  {
   "cell_type": "code",
   "execution_count": 23,
   "id": "30fcea9b-db74-4f3b-bf86-60bb8be7a6ff",
   "metadata": {},
   "outputs": [],
   "source": [
    "with open(model_dir / \"chuq_nn_model.pkl\", \"rb\") as f:\n",
    "    nn_model = pickle.load(f)"
   ]
  },
  {
   "cell_type": "code",
   "execution_count": 24,
   "id": "cef239c4-7f72-4636-9da8-d67f0e3c9925",
   "metadata": {},
   "outputs": [],
   "source": [
    "with open(model_dir / \"chuq_pp_model.pkl\", \"rb\") as f:\n",
    "    pp_model = pickle.load(f)"
   ]
  },
  {
   "cell_type": "markdown",
   "id": "3004fe73-f698-49ed-ad5c-5adb4e1165d8",
   "metadata": {},
   "source": [
    "## read in likelihood models"
   ]
  },
  {
   "cell_type": "code",
   "execution_count": 25,
   "id": "26e7e53d-74ee-4e17-8ebc-cb99a5c6d5cd",
   "metadata": {},
   "outputs": [],
   "source": [
    "with open(likelihood_model_dir / \"likelihood_model.pkl\", \"rb\") as f:\n",
    "    likelihood_model = pickle.load(f)"
   ]
  },
  {
   "cell_type": "markdown",
   "id": "3320d3e8-84d3-491e-a486-a71475c19a71",
   "metadata": {},
   "source": [
    "## Set up Evidence object"
   ]
  },
  {
   "cell_type": "code",
   "execution_count": 26,
   "id": "d32390e5-455a-498e-9faf-19a3c0d50750",
   "metadata": {},
   "outputs": [],
   "source": [
    "pp_constraints = [\n",
    "    rxmc.constraint.Constraint(\n",
    "        observations=obs,\n",
    "        physical_model=pp_model,\n",
    "        likelihood_model=likelihood_model,\n",
    "    )\n",
    "    for entry_id, obs in pp_elastic_obs.items()\n",
    "]\n",
    "nn_constraints = [\n",
    "    rxmc.constraint.Constraint(\n",
    "        observations=obs,\n",
    "        physical_model=nn_model,\n",
    "        likelihood_model=likelihood_model,\n",
    "    )\n",
    "    for entry_id, obs in nn_elastic_obs.items()\n",
    "]"
   ]
  },
  {
   "cell_type": "code",
   "execution_count": 27,
   "id": "cf6fa88e-9241-4a26-8cdf-04eb6ea8df0e",
   "metadata": {},
   "outputs": [],
   "source": [
    "evidence = rxmc.evidence.Evidence(constraints=nn_constraints + pp_constraints)"
   ]
  },
  {
   "cell_type": "code",
   "execution_count": 28,
   "id": "2021e2cf-bc6a-4a31-b510-1700685f57e9",
   "metadata": {},
   "outputs": [],
   "source": [
    "import jitr"
   ]
  },
  {
   "cell_type": "code",
   "execution_count": 29,
   "id": "f1446665-6495-4e94-b888-0322938892dd",
   "metadata": {},
   "outputs": [
    {
     "data": {
      "text/plain": [
       "array([56.08949183, -0.35849618, 13.93415718,  1.19718841, -0.19497066,\n",
       "        0.73447478, 10.55611553, 34.3861483 , 24.90766928,  1.32706245,\n",
       "       -0.39752667,  0.69519624, 10.91565673, 28.85849212, 19.36201193,\n",
       "       41.07509524,  5.53077466,  1.30125197, -1.12924722,  0.60825946,\n",
       "        1.24718711,  0.12861764])"
      ]
     },
     "execution_count": 29,
     "metadata": {},
     "output_type": "execute_result"
    }
   ],
   "source": [
    "starting_loc = np.mean(\n",
    "    jitr.optical_potentials.chuq.get_samples_democratic((1, 1)), axis=0\n",
    ")\n",
    "starting_loc"
   ]
  },
  {
   "cell_type": "code",
   "execution_count": 30,
   "id": "31421b46-0f02-4251-8295-4e2a1b9e7974",
   "metadata": {},
   "outputs": [],
   "source": [
    "rng = np.random.default_rng(13)"
   ]
  },
  {
   "cell_type": "code",
   "execution_count": 31,
   "id": "7f663ce7-5337-40f0-99b5-0596b9236b70",
   "metadata": {},
   "outputs": [],
   "source": [
    "proposal = rxmc.proposal.NormalProposalDistribution(\n",
    "    cov=np.diag((np.diag(prior_distribution.cov) * 0.01**2)),\n",
    ")"
   ]
  },
  {
   "cell_type": "code",
   "execution_count": 35,
   "id": "116aad49-e76e-433e-9c71-fdc2a0a7fa95",
   "metadata": {},
   "outputs": [],
   "source": [
    "sampling_config = rxmc.param_sampling.SamplingConfig(\n",
    "    starting_location=starting_loc,\n",
    "    params=elm.chuq.params,\n",
    "    proposal=proposal,\n",
    "    prior=prior_distribution,\n",
    ")"
   ]
  },
  {
   "cell_type": "code",
   "execution_count": 36,
   "id": "36be45d9-256d-4c6d-b8cd-40d3fd72457f",
   "metadata": {},
   "outputs": [],
   "source": [
    "walker = rxmc.walker.Walker(\n",
    "    model_sample_conf=sampling_config,\n",
    "    evidence=evidence,\n",
    "    rng=rng,\n",
    ")"
   ]
  },
  {
   "cell_type": "code",
   "execution_count": 39,
   "id": "de66a4e3-7b36-41a4-886a-09c8f7161b64",
   "metadata": {},
   "outputs": [],
   "source": [
    "with lzma.open(\"./walker_chuq.pkl.xz\", \"wb\") as f:\n",
    "    pickle.dump(walker, f)"
   ]
  },
  {
   "cell_type": "code",
   "execution_count": 42,
   "id": "13da4248-5685-4c44-a82b-ca504678d73d",
   "metadata": {},
   "outputs": [
    {
     "name": "stdout",
     "output_type": "stream",
     "text": [
      "Batch: 1/1 completed, 100 steps. \n",
      "  Model parameter acceptance fraction: 0.460\n"
     ]
    },
    {
     "data": {
      "text/plain": [
       "0.46"
      ]
     },
     "execution_count": 42,
     "metadata": {},
     "output_type": "execute_result"
    }
   ],
   "source": [
    "walker.walk(10)"
   ]
  },
  {
   "cell_type": "code",
   "execution_count": 43,
   "id": "5e6fe440-a3aa-484c-8a3d-9c3a28c34997",
   "metadata": {},
   "outputs": [
    {
     "name": "stdout",
     "output_type": "stream",
     "text": [
      "Batch: 1/1 completed, 100 steps. \n",
      "  Model parameter acceptance fraction: 0.490\n",
      "CPU times: user 59.3 s, sys: 19.7 ms, total: 59.3 s\n",
      "Wall time: 51.2 s\n"
     ]
    },
    {
     "data": {
      "text/plain": [
       "0.49"
      ]
     },
     "execution_count": 43,
     "metadata": {},
     "output_type": "execute_result"
    }
   ],
   "source": [
    "%%time\n",
    "walker.walk(100)"
   ]
  },
  {
   "cell_type": "code",
   "execution_count": null,
   "id": "6a9a33fc-d711-472f-8426-5d02ea466622",
   "metadata": {},
   "outputs": [],
   "source": []
  },
  {
   "cell_type": "code",
   "execution_count": null,
   "id": "10ee724a-4816-4376-a5d1-55a5cbbbb9d2",
   "metadata": {},
   "outputs": [],
   "source": []
  }
 ],
 "metadata": {
  "kernelspec": {
   "display_name": "Python 3 (ipykernel)",
   "language": "python",
   "name": "python3"
  },
  "language_info": {
   "codemirror_mode": {
    "name": "ipython",
    "version": 3
   },
   "file_extension": ".py",
   "mimetype": "text/x-python",
   "name": "python",
   "nbconvert_exporter": "python",
   "pygments_lexer": "ipython3",
   "version": "3.11.9"
  }
 },
 "nbformat": 4,
 "nbformat_minor": 5
}
