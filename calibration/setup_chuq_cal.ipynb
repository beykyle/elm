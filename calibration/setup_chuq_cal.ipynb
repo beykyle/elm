{
 "cells": [
  {
   "cell_type": "markdown",
   "id": "3f8ff861-cc0e-43f5-b25a-8aeded2190ff",
   "metadata": {},
   "source": [
    "# Set up `rxmx.walker.Walker`"
   ]
  },
  {
   "cell_type": "code",
   "execution_count": 1,
   "id": "63f0d18f-fcdc-49ef-82f2-624f105c9afb",
   "metadata": {},
   "outputs": [],
   "source": [
    "import lzma\n",
    "from pathlib import Path\n",
    "\n",
    "import dill as pickle\n",
    "import numpy as np\n",
    "from tqdm import tqdm"
   ]
  },
  {
   "cell_type": "code",
   "execution_count": 2,
   "id": "dfcd72f3-4114-4d52-a1b4-e7f31b64f77c",
   "metadata": {},
   "outputs": [],
   "source": [
    "from scipy import stats\n",
    "from scipy.optimize import minimize"
   ]
  },
  {
   "cell_type": "code",
   "execution_count": 3,
   "id": "2f219292-9f05-4782-abf9-1ea0fd7c65c9",
   "metadata": {},
   "outputs": [
    {
     "name": "stdout",
     "output_type": "stream",
     "text": [
      "Using database version X4-2024-12-31 located in: /mnt/home/beyerkyl/x4db/unpack_exfor-2024/X4-2024-12-31\n"
     ]
    }
   ],
   "source": [
    "import elm"
   ]
  },
  {
   "cell_type": "code",
   "execution_count": 4,
   "id": "02918b94-ec87-4dd0-a873-1b72b19cc8f0",
   "metadata": {},
   "outputs": [],
   "source": [
    "import rxmc"
   ]
  },
  {
   "cell_type": "code",
   "execution_count": 5,
   "id": "5c21b22d-96af-4ed6-8ed8-ebdc291a7002",
   "metadata": {},
   "outputs": [],
   "source": [
    "evidence_dir = Path(\"../evidence/data\")\n",
    "model_dir = Path(\"../model/\")\n",
    "likelihood_model_dir = Path(\"../likelihood_model/\")\n",
    "prior_path = Path(\"../prior/\")"
   ]
  },
  {
   "cell_type": "markdown",
   "id": "db8255eb-1373-4433-bfb9-41e06ec647b5",
   "metadata": {},
   "source": [
    "## Prior"
   ]
  },
  {
   "cell_type": "code",
   "execution_count": 6,
   "id": "9721efc9-4297-4658-9d1b-da2fd86f12c0",
   "metadata": {},
   "outputs": [],
   "source": [
    "with open(prior_path / \"prior_distribution_chuq.pkl\", \"rb\") as f:\n",
    "    prior = pickle.load(f)"
   ]
  },
  {
   "cell_type": "markdown",
   "id": "93fbe315-59a9-4d38-a406-9bc7cb1fbd35",
   "metadata": {},
   "source": [
    "## read in observations"
   ]
  },
  {
   "cell_type": "code",
   "execution_count": 7,
   "id": "49caff49-5c22-440b-88f2-d64bbc55f47d",
   "metadata": {},
   "outputs": [],
   "source": [
    "with lzma.open(evidence_dir / \"nn_elastic_observations.xz\", \"rb\") as f:\n",
    "    nn_elastic_obs = pickle.load(f)\n",
    "with lzma.open(evidence_dir / \"pp_elastic_observations.xz\", \"rb\") as f:\n",
    "    pp_elastic_obs = pickle.load(f)"
   ]
  },
  {
   "cell_type": "markdown",
   "id": "d32341d0-8a98-41c5-9825-be9059e5ad3a",
   "metadata": {},
   "source": [
    "## read in physical models"
   ]
  },
  {
   "cell_type": "code",
   "execution_count": 8,
   "id": "30fcea9b-db74-4f3b-bf86-60bb8be7a6ff",
   "metadata": {},
   "outputs": [],
   "source": [
    "with open(model_dir / \"chuq_nn_model.pkl\", \"rb\") as f:\n",
    "    nn_model = pickle.load(f)"
   ]
  },
  {
   "cell_type": "code",
   "execution_count": 9,
   "id": "cef239c4-7f72-4636-9da8-d67f0e3c9925",
   "metadata": {},
   "outputs": [],
   "source": [
    "with open(model_dir / \"chuq_pp_model.pkl\", \"rb\") as f:\n",
    "    pp_model = pickle.load(f)"
   ]
  },
  {
   "cell_type": "markdown",
   "id": "3004fe73-f698-49ed-ad5c-5adb4e1165d8",
   "metadata": {},
   "source": [
    "## read in likelihood models"
   ]
  },
  {
   "cell_type": "code",
   "execution_count": 10,
   "id": "26e7e53d-74ee-4e17-8ebc-cb99a5c6d5cd",
   "metadata": {},
   "outputs": [],
   "source": [
    "with open(likelihood_model_dir / \"likelihood_model.pkl\", \"rb\") as f:\n",
    "    likelihood_model = pickle.load(f)"
   ]
  },
  {
   "cell_type": "markdown",
   "id": "3320d3e8-84d3-491e-a486-a71475c19a71",
   "metadata": {},
   "source": [
    "## Set up Evidence object"
   ]
  },
  {
   "cell_type": "code",
   "execution_count": 11,
   "id": "d32390e5-455a-498e-9faf-19a3c0d50750",
   "metadata": {},
   "outputs": [],
   "source": [
    "pp_constraints = [\n",
    "    rxmc.constraint.Constraint(\n",
    "        observations=obs,\n",
    "        physical_model=pp_model,\n",
    "        likelihood_model=likelihood_model,\n",
    "    )\n",
    "    for entry_id, obs in pp_elastic_obs.items()\n",
    "]\n",
    "nn_constraints = [\n",
    "    rxmc.constraint.Constraint(\n",
    "        observations=obs,\n",
    "        physical_model=nn_model,\n",
    "        likelihood_model=likelihood_model,\n",
    "    )\n",
    "    for entry_id, obs in nn_elastic_obs.items()\n",
    "]"
   ]
  },
  {
   "cell_type": "code",
   "execution_count": 12,
   "id": "cf6fa88e-9241-4a26-8cdf-04eb6ea8df0e",
   "metadata": {},
   "outputs": [],
   "source": [
    "evidence = rxmc.evidence.Evidence(constraints=nn_constraints + pp_constraints)"
   ]
  },
  {
   "cell_type": "code",
   "execution_count": 13,
   "id": "f1446665-6495-4e94-b888-0322938892dd",
   "metadata": {},
   "outputs": [
    {
     "name": "stdout",
     "output_type": "stream",
     "text": [
      "V0: 56.19\n",
      "Ve: -0.36\n",
      "Vt: 13.82\n",
      "r0: 1.20\n",
      "r0_0: -0.20\n",
      "a0: 0.73\n",
      "Wv0: 9.92\n",
      "Wve0: 33.15\n",
      "Wvew: 24.00\n",
      "rw: 1.32\n",
      "rw_0: -0.41\n",
      "aw: 0.69\n",
      "Ws0: 10.59\n",
      "Wst: 27.09\n",
      "Wse0: 20.00\n",
      "Wsew: 36.38\n",
      "Vso: 5.58\n",
      "rso: 1.29\n",
      "rso_0: -1.12\n",
      "aso: 0.61\n",
      "rc: 1.25\n",
      "rc_0: 0.13\n"
     ]
    }
   ],
   "source": [
    "starting_loc = prior.mean\n",
    "for x, p in zip(starting_loc, elm.chuq.params):\n",
    "    print(f\"{p.name}: {x:1.2f}\")"
   ]
  },
  {
   "cell_type": "code",
   "execution_count": 14,
   "id": "b67c5e15-b489-44dd-9d5b-8097960e9471",
   "metadata": {},
   "outputs": [],
   "source": [
    "scale_factors = [0.001, 0.01, 0.1]"
   ]
  },
  {
   "cell_type": "code",
   "execution_count": 16,
   "id": "f73cc984-a72e-40b8-b1a9-0a8759cfaf78",
   "metadata": {},
   "outputs": [],
   "source": [
    "prior_stddev = np.sqrt(np.diag(prior.cov))\n",
    "prop_stddevs = [prior_stddev * x for x in scale_factors]\n",
    "prop_cov = [np.diag((sigma) ** 2) for sigma in prop_stddevs]"
   ]
  },
  {
   "cell_type": "code",
   "execution_count": 19,
   "id": "02b53070-7b0c-4c59-a266-447defed874e",
   "metadata": {},
   "outputs": [
    {
     "data": {
      "text/plain": [
       "array([0.1625, 0.0025, 0.614 , 0.003 , 0.0125, 0.0025, 0.3775, 2.2425,\n",
       "       1.042 , 0.008 , 0.034 , 0.005 , 0.369 , 1.05  , 2.126 , 1.871 ,\n",
       "       0.055 , 0.011 , 0.048 , 0.004 , 0.012 , 0.0105])"
      ]
     },
     "execution_count": 19,
     "metadata": {},
     "output_type": "execute_result"
    }
   ],
   "source": [
    "prop_stddevs[2]"
   ]
  },
  {
   "cell_type": "code",
   "execution_count": 21,
   "id": "116aad49-e76e-433e-9c71-fdc2a0a7fa95",
   "metadata": {},
   "outputs": [],
   "source": [
    "sampling_configs = [\n",
    "    rxmc.param_sampling.SamplingConfig(\n",
    "        starting_location=starting_loc,\n",
    "        params=elm.chuq.params,\n",
    "        proposal=rxmc.proposal.NormalProposalDistribution(\n",
    "            cov=cov,\n",
    "        ),\n",
    "        prior=prior,\n",
    "    )\n",
    "    for cov in prop_cov\n",
    "]"
   ]
  },
  {
   "cell_type": "code",
   "execution_count": 16,
   "id": "31421b46-0f02-4251-8295-4e2a1b9e7974",
   "metadata": {},
   "outputs": [],
   "source": [
    "rng = np.random.default_rng(13)"
   ]
  },
  {
   "cell_type": "code",
   "execution_count": 23,
   "id": "36be45d9-256d-4c6d-b8cd-40d3fd72457f",
   "metadata": {},
   "outputs": [],
   "source": [
    "walkers = [\n",
    "    rxmc.walker.Walker(\n",
    "        model_sample_conf=sampling_config,\n",
    "        evidence=evidence,\n",
    "        rng=np.random.default_rng(42),\n",
    "    )\n",
    "    for sampling_config in sampling_configs\n",
    "]"
   ]
  },
  {
   "cell_type": "code",
   "execution_count": 25,
   "id": "de66a4e3-7b36-41a4-886a-09c8f7161b64",
   "metadata": {},
   "outputs": [],
   "source": [
    "for walker, s in zip(walkers, scale_factors):\n",
    "    with lzma.open(f\"./walker_chuq_prop_cov_scale_factor_{s}.pkl.xz\", \"wb\") as f:\n",
    "        pickle.dump(walker, f)"
   ]
  },
  {
   "cell_type": "code",
   "execution_count": 26,
   "id": "5e6fe440-a3aa-484c-8a3d-9c3a28c34997",
   "metadata": {},
   "outputs": [
    {
     "name": "stdout",
     "output_type": "stream",
     "text": [
      "Batch: 1/1 completed, 100 steps. \n",
      "  Model parameter acceptance fraction: 0.520\n",
      "CPU times: user 1min 6s, sys: 282 ms, total: 1min 6s\n",
      "Wall time: 56.3 s\n"
     ]
    },
    {
     "data": {
      "text/plain": [
       "0.52"
      ]
     },
     "execution_count": 26,
     "metadata": {},
     "output_type": "execute_result"
    }
   ],
   "source": [
    "%%time\n",
    "walkers[0].walk(100)"
   ]
  },
  {
   "cell_type": "code",
   "execution_count": 27,
   "id": "5c9b8893-2d43-4109-8611-ec5ba97d93ec",
   "metadata": {},
   "outputs": [
    {
     "name": "stdout",
     "output_type": "stream",
     "text": [
      "Batch: 1/1 completed, 100 steps. \n",
      "  Model parameter acceptance fraction: 0.490\n"
     ]
    },
    {
     "data": {
      "text/plain": [
       "0.49"
      ]
     },
     "execution_count": 27,
     "metadata": {},
     "output_type": "execute_result"
    }
   ],
   "source": [
    "walkers[1].walk(100)"
   ]
  },
  {
   "cell_type": "code",
   "execution_count": 28,
   "id": "a2fc2273-2e55-40e1-9120-f8ea762759c6",
   "metadata": {},
   "outputs": [
    {
     "name": "stdout",
     "output_type": "stream",
     "text": [
      "Batch: 1/1 completed, 100 steps. \n",
      "  Model parameter acceptance fraction: 0.140\n"
     ]
    },
    {
     "data": {
      "text/plain": [
       "0.14"
      ]
     },
     "execution_count": 28,
     "metadata": {},
     "output_type": "execute_result"
    }
   ],
   "source": [
    "walkers[2].walk(100)"
   ]
  },
  {
   "cell_type": "code",
   "execution_count": null,
   "id": "e6114b46-ccb4-4a92-8c7c-120cc85f5ff0",
   "metadata": {},
   "outputs": [],
   "source": []
  }
 ],
 "metadata": {
  "kernelspec": {
   "display_name": "Python 3 (ipykernel)",
   "language": "python",
   "name": "python3"
  },
  "language_info": {
   "codemirror_mode": {
    "name": "ipython",
    "version": 3
   },
   "file_extension": ".py",
   "mimetype": "text/x-python",
   "name": "python",
   "nbconvert_exporter": "python",
   "pygments_lexer": "ipython3",
   "version": "3.13.3"
  }
 },
 "nbformat": 4,
 "nbformat_minor": 5
}
