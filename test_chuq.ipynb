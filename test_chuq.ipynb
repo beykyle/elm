{
 "cells": [
  {
   "cell_type": "code",
   "execution_count": 1,
   "id": "b7aedae1-3080-47b7-8041-37d3cf265d80",
   "metadata": {},
   "outputs": [],
   "source": [
    "import numpy as np"
   ]
  },
  {
   "cell_type": "code",
   "execution_count": 2,
   "id": "670abdc7-5ae9-4eda-89fb-e238faeddf86",
   "metadata": {},
   "outputs": [],
   "source": [
    "from jitr import xs, reactions, rmatrix"
   ]
  },
  {
   "cell_type": "code",
   "execution_count": 3,
   "id": "48223c73-744f-4ecf-a4fc-0dbc5f587eba",
   "metadata": {},
   "outputs": [
    {
     "name": "stdout",
     "output_type": "stream",
     "text": [
      "Using database version X4-2024-12-31 located in: /home/beyerk/db/exfor/unpack_exfor-2024/X4-2024-12-31\n"
     ]
    }
   ],
   "source": [
    "from elm import chuq"
   ]
  },
  {
   "cell_type": "code",
   "execution_count": 4,
   "id": "29ccecd9-efed-4e52-b44e-84c598519f10",
   "metadata": {},
   "outputs": [],
   "source": [
    "from jitr.optical_potentials import chuq as jchuq"
   ]
  },
  {
   "cell_type": "code",
   "execution_count": 5,
   "id": "3ebd36df-0f50-42f2-8c2c-db20ffeb9a44",
   "metadata": {},
   "outputs": [],
   "source": [
    "Ca48 = (48,20)\n",
    "proton  =(1,1)"
   ]
  },
  {
   "cell_type": "code",
   "execution_count": 6,
   "id": "4fc37095-2c33-46f9-8fe8-df52cb8c08df",
   "metadata": {},
   "outputs": [],
   "source": [
    "params = jchuq.get_samples_democratic(proton)"
   ]
  },
  {
   "cell_type": "code",
   "execution_count": 7,
   "id": "94f78ca8-9af8-4c4e-a8f1-601a1d4821f5",
   "metadata": {},
   "outputs": [],
   "source": [
    "chuq_mean = np.mean(params, axis=0)"
   ]
  },
  {
   "cell_type": "code",
   "execution_count": 8,
   "id": "bb3311ea-b4c0-41c2-8ac0-adf3c6881d52",
   "metadata": {},
   "outputs": [],
   "source": [
    "reaction = reactions.ElasticReaction(\n",
    "    Ca48,\n",
    "    proton,\n",
    ")\n",
    "Elab = 35"
   ]
  },
  {
   "cell_type": "code",
   "execution_count": 9,
   "id": "a3ba6989-60ad-403b-9f7b-6292f057f27e",
   "metadata": {},
   "outputs": [],
   "source": [
    "ws = xs.elastic.DifferentialWorkspace.build_from_system(\n",
    "    reaction=reaction,\n",
    "    kinematics=reaction.kinematics(Elab),\n",
    "    channel_radius_fm=20,\n",
    "    solver=rmatrix.Solver(40),\n",
    "    lmax=30,\n",
    "    angles=np.linspace(0.01,np.pi,100)\n",
    ")"
   ]
  },
  {
   "cell_type": "code",
   "execution_count": 10,
   "id": "2804a3d7-257e-4b63-bb1e-d3653d67b304",
   "metadata": {},
   "outputs": [],
   "source": [
    "coul, centr, so = jchuq.calculate_params(projectile=proton, target=Ca48, Elab=Elab)\n",
    "xs_jchuq = ws.xs(\n",
    "    interaction_central=jchuq.central_plus_coulomb,\n",
    "    interaction_spin_orbit=jchuq.spin_orbit,\n",
    "    args_central=(centr, coul),\n",
    "    args_spin_orbit=so\n",
    ")"
   ]
  },
  {
   "cell_type": "code",
   "execution_count": 11,
   "id": "52df2777-189a-4056-9f55-dccafcf40a49",
   "metadata": {},
   "outputs": [],
   "source": [
    "centr0, centr1, so0, so1, coul, alpha = chuq.calculate_params(projectile=proton, target=Ca48, Elab=Elab)\n",
    "xs_chuq = ws.xs(\n",
    "    interaction_central=chuq.central_plus_coulomb,\n",
    "    interaction_spin_orbit=chuq.spin_orbit,\n",
    "    args_central=(alpha, coul, centr0, centr1),\n",
    "    args_spin_orbit=(alpha, so0, so1)\n",
    ")"
   ]
  },
  {
   "cell_type": "code",
   "execution_count": 14,
   "id": "24d8504b-4168-4c83-873c-5853e02abb0e",
   "metadata": {},
   "outputs": [],
   "source": [
    "np.testing.assert_allclose(xs_chuq.dsdo, xs_jchuq.dsdo)\n",
    "np.testing.assert_allclose(xs_chuq.Ay, xs_jchuq.Ay)"
   ]
  }
 ],
 "metadata": {
  "kernelspec": {
   "display_name": "Python 3 (ipykernel)",
   "language": "python",
   "name": "python3"
  },
  "language_info": {
   "codemirror_mode": {
    "name": "ipython",
    "version": 3
   },
   "file_extension": ".py",
   "mimetype": "text/x-python",
   "name": "python",
   "nbconvert_exporter": "python",
   "pygments_lexer": "ipython3",
   "version": "3.11.9"
  }
 },
 "nbformat": 4,
 "nbformat_minor": 5
}
