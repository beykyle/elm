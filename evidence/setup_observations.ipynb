{
 "cells": [
  {
   "cell_type": "markdown",
   "id": "a354614a-4676-44ad-bc1a-b2cfbf6bc7ea",
   "metadata": {},
   "source": [
    "# Set up `Observation` objects for each Exfor subentry\n",
    "\n",
    "Internally, this involves initializing a `jitr.xs.elastic.DifferentialWorkspace` for each `Observation`, which precomputes things like boundary conditions to speed up computation of observables for an interaction parameter."
   ]
  },
  {
   "cell_type": "code",
   "execution_count": 1,
   "id": "23e2576e-2184-4254-b321-71cc69c7602b",
   "metadata": {},
   "outputs": [],
   "source": [
    "import numpy as np"
   ]
  },
  {
   "cell_type": "code",
   "execution_count": 2,
   "id": "61b9a25d-96d7-4211-83f7-9e76663ea48e",
   "metadata": {},
   "outputs": [
    {
     "name": "stdout",
     "output_type": "stream",
     "text": [
      "Using database version X4-2024-12-31 located in: /mnt/home/beyerkyl/x4db/unpack_exfor-2024/X4-2024-12-31\n"
     ]
    }
   ],
   "source": [
    "import rxmc"
   ]
  },
  {
   "cell_type": "code",
   "execution_count": 3,
   "id": "f6441957-0644-40ed-b5b9-ae6062dbd688",
   "metadata": {},
   "outputs": [],
   "source": [
    "import lzma\n",
    "import pickle\n",
    "from pathlib import Path\n",
    "\n",
    "from tqdm import tqdm\n",
    "\n",
    "output_dir = Path(\"./data/\")"
   ]
  },
  {
   "cell_type": "code",
   "execution_count": 4,
   "id": "19d177a9-9154-479d-aca3-f83bf30856d4",
   "metadata": {},
   "outputs": [],
   "source": [
    "with lzma.open(output_dir / \"pp_elastic_data.xz\", \"rb\") as f:\n",
    "    pp_elastic_measurements = pickle.load(f)\n",
    "with lzma.open(output_dir / \"nn_elastic_data.xz\", \"rb\") as f:\n",
    "    nn_elastic_measurements = pickle.load(f)"
   ]
  },
  {
   "cell_type": "code",
   "execution_count": 5,
   "id": "1dcbd23b-1107-4a5a-b015-67a4ac6e9e73",
   "metadata": {},
   "outputs": [
    {
     "name": "stderr",
     "output_type": "stream",
     "text": [
      "100%|██████████| 18/18 [04:26<00:00, 14.81s/it]\n"
     ]
    }
   ],
   "source": [
    "nn_observations = {}\n",
    "for entry_id, mlist in tqdm(nn_elastic_measurements.items()):\n",
    "    if entry_id not in nn_observations:\n",
    "        nn_observations[entry_id] = []\n",
    "    for rxn, m in mlist:\n",
    "        nn_observations[entry_id].append(\n",
    "            rxmc.elastic_diffxs_observation.ElasticDifferentialXSObservation(\n",
    "                measurement=m,\n",
    "                reaction=rxn,\n",
    "                quantity=\"dXS/dA\",\n",
    "                lmax=50,\n",
    "                angles_vis=np.linspace(\n",
    "                    max(0, np.min(m.x) * 0.9), min(180, np.max(m.x) * 1.1), 100\n",
    "                ),\n",
    "                ObservationClass=rxmc.observation.Observation,\n",
    "                error_kwargs={\n",
    "                    \"include_sys_norm_err\": False,\n",
    "                    \"include_sys_offset_err\": False,\n",
    "                },\n",
    "            )\n",
    "        )"
   ]
  },
  {
   "cell_type": "code",
   "execution_count": 6,
   "id": "6f4b8849-6307-46df-8eaf-e9a66756d6a3",
   "metadata": {},
   "outputs": [
    {
     "name": "stderr",
     "output_type": "stream",
     "text": [
      "100%|██████████| 55/55 [10:28<00:00, 11.42s/it]\n"
     ]
    }
   ],
   "source": [
    "pp_observations = {}\n",
    "for entry_id, mlist in tqdm(pp_elastic_measurements.items()):\n",
    "    if entry_id not in pp_observations:\n",
    "        pp_observations[entry_id] = []\n",
    "    for rxn, m in mlist:\n",
    "        pp_observations[entry_id].append(\n",
    "            rxmc.elastic_diffxs_observation.ElasticDifferentialXSObservation(\n",
    "                m,\n",
    "                rxn,\n",
    "                \"dXS/dRuth\",\n",
    "                50,\n",
    "                angles_vis=np.linspace(\n",
    "                    max(0, np.min(m.x) * 0.9), min(180, np.max(m.x) * 1.1), 100\n",
    "                ),\n",
    "                ObservationClass=rxmc.observation.Observation,\n",
    "                error_kwargs={\n",
    "                    \"include_sys_norm_err\": False,\n",
    "                    \"include_sys_offset_err\": False,\n",
    "                },\n",
    "            )\n",
    "        )"
   ]
  },
  {
   "cell_type": "code",
   "execution_count": 7,
   "id": "447da9cc-af5b-4cd3-9520-065dab2b75ad",
   "metadata": {},
   "outputs": [],
   "source": [
    "with lzma.open(output_dir / \"pp_elastic_observations.xz\", \"wb\") as f:\n",
    "    pickle.dump(pp_observations, f)\n",
    "with lzma.open(output_dir / \"nn_elastic_observations.xz\", \"wb\") as f:\n",
    "    pickle.dump(nn_observations, f)"
   ]
  },
  {
   "cell_type": "markdown",
   "id": "b04655d1-b31a-4614-bbd2-dd930c7cbbcb",
   "metadata": {},
   "source": [
    "## Some tests"
   ]
  },
  {
   "cell_type": "code",
   "execution_count": 8,
   "id": "30849a0f-b7ff-462b-a15d-5b2c78401abf",
   "metadata": {},
   "outputs": [],
   "source": [
    "with open(\"../likelihood_model/likelihood_model.pkl\", \"rb\") as f:\n",
    "    lm = pickle.load(f)"
   ]
  },
  {
   "cell_type": "code",
   "execution_count": 9,
   "id": "c93c535c-649d-473f-a9ce-7da443e20cd4",
   "metadata": {},
   "outputs": [],
   "source": [
    "from matplotlib import pyplot as plt"
   ]
  },
  {
   "cell_type": "code",
   "execution_count": 10,
   "id": "97572814-807b-400b-bf00-ea2eb0635d5f",
   "metadata": {},
   "outputs": [
    {
     "data": {
      "text/plain": [
       "dict_keys(['E0166', 'O0387', 'C0624', 'O0239', 'C0076', 'C0893', 'O0254', 'O0352', 'O0384', 'T0108', 'O0049', 'O0142', 'O0208', 'O0382', 'T0101', 'O0211', 'O0253', 'O0302', 'C2165', 'E1201', 'O0458', 'O0169', 'C0085', 'D0295', 'O0351', 'O0372', 'O0389', 'F0733', 'O0300', 'O0370', 'O0788', 'O1825', 'T0152', 'O0545', 'C0622', 'O0549', 'T0289', 'O0471', 'O0581', 'O0580', 'C2174', 'E2042', 'O0124', 'O0328', 'O2532', 'E0904', 'D0289', 'F1173', 'C0081', 'O0157', 'O0225', 'O0272', 'O0285', 'O0287', 'O0552'])"
      ]
     },
     "execution_count": 10,
     "metadata": {},
     "output_type": "execute_result"
    }
   ],
   "source": [
    "pp_observations.keys()"
   ]
  },
  {
   "cell_type": "code",
   "execution_count": 11,
   "id": "98a7ba3b-a962-4095-aced-e8fd2105d6e8",
   "metadata": {},
   "outputs": [],
   "source": [
    "obs = pp_observations[\"O0387\"][0]"
   ]
  },
  {
   "cell_type": "code",
   "execution_count": 12,
   "id": "2a0e8c4f-aaa6-4bce-b0b0-36aed7442b2c",
   "metadata": {},
   "outputs": [],
   "source": [
    "y = 0.9 * obs.y + 0.01"
   ]
  },
  {
   "cell_type": "code",
   "execution_count": 13,
   "id": "c5e69166-42a5-4c65-b58d-6fd6f57fe471",
   "metadata": {},
   "outputs": [
    {
     "data": {
      "text/plain": [
       "[<matplotlib.lines.Line2D at 0x151e05a825d0>]"
      ]
     },
     "execution_count": 13,
     "metadata": {},
     "output_type": "execute_result"
    },
    {
     "data": {
      "image/png": "[encoded data removed]",
      "text/plain": [
       "<Figure size 640x480 with 1 Axes>"
      ]
     },
     "metadata": {},
     "output_type": "display_data"
    }
   ],
   "source": [
    "plt.errorbar(\n",
    "    obs.x,\n",
    "    obs.y,\n",
    "    np.diag(np.sqrt(obs._obs.statistical_covariance)),\n",
    "    linestyle=\"none\",\n",
    ")\n",
    "plt.plot(obs.x, y)\n",
    "# plt.yscale(\"log\")"
   ]
  },
  {
   "cell_type": "code",
   "execution_count": 14,
   "id": "59553355-1c19-4f54-b9ce-564d1ad93fa3",
   "metadata": {},
   "outputs": [
    {
     "data": {
      "text/plain": [
       "np.float64(1.96218661253842)"
      ]
     },
     "execution_count": 14,
     "metadata": {},
     "output_type": "execute_result"
    }
   ],
   "source": [
    "np.sum((y - obs.y) ** 2 / ((y * 0.3) ** 2 + np.diag(obs._obs.statistical_covariance)))"
   ]
  },
  {
   "cell_type": "code",
   "execution_count": 15,
   "id": "2dfb6a92-3f72-4b34-8049-4f3e2000abbf",
   "metadata": {},
   "outputs": [
    {
     "data": {
      "text/plain": [
       "np.float64(1.9621866125384197)"
      ]
     },
     "execution_count": 15,
     "metadata": {},
     "output_type": "execute_result"
    }
   ],
   "source": [
    "lm.chi2(obs, y)"
   ]
  }
 ],
 "metadata": {
  "kernelspec": {
   "display_name": "Python 3 (ipykernel)",
   "language": "python",
   "name": "python3"
  },
  "language_info": {
   "codemirror_mode": {
    "name": "ipython",
    "version": 3
   },
   "file_extension": ".py",
   "mimetype": "text/x-python",
   "name": "python",
   "nbconvert_exporter": "python",
   "pygments_lexer": "ipython3",
   "version": "3.13.3"
  }
 },
 "nbformat": 4,
 "nbformat_minor": 5
}
