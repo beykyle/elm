{
 "cells": [
  {
   "cell_type": "markdown",
   "id": "a354614a-4676-44ad-bc1a-b2cfbf6bc7ea",
   "metadata": {},
   "source": [
    "# Set up `Observation` objects for each Exfor subentry\n",
    "\n",
    "Internally, this involves initializing a `jitr.xs.elastic.DifferentialWorkspace` for each `Observation`, which precomputes things like boundary conditions to speed up computation of observables for an interaction parameter."
   ]
  },
  {
   "cell_type": "code",
   "execution_count": 4,
   "id": "23e2576e-2184-4254-b321-71cc69c7602b",
   "metadata": {},
   "outputs": [],
   "source": [
    "import numpy as np"
   ]
  },
  {
   "cell_type": "code",
   "execution_count": 5,
   "id": "61b9a25d-96d7-4211-83f7-9e76663ea48e",
   "metadata": {},
   "outputs": [
    {
     "name": "stdout",
     "output_type": "stream",
     "text": [
      "Using database version X4-2024-12-31 located in: /home/beyerk/db/exfor/unpack_exfor-2024/X4-2024-12-31\n"
     ]
    }
   ],
   "source": [
    "import rxmc"
   ]
  },
  {
   "cell_type": "code",
   "execution_count": 6,
   "id": "f6441957-0644-40ed-b5b9-ae6062dbd688",
   "metadata": {},
   "outputs": [],
   "source": [
    "import lzma\n",
    "import pickle\n",
    "from pathlib import Path\n",
    "\n",
    "from tqdm import tqdm\n",
    "\n",
    "output_dir = Path(\"./data/\")"
   ]
  },
  {
   "cell_type": "code",
   "execution_count": 7,
   "id": "19d177a9-9154-479d-aca3-f83bf30856d4",
   "metadata": {},
   "outputs": [],
   "source": [
    "with lzma.open(output_dir / \"pp_elastic_data.xz\", \"rb\") as f:\n",
    "    pp_elastic_measurements = pickle.load(f)\n",
    "with lzma.open(output_dir / \"nn_elastic_data.xz\", \"rb\") as f:\n",
    "    nn_elastic_measurements = pickle.load(f)"
   ]
  },
  {
   "cell_type": "markdown",
   "id": "70dafe7b-18fa-4164-9d4d-ee39c187b4bc",
   "metadata": {},
   "source": [
    "- statistical errors only\n",
    "- covariance fixed so use `FixedCovarianceObservation` to ensure cov matrix is precomputed"
   ]
  },
  {
   "cell_type": "code",
   "execution_count": 10,
   "id": "1dcbd23b-1107-4a5a-b015-67a4ac6e9e73",
   "metadata": {},
   "outputs": [
    {
     "name": "stderr",
     "output_type": "stream",
     "text": [
      "100%|███████████████████████████████████████████████████████████████| 18/18 [02:21<00:00,  7.87s/it]\n"
     ]
    }
   ],
   "source": [
    "nn_observations = {}\n",
    "for entry_id, mlist in tqdm(nn_elastic_measurements.items()):\n",
    "    if entry_id not in nn_observations:\n",
    "        nn_observations[entry_id] = []\n",
    "    for rxn, m in mlist:\n",
    "        nn_observations[entry_id].append(\n",
    "            rxmc.elastic_diffxs_observation.ElasticDifferentialXSObservation(\n",
    "                measurement=m,\n",
    "                reaction=rxn,\n",
    "                quantity=\"dXS/dA\",\n",
    "                lmax=50,\n",
    "                angles_vis=np.linspace(max(0,np.min(m.x)*0.9), min(180,np.max(m.x)*1.1), 100),\n",
    "                ObservationClass=rxmc.observation.FixedCovarianceObservation,\n",
    "                error_kwargs={\n",
    "                    \"include_sys_norm_err\": False,\n",
    "                    \"include_sys_offset_err\": False,\n",
    "                },\n",
    "            )\n",
    "        )"
   ]
  },
  {
   "cell_type": "code",
   "execution_count": 11,
   "id": "6f4b8849-6307-46df-8eaf-e9a66756d6a3",
   "metadata": {},
   "outputs": [
    {
     "name": "stderr",
     "output_type": "stream",
     "text": [
      "100%|███████████████████████████████████████████████████████████████| 55/55 [05:39<00:00,  6.17s/it]\n"
     ]
    }
   ],
   "source": [
    "pp_observations = {}\n",
    "for  entry_id, mlist in tqdm(pp_elastic_measurements.items()):\n",
    "    if entry_id not in pp_observations:\n",
    "        pp_observations[entry_id] = []\n",
    "    for rxn, m in mlist:\n",
    "        pp_observations[entry_id].append(\n",
    "            rxmc.elastic_diffxs_observation.ElasticDifferentialXSObservation(\n",
    "                m,\n",
    "                rxn,\n",
    "                \"dXS/dRuth\",\n",
    "                50,                \n",
    "                angles_vis=np.linspace(max(0,np.min(m.x)*0.9), min(180,np.max(m.x)*1.1), 100),\n",
    "                ObservationClass=rxmc.observation.FixedCovarianceObservation,\n",
    "                error_kwargs={\n",
    "                    \"include_sys_norm_err\": False,\n",
    "                    \"include_sys_offset_err\": False,\n",
    "                },\n",
    "            )\n",
    "        )"
   ]
  },
  {
   "cell_type": "code",
   "execution_count": 12,
   "id": "447da9cc-af5b-4cd3-9520-065dab2b75ad",
   "metadata": {},
   "outputs": [],
   "source": [
    "with lzma.open(output_dir / \"pp_elastic_observations.xz\", \"wb\") as f:\n",
    "    pickle.dump(pp_observations, f)\n",
    "with lzma.open(output_dir / \"nn_elastic_observations.xz\", \"wb\") as f:\n",
    "    pickle.dump(nn_observations, f)"
   ]
  }
 ],
 "metadata": {
  "kernelspec": {
   "display_name": "Python 3 (ipykernel)",
   "language": "python",
   "name": "python3"
  },
  "language_info": {
   "codemirror_mode": {
    "name": "ipython",
    "version": 3
   },
   "file_extension": ".py",
   "mimetype": "text/x-python",
   "name": "python",
   "nbconvert_exporter": "python",
   "pygments_lexer": "ipython3",
   "version": "3.11.9"
  }
 },
 "nbformat": 4,
 "nbformat_minor": 5
}
