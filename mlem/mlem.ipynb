{
 "cells": [
  {
   "cell_type": "markdown",
   "id": "f0ea286c-6e69-4000-a859-31de86ada6a5",
   "metadata": {},
   "source": [
    "# Maximum Likelihood Expectation Maximization\n",
    "Frequentist optimization of liklelihood surface"
   ]
  },
  {
   "cell_type": "code",
   "execution_count": 1,
   "id": "63f0d18f-fcdc-49ef-82f2-624f105c9afb",
   "metadata": {},
   "outputs": [],
   "source": [
    "import lzma\n",
    "from pathlib import Path\n",
    "\n",
    "import dill as pickle\n",
    "import numpy as np\n",
    "from matplotlib import pyplot as plt\n",
    "from tqdm import tqdm"
   ]
  },
  {
   "cell_type": "code",
   "execution_count": 2,
   "id": "e5d23141-c4fd-49ae-8070-5ed92b5df678",
   "metadata": {},
   "outputs": [],
   "source": [
    "import ipyparallel as ipp"
   ]
  },
  {
   "cell_type": "code",
   "execution_count": 3,
   "id": "dfcd72f3-4114-4d52-a1b4-e7f31b64f77c",
   "metadata": {},
   "outputs": [],
   "source": [
    "from scipy.optimize import minimize"
   ]
  },
  {
   "cell_type": "code",
   "execution_count": 4,
   "id": "2f219292-9f05-4782-abf9-1ea0fd7c65c9",
   "metadata": {},
   "outputs": [
    {
     "name": "stdout",
     "output_type": "stream",
     "text": [
      "Using database version X4-2024-12-31 located in: /home/beyerk/db/exfor/unpack_exfor-2024/X4-2024-12-31\n"
     ]
    }
   ],
   "source": [
    "import elm"
   ]
  },
  {
   "cell_type": "code",
   "execution_count": 5,
   "id": "02918b94-ec87-4dd0-a873-1b72b19cc8f0",
   "metadata": {},
   "outputs": [],
   "source": [
    "import rxmc"
   ]
  },
  {
   "cell_type": "code",
   "execution_count": 6,
   "id": "5c21b22d-96af-4ed6-8ed8-ebdc291a7002",
   "metadata": {},
   "outputs": [],
   "source": [
    "evidence_dir = Path(\"../evidence/data\")\n",
    "model_dir = Path(\"../model/\")\n",
    "likelihood_model_dir = Path(\"../likelihood_model/\")\n",
    "prior_path = Path(\"../prior/prior_distribution.pickle\")"
   ]
  },
  {
   "cell_type": "code",
   "execution_count": 7,
   "id": "f50b6ca3-d5db-486a-8080-cbb0345226f9",
   "metadata": {},
   "outputs": [],
   "source": [
    "output_dir = Path(\"./elm_prior_propagation//\")\n",
    "output_dir.mkdir(parents=True, exist_ok=True)"
   ]
  },
  {
   "cell_type": "markdown",
   "id": "febff167-ec12-4c4e-8db2-5616fc3a4c50",
   "metadata": {},
   "source": [
    "## read in ELM prior parameter samples"
   ]
  },
  {
   "cell_type": "code",
   "execution_count": 8,
   "id": "6c7c798f-6731-454b-8d4f-8e5df47fb51c",
   "metadata": {},
   "outputs": [],
   "source": [
    "with open(prior_path, \"rb\") as f:\n",
    "    prior = pickle.load(f)\n",
    "prior_samples = prior.rvs(1000)"
   ]
  },
  {
   "cell_type": "markdown",
   "id": "f915432e-4d28-4502-b59b-f60d9411909a",
   "metadata": {},
   "source": [
    "## read in observations"
   ]
  },
  {
   "cell_type": "code",
   "execution_count": 9,
   "id": "49caff49-5c22-440b-88f2-d64bbc55f47d",
   "metadata": {},
   "outputs": [],
   "source": [
    "with lzma.open(evidence_dir / \"nn_elastic_observations.xz\", \"rb\") as f:\n",
    "    nn_elastic_obs = pickle.load(f)\n",
    "with lzma.open(evidence_dir / \"pp_elastic_observations.xz\", \"rb\") as f:\n",
    "    pp_elastic_obs = pickle.load(f)"
   ]
  },
  {
   "cell_type": "markdown",
   "id": "39f12c34-4542-4122-9b72-62a84cde5cec",
   "metadata": {},
   "source": [
    "## read in physical models"
   ]
  },
  {
   "cell_type": "code",
   "execution_count": 10,
   "id": "30fcea9b-db74-4f3b-bf86-60bb8be7a6ff",
   "metadata": {},
   "outputs": [],
   "source": [
    "with open(model_dir / \"elm_nn_model.pkl\", \"rb\") as f:\n",
    "    elm_nn_model = pickle.load(f)"
   ]
  },
  {
   "cell_type": "code",
   "execution_count": 11,
   "id": "cef239c4-7f72-4636-9da8-d67f0e3c9925",
   "metadata": {},
   "outputs": [],
   "source": [
    "with open(model_dir / \"elm_pp_model.pkl\", \"rb\") as f:\n",
    "    elm_pp_model = pickle.load(f)"
   ]
  },
  {
   "cell_type": "markdown",
   "id": "08c3af36-4eab-4f6c-8098-333321e61678",
   "metadata": {},
   "source": [
    "## read in likelihood models"
   ]
  },
  {
   "cell_type": "code",
   "execution_count": 12,
   "id": "26e7e53d-74ee-4e17-8ebc-cb99a5c6d5cd",
   "metadata": {},
   "outputs": [],
   "source": [
    "with open(likelihood_model_dir / \"likelihood_model.pkl\", \"rb\") as f:\n",
    "    likelihood_model = pickle.load(f)"
   ]
  },
  {
   "cell_type": "markdown",
   "id": "f1a66d9e-6bd2-4db9-b272-4ea06b7d1c9e",
   "metadata": {},
   "source": [
    "## Set up Evidence object"
   ]
  },
  {
   "cell_type": "code",
   "execution_count": 13,
   "id": "d32390e5-455a-498e-9faf-19a3c0d50750",
   "metadata": {},
   "outputs": [],
   "source": [
    "pp_constraints = [\n",
    "    rxmc.constraint.Constraint(\n",
    "        observations=obs,\n",
    "        physical_model=elm_pp_model,\n",
    "        likelihood_model=likelihood_model,\n",
    "    )\n",
    "    for entry_id, obs in pp_elastic_obs.items()\n",
    "]\n",
    "nn_constraints = [\n",
    "    rxmc.constraint.Constraint(\n",
    "        observations=obs,\n",
    "        physical_model=elm_nn_model,\n",
    "        likelihood_model=likelihood_model,\n",
    "    )\n",
    "    for entry_id, obs in nn_elastic_obs.items()\n",
    "]"
   ]
  },
  {
   "cell_type": "code",
   "execution_count": 14,
   "id": "cf6fa88e-9241-4a26-8cdf-04eb6ea8df0e",
   "metadata": {},
   "outputs": [],
   "source": [
    "evidence = rxmc.evidence.Evidence(constraints=nn_constraints + pp_constraints)"
   ]
  },
  {
   "cell_type": "markdown",
   "id": "a829e4cf-a6ae-4516-a8a0-74c2cae7dab0",
   "metadata": {},
   "source": [
    "## Run MLEM"
   ]
  },
  {
   "cell_type": "code",
   "execution_count": 15,
   "id": "efacfff7-14bb-47ef-8f7e-a7cf9482cc2f",
   "metadata": {},
   "outputs": [
    {
     "data": {
      "text/plain": [
       "[(30, 80),\n",
       " (0, 30),\n",
       " (20, 50),\n",
       " (0, 60),\n",
       " (-10, 60),\n",
       " (-10, 60),\n",
       " (-0.4, -0.3),\n",
       " (-0.01, 0.01),\n",
       " (10, 60),\n",
       " (10, 60),\n",
       " (0.9, 1.5),\n",
       " (0.9, 1.5),\n",
       " (0.4, 1.0),\n",
       " (0.4, 1.0)]"
      ]
     },
     "execution_count": 15,
     "metadata": {},
     "output_type": "execute_result"
    }
   ],
   "source": [
    "bounds = [p.bounds for p in elm.params]\n",
    "bounds"
   ]
  },
  {
   "cell_type": "code",
   "execution_count": 16,
   "id": "f10b5d56-628b-4700-a049-2dd1904bb032",
   "metadata": {},
   "outputs": [],
   "source": [
    "good_samples = np.concatenate(\n",
    "    [np.load(\"/home/beyerk/db/chex_calibration/results/qe_cal_samples.npy\")]\n",
    ")\n",
    "mask = np.ones(15, dtype=bool)\n",
    "mask[6] = False\n",
    "good_starting_point = np.mean(good_samples[:, mask], axis=0)\n",
    "good_ssample_stdev = np.std(good_samples[:, mask], axis=0)"
   ]
  },
  {
   "cell_type": "code",
   "execution_count": null,
   "id": "31421b46-0f02-4251-8295-4e2a1b9e7974",
   "metadata": {},
   "outputs": [],
   "source": [
    "%%timeit\n",
    "evidence.log_likelihood(prior.mean)"
   ]
  },
  {
   "cell_type": "code",
   "execution_count": null,
   "id": "5eaacd5b-c731-42b8-97a6-d62fb9f9ef7f",
   "metadata": {},
   "outputs": [],
   "source": [
    "%%time\n",
    "result = minimize(\n",
    "    lambda x: -evidence.log_likelihood(x, executor=rc),\n",
    "    good_starting_point,\n",
    "    bounds=bounds,\n",
    ")"
   ]
  },
  {
   "cell_type": "code",
   "execution_count": 21,
   "id": "f4992581-21c0-4f77-a281-5345bdad5738",
   "metadata": {},
   "outputs": [
    {
     "ename": "NameError",
     "evalue": "name 'result' is not defined",
     "output_type": "error",
     "traceback": [
      "\u001b[0;31m---------------------------------------------------------------------------\u001b[0m",
      "\u001b[0;31mNameError\u001b[0m                                 Traceback (most recent call last)",
      "Cell \u001b[0;32mIn[21], line 2\u001b[0m\n\u001b[1;32m      1\u001b[0m \u001b[38;5;28;01mwith\u001b[39;00m \u001b[38;5;28mopen\u001b[39m(\u001b[38;5;124m\"\u001b[39m\u001b[38;5;124mmlem_result.pkl\u001b[39m\u001b[38;5;124m\"\u001b[39m, \u001b[38;5;124m\"\u001b[39m\u001b[38;5;124mwb\u001b[39m\u001b[38;5;124m\"\u001b[39m) \u001b[38;5;28;01mas\u001b[39;00m f:\n\u001b[0;32m----> 2\u001b[0m     pickle\u001b[38;5;241m.\u001b[39mdump(\u001b[43mresult\u001b[49m, f)\n",
      "\u001b[0;31mNameError\u001b[0m: name 'result' is not defined"
     ]
    }
   ],
   "source": [
    "with open(\"mlem_result.pkl\", \"wb\") as f:\n",
    "    pickle.dump(result, f)"
   ]
  },
  {
   "cell_type": "code",
   "execution_count": null,
   "id": "ec0a28f2-3d09-4297-974c-0885d61792bb",
   "metadata": {},
   "outputs": [],
   "source": [
    "result"
   ]
  },
  {
   "cell_type": "code",
   "execution_count": null,
   "id": "455a65d9-af80-42b7-bb1b-7eba5c8d7193",
   "metadata": {},
   "outputs": [],
   "source": [
    "for p, x in zip(elm.params, result.x):\n",
    "    print(p.name, x)"
   ]
  }
 ],
 "metadata": {
  "kernelspec": {
   "display_name": "Python 3 (ipykernel)",
   "language": "python",
   "name": "python3"
  },
  "language_info": {
   "codemirror_mode": {
    "name": "ipython",
    "version": 3
   },
   "file_extension": ".py",
   "mimetype": "text/x-python",
   "name": "python",
   "nbconvert_exporter": "python",
   "pygments_lexer": "ipython3",
   "version": "3.11.9"
  }
 },
 "nbformat": 4,
 "nbformat_minor": 5
}
