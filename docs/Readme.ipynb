{
 "cells": [
  {
   "cell_type": "markdown",
   "id": "35a9ba7e-a26f-4392-9613-ee54bc66fafb",
   "metadata": {},
   "source": [
    "## Todo:\n",
    "- write calibration as py file with MPI\n",
    "- re-write all evaluations of cross sections to include ELM Coulomb correction for protons\n",
    "- regenerate prior to use CHUQ-like geometry with larger diffuseness\n",
    "- use 10% model error term\n",
    "- re-run el and qel calibrations\n",
    "- uq for Rskin, Esym, L"
   ]
  },
  {
   "cell_type": "markdown",
   "id": "8cb89405-820a-4f8d-bce4-d5fc569a31ba",
   "metadata": {},
   "source": [
    "## How to use these notbooks\n",
    "\n",
    "These notebooks walk through the gathering of data to use as evidence, determination of a prior, calibration, and visualization of a global optical potential using JITR. \n",
    "\n",
    "The potential is the East Lansing Model (ELM), described in `elm.py` and described below.\n"
   ]
  },
  {
   "cell_type": "markdown",
   "id": "a7ea3dab-e8ca-428e-999b-a636dff59d89",
   "metadata": {},
   "source": [
    "The notebooks should be run in the following order:\n",
    "\n",
    "0. run this file, `README.ipynb`, to install relevant packages\n",
    "1. run `gather_evidence.ipynb` to gather data from exfor to calibrate to, and set up the workspaces we will use for calibration and visualization\n",
    "2. run `generate_kduq_pred_post.ipynb` to see how well KDUQ does to describe this data\n",
    "3. run `generate_ELM_prior.ipynb` to generate a reasonable prior based on KDUQ\n",
    "4. run `run_ELM_cal.ipynb` to run the calibration\n",
    "5. run `elm_predictive_post_xs.ipynb` to generate predictive posteriors"
   ]
  },
  {
   "cell_type": "markdown",
   "id": "1e0dad77-3b0e-44cd-9b14-8909735325e4",
   "metadata": {},
   "source": [
    "## What scientific software will we use?\n",
    "The usual suspects (numpy, scip, matplotlib, etc.) will do a lot of the heavy lifting for us. We will also use some more specialized librarier:\n",
    "\n",
    "- [jitr](https://github.com/beykyle/jitr) parametric reaction code\n",
    "- [exfor-tools](https://github.com/beykyle/exfor_tools) using an [x4i3](https://github.com/afedynitch/x4i3/) backend for grabbing data from [EXFOR](https://www-nds.iaea.org/exfor/) (requires 1GB of disk space to download).\n",
    "- [corner](https://corner.readthedocs.io/en/latest/) for nice plots"
   ]
  },
  {
   "cell_type": "markdown",
   "id": "dcfe0d4e-3002-477e-af94-634c02ee531d",
   "metadata": {},
   "source": [
    "## Fitting philosophy\n",
    "We would like to start with a more limited form and scale up to a more complicated one as demanded by the evidence. In particular, to begin, we will not consider analyzing powers or other polarization data, and instead freeze the spin-orbit contribution to that of previously fit potentials."
   ]
  },
  {
   "cell_type": "code",
   "execution_count": 9,
   "id": "33ce604d-9e31-4c9c-a995-9b2a7a7fdd10",
   "metadata": {},
   "outputs": [],
   "source": [
    "!pip install jitr\n",
    "!pip install exfor-tools\n",
    "!pip install corner"
   ]
  },
  {
   "cell_type": "markdown",
   "id": "cb03c697-e32b-45cf-a481-13632c52c8dd",
   "metadata": {},
   "source": [
    "## the East Lansing Model\n",
    "\n",
    "We would like to calibrate the East Lansing model. The East Lansing Model (ELM) is Lane consistent,\n",
    "\n",
    "\\begin{align}\n",
    "    U(r;E,A,Z) &= U_0(r;E,A) \\pm \\alpha U_1(r;E,A) + V_C(r),\n",
    "\\end{align}\n",
    "\n",
    "with the plus(minus) referring to neutrons(protons), and $\\alpha = (N-Z)/(N+Z)$. The energy argument is the center of mass energy, with a Coulomb correction in the case of protons:\n",
    "\n",
    "\\begin{equation}\n",
    "E = \\begin{cases} E_{cm} & \\rm{neutron} \\\\ E_{cm} - \\frac{6 Z e^2}{5 R_C} & \\rm{proton} \\\\ \\end{cases}\n",
    "\\end{equation}\n",
    "\n",
    "\n",
    "$V_C$ is the standard Coulomb charged sphere form (see [Koning Delaroche](https://doi.org/10.1016/S0375-9474(02)01321-0) Eq. 4):\n",
    "\n",
    "\\begin{align}\n",
    "    V_C(r;Z) &= \\begin{cases} \\frac{Z z e^2}{2 R_c} \\left( 3  - r^2/R_C^2\\right) & r <= R_C \\\\ Zze^2/r &r > R_C \\end{cases}.\n",
    "\\end{align}\n",
    "\n",
    "\n",
    "The isoscalar $U_0$ and isovector $U_1$ components are free to have different geometries and energy dependencies. These are:\n",
    "\n",
    "\\begin{align}\n",
    "    U_0(r,E,A) &= \n",
    "    -\\bigg( V_0(E) + i W_0(E)  \\bigg) f(r,R_0,a_0)  - 4 i a_0 W_{D0}(E) \\frac{d}{dr} f(r,R_0,a_0) \\\\\n",
    "    & + V_{so}  \\bigg( \\frac{\\hbar}{m_\\pi c}\\bigg)^2 \\frac{1}{r} \\frac{d}{dr}  f(r,R_0,a_0),\n",
    "\\end{align}\n",
    "\n",
    "and\n",
    "\n",
    "\\begin{align}\n",
    "    U_1(r,E,A) &= \n",
    "    -\\bigg( V_1(E) + i W_1(E)  \\bigg) f(r,R_1,a_1)  - 4 i a_1 W_{D1}(E) \\frac{d}{dr} f(r,R_1,a_1) \\\\\n",
    "\\end{align}\n",
    "\n",
    "\n",
    "Here, $f(r,R,a)$ is the Woods-Saxon form factor. Note that all isoscalar terms shared the same geometry, likewiswe with isovector. Only the isoscalar part has a spin-orbit coupling. \n",
    "\n",
    "The radius of the isoscalar potential $R_0$ and the diffuseness $a_0$ are parameterized as without any $E$ or $A$ dependence aside from the typical volume term. The free parameters $r_0$, $a_0$, $r_1$ and $a_1$ are in units of fm. The radii that enter into the Woods-Saxon form factors are then\n",
    "\n",
    "\\begin{align}\n",
    "    R_0 &= r_0 A^{1/3} \\\\\n",
    "    R_1 &= r_1 A^{1/3}.\n",
    "\\end{align}\n",
    "\n",
    "The Coulomb radius $R_C$ is determined by the isoscalar geometry:\n",
    "\n",
    "\\begin{equation}\n",
    "R_C = R_0.\n",
    "\\end{equation}\n",
    "\n",
    "One can approximately consider the isovector geometry as corresponding to the isovector skin of the nucleus; with $R_1 > R_0$ corresponding to the formation of a neutron skin for neutron-rich nuclei, and a proton skin for proton-rich nuclei. The strength of this isovector term is proportional to $\\alpha$. \n",
    "\n",
    "\n",
    "The depths of each of are parameterized as a function of $E- E_F$, the difference between the center-of-mass frame energy between the projectile and target, and the Fermi energy of the target, the latter of which is not treated as a free parameter but is instead taken from experiment. The isoscalar depths terms are\n",
    "\n",
    "\\begin{align}\n",
    "    V_0(E) &= V_0 \\big( 1 + \\alpha (E - E_f) + \\beta (E- E_F)^2 \\big) \\\\\n",
    "    W_0(E) &= W_0 \\frac{(E - E_f)^2}{(E-E_F)^2 + \\gamma_W^2} \\\\\n",
    "    W_{D0}(E) &= W_{D0}  \\frac{(E - E_f)^2}{(E-E_F)^2 + \\gamma_D^2} \\, \\exp{\\left( -\\frac{E-E_f}{\\gamma_D}  \\right)} \\\\\n",
    "    V_{so}(E) &= V_{so}   \\\\\n",
    "\\end{align}\n",
    "\n",
    "Note the neglect of any $A$ dependence of the depths aside from the isovector factors. This was chosen due to recent uncertainty quantified calibration of global optical potentials to elastic scattering observables indicating that the correction terms linear in $A$ typically are at least an order of magnitude smaller than corresponding $A$ independent terms, and have uncertainties on the order of their magnitudes. The isovector depths are\n",
    "\n",
    "\\begin{align}\n",
    "    V_1(E) &= V_1 \\big( 1 + \\alpha (E - E_f) + \\beta (E- E_F)^2 \\big) \\\\\n",
    "    W_1(E) &= W_1 \\frac{(E - E_f)^2}{(E-E_F)^2 + \\gamma_W^2} \\\\\n",
    "    W_{D1}(E) &= W_{D1}  \\frac{(E - E_f)^2}{(E-E_F)^2 + \\gamma_D^2} \\, \\exp{\\left( -\\frac{E-E_f}{\\gamma_D}  \\right)} \\\\\n",
    "\\end{align}\n",
    "\n",
    "Notice that the isovector and isoscalar terms share energy dependencies. In total, the depths have 11 free parameters; 7 magnitudes $V_0$, $V_1$, $W_0$, $W_1$ $W_{D0}$, $W_{D1}$ $V_{so}$, 2 terms for the polynomial energy dependence of $V(E)$; $\\alpha$ and $\\beta$, and 2 terms for the energy dependence of the imaginary strengths; $\\gamma_W$, and $\\gamma_D$. Including the 4 free geometric parameters, $r_0$, $r_1$, $a_0$, and $a_1$, there are 15 free parameters total. \n",
    "\n"
   ]
  },
  {
   "cell_type": "code",
   "execution_count": null,
   "id": "88685d10-9fa7-416b-83ca-cff5d976a9df",
   "metadata": {},
   "outputs": [],
   "source": []
  }
 ],
 "metadata": {
  "kernelspec": {
   "display_name": "Python 3 (ipykernel)",
   "language": "python",
   "name": "python3"
  },
  "language_info": {
   "codemirror_mode": {
    "name": "ipython",
    "version": 3
   },
   "file_extension": ".py",
   "mimetype": "text/x-python",
   "name": "python",
   "nbconvert_exporter": "python",
   "pygments_lexer": "ipython3",
   "version": "3.11.9"
  }
 },
 "nbformat": 4,
 "nbformat_minor": 5
}
