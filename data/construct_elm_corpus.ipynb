{
 "cells": [
  {
   "cell_type": "code",
   "execution_count": 1,
   "id": "6c38824c-cb69-4561-9f07-9f6b3fe169ac",
   "metadata": {},
   "outputs": [],
   "source": [
    "import pickle\n",
    "from collections import OrderedDict\n",
    "from pathlib import Path\n",
    "\n",
    "import numpy as np\n",
    "from matplotlib import pyplot as plt\n",
    "from periodictable import elements\n",
    "from tqdm import tqdm"
   ]
  },
  {
   "cell_type": "code",
   "execution_count": 2,
   "id": "57172f8d-9af1-41cc-abbc-7c89cd166558",
   "metadata": {},
   "outputs": [],
   "source": [
    "from jitr.optical_potentials import kduq, wlh"
   ]
  },
  {
   "cell_type": "code",
   "execution_count": 3,
   "id": "b0ccecdb-60e7-4e4b-aede-1252762eeaee",
   "metadata": {},
   "outputs": [
    {
     "name": "stdout",
     "output_type": "stream",
     "text": [
      "Using database version X4-2024-12-31 located in: /home/beyerk/db/exfor/unpack_exfor-2024/X4-2024-12-31\n"
     ]
    }
   ],
   "source": [
    "import rxmc"
   ]
  },
  {
   "cell_type": "code",
   "execution_count": 4,
   "id": "7a7efd0a-e8b9-4999-b0b8-cbef94b4ad42",
   "metadata": {},
   "outputs": [],
   "source": [
    "import elm"
   ]
  },
  {
   "cell_type": "code",
   "execution_count": 5,
   "id": "2c66da99-d112-4f80-8ef9-afcf996859d8",
   "metadata": {},
   "outputs": [],
   "source": [
    "neutron = (1, 0)\n",
    "proton = (1, 1)"
   ]
  },
  {
   "cell_type": "code",
   "execution_count": 14,
   "id": "04c79a30-64b2-4abc-a148-50fdcda3c3f4",
   "metadata": {},
   "outputs": [],
   "source": [
    "with open(Path(\"../prior/prior_distribution.pickle\"), \"rb\") as f:\n",
    "    prior_distribution = pickle.load(f)\n",
    "param_samples = rxmc.params.array_to_list(prior_distribution.rvs(1000), [p.name for p in elm.params])"
   ]
  },
  {
   "cell_type": "code",
   "execution_count": 15,
   "id": "003aade7-292c-4ce8-9ede-ce1a13d2a9d6",
   "metadata": {},
   "outputs": [
    {
     "data": {
      "text/plain": [
       "OrderedDict([('V0', np.float64(56.92343461476179)),\n",
       "             ('W0', np.float64(14.772410903638328)),\n",
       "             ('Wd0', np.float64(2.048836983332338)),\n",
       "             ('V1', np.float64(6.253158373254973)),\n",
       "             ('W1', np.float64(2.4901245716855356)),\n",
       "             ('Wd1', np.float64(29.003945161217835)),\n",
       "             ('alpha', np.float64(-0.4320259825764513)),\n",
       "             ('gamma_w', np.float64(55.177005146181386)),\n",
       "             ('gamma_d', np.float64(52.3856039722908)),\n",
       "             ('r0A', np.float64(1.18546013236974)),\n",
       "             ('r1A', np.float64(1.1980466952505506)),\n",
       "             ('a0', np.float64(0.6821556279538155)),\n",
       "             ('a1', np.float64(0.7096455579233042))])"
      ]
     },
     "execution_count": 15,
     "metadata": {},
     "output_type": "execute_result"
    }
   ],
   "source": [
    "param_samples[0]"
   ]
  },
  {
   "cell_type": "markdown",
   "id": "512b3967-c1b2-412e-becd-a4373d64e35e",
   "metadata": {},
   "source": [
    "## read in measurements and pre-computed workspaces"
   ]
  },
  {
   "cell_type": "code",
   "execution_count": 16,
   "id": "92a6bbc4-4db9-4b91-8fd9-6d0d8a485978",
   "metadata": {},
   "outputs": [],
   "source": [
    "corpus_dir = Path(\"./corpus/\")\n",
    "output_dir = Path(\"./elm_prior_propagation/\")\n",
    "output_dir.mkdir(parents=True, exist_ok=True)"
   ]
  },
  {
   "cell_type": "code",
   "execution_count": 17,
   "id": "713de3a2-3bb9-485a-97f5-11e95e6a6b72",
   "metadata": {},
   "outputs": [],
   "source": [
    "with open(corpus_dir / \"nn_elastic_data.pkl\", \"rb\") as f:\n",
    "    nn_elastic_data = pickle.load(f)\n",
    "with open(corpus_dir / \"pp_elastic_data.pkl\", \"rb\") as f:\n",
    "    pp_elastic_data = pickle.load(f)"
   ]
  },
  {
   "cell_type": "code",
   "execution_count": 18,
   "id": "af6e9ec9-a13e-4064-b49d-1c5c8f26cee2",
   "metadata": {},
   "outputs": [],
   "source": [
    "with open(corpus_dir / \"nn_elastic_workspaces.pkl\", \"rb\") as f:\n",
    "    nn_elastic_workspaces = pickle.load(f)\n",
    "with open(corpus_dir / \"pp_elastic_workspaces.pkl\", \"rb\") as f:\n",
    "    pp_elastic_workspaces = pickle.load(f)"
   ]
  },
  {
   "cell_type": "markdown",
   "id": "481b4d9a-f74a-4a2f-be35-1fd81bf08404",
   "metadata": {},
   "source": [
    "## set up corpora from workspaces"
   ]
  },
  {
   "cell_type": "code",
   "execution_count": 19,
   "id": "e648f854-cf15-4856-826c-a5281aee6ba4",
   "metadata": {},
   "outputs": [],
   "source": [
    "nn_corpus = rxmc.reaction_corpus.ElasticAngularCorpus(\n",
    "    elm.elm.calculate_elastic_differential_xs,\n",
    "    [p.name for p in elm.params],\n",
    "    \"ELM\",\n",
    "    \"(n,n)\",\n",
    "    \"dXS/dA\",\n",
    "    nn_elastic_workspaces,\n",
    "    nn_elastic_data,\n",
    ")\n",
    "pp_corpus = rxmc.reaction_corpus.ElasticAngularCorpus(\n",
    "    elm.elm.calculate_elastic_differential_xs,\n",
    "    [p.name for p in elm.params],\n",
    "    \"ELM\",\n",
    "    \"(p,p)\",\n",
    "    \"dXS/dRuth\",\n",
    "    pp_elastic_workspaces,\n",
    "    pp_elastic_data,\n",
    ")\n",
    "with open(output_dir / \"elm_nn_corpus.pkl\", \"wb\") as f:\n",
    "    pickle.dump(nn_corpus, f)\n",
    "with open(output_dir / \"elm_pp_corpus.pkl\", \"wb\") as f:\n",
    "    pickle.dump(pp_corpus, f)"
   ]
  },
  {
   "cell_type": "markdown",
   "id": "8215260d-d1b3-4f06-a887-834db4f8a71b",
   "metadata": {},
   "source": [
    "## Propagate ELM prior into constraint observables"
   ]
  },
  {
   "cell_type": "code",
   "execution_count": 20,
   "id": "f2aba072-76fe-4cfe-89a0-3e1674136b0e",
   "metadata": {},
   "outputs": [
    {
     "name": "stderr",
     "output_type": "stream",
     "text": [
      "100%|███████████████████████████████████████████████████████████████| 65/65 [02:24<00:00,  2.22s/it]\n"
     ]
    }
   ],
   "source": [
    "yth_nn = []\n",
    "for i, constraint in enumerate(tqdm(nn_corpus.constraints)):\n",
    "    yth_nn.append(np.vstack([constraint.model(p) for p in param_samples]))"
   ]
  },
  {
   "cell_type": "code",
   "execution_count": null,
   "id": "2e18238a-67dc-4644-9455-94b3ad19b54a",
   "metadata": {},
   "outputs": [
    {
     "name": "stderr",
     "output_type": "stream",
     "text": [
      " 41%|█████████████████████████▏                                    | 65/160 [01:35<03:15,  2.06s/it]"
     ]
    }
   ],
   "source": [
    "yth_pp = []\n",
    "for i, constraint in enumerate(tqdm(pp_corpus.constraints)):\n",
    "    yth_pp.append(np.vstack([constraint.model(p) for p in param_samples]))"
   ]
  },
  {
   "cell_type": "markdown",
   "id": "f4b0581d-f651-4d1c-b4ce-534dcb289f29",
   "metadata": {},
   "source": [
    "## Write posterior predictive distributions to disk"
   ]
  },
  {
   "cell_type": "code",
   "execution_count": null,
   "id": "4c1c022c-532f-424a-a3ed-df0c4179eb17",
   "metadata": {},
   "outputs": [],
   "source": [
    "with open(output_dir / \"nn_elm_prior_predictive.pkl\", \"wb\") as f:\n",
    "    pickle.dump(yth_nn, f)"
   ]
  },
  {
   "cell_type": "code",
   "execution_count": null,
   "id": "55031bd9-5ec3-49b8-9455-eb676733b3a6",
   "metadata": {},
   "outputs": [],
   "source": [
    "with open(output_dir / \"pp_elm_prior_predictive.pkl\", \"wb\") as f:\n",
    "    pickle.dump(yth_pp, f)"
   ]
  },
  {
   "cell_type": "code",
   "execution_count": null,
   "id": "19e0c11c-9516-40b9-8cfd-805d9ddb1854",
   "metadata": {},
   "outputs": [],
   "source": []
  }
 ],
 "metadata": {
  "kernelspec": {
   "display_name": "Python 3 (ipykernel)",
   "language": "python",
   "name": "python3"
  },
  "language_info": {
   "codemirror_mode": {
    "name": "ipython",
    "version": 3
   },
   "file_extension": ".py",
   "mimetype": "text/x-python",
   "name": "python",
   "nbconvert_exporter": "python",
   "pygments_lexer": "ipython3",
   "version": "3.11.9"
  }
 },
 "nbformat": 4,
 "nbformat_minor": 5
}
