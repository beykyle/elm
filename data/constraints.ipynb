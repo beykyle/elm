{
 "cells": [
  {
   "cell_type": "code",
   "execution_count": 1,
   "id": "0736858d-0cee-4636-a4d0-5fbc844b5a44",
   "metadata": {},
   "outputs": [],
   "source": [
    "from periodictable import elements\n",
    "import numpy as np\n",
    "import pickle"
   ]
  },
  {
   "cell_type": "code",
   "execution_count": 2,
   "id": "ec572563-7eaf-4fb4-98fe-684925f5f9f4",
   "metadata": {},
   "outputs": [
    {
     "name": "stdout",
     "output_type": "stream",
     "text": [
      "Using database version X4-2024-12-31 located in: /home/beyerk/db/exfor/unpack_exfor-2024/X4-2024-12-31\n"
     ]
    }
   ],
   "source": [
    "from exfor_tools import reaction, curate, quantities\n",
    "import elm\n",
    "from jitr import rmatrix"
   ]
  },
  {
   "cell_type": "code",
   "execution_count": 3,
   "id": "ce5e76e5-61cf-4b4f-b6d2-9541eec3bdd4",
   "metadata": {},
   "outputs": [],
   "source": [
    "with open(\"nn_elastic_data.pkl\", 'rb') as f:\n",
    "    nn_data = pickle.load(f)"
   ]
  },
  {
   "cell_type": "code",
   "execution_count": 4,
   "id": "cf0bbc9d-ee3f-4ea7-97d7-75c59f9033cc",
   "metadata": {},
   "outputs": [],
   "source": [
    "with open(\"pp_elastic_data.pkl\", 'rb') as f:p\n",
    "    pp_data = pickle.load(f)"
   ]
  },
  {
   "cell_type": "code",
   "execution_count": 9,
   "id": "ce0526fb-e993-4ab1-bd77-2287d2c086d2",
   "metadata": {},
   "outputs": [],
   "source": [
    "all_data = list(pp_data.values()) + list(nn_data.values())\n",
    "all_data_by_entry, sys_uncertainties_by_entry = (\n",
    "    curate.cross_reference_entry_systematic_err(all_data)\n",
    ")"
   ]
  },
  {
   "cell_type": "code",
   "execution_count": 13,
   "id": "7b69c369-33fb-4b2f-90a1-520d756ec5f6",
   "metadata": {},
   "outputs": [],
   "source": [
    "for entry_id, entries in all_data_by_entry.items():\n",
    "    for entry in entries:\n",
    "        for measurement in entry.measurements:\n",
    "            if measurement.systematic_offset_err > 0:\n",
    "                # TODO\n",
    "                measurement.systematic_offset_err = 0\n"
   ]
  },
  {
   "cell_type": "code",
   "execution_count": 14,
   "id": "cd021198-13f1-4088-9721-8ba7503dc3fa",
   "metadata": {},
   "outputs": [
    {
     "data": {
      "text/latex": [
       "$\\displaystyle \\,^{40} \\rm{Ca}, \\,^{48} \\rm{Ca}, \\,^{64} \\rm{Ni}, \\,^{86} \\rm{Sr}, \\,^{88} \\rm{Sr}, \\,^{90} \\rm{Zr}, \\,^{92} \\rm{Zr}, \\,^{92} \\rm{Mo}, \\,^{94} \\rm{Zr}, \\,^{96} \\rm{Zr}, \\,^{94} \\rm{Mo}, \\,^{116} \\rm{Sn}, \\,^{118} \\rm{Sn}, \\,^{120} \\rm{Sn}, \\,^{122} \\rm{Sn}, \\,^{124} \\rm{Sn}, \\,^{138} \\rm{Ba}, \\,^{140} \\rm{Ce}, \\,^{144} \\rm{Sm}, \\,^{148} \\rm{Sm}, \\,^{206} \\rm{Pb}, \\,^{208} \\rm{Pb}$"
      ],
      "text/plain": [
       "<IPython.core.display.Math object>"
      ]
     },
     "metadata": {},
     "output_type": "display_data"
    }
   ],
   "source": [
    "from IPython.display import Latex, Math, display # just for fun\n",
    "targets = sorted(list(set( list(nn_data.keys()) + list(pp_data.keys()))), key=lambda x:x[1] + x[0])\n",
    "display(Math(\", \".join([f\"\\,^{{{target[0]}}} \\\\rm{{{elements[target[1]]}}}\" for target in targets])))"
   ]
  },
  {
   "cell_type": "code",
   "execution_count": 15,
   "id": "bebd65fb-c6ef-41da-857d-60523ab3071b",
   "metadata": {},
   "outputs": [],
   "source": [
    "entry = pp_data[(40,20)].data['dXS/dA'].entries"
   ]
  },
  {
   "cell_type": "code",
   "execution_count": 16,
   "id": "64b619c2-f926-4c36-b830-c11055065514",
   "metadata": {},
   "outputs": [],
   "source": [
    "measurement_groups = curate.categorize_measurements_by_energy( pp_data[(40,20)].data['dXS/dA'].entries)"
   ]
  },
  {
   "cell_type": "code",
   "execution_count": 17,
   "id": "f5d7392f-0ff8-473d-b574-23d8d190c214",
   "metadata": {},
   "outputs": [],
   "source": [
    "constraints = []\n",
    "for measurement_group in measurement_groups:\n",
    "    constraints.append(\n",
    "        elm.DifferentialElasticConstraint(\n",
    "            reaction=pp_data[(40,20)].reaction,\n",
    "            quantity='dXS/dA',\n",
    "            measurement=measurement_group[0],\n",
    "            angles_vis=np.linspace(0.01,180,100),\n",
    "            core_solver=rmatrix.Solver(40),\n",
    "            lmax=20,\n",
    "            divide_by_Rutherford=False,       \n",
    "        )\n",
    "    )"
   ]
  }
 ],
 "metadata": {
  "kernelspec": {
   "display_name": "Python 3 (ipykernel)",
   "language": "python",
   "name": "python3"
  },
  "language_info": {
   "codemirror_mode": {
    "name": "ipython",
    "version": 3
   },
   "file_extension": ".py",
   "mimetype": "text/x-python",
   "name": "python",
   "nbconvert_exporter": "python",
   "pygments_lexer": "ipython3",
   "version": "3.11.9"
  }
 },
 "nbformat": 4,
 "nbformat_minor": 5
}
