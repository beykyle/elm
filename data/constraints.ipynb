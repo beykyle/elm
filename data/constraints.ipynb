{
 "cells": [
  {
   "cell_type": "code",
   "execution_count": 1,
   "id": "0736858d-0cee-4636-a4d0-5fbc844b5a44",
   "metadata": {},
   "outputs": [],
   "source": [
    "import pickle\n",
    "from collections import OrderedDict\n",
    "\n",
    "import numpy as np\n",
    "from periodictable import elements"
   ]
  },
  {
   "cell_type": "code",
   "execution_count": 2,
   "id": "ec572563-7eaf-4fb4-98fe-684925f5f9f4",
   "metadata": {},
   "outputs": [
    {
     "name": "stdout",
     "output_type": "stream",
     "text": [
      "Using database version X4-2024-12-31 located in: /home/beyerk/db/exfor/unpack_exfor-2024/X4-2024-12-31\n"
     ]
    }
   ],
   "source": [
    "from exfor_tools import curate, quantities, reaction\n",
    "from jitr import rmatrix\n",
    "from jitr.utils import kinematics\n",
    "from jitr.xs.elastic import DifferentialWorkspace\n",
    "\n",
    "import elm"
   ]
  },
  {
   "cell_type": "code",
   "execution_count": 3,
   "id": "ce5e76e5-61cf-4b4f-b6d2-9541eec3bdd4",
   "metadata": {},
   "outputs": [],
   "source": [
    "with open(\"nn_elastic_data.pkl\", \"rb\") as f:\n",
    "    nn_data = pickle.load(f)"
   ]
  },
  {
   "cell_type": "code",
   "execution_count": 4,
   "id": "cf0bbc9d-ee3f-4ea7-97d7-75c59f9033cc",
   "metadata": {},
   "outputs": [],
   "source": [
    "with open(\"pp_elastic_data.pkl\", \"rb\") as f:\n",
    "    pp_data = pickle.load(f)"
   ]
  },
  {
   "cell_type": "code",
   "execution_count": 5,
   "id": "ce0526fb-e993-4ab1-bd77-2287d2c086d2",
   "metadata": {},
   "outputs": [],
   "source": [
    "all_data = list(pp_data.values()) + list(nn_data.values())\n",
    "all_data_by_entry, sys_uncertainties_by_entry = (\n",
    "    curate.cross_reference_entry_systematic_err(all_data)\n",
    ")"
   ]
  },
  {
   "cell_type": "code",
   "execution_count": 6,
   "id": "7b69c369-33fb-4b2f-90a1-520d756ec5f6",
   "metadata": {},
   "outputs": [],
   "source": [
    "for entry_id, entries in all_data_by_entry.items():\n",
    "    for entry in entries:\n",
    "        for measurement in entry.measurements:\n",
    "            if measurement.systematic_offset_err > 0:\n",
    "                # TODO\n",
    "                measurement.systematic_offset_err = 0"
   ]
  },
  {
   "cell_type": "code",
   "execution_count": 7,
   "id": "cd021198-13f1-4088-9721-8ba7503dc3fa",
   "metadata": {},
   "outputs": [
    {
     "data": {
      "text/latex": [
       "$\\displaystyle \\,^{40} \\rm{Ca}, \\,^{48} \\rm{Ca}, \\,^{64} \\rm{Ni}, \\,^{86} \\rm{Sr}, \\,^{88} \\rm{Sr}, \\,^{90} \\rm{Zr}, \\,^{92} \\rm{Zr}, \\,^{92} \\rm{Mo}, \\,^{94} \\rm{Zr}, \\,^{96} \\rm{Zr}, \\,^{94} \\rm{Mo}, \\,^{116} \\rm{Sn}, \\,^{118} \\rm{Sn}, \\,^{120} \\rm{Sn}, \\,^{122} \\rm{Sn}, \\,^{124} \\rm{Sn}, \\,^{138} \\rm{Ba}, \\,^{140} \\rm{Ce}, \\,^{144} \\rm{Sm}, \\,^{148} \\rm{Sm}, \\,^{206} \\rm{Pb}, \\,^{208} \\rm{Pb}$"
      ],
      "text/plain": [
       "<IPython.core.display.Math object>"
      ]
     },
     "metadata": {},
     "output_type": "display_data"
    }
   ],
   "source": [
    "from IPython.display import Latex, Math, display  # just for fun\n",
    "\n",
    "targets = sorted(\n",
    "    list(set(list(nn_data.keys()) + list(pp_data.keys()))), key=lambda x: x[1] + x[0]\n",
    ")\n",
    "display(\n",
    "    Math(\n",
    "        \", \".join(\n",
    "            [f\"\\,^{{{target[0]}}} \\\\rm{{{elements[target[1]]}}}\" for target in targets]\n",
    "        )\n",
    "    )\n",
    ")"
   ]
  },
  {
   "cell_type": "code",
   "execution_count": 8,
   "id": "bebd65fb-c6ef-41da-857d-60523ab3071b",
   "metadata": {},
   "outputs": [],
   "source": [
    "entry = pp_data[(40, 20)].data[\"dXS/dA\"].entries"
   ]
  },
  {
   "cell_type": "code",
   "execution_count": 9,
   "id": "64b619c2-f926-4c36-b830-c11055065514",
   "metadata": {},
   "outputs": [],
   "source": [
    "measurement_groups = curate.categorize_measurements_by_energy(\n",
    "    pp_data[(40, 20)].data[\"dXS/dA\"].entries\n",
    ")"
   ]
  },
  {
   "cell_type": "code",
   "execution_count": 10,
   "id": "f5d7392f-0ff8-473d-b574-23d8d190c214",
   "metadata": {},
   "outputs": [],
   "source": [
    "constraints = []\n",
    "for measurement_group in measurement_groups:\n",
    "    for m in measurement_group:\n",
    "        if np.isclose(m.systematic_norm_err, 0):\n",
    "            m.systematic_norm_err = 0.05\n",
    "\n",
    "        constraints.append(\n",
    "            elm.calibration.ReactionDistribution(\n",
    "                quantity=\"dXS/dA\",\n",
    "                measurement=m,\n",
    "            )\n",
    "        )"
   ]
  },
  {
   "cell_type": "code",
   "execution_count": 11,
   "id": "2bd3003c-8b0d-42c6-941e-62d5aaa78935",
   "metadata": {},
   "outputs": [],
   "source": [
    "angles_vis = np.linspace(0.01, 180, 100)"
   ]
  },
  {
   "cell_type": "code",
   "execution_count": 12,
   "id": "9959eb7f-dbce-41a9-8395-e5e3e6acc82f",
   "metadata": {},
   "outputs": [],
   "source": [
    "core_solver = rmatrix.Solver(40)"
   ]
  },
  {
   "cell_type": "code",
   "execution_count": 13,
   "id": "251892d4-2b2e-4f8d-9f68-58a9306ce4a9",
   "metadata": {},
   "outputs": [],
   "source": [
    "models = []\n",
    "for measurement_group in measurement_groups:\n",
    "    for m in measurement_group:\n",
    "        models.append(\n",
    "            elm.ElasticModel(\n",
    "                quantity=\"dXS/dA\",\n",
    "                reaction=pp_data[(40, 20)].reaction,\n",
    "                Elab=m.Einc,\n",
    "                angles_rad_constraint=m.x * np.pi / 180,\n",
    "                angles_rad_vis=angles_vis * np.pi / 180,\n",
    "                core_solver=core_solver,\n",
    "                lmax=30,\n",
    "            )\n",
    "        )"
   ]
  },
  {
   "cell_type": "code",
   "execution_count": 14,
   "id": "380983ac-3982-43ee-93b2-b73a383256af",
   "metadata": {},
   "outputs": [],
   "source": [
    "with open(\"../prior/prior_distribution.pickle\", \"rb\") as f:\n",
    "    prior = pickle.load(f)"
   ]
  },
  {
   "cell_type": "code",
   "execution_count": 15,
   "id": "bc60aea8-63f8-47da-857b-b390eb056531",
   "metadata": {},
   "outputs": [],
   "source": [
    "prior_samples = prior.rvs(size=1000)"
   ]
  },
  {
   "cell_type": "code",
   "execution_count": 16,
   "id": "ad66252b-dc44-48cd-bb33-deb19ea3e4cf",
   "metadata": {},
   "outputs": [],
   "source": [
    "prior_mean = OrderedDict([(p.name, v) for p, v in zip(elm.params, prior.mean)])"
   ]
  },
  {
   "cell_type": "code",
   "execution_count": 17,
   "id": "3591b4a6-7df5-4fcd-997f-39796dbebc1e",
   "metadata": {},
   "outputs": [
    {
     "data": {
      "text/plain": [
       "(1000, 15)"
      ]
     },
     "execution_count": 17,
     "metadata": {},
     "output_type": "execute_result"
    }
   ],
   "source": [
    "prior_samples.shape"
   ]
  },
  {
   "cell_type": "code",
   "execution_count": 18,
   "id": "7798fc02-ca94-45ae-b888-5e47ea7172e5",
   "metadata": {},
   "outputs": [
    {
     "data": {
      "text/plain": [
       "array([52.92488473,  5.04352613, 13.17745736,  5.82701589, -1.89057496,\n",
       "       23.21689405, -0.36365963, 49.88675807, 25.63981923, -0.24144966,\n",
       "       -0.18899876,  1.19763674,  1.14565836,  0.73921425,  0.7337632 ])"
      ]
     },
     "execution_count": 18,
     "metadata": {},
     "output_type": "execute_result"
    }
   ],
   "source": [
    "prior_samples[0]"
   ]
  },
  {
   "cell_type": "code",
   "execution_count": 19,
   "id": "846ac14a-70c6-4b1e-bdba-a76c61337cca",
   "metadata": {},
   "outputs": [
    {
     "data": {
      "text/plain": [
       "array([0.58541755, 0.37994781, 0.26281832, 0.20550015, 0.17961598,\n",
       "       0.15403256, 0.13326031, 0.11189418, 0.10234007, 0.09451437,\n",
       "       0.0858876 , 0.08103618, 0.07451652, 0.07161538, 0.06735712,\n",
       "       0.06550115, 0.06158788, 0.05966718, 0.05698793, 0.05523529,\n",
       "       0.05302955, 0.05178097, 0.05069354, 0.0496348 , 0.04885668])"
      ]
     },
     "execution_count": 19,
     "metadata": {},
     "output_type": "execute_result"
    }
   ],
   "source": [
    "models[0].get_quantity(elm.calculate_diff_xs, prior_mean) / 1000"
   ]
  },
  {
   "cell_type": "code",
   "execution_count": 22,
   "id": "c5dac19b-4ba0-43a1-80e8-89df6f7ba778",
   "metadata": {},
   "outputs": [],
   "source": [
    "xs = np.zeros((1000, len(angles_vis)))"
   ]
  },
  {
   "cell_type": "code",
   "execution_count": 31,
   "id": "2b171560-7c33-4aa0-9863-8e7225cabd82",
   "metadata": {},
   "outputs": [],
   "source": [
    "for i in range(1000):\n",
    "    xs[i, :] = (\n",
    "        models[0].get_quantity_vis(\n",
    "            elm.calculate_diff_xs,\n",
    "            OrderedDict([(p.name, v) for p, v in zip(elm.params, prior_samples[i, :])]),\n",
    "        )\n",
    "        / 1000\n",
    "    )"
   ]
  },
  {
   "cell_type": "code",
   "execution_count": 24,
   "id": "1bd672ed-a021-4e46-9d78-f5936d3722fd",
   "metadata": {},
   "outputs": [
    {
     "data": {
      "text/plain": [
       "16.0"
      ]
     },
     "execution_count": 24,
     "metadata": {},
     "output_type": "execute_result"
    }
   ],
   "source": [
    "50-68/2"
   ]
  },
  {
   "cell_type": "code",
   "execution_count": 25,
   "id": "47efdc7e-a9af-44c0-987a-8587dff25c8a",
   "metadata": {},
   "outputs": [],
   "source": [
    "upper, lower = np.percentile(xs, [16,84], axis=0)"
   ]
  },
  {
   "cell_type": "code",
   "execution_count": 26,
   "id": "fe33a466-e931-4907-a396-da96ef70d1da",
   "metadata": {},
   "outputs": [
    {
     "data": {
      "text/plain": [
       "array([0.259  , 0.145  , 0.087  , 0.066  , 0.0594 , 0.066  , 0.0555 ,\n",
       "       0.0408 , 0.029  , 0.0173 , 0.0084 , 0.00471, 0.00456, 0.0082 ,\n",
       "       0.0128 , 0.0174 , 0.0214 , 0.0207 , 0.0193 , 0.0157 , 0.012  ,\n",
       "       0.0088 , 0.0072 , 0.0079 , 0.0091 ])"
      ]
     },
     "execution_count": 26,
     "metadata": {},
     "output_type": "execute_result"
    }
   ],
   "source": [
    "constraints[0].y"
   ]
  },
  {
   "cell_type": "code",
   "execution_count": 27,
   "id": "5b48431f-5d43-4144-898d-d1df7a36360d",
   "metadata": {},
   "outputs": [],
   "source": [
    "from matplotlib import pyplot as plt"
   ]
  },
  {
   "cell_type": "code",
   "execution_count": 28,
   "id": "5bb166c4-6ee7-461d-b3ac-f844be147aca",
   "metadata": {},
   "outputs": [
    {
     "data": {
      "text/plain": [
       "'barns/ster'"
      ]
     },
     "execution_count": 28,
     "metadata": {},
     "output_type": "execute_result"
    }
   ],
   "source": [
    "measurement_groups[0][0].y_units"
   ]
  },
  {
   "cell_type": "code",
   "execution_count": null,
   "id": "1cd23d36-c040-4814-8799-165c42813f21",
   "metadata": {},
   "outputs": [],
   "source": []
  }
 ],
 "metadata": {
  "kernelspec": {
   "display_name": "Python 3 (ipykernel)",
   "language": "python",
   "name": "python3"
  },
  "language_info": {
   "codemirror_mode": {
    "name": "ipython",
    "version": 3
   },
   "file_extension": ".py",
   "mimetype": "text/x-python",
   "name": "python",
   "nbconvert_exporter": "python",
   "pygments_lexer": "ipython3",
   "version": "3.11.9"
  }
 },
 "nbformat": 4,
 "nbformat_minor": 5
}
