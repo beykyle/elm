{
 "cells": [
  {
   "cell_type": "code",
   "execution_count": 14,
   "id": "0736858d-0cee-4636-a4d0-5fbc844b5a44",
   "metadata": {},
   "outputs": [],
   "source": [
    "import pickle\n",
    "from collections import OrderedDict\n",
    "\n",
    "import numpy as np\n",
    "from periodictable import elements"
   ]
  },
  {
   "cell_type": "code",
   "execution_count": 37,
   "id": "ec572563-7eaf-4fb4-98fe-684925f5f9f4",
   "metadata": {},
   "outputs": [],
   "source": [
    "from exfor_tools import curate, quantities, reaction\n",
    "from jitr import rmatrix\n",
    "from jitr.utils import kinematics\n",
    "from jitr.xs.elastic import DifferentialWorkspace\n",
    "import elm"
   ]
  },
  {
   "cell_type": "code",
   "execution_count": 16,
   "id": "ce5e76e5-61cf-4b4f-b6d2-9541eec3bdd4",
   "metadata": {},
   "outputs": [],
   "source": [
    "with open(\"nn_elastic_data.pkl\", \"rb\") as f:\n",
    "    nn_data = pickle.load(f)"
   ]
  },
  {
   "cell_type": "code",
   "execution_count": 17,
   "id": "cf0bbc9d-ee3f-4ea7-97d7-75c59f9033cc",
   "metadata": {},
   "outputs": [],
   "source": [
    "with open(\"pp_elastic_data.pkl\", \"rb\") as f:\n",
    "    pp_data = pickle.load(f)"
   ]
  },
  {
   "cell_type": "code",
   "execution_count": 18,
   "id": "ce0526fb-e993-4ab1-bd77-2287d2c086d2",
   "metadata": {},
   "outputs": [],
   "source": [
    "all_data = list(pp_data.values()) + list(nn_data.values())\n",
    "all_data_by_entry, sys_uncertainties_by_entry = (\n",
    "    curate.cross_reference_entry_systematic_err(all_data)\n",
    ")"
   ]
  },
  {
   "cell_type": "code",
   "execution_count": 19,
   "id": "7b69c369-33fb-4b2f-90a1-520d756ec5f6",
   "metadata": {},
   "outputs": [],
   "source": [
    "for entry_id, entries in all_data_by_entry.items():\n",
    "    for entry in entries:\n",
    "        for measurement in entry.measurements:\n",
    "            if measurement.systematic_offset_err > 0:\n",
    "                # TODO\n",
    "                measurement.systematic_offset_err = 0"
   ]
  },
  {
   "cell_type": "code",
   "execution_count": 20,
   "id": "cd021198-13f1-4088-9721-8ba7503dc3fa",
   "metadata": {},
   "outputs": [
    {
     "data": {
      "text/latex": [
       "$\\displaystyle \\,^{40} \\rm{Ca}, \\,^{48} \\rm{Ca}, \\,^{64} \\rm{Ni}, \\,^{86} \\rm{Sr}, \\,^{88} \\rm{Sr}, \\,^{90} \\rm{Zr}, \\,^{92} \\rm{Zr}, \\,^{92} \\rm{Mo}, \\,^{94} \\rm{Zr}, \\,^{96} \\rm{Zr}, \\,^{94} \\rm{Mo}, \\,^{116} \\rm{Sn}, \\,^{118} \\rm{Sn}, \\,^{120} \\rm{Sn}, \\,^{122} \\rm{Sn}, \\,^{124} \\rm{Sn}, \\,^{138} \\rm{Ba}, \\,^{140} \\rm{Ce}, \\,^{144} \\rm{Sm}, \\,^{148} \\rm{Sm}, \\,^{206} \\rm{Pb}, \\,^{208} \\rm{Pb}$"
      ],
      "text/plain": [
       "<IPython.core.display.Math object>"
      ]
     },
     "metadata": {},
     "output_type": "display_data"
    }
   ],
   "source": [
    "from IPython.display import Latex, Math, display  # just for fun\n",
    "\n",
    "targets = sorted(\n",
    "    list(set(list(nn_data.keys()) + list(pp_data.keys()))), key=lambda x: x[1] + x[0]\n",
    ")\n",
    "display(\n",
    "    Math(\n",
    "        \", \".join(\n",
    "            [f\"\\,^{{{target[0]}}} \\\\rm{{{elements[target[1]]}}}\" for target in targets]\n",
    "        )\n",
    "    )\n",
    ")"
   ]
  },
  {
   "cell_type": "code",
   "execution_count": 21,
   "id": "bebd65fb-c6ef-41da-857d-60523ab3071b",
   "metadata": {},
   "outputs": [],
   "source": [
    "entry = pp_data[(40, 20)].data[\"dXS/dA\"].entries"
   ]
  },
  {
   "cell_type": "code",
   "execution_count": 22,
   "id": "64b619c2-f926-4c36-b830-c11055065514",
   "metadata": {},
   "outputs": [],
   "source": [
    "measurement_groups = curate.categorize_measurements_by_energy(\n",
    "    pp_data[(40, 20)].data[\"dXS/dA\"].entries\n",
    ")"
   ]
  },
  {
   "cell_type": "code",
   "execution_count": 23,
   "id": "f5d7392f-0ff8-473d-b574-23d8d190c214",
   "metadata": {},
   "outputs": [],
   "source": [
    "constraints = []\n",
    "models = []\n",
    "solver = rmatrix.Solver(40)\n",
    "for measurement_group in measurement_groups:\n",
    "    for m in measurement_group:\n",
    "        constraints.append(\n",
    "            elm.calibration.ReactionDistribution(\n",
    "                quantity=\"dXS/dA\",\n",
    "                measurement=m,\n",
    "            )\n",
    "        )\n",
    "        models.append(\n",
    "            elm.calibration.ElasticModel(\n",
    "                quantity=\"dXS/dA\",\n",
    "                reaction=pp_data[(40, 20)].reaction,\n",
    "                Elab=m.Einc,\n",
    "                angles_rad_vis=np.linspace(0.01, np.pi, 100),\n",
    "                angles_rad_constraint=m.x * np.pi / 180,\n",
    "                core_solver=solver,\n",
    "                lmax=30,\n",
    "            )\n",
    "        )"
   ]
  },
  {
   "cell_type": "code",
   "execution_count": 39,
   "id": "e8d80161-9c3e-4671-8847-b2b3852fe695",
   "metadata": {},
   "outputs": [],
   "source": [
    "def el_model(\n",
    "    workspace: DifferentialWorkspace,\n",
    "    params: OrderedDict,\n",
    "):\n",
    "    rxn = workspace.reaction\n",
    "    kinematics=workspace.kinematics\n",
    "    assert rxn.projectile.A == 1\n",
    "    (\n",
    "        isoscalar_params,\n",
    "        isovector_params,\n",
    "        spin_orbit_params,\n",
    "        coul_params,\n",
    "        asym_factor,\n",
    "    ) = elm.calculate_parameters(\n",
    "        projectile=tuple(rxn.projectile),\n",
    "        target=tuple(rxn.target),\n",
    "        E=kinematics.Ecm,\n",
    "        Ef=rxn.target.Efp if rxn.projectile.Z > 0 else rxn.target.Efn,\n",
    "        params=params,\n",
    "    )\n",
    "    return workspace.xs(\n",
    "        interaction_central=elm.central_plus_coulomb,\n",
    "        interaction_spin_orbit=elm.spin_orbit,\n",
    "        args_central=(\n",
    "            workspace.projectile,\n",
    "            asym_factor,\n",
    "            isoscalar_params,\n",
    "            isovector_params,\n",
    "            coul_params,\n",
    "        ),\n",
    "        args_spin_orbit=spin_orbit_params,\n",
    "    )"
   ]
  },
  {
   "cell_type": "code",
   "execution_count": null,
   "id": "7fa36502-72e3-4ede-9e20-e96c352b15a6",
   "metadata": {},
   "outputs": [],
   "source": []
  }
 ],
 "metadata": {
  "kernelspec": {
   "display_name": "Python 3 (ipykernel)",
   "language": "python",
   "name": "python3"
  },
  "language_info": {
   "codemirror_mode": {
    "name": "ipython",
    "version": 3
   },
   "file_extension": ".py",
   "mimetype": "text/x-python",
   "name": "python",
   "nbconvert_exporter": "python",
   "pygments_lexer": "ipython3",
   "version": "3.11.9"
  }
 },
 "nbformat": 4,
 "nbformat_minor": 5
}
