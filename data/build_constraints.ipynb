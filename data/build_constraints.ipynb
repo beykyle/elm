{
 "cells": [
  {
   "cell_type": "markdown",
   "id": "133ba0d0-6819-4813-be66-1ef43b123bff",
   "metadata": {},
   "source": [
    "# Building constraints for calibration\n",
    "In this notebook, we will take all the measurements we pulled from EXFOR and build `Constraint` and `Model` objects defined in `calibration.py` in this repo. These classes together allow us to precompute useful things (like kinematics and Coulomb scattering amplitudes) for model calculations for each measurement, so that wecan toss in a model and a bunch of parameters and quickly generate and ensemble of predictions for our data corpus. and calculate things like $\\chi^2$ distributions and empirical coverages."
   ]
  },
  {
   "cell_type": "code",
   "execution_count": 1,
   "id": "0736858d-0cee-4636-a4d0-5fbc844b5a44",
   "metadata": {},
   "outputs": [],
   "source": [
    "import pickle\n",
    "from collections import OrderedDict\n",
    "\n",
    "import numpy as np\n",
    "from periodictable import elements\n",
    "from tqdm import tqdm"
   ]
  },
  {
   "cell_type": "code",
   "execution_count": 2,
   "id": "f8ccf208-db93-4322-97f0-8b8b0e706291",
   "metadata": {},
   "outputs": [
    {
     "name": "stdout",
     "output_type": "stream",
     "text": [
      "Using database version X4-2024-12-31 located in: /home/beyerk/db/exfor/unpack_exfor-2024/X4-2024-12-31\n"
     ]
    }
   ],
   "source": [
    "from exfor_tools import curate, quantities, reaction"
   ]
  },
  {
   "cell_type": "code",
   "execution_count": 3,
   "id": "ec572563-7eaf-4fb4-98fe-684925f5f9f4",
   "metadata": {},
   "outputs": [],
   "source": [
    "from jitr import data_dir, rmatrix\n",
    "from jitr.optical_potentials import kduq, wlh\n",
    "from jitr.utils import kinematics\n",
    "from jitr.xs.elastic import DifferentialWorkspace"
   ]
  },
  {
   "cell_type": "code",
   "execution_count": 4,
   "id": "d9584046-d72b-4e56-8018-5efa575fb9b7",
   "metadata": {},
   "outputs": [],
   "source": [
    "import elm"
   ]
  },
  {
   "cell_type": "code",
   "execution_count": 5,
   "id": "e3bbcb6d-5260-4d68-8ce0-815b5584d77c",
   "metadata": {},
   "outputs": [],
   "source": [
    "proton = (1, 1)\n",
    "neutron = (1, 0)"
   ]
  },
  {
   "cell_type": "markdown",
   "id": "f5af1348-64d8-456a-97e4-f0719d956a59",
   "metadata": {},
   "source": [
    "## Read in the measurements"
   ]
  },
  {
   "cell_type": "code",
   "execution_count": 6,
   "id": "ce5e76e5-61cf-4b4f-b6d2-9541eec3bdd4",
   "metadata": {},
   "outputs": [],
   "source": [
    "with open(\"nn_elastic_data.pkl\", \"rb\") as f:\n",
    "    nn_data = pickle.load(f)"
   ]
  },
  {
   "cell_type": "code",
   "execution_count": 7,
   "id": "cf0bbc9d-ee3f-4ea7-97d7-75c59f9033cc",
   "metadata": {},
   "outputs": [],
   "source": [
    "with open(\"pp_elastic_data.pkl\", \"rb\") as f:\n",
    "    pp_data = pickle.load(f)"
   ]
  },
  {
   "cell_type": "code",
   "execution_count": 8,
   "id": "ce0526fb-e993-4ab1-bd77-2287d2c086d2",
   "metadata": {},
   "outputs": [],
   "source": [
    "all_data = list(pp_data.values()) + list(nn_data.values())\n",
    "all_data_by_entry, sys_uncertainties_by_entry = (\n",
    "    curate.cross_reference_entry_systematic_err(all_data)\n",
    ")"
   ]
  },
  {
   "cell_type": "markdown",
   "id": "20e91545-bfb1-44a5-8efa-7db2905145a1",
   "metadata": {},
   "source": [
    "## Set up the Constraints\n",
    "We will store everything in a single `dict` that maps from subentry to a `tuple` of (`ReactionConstraint`, `ElasticModel`)"
   ]
  },
  {
   "cell_type": "code",
   "execution_count": 9,
   "id": "4dba70e6-5ea5-4d32-b4d6-19dc7b9d7eba",
   "metadata": {},
   "outputs": [],
   "source": [
    "constraints = {}"
   ]
  },
  {
   "cell_type": "code",
   "execution_count": 10,
   "id": "f5d7392f-0ff8-473d-b574-23d8d190c214",
   "metadata": {},
   "outputs": [
    {
     "name": "stderr",
     "output_type": "stream",
     "text": [
      "100%|█████████████████████████████████████████████████████████████████████████████████████████████████████████████████████████████████████████████████████████| 22/22 [03:27<00:00,  9.44s/it]\n"
     ]
    }
   ],
   "source": [
    "core_solver = rmatrix.Solver(40)\n",
    "angles_vis = np.linspace(0.01, 180, 100)\n",
    "\n",
    "for target, dataset in tqdm(pp_data.items()):\n",
    "    if dataset.reaction not in constraints:\n",
    "        constraints[dataset.reaction] = []\n",
    "\n",
    "    for quantity, reaction_entries in dataset.data.items():\n",
    "        for entry_id, entry in reaction_entries.entries.items():\n",
    "            for m in entry.measurements:\n",
    "\n",
    "                model = elm.ElasticModel(\n",
    "                    quantity=\"dXS/dRuth\",\n",
    "                    reaction=dataset.reaction,\n",
    "                    Elab=m.Einc,\n",
    "                    angles_rad_constraint=m.x * np.pi / 180,\n",
    "                    angles_rad_vis=angles_vis * np.pi / 180,\n",
    "                    core_solver=core_solver,\n",
    "                    lmax=30,\n",
    "                )\n",
    "\n",
    "                if quantity == \"dXS/dRuth\":\n",
    "                    norm = None\n",
    "                elif quantity == \"dXS/dA\":\n",
    "                    norm = model.constraint_workspace.rutherford\n",
    "                else:\n",
    "                    assert False\n",
    "                constraint = elm.calibration.ReactionConstraint(\n",
    "                    quantity=\"dXS/dRuth\", measurement=m, normalize=norm\n",
    "                )\n",
    "\n",
    "                constraints[dataset.reaction].append((constraint, model))"
   ]
  },
  {
   "cell_type": "code",
   "execution_count": 12,
   "id": "ede40b9d-c1a8-42bf-9279-5fd66c48d47c",
   "metadata": {},
   "outputs": [
    {
     "name": "stderr",
     "output_type": "stream",
     "text": [
      "100%|█████████████████████████████████████████████████████████████████████████████████████████████████████████████████████████████████████████████████████████| 22/22 [01:17<00:00,  3.52s/it]\n"
     ]
    }
   ],
   "source": [
    "for target, dataset in tqdm(nn_data.items()):\n",
    "    if dataset.reaction not in constraints:\n",
    "        constraints[dataset.reaction] = []\n",
    "\n",
    "    for quantity, reaction_entries in dataset.data.items():\n",
    "        for entry_id, entry in reaction_entries.entries.items():\n",
    "            for m in entry.measurements:\n",
    "\n",
    "                model = elm.ElasticModel(\n",
    "                    quantity=\"dXS/dA\",\n",
    "                    reaction=dataset.reaction,\n",
    "                    Elab=m.Einc,\n",
    "                    angles_rad_constraint=m.x * np.pi / 180,\n",
    "                    angles_rad_vis=angles_vis * np.pi / 180,\n",
    "                    core_solver=core_solver,\n",
    "                    lmax=30,\n",
    "                )\n",
    "\n",
    "                constraint = elm.calibration.ReactionConstraint(\n",
    "                    quantity=\"dXS/dA\", measurement=m\n",
    "                )\n",
    "\n",
    "                constraints[dataset.reaction].append((constraint, model))"
   ]
  },
  {
   "cell_type": "code",
   "execution_count": 13,
   "id": "de375285-2365-4d7f-b37c-c0f191119c1f",
   "metadata": {},
   "outputs": [],
   "source": [
    "with open(\"constraints.pkl\", 'wb') as f:\n",
    "    pickle.dump(constraints, f)"
   ]
  }
 ],
 "metadata": {
  "kernelspec": {
   "display_name": "Python 3 (ipykernel)",
   "language": "python",
   "name": "python3"
  },
  "language_info": {
   "codemirror_mode": {
    "name": "ipython",
    "version": 3
   },
   "file_extension": ".py",
   "mimetype": "text/x-python",
   "name": "python",
   "nbconvert_exporter": "python",
   "pygments_lexer": "ipython3",
   "version": "3.11.9"
  }
 },
 "nbformat": 4,
 "nbformat_minor": 5
}
