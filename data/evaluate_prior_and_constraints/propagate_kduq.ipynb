{
 "cells": [
  {
   "cell_type": "code",
   "execution_count": 1,
   "id": "6c38824c-cb69-4561-9f07-9f6b3fe169ac",
   "metadata": {},
   "outputs": [],
   "source": [
    "import pickle\n",
    "import lzma\n",
    "from collections import OrderedDict\n",
    "\n",
    "import numpy as np\n",
    "from matplotlib import pyplot as plt\n",
    "from periodictable import elements\n",
    "from tqdm import tqdm"
   ]
  },
  {
   "cell_type": "code",
   "execution_count": 2,
   "id": "22a9ad00-d3fc-45c0-a348-3921e515520d",
   "metadata": {},
   "outputs": [
    {
     "name": "stdout",
     "output_type": "stream",
     "text": [
      "Using database version X4-2024-12-31 located in: /home/beyerk/db/exfor/unpack_exfor-2024/X4-2024-12-31\n"
     ]
    }
   ],
   "source": [
    "from exfor_tools.distribution import AngularDistribution"
   ]
  },
  {
   "cell_type": "code",
   "execution_count": 3,
   "id": "57172f8d-9af1-41cc-abbc-7c89cd166558",
   "metadata": {},
   "outputs": [],
   "source": [
    "from jitr.optical_potentials import kduq, wlh"
   ]
  },
  {
   "cell_type": "code",
   "execution_count": 4,
   "id": "93399669-97a8-444d-91ef-4b4b74f8724b",
   "metadata": {},
   "outputs": [],
   "source": [
    "import rxmc"
   ]
  },
  {
   "cell_type": "code",
   "execution_count": 5,
   "id": "7a7efd0a-e8b9-4999-b0b8-cbef94b4ad42",
   "metadata": {},
   "outputs": [],
   "source": [
    "import elm"
   ]
  },
  {
   "cell_type": "code",
   "execution_count": 6,
   "id": "2c66da99-d112-4f80-8ef9-afcf996859d8",
   "metadata": {},
   "outputs": [],
   "source": [
    "neutron = (1, 0)\n",
    "proton = (1, 1)"
   ]
  },
  {
   "cell_type": "code",
   "execution_count": 7,
   "id": "d4a5c3fe-4443-4f25-a1b5-f2dfb5e16431",
   "metadata": {},
   "outputs": [],
   "source": [
    "kduq_params_nn = kduq.get_samples_federal(neutron)\n",
    "kduq_params_pp = kduq.get_samples_federal(proton)"
   ]
  },
  {
   "cell_type": "code",
   "execution_count": 8,
   "id": "59923ecf-f016-4c0e-9d2f-f2f44896a232",
   "metadata": {},
   "outputs": [],
   "source": [
    "nparams_nn = len(kduq_params_nn[0])\n",
    "nparams_pp = len(kduq_params_pp[0])"
   ]
  },
  {
   "cell_type": "markdown",
   "id": "512b3967-c1b2-412e-becd-a4373d64e35e",
   "metadata": {},
   "source": [
    "## read in measurements and pre-computed workspaces"
   ]
  },
  {
   "cell_type": "code",
   "execution_count": 9,
   "id": "92a6bbc4-4db9-4b91-8fd9-6d0d8a485978",
   "metadata": {},
   "outputs": [],
   "source": [
    "from pathlib import Path\n",
    "\n",
    "evidence_dir = Path(\"../evidence/\")\n",
    "output_dir = Path(\"./kduq_propagation//\")\n",
    "output_dir.mkdir(parents=True, exist_ok=True)"
   ]
  },
  {
   "cell_type": "code",
   "execution_count": 10,
   "id": "af6e9ec9-a13e-4064-b49d-1c5c8f26cee2",
   "metadata": {},
   "outputs": [],
   "source": [
    "with lzma.open(evidence_dir / \"nn_elastic_observations.xz\", \"rb\") as f:\n",
    "    nn_elastic_obs = pickle.load(f)\n",
    "with lzma.open(evidence_dir / \"pp_elastic_observations.xz\", \"rb\") as f:\n",
    "    pp_elastic_obs = pickle.load(f)"
   ]
  },
  {
   "cell_type": "markdown",
   "id": "481b4d9a-f74a-4a2f-be35-1fd81bf08404",
   "metadata": {},
   "source": [
    "## set up models"
   ]
  },
  {
   "cell_type": "code",
   "execution_count": 13,
   "id": "0593a6e2-8fba-46fb-bf3c-0e26069d89b2",
   "metadata": {},
   "outputs": [],
   "source": [
    "nn_model = rxmc.elastic_diffxs_model.ElasticDifferentialXSModel(\n",
    "    \"dXS/dA\",\n",
    "    kduq.central,\n",
    "    kduq.spin_orbit,\n",
    "    lambda x, ws: kduq.calculate_params(\n",
    "        ws.rxn.projectile, ws.rxn.target, ws.kinematics.Elab, *x\n",
    "    ),\n",
    "    \"KDUQ (n,n)\",\n",
    ")\n",
    "pp_model = rxmc.elastic_diffxs_model.ElasticDifferentialXSModel(\n",
    "    \"dXS/dRuth\",\n",
    "    kduq.central_plus_coulomb,\n",
    "    kduq.spin_orbit,\n",
    "    lambda x, ws: kduq.calculate_params(\n",
    "        ws.rxn.projectile, ws.rxn.target, ws.kinematics.Elab, *x\n",
    "    ),\n",
    "    \"KDUQ (p,p)\",\n",
    ")"
   ]
  },
  {
   "cell_type": "markdown",
   "id": "8215260d-d1b3-4f06-a887-834db4f8a71b",
   "metadata": {},
   "source": [
    "## Propagate KDUQ into constraint observables"
   ]
  },
  {
   "cell_type": "code",
   "execution_count": 14,
   "id": "f2aba072-76fe-4cfe-89a0-3e1674136b0e",
   "metadata": {},
   "outputs": [
    {
     "name": "stderr",
     "output_type": "stream",
     "text": [
      "  0%|                                                                        | 0/65 [00:00<?, ?it/s]/home/beyerk/Projects/jitr/src/jitr/optical_potentials/kduq.py:384: RuntimeWarning: overflow encountered in exp\n",
      "  1 + np.exp((A - params[\"d2_A3\"]) / params[\"d2_A2\"])\n",
      "100%|███████████████████████████████████████████████████████████████| 65/65 [01:00<00:00,  1.07it/s]\n"
     ]
    }
   ],
   "source": [
    "yth_nn = []\n",
    "for i, constraint in enumerate(tqdm(kduq_nn_corpus.constraints)):\n",
    "    yth_nn.append(np.vstack([constraint.model(p) for p in kduq_params_nn]))"
   ]
  },
  {
   "cell_type": "code",
   "execution_count": 15,
   "id": "2e18238a-67dc-4644-9455-94b3ad19b54a",
   "metadata": {},
   "outputs": [
    {
     "name": "stderr",
     "output_type": "stream",
     "text": [
      "  0%|                                                                       | 0/160 [00:00<?, ?it/s]/home/beyerk/Projects/jitr/src/jitr/optical_potentials/kduq.py:384: RuntimeWarning: overflow encountered in exp\n",
      "  1 + np.exp((A - params[\"d2_A3\"]) / params[\"d2_A2\"])\n",
      "100%|█████████████████████████████████████████████████████████████| 160/160 [02:16<00:00,  1.17it/s]\n"
     ]
    }
   ],
   "source": [
    "yth_pp = []\n",
    "for i, constraint in enumerate(tqdm(kduq_pp_corpus.constraints)):\n",
    "    yth_pp.append(np.vstack([constraint.model(p) for p in kduq_params_pp]))"
   ]
  },
  {
   "cell_type": "markdown",
   "id": "f4b0581d-f651-4d1c-b4ce-534dcb289f29",
   "metadata": {},
   "source": [
    "## Write posterior predictive distributions to disk"
   ]
  },
  {
   "cell_type": "code",
   "execution_count": 16,
   "id": "4c1c022c-532f-424a-a3ed-df0c4179eb17",
   "metadata": {},
   "outputs": [],
   "source": [
    "with open(output_dir / \"nn_kduq_posterior_predictive.pkl\", \"wb\") as f:\n",
    "    pickle.dump(yth_nn, f)"
   ]
  },
  {
   "cell_type": "code",
   "execution_count": 17,
   "id": "55031bd9-5ec3-49b8-9455-eb676733b3a6",
   "metadata": {},
   "outputs": [],
   "source": [
    "with open(output_dir / \"pp_kduq_posterior_predictive.pkl\", \"wb\") as f:\n",
    "    pickle.dump(yth_pp, f)"
   ]
  },
  {
   "cell_type": "code",
   "execution_count": null,
   "id": "0902cbb0-4997-438c-aa35-c8324fd5df08",
   "metadata": {},
   "outputs": [],
   "source": []
  }
 ],
 "metadata": {
  "kernelspec": {
   "display_name": "Python 3 (ipykernel)",
   "language": "python",
   "name": "python3"
  },
  "language_info": {
   "codemirror_mode": {
    "name": "ipython",
    "version": 3
   },
   "file_extension": ".py",
   "mimetype": "text/x-python",
   "name": "python",
   "nbconvert_exporter": "python",
   "pygments_lexer": "ipython3",
   "version": "3.11.9"
  }
 },
 "nbformat": 4,
 "nbformat_minor": 5
}
