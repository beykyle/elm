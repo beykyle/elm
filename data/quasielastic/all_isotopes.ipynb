{
 "cells": [
  {
   "cell_type": "markdown",
   "id": "93a49da0",
   "metadata": {},
   "source": [
    "# Gathering of Bayesian evidence for the ELM model"
   ]
  },
  {
   "cell_type": "code",
   "execution_count": 1,
   "id": "9fbc70e4-6ac7-4a99-8a84-3197e65a8666",
   "metadata": {
    "scrolled": true
   },
   "outputs": [],
   "source": [
    "import pickle\n",
    "from pathlib import Path\n",
    "\n",
    "import numpy as np\n",
    "from matplotlib import pyplot as plt\n",
    "from periodictable import elements"
   ]
  },
  {
   "cell_type": "code",
   "execution_count": 2,
   "id": "fc9a4aea-85f7-47f5-ba23-339037959ed0",
   "metadata": {},
   "outputs": [
    {
     "name": "stdout",
     "output_type": "stream",
     "text": [
      "Using database version x4i3_X4-2023-04-29 located in: /home/beyerk/mambaforge/envs/sage/lib/python3.11/site-packages/x4i3/data\n"
     ]
    }
   ],
   "source": [
    "import exfor_tools\n",
    "import jitr"
   ]
  },
  {
   "cell_type": "code",
   "execution_count": 336,
   "id": "e09b1a37-9d2a-4280-8e8d-81f44fd7d7b2",
   "metadata": {},
   "outputs": [],
   "source": [
    "from functools import reduce\n",
    "\n",
    "import x4i3\n",
    "from x4i3.exfor_column_parsing import (\n",
    "    X4AddErrorBarsColumnPair,\n",
    "    X4ColumnParser,\n",
    "    X4HighMidLowColumnPair,\n",
    "    X4IndependentColumnPair,\n",
    "    angDistParserList,\n",
    "    angDistUnits,\n",
    "    angleParserList,\n",
    "    baseDataKeys,\n",
    "    condenseColumn,\n",
    "    crossSectionUnits,\n",
    "    csDataParserList,\n",
    "    dataTotalErrorKeys,\n",
    "    energyDistParserList,\n",
    "    frameSuffix,\n",
    "    incidentEnergyParserList,\n",
    "    noUnits,\n",
    "    nubarParserList,\n",
    "    outgoingEnergyParserList,\n",
    "    percentUnits,\n",
    "    spectrumArgumentParserList,\n",
    "    variableSuffix,\n",
    ")\n",
    "from x4i3.exfor_dataset import X4DataSet"
   ]
  },
  {
   "cell_type": "code",
   "execution_count": 3,
   "id": "abf9734d-f4ed-45fa-aa2c-9ff6286d1e4e",
   "metadata": {},
   "outputs": [],
   "source": [
    "db = exfor_tools.get_db()"
   ]
  },
  {
   "cell_type": "code",
   "execution_count": 4,
   "id": "943628b1",
   "metadata": {},
   "outputs": [],
   "source": [
    "# targets to consider\n",
    "Ca48 = (48, 20)\n",
    "Pb208 = (208, 82)\n",
    "\n",
    "Zr90 = (90, 40)\n",
    "Zr92 = (92, 40)\n",
    "\n",
    "Sn112 = (112, 50)\n",
    "Sn114 = (114, 50)\n",
    "Sn116 = (116, 50)\n",
    "Sn118 = (118, 50)\n",
    "Sn120 = (120, 50)\n",
    "Sn122 = (122, 50)\n",
    "Sn124 = (124, 50)\n",
    "\n",
    "targets = [Ca48, Zr90, Zr92, Sn112, Sn114, Sn116, Sn118, Sn120, Sn122, Sn124, Pb208]"
   ]
  },
  {
   "cell_type": "code",
   "execution_count": 5,
   "id": "22987dca-5c40-4d63-be0e-4acda36450e8",
   "metadata": {},
   "outputs": [],
   "source": [
    "measurements = dict([(t, []) for t in targets])"
   ]
  },
  {
   "cell_type": "code",
   "execution_count": 6,
   "id": "b31cd42e-ff93-43e3-93fd-5ed5027da030",
   "metadata": {},
   "outputs": [],
   "source": [
    "proton = (1, 1)\n",
    "neutron = (1, 0)"
   ]
  },
  {
   "cell_type": "code",
   "execution_count": 7,
   "id": "7bc99b93-8d8b-4d7e-90c5-d27a8ef0e702",
   "metadata": {},
   "outputs": [],
   "source": [
    "QIAS = {}\n",
    "QIAS[Ca48] = -7.182\n",
    "QIAS[Zr90] = -11.901\n",
    "QIAS[Zr92] = -11.796\n",
    "\n",
    "QIAS[Sn112] = -14.019\n",
    "QIAS[Sn114] = -13.940\n",
    "QIAS[Sn116] = -13.861\n",
    "QIAS[Sn118] = -13.728  # 0+ and 2+ levels within an MeV\n",
    "QIAS[Sn120] = -13.667\n",
    "QIAS[Sn122] = -13.667\n",
    "QIAS[Sn124] = -13.596\n",
    "\n",
    "QIAS[Pb208] = -18.826"
   ]
  },
  {
   "cell_type": "code",
   "execution_count": 8,
   "id": "1e40227e-4add-4598-b3fe-3168fa8eb791",
   "metadata": {},
   "outputs": [],
   "source": [
    "ExIAS = {}\n",
    "ExIAS[Ca48] = 6.6775\n",
    "ExIAS[Zr90] = 5.008\n",
    "ExIAS[Zr92] = 9.008\n",
    "\n",
    "ExIAS[Sn120] = 10.204\n",
    "ExIAS[Sn118] = 9.289\n",
    "\n",
    "\n",
    "ExIAS[Pb208] = 15.164"
   ]
  },
  {
   "cell_type": "code",
   "execution_count": 9,
   "id": "557a1402-cdc7-40ed-a422-dc1bfd2d3b84",
   "metadata": {},
   "outputs": [
    {
     "name": "stdout",
     "output_type": "stream",
     "text": [
      "(48, 20) -7.1811313615783 -7.182\n",
      "(90, 40) -11.90186236158316 -11.901\n",
      "(92, 40) -11.796580361579078 -11.796\n",
      "(118, 50) -13.728485361581319 -13.728\n",
      "(120, 50) -13.667454361590266 -13.667\n",
      "(208, 82) -18.825214361534805 -18.826\n"
     ]
    }
   ],
   "source": [
    "# if the excitation energy is not reported, reconstruct it from CDE and masses\n",
    "# also check values\n",
    "for target in targets:\n",
    "    if target in QIAS.keys():\n",
    "        analog = (target[0], target[1] + 1)\n",
    "        BE_target = jitr.utils.mass.binding_energy(*target)[0]\n",
    "        BE_analog = jitr.utils.mass.binding_energy(*analog)[0]\n",
    "\n",
    "        if target in ExIAS.keys():\n",
    "            print(target, BE_analog - BE_target - ExIAS[target], QIAS[target])\n",
    "        else:\n",
    "            ExIAS[target] = -QIAS[target] + BE_analog - BE_target"
   ]
  },
  {
   "cell_type": "code",
   "execution_count": 10,
   "id": "05481e17-3046-4a96-9672-f922f2fa750f",
   "metadata": {},
   "outputs": [],
   "source": [
    "for t in targets:\n",
    "    if t not in QIAS:\n",
    "        del t"
   ]
  },
  {
   "cell_type": "code",
   "execution_count": 11,
   "id": "cfc9f3bb-67d3-41ed-af6d-7fe2369f93bf",
   "metadata": {},
   "outputs": [],
   "source": [
    "analogs = {}\n",
    "rxn_names = {}\n",
    "for isotope in targets:\n",
    "    analog = (isotope[0], isotope[1] + 1)\n",
    "    analogs[isotope] = analog\n",
    "    name_targ = str(elements[isotope[1]].symbol)\n",
    "    name_analog = str(elements[analog[1]].symbol)\n",
    "    rxn_name = f\"$^{{{isotope[0]}}}${name_targ}(p,n)$^{{{analog[0]}}}${name_analog}\"\n",
    "    rxn_names[isotope] = rxn_name"
   ]
  },
  {
   "cell_type": "code",
   "execution_count": 12,
   "id": "1f5fe526-76a7-4fd0-b7ec-d5d4e0e1d131",
   "metadata": {},
   "outputs": [
    {
     "data": {
      "text/plain": [
       "{(48, 20): '$^{48}$Ca(p,n)$^{48}$Sc',\n",
       " (90, 40): '$^{90}$Zr(p,n)$^{90}$Nb',\n",
       " (92, 40): '$^{92}$Zr(p,n)$^{92}$Nb',\n",
       " (112, 50): '$^{112}$Sn(p,n)$^{112}$Sb',\n",
       " (114, 50): '$^{114}$Sn(p,n)$^{114}$Sb',\n",
       " (116, 50): '$^{116}$Sn(p,n)$^{116}$Sb',\n",
       " (118, 50): '$^{118}$Sn(p,n)$^{118}$Sb',\n",
       " (120, 50): '$^{120}$Sn(p,n)$^{120}$Sb',\n",
       " (122, 50): '$^{122}$Sn(p,n)$^{122}$Sb',\n",
       " (124, 50): '$^{124}$Sn(p,n)$^{124}$Sb',\n",
       " (208, 82): '$^{208}$Pb(p,n)$^{208}$Bi'}"
      ]
     },
     "execution_count": 12,
     "metadata": {},
     "output_type": "execute_result"
    }
   ],
   "source": [
    "rxn_names"
   ]
  },
  {
   "cell_type": "markdown",
   "id": "af45224f",
   "metadata": {},
   "source": [
    "# Let's find some data to calibrate to\n",
    "\n",
    "Let's grab the excitation energies of the isobaric analog states from [here](https://www.sciencedirect.com/science/article/abs/pii/S0092640X97907403). Let's grab some data. We will go exfor entry by exfor entry, as (p,n) to the IAS is less simpe to extract automatically, as it's formatted inconsistently."
   ]
  },
  {
   "cell_type": "code",
   "execution_count": 13,
   "id": "9fc42288-cf43-4ad8-a01f-3f2344ef320a",
   "metadata": {},
   "outputs": [],
   "source": [
    "def get_pn_measurements(entries, measurements):\n",
    "    for entry in entries:\n",
    "        data_sets = db.retrieve(ENTRY=entry)[entry].getSimplifiedDataSets()\n",
    "        for key, data_set in data_sets.items():\n",
    "            isotope = (\n",
    "                data_set.reaction[0].targ.getA(),\n",
    "                data_set.reaction[0].targ.getZ(),\n",
    "            )\n",
    "            projectile = (\n",
    "                data_set.reaction[0].proj.getA(),\n",
    "                data_set.reaction[0].proj.getZ(),\n",
    "            )\n",
    "            quantity = data_set.reaction[0].quantity\n",
    "            products = data_set.reaction[0].products\n",
    "            q = data_set.reaction[0].quantity\n",
    "\n",
    "            if q[0] == \"PAR\" and q[1] == \"DA\" and isotope in measurements:\n",
    "                print(f\"target: {isotope}\")\n",
    "                subm = exfor_tools.get_measurements_from_subentry(\n",
    "                    [10, 200],\n",
    "                    data_set,\n",
    "                )\n",
    "\n",
    "                if isotope in measurements:\n",
    "                    for m in subm:\n",
    "                        print(f\"\\tLab energy: {m.Elab} MeV\")\n",
    "                        measurements[isotope].append(m)\n",
    "    return measurements"
   ]
  },
  {
   "cell_type": "markdown",
   "id": "87e69cc5-dd02-423f-926f-8fa05e556eb0",
   "metadata": {},
   "source": [
    "## [Doering et al., 1975, EXFOR O0178](https://www-nds.iaea.org/exfor/servlet/X4sSearch5?EntryID=240178)"
   ]
  },
  {
   "cell_type": "code",
   "execution_count": 14,
   "id": "14aa01ca-fa12-4fc2-bf31-bfd07f9c4473",
   "metadata": {},
   "outputs": [
    {
     "name": "stdout",
     "output_type": "stream",
     "text": [
      "target: (48, 20)\n",
      "\tLab energy: 45.0 MeV\n",
      "target: (48, 20)\n",
      "\tLab energy: 35.0 MeV\n",
      "target: (48, 20)\n",
      "\tLab energy: 25.0 MeV\n",
      "target: (90, 40)\n",
      "\tLab energy: 45.0 MeV\n",
      "target: (90, 40)\n",
      "\tLab energy: 35.0 MeV\n",
      "target: (90, 40)\n",
      "\tLab energy: 25.0 MeV\n",
      "target: (120, 50)\n",
      "\tLab energy: 45.0 MeV\n",
      "target: (120, 50)\n",
      "\tLab energy: 35.0 MeV\n",
      "target: (120, 50)\n",
      "\tLab energy: 25.0 MeV\n",
      "target: (208, 82)\n",
      "\tLab energy: 45.0 MeV\n",
      "target: (208, 82)\n",
      "\tLab energy: 35.0 MeV\n",
      "target: (208, 82)\n",
      "\tLab energy: 25.0 MeV\n"
     ]
    }
   ],
   "source": [
    "entries = [\"O0178\"]\n",
    "measurements = get_pn_measurements(entries, measurements)"
   ]
  },
  {
   "cell_type": "code",
   "execution_count": 319,
   "id": "fc809b60-e573-456c-8f67-9eb58a58145a",
   "metadata": {},
   "outputs": [
    {
     "data": {
      "text/plain": [
       "0.000322"
      ]
     },
     "execution_count": 319,
     "metadata": {},
     "output_type": "execute_result"
    }
   ],
   "source": [
    "0.0046 * 0.07"
   ]
  },
  {
   "cell_type": "code",
   "execution_count": 379,
   "id": "e678701a-4f7d-4539-8379-a7c9dc405a4e",
   "metadata": {},
   "outputs": [
    {
     "data": {
      "text/plain": [
       "Authors:   R.R.Doering, D.M.Patterson, A.Galonsky\n",
       "Title:     Microscopic Description Of Isobaric-Analog-State Transitions Induced By 25,35 And 45 Mev Protons.\n",
       "Year:      1975\n",
       "Institute: Michigan State University, East Lansing, MI\n",
       "Reference: Physical Review, Part C, Nuclear Physics 12, 378 (1975)\n",
       "Subent:    O0178006 \n",
       "Reaction:  (20-CA-48(P,N)21-SC-48,PAR,DA,EXP)\n",
       "[['ERR-1','ERR-2','ERR-3','ERR-4','EN','Q-VAL','ANG-ERR','DATA-ERR','ANG-CM','DATA','ERR-T'],\n",
       "['PER-CENT','PER-CENT','PER-CENT','PER-CENT','MEV','MEV','ADEG','PER-CENT','ADEG','MB/SR','PER-CENT'],\n",
       "[10.0,5.0,5.0,5.0,45.0,-7.175,1.4,7.0,0.0,4.6,None],\n",
       "[10.0,5.0,5.0,5.0,45.0,-7.175,1.4,7.0,9.2,2.99,None],\n",
       "[10.0,5.0,5.0,5.0,45.0,-7.175,1.4,7.0,13.3,3.45,None],\n",
       "[10.0,5.0,5.0,5.0,45.0,-7.175,1.4,7.0,19.5,5.1,None],\n",
       "[10.0,5.0,5.0,5.0,45.0,-7.175,1.4,7.0,24.6,5.3,None],\n",
       "[10.0,5.0,5.0,5.0,45.0,-7.175,1.4,7.0,29.7,4.6,None],\n",
       "[10.0,5.0,5.0,5.0,45.0,-7.175,1.4,7.0,34.9,2.44,None],\n",
       "[10.0,5.0,5.0,5.0,45.0,-7.175,1.4,7.0,41.0,1.5,20.0],\n",
       "[10.0,5.0,5.0,5.0,45.0,-7.175,1.4,7.0,45.1,1.18,None],\n",
       "[10.0,5.0,5.0,5.0,45.0,-7.175,1.4,7.0,51.3,1.01,None],\n",
       "[10.0,5.0,5.0,5.0,45.0,-7.175,1.4,7.0,55.4,1.17,None],\n",
       "[10.0,5.0,5.0,5.0,45.0,-7.175,1.4,7.0,60.5,0.62,19.0],\n",
       "[10.0,5.0,5.0,5.0,45.0,-7.175,1.4,7.0,65.6,0.33,40.0],\n",
       "[10.0,5.0,5.0,5.0,45.0,-7.175,1.4,7.0,70.8,0.19,21.0],\n",
       "[10.0,5.0,5.0,5.0,45.0,-7.175,1.4,7.0,75.9,0.176,17.0],\n",
       "[10.0,5.0,5.0,5.0,45.0,-7.175,1.4,7.0,81.0,0.21,40.0],\n",
       "[10.0,5.0,5.0,5.0,45.0,-7.175,1.4,7.0,86.1,0.14,29.0],\n",
       "[10.0,5.0,5.0,5.0,45.0,-7.175,1.4,7.0,91.3,0.103,22.0],\n",
       "[10.0,5.0,5.0,5.0,45.0,-7.175,1.4,7.0,96.4,0.089,28.0],\n",
       "[10.0,5.0,5.0,5.0,45.0,-7.175,1.4,7.0,100.5,0.06,30.0],\n",
       "[10.0,5.0,5.0,5.0,45.0,-7.175,1.4,7.0,110.8,0.032,70.0],\n",
       "[10.0,5.0,5.0,5.0,45.0,-7.175,1.4,7.0,121.0,0.018,60.0],\n",
       "[10.0,5.0,5.0,5.0,45.0,-7.175,1.4,7.0,131.3,0.045,40.0],\n",
       "[10.0,5.0,5.0,5.0,45.0,-7.175,1.4,7.0,140.5,0.033,50.0],\n",
       "[10.0,5.0,5.0,5.0,45.0,-7.175,1.4,7.0,150.8,0.06,120.0]]"
      ]
     },
     "execution_count": 379,
     "metadata": {},
     "output_type": "execute_result"
    }
   ],
   "source": [
    "s = db.retrieve(ENTRY=\"O0178\")[\"O0178\"].getDataSets()[(\"O0178\", \"O0178006\", \" \")]\n",
    "s"
   ]
  },
  {
   "cell_type": "code",
   "execution_count": 442,
   "id": "3e3ef57c-acf2-46c4-9475-ff34a61f4b91",
   "metadata": {},
   "outputs": [],
   "source": [
    "# TODO handle Rutherford, Ay, etc. [noUnits]\n",
    "# TODO handle asymmetric error\n",
    "def sanitize_column(col):\n",
    "    for i in range(len(col)):\n",
    "        if col[i] is None:\n",
    "            col[i] = 0\n",
    "    return col\n",
    "\n",
    "\n",
    "def parse_diff_xs(\n",
    "    subentry: x4i3.exfor_dataset.X4AngularDistributionDataSet,\n",
    "    data_error_columns=None,\n",
    "    err_treatment=\"independent\",\n",
    "):\n",
    "    r\"\"\"\n",
    "    Extracts angular differential cross sections, returning incident and product excitation\n",
    "    energy in MeV, angles and error in angle in degrees, and differential cross section and its\n",
    "    error in mb/Sr.\n",
    "    \"\"\"\n",
    "    if subentry.referenceFrame != \"Center of mass\":\n",
    "        raise NotImplementedError(\"Conversions from lab frame not implemented yet\")\n",
    "\n",
    "    if data_error_columns is None:\n",
    "        data_error_columns = [b + \"-ERR\" for b in baseDataKeys] + dataTotalErrorKeys\n",
    "\n",
    "    # parse angle\n",
    "    angle = reduce(condenseColumn, [c.getValue(subentry) for c in angleParserList])\n",
    "    if angle[1] != \"degrees\":\n",
    "        raise ValueError(f\"Cannot parse angle in units of {angle[1]}\")\n",
    "    angle = np.array(angle[2:])\n",
    "\n",
    "    angle_err = reduce(condenseColumn, [c.getError(subentry) for c in angleParserList])\n",
    "    if angle_err[1] != \"degrees\":\n",
    "        raise ValueError(f\"Cannot parse angle error in units of {angle_err[1]}\")\n",
    "    angle_err = np.array(angle_err[2:])\n",
    "\n",
    "    # parse energy if it's present\n",
    "    E_inc_cm = np.array(\n",
    "        reduce(\n",
    "            condenseColumn, [c.getValue(subentry) for c in incidentEnergyParserList]\n",
    "        )[2:],\n",
    "        dtype=np.float64,\n",
    "    )\n",
    "    E_inc_cm_err = np.array(\n",
    "        reduce(\n",
    "            condenseColumn, [c.getError(subentry) for c in incidentEnergyParserList]\n",
    "        )[2:],\n",
    "        dtype=np.float64,\n",
    "    )\n",
    "\n",
    "    # parse excitation energy if it's present\n",
    "    # TODO\n",
    "    E_ex = np.zeros_like(E_inc_cm)\n",
    "    E_ex_err = np.zeros_like(E_inc_cm)\n",
    "\n",
    "    # parse diff xs\n",
    "    data_parser = X4ColumnParser(\n",
    "        match_labels=reduce(\n",
    "            lambda x, y: x + y,\n",
    "            [[b + s for s in variableSuffix + frameSuffix] for b in baseDataKeys],\n",
    "        ),\n",
    "        match_units=angDistUnits,\n",
    "    )\n",
    "    iy = data_parser.firstMatch(subentry)\n",
    "    data_column = data_parser.getColumn(iy, subentry)\n",
    "    xs_units = data_column[1]\n",
    "    xs = np.array(data_column[2:], dtype=np.float64)\n",
    "\n",
    "    # parse errors\n",
    "    err_col_match = []\n",
    "    for label in data_error_columns:\n",
    "\n",
    "        # parse error column\n",
    "        err_parser = X4ColumnParser(\n",
    "            match_labels=reduce(\n",
    "                lambda x, y: x + y,\n",
    "                [label],\n",
    "            ),\n",
    "            match_units=angDistUnits + percentUnits,\n",
    "        )\n",
    "        icol = err_parser.firstMatch(subentry)\n",
    "        if icol > 0:\n",
    "            err = err_parser.getColumn(icol, subentry)\n",
    "            err_units = err[1]\n",
    "            err_data = np.array(sanitize_column(err[2:]), dtype=np.float64)\n",
    "            # convert to same units as data\n",
    "            if \"PER-CENT\" in err_units:\n",
    "                err_data *= xs / 100\n",
    "            elif err_units != xs_units:\n",
    "                raise ValueError(\n",
    "                    f\"Attempted to extract error column {err[0]} with incompatible units\"\n",
    "                    f\"{err_units} for data column {data_column[0]} with units {xs_units}\"\n",
    "                )\n",
    "\n",
    "            err_col_match.append(err_data)\n",
    "\n",
    "    if not err_col_match:\n",
    "        xs_err = np.zeros_like(xs)\n",
    "    elif err_treatment == \"independent\":\n",
    "        # sum errors in quadrature\n",
    "        xs_err = np.sqrt(np.sum(np.array(err_col_match) ** 2, axis=0))\n",
    "    elif err_treatment == \"cumulative\":\n",
    "        # add errors\n",
    "        xs_err = np.sum(np.array(err_col_match), axis=0)\n",
    "    elif err_treatment == \"difference\":\n",
    "        # subtract second error column from first\n",
    "        if len(err_col_match) > 2:\n",
    "            raise ValueError(\n",
    "                f\"Cannot only take difference of 2 error columns, but {len(err_col_match)} were found!\"\n",
    "            )\n",
    "        xs_err = err_col_match[0] - err_col_match[1]\n",
    "\n",
    "    # convert from b/Sr to mb/Sr\n",
    "    xs *= 1000\n",
    "    xs_err *= 1000\n",
    "\n",
    "    return E_inc_cm, E_inc_cm_err, E_ex, E_ex_err, angle, angle_err, xs, xs_err"
   ]
  },
  {
   "cell_type": "code",
   "execution_count": 443,
   "id": "c18ec04e-e3af-4bf6-b62d-d9221ff46624",
   "metadata": {},
   "outputs": [
    {
     "data": {
      "text/plain": [
       "(array([45., 45., 45., 45., 45., 45., 45., 45., 45., 45., 45., 45., 45.,\n",
       "        45., 45., 45., 45., 45., 45., 45., 45., 45., 45., 45., 45.]),\n",
       " array([nan, nan, nan, nan, nan, nan, nan, nan, nan, nan, nan, nan, nan,\n",
       "        nan, nan, nan, nan, nan, nan, nan, nan, nan, nan, nan, nan]),\n",
       " array([0., 0., 0., 0., 0., 0., 0., 0., 0., 0., 0., 0., 0., 0., 0., 0., 0.,\n",
       "        0., 0., 0., 0., 0., 0., 0., 0.]),\n",
       " array([0., 0., 0., 0., 0., 0., 0., 0., 0., 0., 0., 0., 0., 0., 0., 0., 0.,\n",
       "        0., 0., 0., 0., 0., 0., 0., 0.]),\n",
       " array([  0. ,   9.2,  13.3,  19.5,  24.6,  29.7,  34.9,  41. ,  45.1,\n",
       "         51.3,  55.4,  60.5,  65.6,  70.8,  75.9,  81. ,  86.1,  91.3,\n",
       "         96.4, 100.5, 110.8, 121. , 131.3, 140.5, 150.8]),\n",
       " array([1.4, 1.4, 1.4, 1.4, 1.4, 1.4, 1.4, 1.4, 1.4, 1.4, 1.4, 1.4, 1.4,\n",
       "        1.4, 1.4, 1.4, 1.4, 1.4, 1.4, 1.4, 1.4, 1.4, 1.4, 1.4, 1.4]),\n",
       " array([4.6  , 2.99 , 3.45 , 5.1  , 5.3  , 4.6  , 2.44 , 1.5  , 1.18 ,\n",
       "        1.01 , 1.17 , 0.62 , 0.33 , 0.19 , 0.176, 0.21 , 0.14 , 0.103,\n",
       "        0.089, 0.06 , 0.032, 0.018, 0.045, 0.033, 0.06 ]),\n",
       " array([0.322     , 0.2093    , 0.2415    , 0.357     , 0.371     ,\n",
       "        0.322     , 0.1708    , 0.3178443 , 0.0826    , 0.0707    ,\n",
       "        0.0819    , 0.12554043, 0.13400601, 0.04205829, 0.03235721,\n",
       "        0.08527655, 0.04176601, 0.0237794 , 0.02568695, 0.01848351,\n",
       "        0.02251172, 0.01087325, 0.01827355, 0.01666092, 0.0721224 ]))"
      ]
     },
     "execution_count": 443,
     "metadata": {},
     "output_type": "execute_result"
    }
   ],
   "source": [
    "parse_diff_xs(s, data_error_columns=[\"ERR-T\", \"DATA-ERR\"])"
   ]
  },
  {
   "cell_type": "code",
   "execution_count": 316,
   "id": "2df89eee-a93c-4810-b168-a498446a13b8",
   "metadata": {},
   "outputs": [
    {
     "data": {
      "text/plain": [
       "Authors:   R.R.Doering, D.M.Patterson, A.Galonsky\n",
       "Title:     Microscopic Description Of Isobaric-Analog-State Transitions Induced By 25,35 And 45 Mev Protons.\n",
       "Year:      1975\n",
       "Institute: Michigan State University, East Lansing, MI\n",
       "Reference: Physical Review, Part C, Nuclear Physics 12, 378 (1975)\n",
       "Subent:    O0178006 \n",
       "Reaction:  (20-CA-48(P,N)21-SC-48,PAR,DA,EXP)\n",
       "[['Energy','Angle','Data','d(Angle)','d(Data)'],\n",
       "['MeV','degrees','barns/ster','degrees','barns/ster'],\n",
       "[45.0,0.0,0.0046,1.4,0.000322],\n",
       "[45.0,9.2,0.0029900000000000005,1.4,0.00020930000000000005],\n",
       "[45.0,13.3,0.0034500000000000004,1.4,0.00024150000000000002],\n",
       "[45.0,19.5,0.0050999999999999995,1.4,0.00035699999999999995],\n",
       "[45.0,24.6,0.0053,1.4,0.000371],\n",
       "[45.0,29.7,0.0046,1.4,0.000322],\n",
       "[45.0,34.9,0.00244,1.4,0.00017079999999999998],\n",
       "[45.0,41.0,0.0015,1.4,0.000105],\n",
       "[45.0,45.1,0.00118,1.4,8.26e-05],\n",
       "[45.0,51.3,0.00101,1.4,7.07e-05],\n",
       "[45.0,55.4,0.00117,1.4,8.19e-05],\n",
       "[45.0,60.5,0.00062,1.4,4.34e-05],\n",
       "[45.0,65.6,0.00033,1.4,2.31e-05],\n",
       "[45.0,70.8,0.00019,1.4,1.33e-05],\n",
       "[45.0,75.9,0.000176,1.4,1.232e-05],\n",
       "[45.0,81.0,0.00021,1.4,1.47e-05],\n",
       "[45.0,86.1,0.00014000000000000001,1.4,9.800000000000001e-06],\n",
       "[45.0,91.3,0.000103,1.4,7.21e-06],\n",
       "[45.0,96.4,8.9e-05,1.4,6.23e-06],\n",
       "[45.0,100.5,6e-05,1.4,4.2000000000000004e-06],\n",
       "[45.0,110.8,3.2e-05,1.4,2.24e-06],\n",
       "[45.0,121.0,1.8e-05,1.4,1.26e-06],\n",
       "[45.0,131.3,4.4999999999999996e-05,1.4,3.1499999999999995e-06],\n",
       "[45.0,140.5,3.3e-05,1.4,2.3100000000000003e-06],\n",
       "[45.0,150.8,6e-05,1.4,4.2000000000000004e-06]]"
      ]
     },
     "execution_count": 316,
     "metadata": {},
     "output_type": "execute_result"
    }
   ],
   "source": [
    "X4DataSet.getSimplified(\n",
    "    s,\n",
    "    parserMap={\n",
    "        \"Energy\": incidentEnergyParserList,\n",
    "        \"Angle\": angleParserList,\n",
    "        \"Data\": angDistParserList,\n",
    "    },\n",
    "    columnNames=[\"Energy\", \"Angle\", \"Data\"],\n",
    ")"
   ]
  },
  {
   "cell_type": "code",
   "execution_count": 321,
   "id": "bfc0673a-fd49-4e3b-b27a-e00de9243103",
   "metadata": {},
   "outputs": [
    {
     "data": {
      "text/plain": [
       "4.2000000000000004e-06"
      ]
     },
     "execution_count": 321,
     "metadata": {},
     "output_type": "execute_result"
    }
   ],
   "source": [
    "6e-05 * 0.07"
   ]
  },
  {
   "cell_type": "markdown",
   "id": "4b7cf9a5-d007-4c1f-ad8b-2364ced6e861",
   "metadata": {},
   "source": [
    "## [Anderson et al., 1985, EXFOR C0134](https://www-nds.iaea.org/exfor/servlet/X4sSearch5?EntryID=120134)\n",
    " -  issue: reported uncertainties missing\n",
    " -  for this entry, we must select by hand subentries with the IAS transition"
   ]
  },
  {
   "cell_type": "code",
   "execution_count": 15,
   "id": "2e38c4ed-1627-4008-8d29-38ffb667bf8d",
   "metadata": {},
   "outputs": [],
   "source": [
    "# for Anderson data at 134 and 160 MeV, the analog 0+ transition is given in two subentries\n",
    "anderson134 = exfor_tools.get_measurements_from_subentry(\n",
    "    [10, 200],\n",
    "    db.retrieve(ENTRY=\"C0134\")[\"C0134\"].getSimplifiedDataSets()[\n",
    "        (\"C0134\", \"C0134002\", \" \")\n",
    "    ],\n",
    ")[0]\n",
    "\n",
    "anderson160 = exfor_tools.get_measurements_from_subentry(\n",
    "    [10, 200],\n",
    "    db.retrieve(ENTRY=\"C0134\")[\"C0134\"].getSimplifiedDataSets()[\n",
    "        (\"C0134\", \"C0134004\", \" \")\n",
    "    ],\n",
    ")[0]\n",
    "\n",
    "measurements[Ca48].append(anderson134)\n",
    "measurements[Ca48].append(anderson160)"
   ]
  },
  {
   "cell_type": "markdown",
   "id": "fa4f3713-dd24-4231-8cb3-d0aaa70b1726",
   "metadata": {},
   "source": [
    "## [Carlson et al., 1975, EXFOR D0049](https://www-nds.iaea.org/exfor/servlet/X4sSearch5?EntryID=130049)\n",
    "\n",
    "- EXFOR entries for Pb208, Sn120,118 report E_ex in the analog nucleus that is in disagreement with the CDE tables, and the authors left out Pb208 from their fit, so this work will be ignored."
   ]
  },
  {
   "cell_type": "markdown",
   "id": "ff6f5a6b-0d28-4181-9d95-08cb79011567",
   "metadata": {},
   "source": [
    "## [Anderson et al., 1988, EXFOR T0193](https://www-nds.iaea.org/exfor/servlet/X4sSearch5?EntryID=290193)\n",
    "- the excitation energies are only reported for Zr90,92, so we only take those two measurements"
   ]
  },
  {
   "cell_type": "code",
   "execution_count": 16,
   "id": "cdb37e38-1697-4824-9fab-f375c9c8a869",
   "metadata": {},
   "outputs": [
    {
     "name": "stdout",
     "output_type": "stream",
     "text": [
      "target: (90, 40)\n",
      "\tLab energy: 18.0 MeV\n",
      "\tLab energy: 25.0 MeV\n",
      "target: (92, 40)\n",
      "\tLab energy: 18.0 MeV\n",
      "\tLab energy: 25.0 MeV\n"
     ]
    }
   ],
   "source": [
    "entries = [\"T0193\"]\n",
    "measurements = get_pn_measurements(entries, measurements)"
   ]
  },
  {
   "cell_type": "markdown",
   "id": "f1f91fb5-0163-4436-a308-05ad6e492554",
   "metadata": {},
   "source": [
    "## [Schery et al., 1978, EXFOR O0138](https://www-nds.iaea.org/exfor/servlet/X4sSearch5?EntryID=240138)\n",
    "- Issue: reported uncertainties not transcribed properly"
   ]
  },
  {
   "cell_type": "code",
   "execution_count": 17,
   "id": "cf4b0b5d-a231-4d50-83cb-81bea086ef5e",
   "metadata": {},
   "outputs": [
    {
     "name": "stdout",
     "output_type": "stream",
     "text": [
      "target: (124, 50)\n",
      "\tLab energy: 35.3 MeV\n",
      "target: (116, 50)\n",
      "\tLab energy: 35.3 MeV\n",
      "target: (112, 50)\n",
      "\tLab energy: 35.3 MeV\n",
      "target: (208, 82)\n",
      "\tLab energy: 25.8 MeV\n",
      "target: (208, 82)\n",
      "\tLab energy: 35.0 MeV\n",
      "target: (208, 82)\n",
      "\tLab energy: 45.0 MeV\n",
      "target: (48, 20)\n",
      "\tLab energy: 45.0 MeV\n"
     ]
    }
   ],
   "source": [
    "entries = [\"O0138\"]\n",
    "measurements = get_pn_measurements(entries, measurements)"
   ]
  },
  {
   "cell_type": "markdown",
   "id": "16171e01-2344-4c42-85dd-795da4bdfdbf",
   "metadata": {},
   "source": [
    "## [Woods et al., 1972, EXFOR T0294](https://www-nds.iaea.org/exfor/servlet/X4sSearch5?EntryID=290294)"
   ]
  },
  {
   "cell_type": "code",
   "execution_count": 18,
   "id": "74293f07-7c54-4402-92b2-173875246eb4",
   "metadata": {},
   "outputs": [
    {
     "name": "stdout",
     "output_type": "stream",
     "text": [
      "target: (208, 82)\n",
      "\tLab energy: 30.5 MeV\n"
     ]
    }
   ],
   "source": [
    "entries = [\"T0294\"]\n",
    "measurements = get_pn_measurements(entries, measurements)"
   ]
  },
  {
   "cell_type": "markdown",
   "id": "4a37380d-bd26-4bb2-b045-54e2572fe4c6",
   "metadata": {},
   "source": [
    "## [Batty et al., 1968, EXFOR O0090](https://www-nds.iaea.org/exfor/servlet/X4sSearch5?EntryID=240090)"
   ]
  },
  {
   "cell_type": "code",
   "execution_count": 19,
   "id": "ed19d2bc-d5c1-414f-ba04-5e8e09b9403d",
   "metadata": {},
   "outputs": [
    {
     "name": "stdout",
     "output_type": "stream",
     "text": [
      "target: (120, 50)\n",
      "\tLab energy: 49.4 MeV\n",
      "target: (208, 82)\n",
      "\tLab energy: 49.4 MeV\n",
      "target: (120, 50)\n",
      "\tLab energy: 30.4 MeV\n",
      "target: (208, 82)\n",
      "\tLab energy: 30.4 MeV\n"
     ]
    }
   ],
   "source": [
    "entries = [\"O0090\"]\n",
    "measurements = get_pn_measurements(entries, measurements)"
   ]
  },
  {
   "cell_type": "markdown",
   "id": "3361924e-6d0a-48d7-be13-87cfdd699f78",
   "metadata": {},
   "source": [
    "## [Wong et al., 1972, EXFOR O0084](https://www-nds.iaea.org/exfor/servlet/X4sSearch5?EntryID=240084)\n",
    "- experimental uncertainties missing"
   ]
  },
  {
   "cell_type": "code",
   "execution_count": 304,
   "id": "fce60218-e086-4dbc-90f3-799b81cde997",
   "metadata": {},
   "outputs": [
    {
     "data": {
      "text/plain": [
       "['', '-DUMMY', '-ASSUM', '-MEAN', '-APRX']"
      ]
     },
     "execution_count": 304,
     "metadata": {},
     "output_type": "execute_result"
    }
   ],
   "source": [
    "variableSuffix"
   ]
  },
  {
   "cell_type": "code",
   "execution_count": 305,
   "id": "c788d335-33d9-471d-8ca8-b6c322b838f6",
   "metadata": {},
   "outputs": [
    {
     "data": {
      "text/plain": [
       "['-CM']"
      ]
     },
     "execution_count": 305,
     "metadata": {},
     "output_type": "execute_result"
    }
   ],
   "source": [
    "frameSuffix"
   ]
  },
  {
   "cell_type": "code",
   "execution_count": 306,
   "id": "496404b0-5e6c-4ca5-80dc-e1da06cbef74",
   "metadata": {},
   "outputs": [
    {
     "data": {
      "text/plain": [
       "Authors:   C.Wong, J.D.Anderson, J.W.Mcclure, B.A.Pohl, J.J.Wesolowski\n",
       "Title:     Measurements And Optical-Model Analyses Of Quasielastic (P,N) Reactions.\n",
       "Year:      1972\n",
       "Institute: Lawrence Livermore National Laboratory, Livermore, CA\n",
       "Reference: Physical Review, Part C, Nuclear Physics 5, 158 (1972)\n",
       "Subent:    O0084030 \n",
       "Reaction:  (40-ZR-90(P,N)41-NB-90,PAR,DA,A)\n",
       "[['IAS-NUMB','ERR-1','EN','ANG-ERR-D','ANG-CM','DATA-CM','-DATA-ERR','+DATA-ERR'],\n",
       "['NO-DIM','PER-CENT','MEV','ADEG','ADEG','MB/SR','PER-CENT','PER-CENT'],\n",
       "[0.0,7.0,19.7,0.7,3.2,4.9,6.0,8.0],\n",
       "[0.0,7.0,19.7,0.7,16.5,2.7,10.0,10.0],\n",
       "[0.0,7.0,19.7,0.7,32.8,1.72,16.0,19.0],\n",
       "[0.0,7.0,19.7,0.7,46.7,1.35,16.0,19.0],\n",
       "[0.0,7.0,19.7,0.7,60.8,0.72,21.0,19.0],\n",
       "[0.0,7.0,19.7,0.7,77.6,0.25,60.0,70.0],\n",
       "[0.0,7.0,19.7,0.7,91.4,0.48,30.0,25.0],\n",
       "[0.0,7.0,19.7,0.7,107.3,0.18,None,90.0],\n",
       "[0.0,7.0,19.7,0.7,123.4,0.3,60.0,60.0],\n",
       "[0.0,7.0,19.7,0.7,135.1,0.18,None,100.0]]"
      ]
     },
     "execution_count": 306,
     "metadata": {},
     "output_type": "execute_result"
    }
   ],
   "source": [
    "entry = \"O0084\"\n",
    "s = db.retrieve(ENTRY=entry)[entry].getDataSets()[(\"O0084\", \"O0084030\", \" \")]\n",
    "s"
   ]
  },
  {
   "cell_type": "code",
   "execution_count": 307,
   "id": "5270dfa7-108b-484e-b76e-f9760f4fa4eb",
   "metadata": {},
   "outputs": [
    {
     "data": {
      "text/plain": [
       "['B/SR', 'MB/SR', 'MICRO-B/SR', 'barns/SR']"
      ]
     },
     "execution_count": 307,
     "metadata": {},
     "output_type": "execute_result"
    }
   ],
   "source": [
    "angDistUnits"
   ]
  },
  {
   "cell_type": "code",
   "execution_count": 308,
   "id": "6c16e7a3-48ea-48c6-8536-2ee3083e2c38",
   "metadata": {},
   "outputs": [
    {
     "data": {
      "text/plain": [
       "['DATA', 'RATIO']"
      ]
     },
     "execution_count": 308,
     "metadata": {},
     "output_type": "execute_result"
    }
   ],
   "source": [
    "baseDataKeys"
   ]
  },
  {
   "cell_type": "code",
   "execution_count": 309,
   "id": "2a14d139-a6b6-46ba-bfdf-f11a9696753d",
   "metadata": {},
   "outputs": [
    {
     "data": {
      "text/plain": [
       "5"
      ]
     },
     "execution_count": 309,
     "metadata": {},
     "output_type": "execute_result"
    }
   ],
   "source": [
    "X4ColumnParser(\n",
    "    match_labels=reduce(\n",
    "        lambda x, y: x + y,\n",
    "        [[b + s for s in variableSuffix + frameSuffix] for b in baseDataKeys],\n",
    "    ),\n",
    "    match_units=angDistUnits + noUnits,\n",
    ").firstMatch(s)"
   ]
  },
  {
   "cell_type": "code",
   "execution_count": 311,
   "id": "fff4e2c0-2ec4-4715-b424-fef7cf641dcb",
   "metadata": {},
   "outputs": [
    {
     "data": {
      "text/plain": [
       "['DATA-CM',\n",
       " 'barns/ster',\n",
       " 0.004900000000000001,\n",
       " 0.0027,\n",
       " 0.00172,\n",
       " 0.00135,\n",
       " 0.0007199999999999999,\n",
       " 0.00025,\n",
       " 0.00048,\n",
       " 0.00017999999999999998,\n",
       " 0.0003,\n",
       " 0.00017999999999999998]"
      ]
     },
     "execution_count": 311,
     "metadata": {},
     "output_type": "execute_result"
    }
   ],
   "source": [
    "X4AddErrorBarsColumnPair(\n",
    "    X4ColumnParser(\n",
    "        match_labels=reduce(\n",
    "            lambda x, y: x + y,\n",
    "            [[b + s for s in variableSuffix + frameSuffix] for b in baseDataKeys],\n",
    "        ),\n",
    "        match_units=angDistUnits + noUnits,\n",
    "    ),\n",
    "    X4ColumnParser(\n",
    "        match_labels=[\"-\" + b + \"-ERR\" for b in baseDataKeys],\n",
    "        match_units=angDistUnits + percentUnits,\n",
    "    ),\n",
    "    X4ColumnParser(\n",
    "        match_labels=[\"+\" + b + \"-ERR\" for b in baseDataKeys],\n",
    "        match_units=angDistUnits + percentUnits,\n",
    "    ),\n",
    ").getValue(s)"
   ]
  },
  {
   "cell_type": "code",
   "execution_count": 312,
   "id": "06644402-1012-434a-88f7-e33b09c659c4",
   "metadata": {},
   "outputs": [
    {
     "data": {
      "text/plain": [
       "['ERR',\n",
       " 'barns/ster',\n",
       " 0.0004900000000000001,\n",
       " 0.00038183766184073575,\n",
       " 0.0004272391367840732,\n",
       " 0.00033533304340610396,\n",
       " 0.00020390115252249063,\n",
       " 0.0002304886114323222,\n",
       " 0.00018744599222175973,\n",
       " 0.00016199999999999998,\n",
       " 0.0002545584412271571,\n",
       " 0.00017999999999999998]"
      ]
     },
     "execution_count": 312,
     "metadata": {},
     "output_type": "execute_result"
    }
   ],
   "source": [
    "X4AddErrorBarsColumnPair(\n",
    "    X4ColumnParser(\n",
    "        match_labels=reduce(\n",
    "            lambda x, y: x + y,\n",
    "            [[b + s for s in variableSuffix + frameSuffix] for b in baseDataKeys],\n",
    "        ),\n",
    "        match_units=angDistUnits + noUnits,\n",
    "    ),\n",
    "    X4ColumnParser(\n",
    "        match_labels=[\"-\" + b + \"-ERR\" for b in baseDataKeys],\n",
    "        match_units=angDistUnits + percentUnits,\n",
    "    ),\n",
    "    X4ColumnParser(\n",
    "        match_labels=[\"+\" + b + \"-ERR\" for b in baseDataKeys],\n",
    "        match_units=angDistUnits + percentUnits,\n",
    "    ),\n",
    ").getError(s)"
   ]
  },
  {
   "cell_type": "code",
   "execution_count": 221,
   "id": "0fcb6160-9561-4e35-9487-6d25935c8e47",
   "metadata": {},
   "outputs": [
    {
     "data": {
      "text/plain": [
       "['NO-DIM', 'PER-CENT', 'MEV', 'ADEG', 'ADEG', 'MB/SR', 'PER-CENT', 'PER-CENT']"
      ]
     },
     "execution_count": 221,
     "metadata": {},
     "output_type": "execute_result"
    }
   ],
   "source": [
    "s.units"
   ]
  },
  {
   "cell_type": "code",
   "execution_count": 219,
   "id": "6ef76f88-c0bd-44f7-99ff-fefa413b410c",
   "metadata": {},
   "outputs": [
    {
     "data": {
      "text/plain": [
       "['IAS-NUMB',\n",
       " 'ERR-1',\n",
       " 'EN',\n",
       " 'ANG-ERR-D',\n",
       " 'ANG-CM',\n",
       " 'DATA-CM',\n",
       " '-DATA-ERR',\n",
       " '+DATA-ERR']"
      ]
     },
     "execution_count": 219,
     "metadata": {},
     "output_type": "execute_result"
    }
   ],
   "source": [
    "s.labels"
   ]
  },
  {
   "cell_type": "code",
   "execution_count": 297,
   "id": "c3c439fc-ec96-4fd8-a4f5-ec3fc207fb63",
   "metadata": {},
   "outputs": [],
   "source": [
    "def parse_diff_xs(data, labels, units):\n",
    "    data = np.array(data)"
   ]
  },
  {
   "cell_type": "code",
   "execution_count": 314,
   "id": "096a0f39-1251-4110-8a8c-b1bb46ae6dcc",
   "metadata": {},
   "outputs": [
    {
     "data": {
      "text/plain": [
       "Authors:   C.Wong, J.D.Anderson, J.W.Mcclure, B.A.Pohl, J.J.Wesolowski\n",
       "Title:     Measurements And Optical-Model Analyses Of Quasielastic (P,N) Reactions.\n",
       "Year:      1972\n",
       "Institute: Lawrence Livermore National Laboratory, Livermore, CA\n",
       "Reference: Physical Review, Part C, Nuclear Physics 5, 158 (1972)\n",
       "Subent:    O0084030 \n",
       "Reaction:  (40-ZR-90(P,N)41-NB-90,PAR,DA,A)\n",
       "[['Energy','Angle','Data'],\n",
       "['MeV','degrees','barns/ster'],\n",
       "[19.7,3.2,0.004900000000000001],\n",
       "[19.7,16.5,0.0027],\n",
       "[19.7,32.8,0.00172],\n",
       "[19.7,46.7,0.00135],\n",
       "[19.7,60.8,0.0007199999999999999],\n",
       "[19.7,77.6,0.00025],\n",
       "[19.7,91.4,0.00048],\n",
       "[19.7,107.3,0.00017999999999999998],\n",
       "[19.7,123.4,0.0003],\n",
       "[19.7,135.1,0.00017999999999999998]]"
      ]
     },
     "execution_count": 314,
     "metadata": {},
     "output_type": "execute_result"
    }
   ],
   "source": [
    "X4DataSet.getSimplified(\n",
    "    s,\n",
    "    parserMap={\n",
    "        \"Energy\": incidentEnergyParserList,\n",
    "        \"Angle\": angleParserList,\n",
    "        \"Data\": angDistParserList,\n",
    "    },\n",
    "    columnNames=[\"Energy\", \"Angle\", \"Data\"],\n",
    ")"
   ]
  },
  {
   "cell_type": "code",
   "execution_count": 166,
   "id": "a19ff32c-78e7-4393-80d3-d90d161c604c",
   "metadata": {},
   "outputs": [
    {
     "data": {
      "text/plain": [
       "'Center of mass'"
      ]
     },
     "execution_count": 166,
     "metadata": {},
     "output_type": "execute_result"
    }
   ],
   "source": [
    "entry = \"14317\"\n",
    "db.retrieve(ENTRY=entry)[entry].getDataSets()[(\"14317\", \"14317002\", \" \")]"
   ]
  },
  {
   "cell_type": "code",
   "execution_count": 132,
   "id": "107efab9-cd3f-4a84-9503-c1711e9e297d",
   "metadata": {},
   "outputs": [
    {
     "data": {
      "text/plain": [
       "Authors:   C.Wong, J.D.Anderson, J.W.Mcclure, B.A.Pohl, J.J.Wesolowski\n",
       "Title:     Measurements And Optical-Model Analyses Of Quasielastic (P,N) Reactions.\n",
       "Year:      1972\n",
       "Institute: Lawrence Livermore National Laboratory, Livermore, CA\n",
       "Reference: Physical Review, Part C, Nuclear Physics 5, 158 (1972)\n",
       "Subent:    O0084002 \n",
       "Reaction:  (22-TI-48(P,N)23-V-48,PAR,DA,A)\n",
       "[['Energy','Angle','Data'],\n",
       "['MeV','degrees','barns/ster'],\n",
       "[17.1,25.0,0.00134],\n",
       "[17.1,39.9,0.00061],\n",
       "[17.1,55.4,0.00049],\n",
       "[17.1,69.9,0.00084],\n",
       "[17.1,85.4,0.00062],\n",
       "[17.1,100.1,0.0005300000000000001],\n",
       "[17.1,112.9,0.0008],\n",
       "[17.1,130.1,0.00073],\n",
       "[17.1,155.8,0.00111]]"
      ]
     },
     "execution_count": 132,
     "metadata": {},
     "output_type": "execute_result"
    }
   ],
   "source": [
    "db.retrieve(ENTRY=entry)[entry].getSimplifiedDataSets()[(\"O0084\", \"O0084002\", \" \")]"
   ]
  },
  {
   "cell_type": "code",
   "execution_count": 189,
   "id": "3b60e66a-cd2f-4c27-a3f9-ccc64d26998e",
   "metadata": {},
   "outputs": [
    {
     "data": {
      "text/plain": [
       "Authors:   B.D.Anderson, T.Chittrakarn, A.R.Baldwin, C.Lebo, R.Madey, R.J.Mccarthy, J.W.Watson, B.A.Brown, C.C.Foster\n",
       "Title:     Particle-Hole Strength Excited In The 48Ca(P,N)48Sc Reaction At 134 And 160 Mev: Pi F(7/2), Nu F-1(7/2) Band\n",
       "Year:      1985\n",
       "Institute: Michigan State University, East Lansing, MI\n",
       "Reference: Physical Review, Part C, Nuclear Physics 31, 1147 (1985); Physical Review, Part C, Nuclear Physics 31, 1161 (1985)\n",
       "Subent:    C0134004 \n",
       "Reaction:  (20-CA-48(P,N)21-SC-48,PAR,DA)\n",
       "[['ERR-SYS','ERR-1','ERR-2','ERR-3','ERR-4','ERR-5','EN','E-EXC','ANG-CM','DATA-CM','ERR-S'],\n",
       "['PER-CENT','PER-CENT','PER-CENT','PER-CENT','PER-CENT','PER-CENT','MEV','MEV','ADEG','MB/SR','MB/SR'],\n",
       "[12.0,10.0,5.0,5.0,2.0,1.0,160.0,6.67,0.0,5.0,None],\n",
       "[12.0,10.0,5.0,5.0,2.0,1.0,160.0,6.67,3.313,3.582,None],\n",
       "[12.0,10.0,5.0,5.0,2.0,1.0,160.0,6.67,6.64,1.794,None],\n",
       "[12.0,10.0,5.0,5.0,2.0,1.0,160.0,6.67,9.636,0.8063,None],\n",
       "[12.0,10.0,5.0,5.0,2.0,1.0,160.0,6.67,12.035,0.394,None],\n",
       "[12.0,10.0,5.0,5.0,2.0,1.0,160.0,6.67,15.755,0.3034,0.04363],\n",
       "[12.0,10.0,5.0,5.0,2.0,1.0,160.0,6.67,18.626,0.07238,0.0311]]"
      ]
     },
     "execution_count": 189,
     "metadata": {},
     "output_type": "execute_result"
    }
   ],
   "source": [
    "db.retrieve(ENTRY=\"C0134\")[\"C0134\"].getDataSets()[\"C0134\", \"C0134004\", \" \"]"
   ]
  },
  {
   "cell_type": "code",
   "execution_count": 20,
   "id": "fa5a6310-c220-4add-a25d-20e8fa0f8cfc",
   "metadata": {},
   "outputs": [
    {
     "name": "stdout",
     "output_type": "stream",
     "text": [
      "target: (90, 40)\n",
      "\tLab energy: 18.0 MeV\n",
      "target: (90, 40)\n",
      "\tLab energy: 19.7 MeV\n"
     ]
    }
   ],
   "source": [
    "entries = [\"O0084\"]\n",
    "measurements = get_pn_measurements(entries, measurements)"
   ]
  },
  {
   "cell_type": "markdown",
   "id": "acb713da-40ce-4e26-a31d-99a328649eff",
   "metadata": {},
   "source": [
    "## [Jon et al., 2000, EXFOR E2092](https://www-nds.iaea.org/exfor/servlet/X4sSearch5?EntryID=142092)"
   ]
  },
  {
   "cell_type": "code",
   "execution_count": 21,
   "id": "302a4651-a5b0-4fa6-b93d-5cb00c8dc8df",
   "metadata": {},
   "outputs": [
    {
     "name": "stdout",
     "output_type": "stream",
     "text": [
      "target: (92, 40)\n",
      "\tLab energy: 35.0 MeV\n",
      "target: (116, 50)\n",
      "\tLab energy: 35.0 MeV\n",
      "target: (120, 50)\n",
      "\tLab energy: 35.0 MeV\n",
      "target: (208, 82)\n",
      "\tLab energy: 35.0 MeV\n"
     ]
    }
   ],
   "source": [
    "entries = [\"E2092\"]\n",
    "measurements = get_pn_measurements(entries, measurements)"
   ]
  },
  {
   "cell_type": "markdown",
   "id": "5c0c11e1-59c8-4b48-93d8-8676b9c4d962",
   "metadata": {},
   "source": [
    "## [Schery et al., 1974, EXFOR  O0048](https://www-nds.iaea.org/exfor/servlet/X4sSearch5?EntryID=240048)\n",
    "- unreported errors, lab system angles ignore"
   ]
  },
  {
   "cell_type": "code",
   "execution_count": 209,
   "id": "a54eedc4-44da-4238-85f1-d1997706ab8f",
   "metadata": {},
   "outputs": [],
   "source": [
    "# entries = [\"O0048\"]\n",
    "# measurements = get_pn_measurements(entries, measurements)"
   ]
  },
  {
   "cell_type": "markdown",
   "id": "861e01f5-a9f6-4cba-a586-b346627ebe47",
   "metadata": {},
   "source": [
    "# Plot data"
   ]
  },
  {
   "cell_type": "code",
   "execution_count": 23,
   "id": "f712722c-25f1-4f98-9d81-fbbc88e82b98",
   "metadata": {},
   "outputs": [],
   "source": [
    "all_qepn_measurements = {}\n",
    "for isotope in targets:\n",
    "    all_qepn_measurements[isotope] = exfor_tools.sort_measurement_list(\n",
    "        measurements[isotope]\n",
    "    )"
   ]
  },
  {
   "cell_type": "code",
   "execution_count": 107,
   "id": "329f10f0-99b0-4e69-97e4-f4011cc3793f",
   "metadata": {},
   "outputs": [],
   "source": [
    "def plot_measurements(\n",
    "    measurements,\n",
    "    title,\n",
    "    constant_factor=20,\n",
    "    figsize=(6, 10),\n",
    "    xlim=[-20, 190],\n",
    "    label_offset_fraction=[0.75, 0.5],\n",
    "):\n",
    "    ylabel = r\"$d\\sigma/d\\Omega$ [mb/Sr]\"\n",
    "\n",
    "    fig, ax = plt.subplots(1, 1, figsize=figsize)\n",
    "    n = 0\n",
    "    for i, measurement in enumerate(measurements):\n",
    "        offset = constant_factor**n\n",
    "        n += 1\n",
    "\n",
    "        # plot experiment\n",
    "        x, x_err, y, y_err = (\n",
    "            measurement.data[0, :],\n",
    "            measurement.data[1, :],\n",
    "            measurement.data[2, :],\n",
    "            measurement.data[3, :],\n",
    "        )\n",
    "        p = ax.errorbar(\n",
    "            x,\n",
    "            offset * y,\n",
    "            yerr=offset * y_err,\n",
    "            # xerr=x_err,\n",
    "            marker=\"s\",\n",
    "            markersize=2,\n",
    "            #            color='none',\n",
    "            alpha=0.6,\n",
    "            linestyle=\"none\",\n",
    "            linewidth=4,\n",
    "            #  color=\"k\",\n",
    "        )\n",
    "        # add a label\n",
    "        energy = str(measurement.Elab)\n",
    "\n",
    "        if x[0] > 15 and x[-1] > 170:\n",
    "            xloc = -18\n",
    "            yloc = np.mean(y)\n",
    "        elif x[-1] < 140:\n",
    "            xloc = 150\n",
    "            yloc = np.mean(y)\n",
    "        else:\n",
    "            xloc = -18\n",
    "            yloc = np.mean(y)\n",
    "\n",
    "        plt.text(xloc, yloc * offset, f\"{energy} MeV\", color=p.lines[0].get_color())\n",
    "\n",
    "    ax.set_xlim(xlim)\n",
    "\n",
    "    # plt.ylim([1, 1e6])\n",
    "    plt.title(title)\n",
    "    plt.yscale(\"log\")\n",
    "    ax.set_ylabel(ylabel)\n",
    "    ax.set_xlabel(r\"$\\theta$ [deg]\")"
   ]
  },
  {
   "cell_type": "code",
   "execution_count": 108,
   "id": "501f0d0c-1f4a-43b5-bb35-d54dbb6caf71",
   "metadata": {},
   "outputs": [
    {
     "data": {
      "text/plain": [
       "dict_keys([(48, 20), (90, 40), (92, 40), (112, 50), (114, 50), (116, 50), (118, 50), (120, 50), (122, 50), (124, 50), (208, 82)])"
      ]
     },
     "execution_count": 108,
     "metadata": {},
     "output_type": "execute_result"
    }
   ],
   "source": [
    "measurements.keys()"
   ]
  },
  {
   "cell_type": "code",
   "execution_count": 109,
   "id": "fc8917cc-49d9-4749-ab16-4f09fe22a99e",
   "metadata": {},
   "outputs": [
    {
     "data": {
      "image/png": "[encoded data removed]",
      "text/plain": [
       "<Figure size 600x1000 with 1 Axes>"
      ]
     },
     "metadata": {},
     "output_type": "display_data"
    }
   ],
   "source": [
    "plot_measurements(\n",
    "    all_qepn_measurements[Pb208],\n",
    "    rxn_names[Pb208],\n",
    "    constant_factor=20,\n",
    ")"
   ]
  },
  {
   "cell_type": "code",
   "execution_count": 110,
   "id": "eb8e7c3d-a039-4a1f-a6cb-df4f3eda5124",
   "metadata": {},
   "outputs": [
    {
     "data": {
      "image/png": "[encoded data removed]",
      "text/plain": [
       "<Figure size 600x1000 with 1 Axes>"
      ]
     },
     "metadata": {},
     "output_type": "display_data"
    }
   ],
   "source": [
    "plot_measurements(\n",
    "    all_qepn_measurements[Ca48],\n",
    "    rxn_names[Ca48],\n",
    "    constant_factor=100,\n",
    ")"
   ]
  },
  {
   "cell_type": "code",
   "execution_count": 111,
   "id": "b9f8c3a2-3df3-4160-bc72-7749637a4ffb",
   "metadata": {},
   "outputs": [
    {
     "data": {
      "image/png": "[encoded data removed]",
      "text/plain": [
       "<Figure size 600x1000 with 1 Axes>"
      ]
     },
     "metadata": {},
     "output_type": "display_data"
    }
   ],
   "source": [
    "plot_measurements(\n",
    "    all_qepn_measurements[Sn112],\n",
    "    rxn_names[Sn112],\n",
    "    constant_factor=20,\n",
    ")"
   ]
  },
  {
   "cell_type": "code",
   "execution_count": 112,
   "id": "3b97b174-9ba4-47a0-bde0-fc4ba22afe50",
   "metadata": {},
   "outputs": [
    {
     "data": {
      "image/png": "[encoded data removed]",
      "text/plain": [
       "<Figure size 600x1000 with 1 Axes>"
      ]
     },
     "metadata": {},
     "output_type": "display_data"
    }
   ],
   "source": [
    "plot_measurements(\n",
    "    all_qepn_measurements[Sn116],\n",
    "    rxn_names[Sn116],\n",
    "    constant_factor=1,\n",
    ")"
   ]
  },
  {
   "cell_type": "code",
   "execution_count": 113,
   "id": "f6f5c65a-c21b-4d46-a4d8-3fd83fc6368c",
   "metadata": {},
   "outputs": [
    {
     "data": {
      "image/png": "[encoded data removed]",
      "text/plain": [
       "<Figure size 600x1000 with 1 Axes>"
      ]
     },
     "metadata": {},
     "output_type": "display_data"
    }
   ],
   "source": [
    "plot_measurements(\n",
    "    all_qepn_measurements[Sn120],\n",
    "    rxn_names[Sn120],\n",
    "    constant_factor=20,\n",
    ")"
   ]
  },
  {
   "cell_type": "code",
   "execution_count": 114,
   "id": "5da3dd1d-c18a-4e26-ad36-ad7ebf0ef6d6",
   "metadata": {},
   "outputs": [
    {
     "data": {
      "image/png": "[encoded data removed]",
      "text/plain": [
       "<Figure size 600x1000 with 1 Axes>"
      ]
     },
     "metadata": {},
     "output_type": "display_data"
    }
   ],
   "source": [
    "plot_measurements(\n",
    "    all_qepn_measurements[Sn124],\n",
    "    rxn_names[Sn124],\n",
    "    constant_factor=20,\n",
    ")"
   ]
  },
  {
   "cell_type": "code",
   "execution_count": 115,
   "id": "d00fe8d1-4286-48ea-9201-e31102f8b221",
   "metadata": {},
   "outputs": [
    {
     "data": {
      "image/png": "[encoded data removed]",
      "text/plain": [
       "<Figure size 600x1000 with 1 Axes>"
      ]
     },
     "metadata": {},
     "output_type": "display_data"
    }
   ],
   "source": [
    "plot_measurements(\n",
    "    all_qepn_measurements[Zr90],\n",
    "    rxn_names[Zr90],\n",
    "    constant_factor=20,\n",
    ")"
   ]
  },
  {
   "cell_type": "code",
   "execution_count": 116,
   "id": "e892d042-c7eb-4a1a-941f-68523ec70d58",
   "metadata": {},
   "outputs": [
    {
     "data": {
      "image/png": "[encoded data removed]",
      "text/plain": [
       "<Figure size 600x1000 with 1 Axes>"
      ]
     },
     "metadata": {},
     "output_type": "display_data"
    }
   ],
   "source": [
    "plot_measurements(\n",
    "    all_qepn_measurements[Zr92],\n",
    "    rxn_names[Zr92],\n",
    "    constant_factor=20,\n",
    ")"
   ]
  },
  {
   "cell_type": "markdown",
   "id": "a27dbb63-4742-49d8-94a9-dcb02f934b21",
   "metadata": {},
   "source": [
    "## Write data to disk"
   ]
  },
  {
   "cell_type": "markdown",
   "id": "5185f456",
   "metadata": {},
   "source": [
    "## Set up solvers for each isotope and energy\n",
    "For each measurement, we will set up one solver for calibration, and one solver for visualization. These will use different angular grids."
   ]
  },
  {
   "cell_type": "code",
   "execution_count": 47,
   "id": "7f938a6f-4cac-4898-b1b2-05520555127a",
   "metadata": {},
   "outputs": [],
   "source": [
    "core_solver = jitr.rmatrix.Solver(40)\n",
    "channel_radius_fm = 20\n",
    "lmax = 20\n",
    "theta_vis = np.linspace(0.001, np.pi, 180)"
   ]
  },
  {
   "cell_type": "code",
   "execution_count": 48,
   "id": "59075875",
   "metadata": {},
   "outputs": [],
   "source": [
    "def set_up_solver(target, Elab, Eias, angles_cal, angles_vis):\n",
    "    analog = (target[0], target[1] + 1)\n",
    "    kinp, kinn, Elab_n, Q, CDE = jitr.xs.quasielastic_pn.kinematics(\n",
    "        target,\n",
    "        analog,\n",
    "        Elab,\n",
    "        Eias,\n",
    "    )\n",
    "    sys = jitr.xs.quasielastic_pn.System(\n",
    "        channel_radius_fm=channel_radius_fm,\n",
    "        lmax=30,\n",
    "        target=target,\n",
    "        analog=analog,\n",
    "        mass_target=jitr.utils.kinematics.mass(*target),\n",
    "        mass_analog=jitr.utils.kinematics.mass(*analog),\n",
    "        kp=kinp.k,\n",
    "        kn=kinn.k,\n",
    "    )\n",
    "    workspace = jitr.xs.quasielastic_pn.Workspace(\n",
    "        sys,\n",
    "        kinp,\n",
    "        kinn,\n",
    "        Elab,\n",
    "        Elab_n,\n",
    "        core_solver,\n",
    "        angles=angles_cal,\n",
    "        tmatrix_abs_tol=1.0e-12,\n",
    "    )\n",
    "    workspace_vis = jitr.xs.quasielastic_pn.Workspace(\n",
    "        sys,\n",
    "        kinp,\n",
    "        kinn,\n",
    "        Elab,\n",
    "        Elab_n,\n",
    "        core_solver,\n",
    "        angles=angles_vis,\n",
    "        tmatrix_abs_tol=1.0e-12,\n",
    "    )\n",
    "\n",
    "    return workspace, workspace_vis"
   ]
  },
  {
   "cell_type": "code",
   "execution_count": 49,
   "id": "a93d057b-eb9d-47e8-b888-c56967f5c935",
   "metadata": {},
   "outputs": [
    {
     "ename": "NameError",
     "evalue": "name 'tqdm' is not defined",
     "output_type": "error",
     "traceback": [
      "\u001b[0;31m---------------------------------------------------------------------------\u001b[0m",
      "\u001b[0;31mNameError\u001b[0m                                 Traceback (most recent call last)",
      "Cell \u001b[0;32mIn[49], line 32\u001b[0m\n\u001b[1;32m     30\u001b[0m \u001b[38;5;28;01melse\u001b[39;00m:\n\u001b[1;32m     31\u001b[0m     workspaces \u001b[38;5;241m=\u001b[39m {}\n\u001b[0;32m---> 32\u001b[0m     \u001b[38;5;28;01mfor\u001b[39;00m isotope \u001b[38;5;129;01min\u001b[39;00m \u001b[43mtqdm\u001b[49m(isotopes):\n\u001b[1;32m     33\u001b[0m         workspaces[isotope] \u001b[38;5;241m=\u001b[39m []\n\u001b[1;32m     34\u001b[0m         \u001b[38;5;28;01mfor\u001b[39;00m i, measurement \u001b[38;5;129;01min\u001b[39;00m \u001b[38;5;28menumerate\u001b[39m(all_qepn_measurements[isotope]):\n",
      "\u001b[0;31mNameError\u001b[0m: name 'tqdm' is not defined"
     ]
    }
   ],
   "source": [
    "build_all_solvers = False\n",
    "ws_dir = Path(\"./workspaces/\")\n",
    "\n",
    "if build_all_solvers:\n",
    "    workspaces = {}\n",
    "    for isotope in tqdm(isotopes):\n",
    "        workspaces[isotope] = []\n",
    "\n",
    "        for measurement in all_qepn_measurements[isotope]:\n",
    "            theta = measurement.data[0, :] * np.pi / 180\n",
    "            Elab = measurement.Elab\n",
    "            workspaces[isotope].append(\n",
    "                set_up_solver(isotope, Elab, ExIAS[isotope], theta, theta_vis)\n",
    "            )\n",
    "\n",
    "    for isotope in tqdm(isotopes):\n",
    "        for i, measurement in enumerate(all_qepn_measurements[isotope]):\n",
    "            Elab = measurement.Elab\n",
    "\n",
    "            solver_cal, solver_vis = workspaces[isotope][i]\n",
    "            solver_cal.save(\n",
    "                ws_dir / f\"workspace_A_{isotope[0]}_Z_{isotope[1]}_qepn_E_{i}.pickle\"\n",
    "            )\n",
    "            solver_vis.save(\n",
    "                ws_dir\n",
    "                / f\"vis_workspace_A_{isotope[0]}_Z_{isotope[1]}_qepn_E_{i}.pickle\"\n",
    "            )\n",
    "\n",
    "            assert np.all(solver_cal.angles == measurement.data[0, :] * np.pi / 180)\n",
    "else:\n",
    "    workspaces = {}\n",
    "    for isotope in tqdm(isotopes):\n",
    "        workspaces[isotope] = []\n",
    "        for i, measurement in enumerate(all_qepn_measurements[isotope]):\n",
    "            Elab = measurement.Elab\n",
    "\n",
    "            solver_cal = jitr.xs.quasielastic_pn.Workspace.load(\n",
    "                ws_dir / f\"workspace_A_{isotope[0]}_Z_{isotope[1]}_qepn_E_{i}.pickle\"\n",
    "            )\n",
    "            solver_vis = jitr.xs.quasielastic_pn.Workspace.load(\n",
    "                ws_dir\n",
    "                / f\"vis_workspace_A_{isotope[0]}_Z_{isotope[1]}_qepn_E_{i}.pickle\"\n",
    "            )\n",
    "            workspaces[isotope].append((solver_cal, solver_vis))"
   ]
  },
  {
   "cell_type": "code",
   "execution_count": null,
   "id": "d03ae13a-da09-47b1-b35c-f33b69b48e77",
   "metadata": {},
   "outputs": [],
   "source": [
    "pn_num = 0\n",
    "pn_num_meas = 0\n",
    "for isotope in isotopes:\n",
    "    name = str(elements[isotope[1]].symbol)\n",
    "\n",
    "    num = np.array([m.data.shape[1] for m in all_qepn_measurements[isotope]])\n",
    "    pn_num += np.sum(num)\n",
    "    pn_num_meas += num.shape[0]\n",
    "    print(f\"{np.sum(num)} data points in {num.shape[0]} data sets\")\n",
    "\n",
    "    Ep = [m.Elab for m in all_qepn_measurements[isotope]]\n",
    "    plt.hist(Ep)\n",
    "    plt.title(f\"$^{{{isotope[0]}}}${name} $(p,n)$ data sets\")\n",
    "    plt.xlabel(r\"$E_{lab}$ [Mev]\")\n",
    "    plt.show()"
   ]
  },
  {
   "cell_type": "code",
   "execution_count": null,
   "id": "bc73a47a-cc84-46c4-9175-c3b6b08715d8",
   "metadata": {},
   "outputs": [],
   "source": [
    "print(f\"In total {pn_num} data points in {pn_num_meas} sets for (p,n)\")"
   ]
  }
 ],
 "metadata": {
  "kernelspec": {
   "display_name": "Python 3 (ipykernel)",
   "language": "python",
   "name": "python3"
  },
  "language_info": {
   "codemirror_mode": {
    "name": "ipython",
    "version": 3
   },
   "file_extension": ".py",
   "mimetype": "text/x-python",
   "name": "python",
   "nbconvert_exporter": "python",
   "pygments_lexer": "ipython3",
   "version": "3.11.9"
  }
 },
 "nbformat": 4,
 "nbformat_minor": 5
}
