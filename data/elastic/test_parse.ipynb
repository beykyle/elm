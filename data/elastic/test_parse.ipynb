{
 "cells": [
  {
   "cell_type": "code",
   "execution_count": 1,
   "id": "80ca9c5a-265b-41c3-9aea-6c270bd59121",
   "metadata": {},
   "outputs": [
    {
     "name": "stdout",
     "output_type": "stream",
     "text": [
      "Using database version x4i3_X4-2023-04-29 located in: /home/beyerk/mambaforge/envs/sage/lib/python3.11/site-packages/x4i3/data\n"
     ]
    }
   ],
   "source": [
    "from functools import reduce\n",
    "\n",
    "from exfor_tools import get_db, parse_differential_data"
   ]
  },
  {
   "cell_type": "code",
   "execution_count": 2,
   "id": "bb136e8a-6085-4b73-ba94-65d672d8fa25",
   "metadata": {},
   "outputs": [],
   "source": [
    "db = get_db()"
   ]
  },
  {
   "cell_type": "code",
   "execution_count": 3,
   "id": "301f94da-2658-4b0f-8cbc-5a132bd3b64e",
   "metadata": {},
   "outputs": [],
   "source": [
    "ds = db.retrieve(ENTRY=\"T0101\")[\"T0101\"].getDataSets()"
   ]
  },
  {
   "cell_type": "code",
   "execution_count": 4,
   "id": "4a835359-1df5-4c5b-a040-535a44f80077",
   "metadata": {},
   "outputs": [
    {
     "data": {
      "text/plain": [
       "dict_keys([('T0101', 'T0101002', ' '), ('T0101', 'T0101003', ' '), ('T0101', 'T0101004', ' ')])"
      ]
     },
     "execution_count": 4,
     "metadata": {},
     "output_type": "execute_result"
    }
   ],
   "source": [
    "ds.keys()"
   ]
  },
  {
   "cell_type": "code",
   "execution_count": 5,
   "id": "c72656dc-4634-42c2-9c0e-230bd5fa392b",
   "metadata": {},
   "outputs": [
    {
     "data": {
      "text/plain": [
       "['DATA-ERR1', 'EN', 'ANG-CM', 'DATA', 'DATA-ERR']"
      ]
     },
     "execution_count": 5,
     "metadata": {},
     "output_type": "execute_result"
    }
   ],
   "source": [
    " ds[(\"T0101\", \"T0101002\", \" \")].labels"
   ]
  },
  {
   "cell_type": "code",
   "execution_count": 6,
   "id": "ef8a7593-d0f5-4311-a883-f9419008dac9",
   "metadata": {},
   "outputs": [
    {
     "data": {
      "text/plain": [
       "4"
      ]
     },
     "execution_count": 6,
     "metadata": {},
     "output_type": "execute_result"
    }
   ],
   "source": [
    "ds[(\"T0101\", \"T0101002\", \" \")].labels.index('DATA-ERR')"
   ]
  },
  {
   "cell_type": "code",
   "execution_count": 7,
   "id": "40959338-b4c6-4687-85da-33869a223b0b",
   "metadata": {},
   "outputs": [
    {
     "data": {
      "text/plain": [
       "(array([7.858e+00, 3.929e+00, 3.426e+00, 2.768e+00, 1.850e+00, 1.171e+00,\n",
       "        6.519e-01, 3.109e-01, 1.253e-01, 4.601e-02, 2.711e-02, 3.131e-02,\n",
       "        3.973e-02, 4.229e-02, 3.856e-02, 3.001e-02, 2.118e-02, 1.310e-02,\n",
       "        7.908e-03, 4.854e-03, 3.645e-03, 3.173e-03, 2.962e-03, 2.772e-03,\n",
       "        2.361e-03, 1.827e-03, 1.317e-03, 9.190e-04, 6.445e-04, 4.723e-04,\n",
       "        3.985e-04, 3.776e-04, 3.590e-04, 3.253e-04, 2.922e-04, 2.409e-04,\n",
       "        1.788e-04, 1.271e-04, 8.457e-05, 5.428e-05, 3.461e-05, 2.485e-05,\n",
       "        2.123e-05, 2.160e-05, 2.377e-05, 1.911e+00, 1.236e+00, 6.564e-01,\n",
       "        2.821e-01, 9.245e-02, 2.449e-02, 1.669e-02, 2.273e-02, 2.395e-02,\n",
       "        2.036e-02, 1.384e-02, 8.120e-03, 4.835e-03, 2.952e-03, 2.021e-03,\n",
       "        1.653e-03, 1.262e-03, 9.222e-04, 6.176e-04, 4.019e-04, 3.040e-04,\n",
       "        2.419e-04, 1.996e-04, 1.572e-04, 1.127e-04, 7.124e-05, 4.056e-05,\n",
       "        2.131e-05, 1.263e-05, 9.650e-06, 1.013e-05, 9.625e-06, 8.657e-06,\n",
       "        6.260e-06, 4.730e-06, 2.640e-06, 1.311e-06, 5.930e-07, 2.973e-07,\n",
       "        2.715e-07, 2.483e-07, 4.546e-07, 5.421e-07, 2.075e+00, 1.560e+00,\n",
       "        9.680e-01, 5.320e-01, 2.500e-01, 9.350e-02, 3.500e-02, 2.000e-02,\n",
       "        1.950e-02, 2.178e-02, 2.244e-02, 1.945e-02, 1.294e-02, 7.539e-03,\n",
       "        4.039e-03, 2.357e-03, 1.610e-03, 1.165e-03, 7.890e-04, 5.410e-04,\n",
       "        3.796e-04, 2.904e-04, 2.274e-04, 1.692e-04, 1.161e-04, 6.908e-05,\n",
       "        3.503e-05, 1.828e-05, 1.199e-05, 1.078e-05, 9.987e-06, 8.798e-06,\n",
       "        7.150e-06, 4.403e-06, 2.323e-06, 9.836e-07, 4.150e-07, 2.900e-07,\n",
       "        2.744e-07, 3.671e-07, 3.955e-07, 3.649e-07, 3.262e-07]),\n",
       " array([2.900e-01, 9.650e-02, 9.100e-02, 7.200e-02, 4.700e-02, 3.000e-02,\n",
       "        1.750e-02, 8.700e-03, 3.600e-03, 1.230e-03, 6.500e-04, 7.400e-04,\n",
       "        9.500e-04, 9.700e-04, 9.000e-04, 7.300e-04, 5.200e-04, 3.300e-04,\n",
       "        2.000e-04, 1.200e-04, 8.000e-05, 7.400e-05, 6.900e-05, 6.600e-05,\n",
       "        5.600e-05, 4.300e-05, 3.200e-05, 2.301e-05, 1.600e-05, 1.200e-05,\n",
       "        9.700e-06, 9.200e-06, 8.800e-06, 7.700e-06, 7.100e-06, 5.900e-06,\n",
       "        4.500e-06, 3.200e-06, 1.550e-06, 1.400e-06, 8.900e-07, 6.600e-07,\n",
       "        5.600e-07, 8.500e-07, 9.100e-07, 3.351e-02, 2.182e-02, 1.223e-02,\n",
       "        6.103e-03, 2.244e-03, 5.828e-03, 2.959e-04, 4.074e-04, 3.438e-04,\n",
       "        3.090e-04, 2.158e-04, 1.417e-04, 8.566e-05, 4.441e-05, 2.945e-05,\n",
       "        2.228e-05, 1.771e-05, 1.214e-05, 9.335e-06, 6.053e-06, 4.674e-06,\n",
       "        3.679e-06, 2.861e-06, 2.322e-06, 1.968e-06, 1.171e-06, 7.227e-07,\n",
       "        4.371e-07, 3.124e-07, 2.293e-07, 2.415e-07, 2.320e-07, 2.128e-07,\n",
       "        2.326e-07, 1.888e-07, 1.188e-07, 7.084e-08, 3.631e-08, 3.136e-08,\n",
       "        2.496e-08, 3.751e-08, 3.063e-08, 4.028e-08, 3.970e-02, 2.840e-02,\n",
       "        1.758e-02, 9.674e-03, 5.092e-03, 2.206e-03, 8.074e-04, 3.370e-04,\n",
       "        3.730e-04, 4.356e-04, 4.488e-04, 3.890e-04, 2.588e-04, 1.508e-04,\n",
       "        8.078e-05, 4.714e-05, 3.080e-05, 2.220e-05, 1.572e-05, 1.070e-05,\n",
       "        7.592e-06, 5.868e-06, 4.548e-06, 3.384e-06, 2.322e-06, 1.382e-06,\n",
       "        7.900e-07, 3.965e-07, 2.445e-07, 2.569e-07, 2.390e-07, 2.159e-07,\n",
       "        1.753e-07, 1.363e-07, 8.305e-08, 5.488e-08, 2.937e-08, 2.597e-08,\n",
       "        2.848e-08, 3.003e-08, 4.058e-08, 3.646e-08, 3.749e-08]),\n",
       " 'barns/ster')"
      ]
     },
     "execution_count": 7,
     "metadata": {},
     "output_type": "execute_result"
    }
   ],
   "source": [
    "parse_differential_data(ds[(\"T0101\", \"T0101002\", \" \")])"
   ]
  },
  {
   "cell_type": "code",
   "execution_count": null,
   "id": "d168fda8-34a4-4fdb-ba69-99cfe28886be",
   "metadata": {},
   "outputs": [],
   "source": []
  }
 ],
 "metadata": {
  "kernelspec": {
   "display_name": "Python 3 (ipykernel)",
   "language": "python",
   "name": "python3"
  },
  "language_info": {
   "codemirror_mode": {
    "name": "ipython",
    "version": 3
   },
   "file_extension": ".py",
   "mimetype": "text/x-python",
   "name": "python",
   "nbconvert_exporter": "python",
   "pygments_lexer": "ipython3",
   "version": "3.11.9"
  }
 },
 "nbformat": 4,
 "nbformat_minor": 5
}
