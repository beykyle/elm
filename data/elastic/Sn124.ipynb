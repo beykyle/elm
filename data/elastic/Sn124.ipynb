{
 "cells": [
  {
   "cell_type": "code",
   "execution_count": 1,
   "id": "9fbc70e4-6ac7-4a99-8a84-3197e65a8666",
   "metadata": {
    "scrolled": true
   },
   "outputs": [],
   "source": [
    "import pickle\n",
    "from pathlib import Path\n",
    "from periodictable import elements\n",
    "import numpy as np\n",
    "from matplotlib import pyplot as plt"
   ]
  },
  {
   "cell_type": "code",
   "execution_count": 2,
   "id": "229f9d5f-b2c6-4258-b862-b3adf013e263",
   "metadata": {},
   "outputs": [
    {
     "name": "stdout",
     "output_type": "stream",
     "text": [
      "Using database version X4-2024-12-31 located in: /home/beyerk/db/exfor/unpack_exfor-2024/X4-2024-12-31\n"
     ]
    }
   ],
   "source": [
    "import exfor_tools"
   ]
  },
  {
   "cell_type": "code",
   "execution_count": 3,
   "id": "87de5612-f957-433b-b911-2e27044cf969",
   "metadata": {},
   "outputs": [],
   "source": [
    "from query_elastic import print_failed_parses, query_elastic_data, reattempt_parse"
   ]
  },
  {
   "cell_type": "code",
   "execution_count": 4,
   "id": "68abf328-8439-4ccf-9be3-b629f1c99dcb",
   "metadata": {},
   "outputs": [],
   "source": [
    "import jitr"
   ]
  },
  {
   "cell_type": "code",
   "execution_count": 5,
   "id": "356aa8f8-517a-4f1d-9b31-e93a4eba072c",
   "metadata": {},
   "outputs": [],
   "source": [
    "proton = (1, 1)\n",
    "neutron = (1, 0)"
   ]
  },
  {
   "cell_type": "code",
   "execution_count": 6,
   "id": "943628b1",
   "metadata": {},
   "outputs": [],
   "source": [
    "target =(124, 50)"
   ]
  },
  {
   "cell_type": "code",
   "execution_count": 7,
   "id": "7a4bd6f6-8cf6-448b-a013-86ab5f070636",
   "metadata": {},
   "outputs": [
    {
     "name": "stdout",
     "output_type": "stream",
     "text": [
      "\n",
      "========================================================\n",
      "Parsing (p,p) ...\n",
      "========================================================\n",
      "Found subentry C0893034 with the following columns:\n",
      "['EN', 'ANG-CM', 'DATA-CM', 'ERR-S']\n",
      "\n",
      "========================================================\n",
      "Succesfully parsed 1 entries for (p,p)\n",
      "Failed to parse 0 entries\n",
      "========================================================\n",
      "\n",
      "\n",
      "\n",
      "========================================================\n",
      "Parsing (p,p) ratio ...\n",
      "========================================================\n",
      "Found subentry O0169024 with the following columns:\n",
      "['EN', 'ANG-ERR-D', 'ERR-DIG', 'ANG-CM', 'DATA-CM']\n",
      "Found subentry O0788011 with the following columns:\n",
      "['EN', 'EN-ERR', 'ANG-ERR-D', 'ANG-CM', 'DATA', 'ERR-T']\n",
      "\n",
      "========================================================\n",
      "Succesfully parsed 2 entries for (p,p) ratio\n",
      "Failed to parse 0 entries\n",
      "========================================================\n",
      "\n",
      "\n",
      "\n",
      "========================================================\n",
      "Parsing (n,n)...\n",
      "========================================================\n",
      "Found subentry 10817010 with the following columns:\n",
      "['EN', 'ANG-CM', 'DATA-CM', 'DATA-ERR']\n",
      "\n",
      "========================================================\n",
      "Succesfully parsed 1 entries for (n,n)\n",
      "Failed to parse 0 entries\n",
      "========================================================\n",
      "\n",
      "\n"
     ]
    }
   ],
   "source": [
    "(\n",
    "    (entries_pp, failed_parses_pp),\n",
    "    (entries_ppr, failed_parses_ppr),\n",
    "    (entries_nn, failed_parses_nn),\n",
    ") = query_elastic_data(target)"
   ]
  },
  {
   "cell_type": "markdown",
   "id": "0b3e6271-fc07-48f7-9e3a-563f500285af",
   "metadata": {},
   "source": [
    "# $(p,p)$"
   ]
  },
  {
   "cell_type": "markdown",
   "id": "cc84292e-e2d6-439a-a96d-c7a5ee26643b",
   "metadata": {},
   "source": [
    "## Handle failed parses for $(p,p)$"
   ]
  },
  {
   "cell_type": "code",
   "execution_count": 8,
   "id": "01f1b81e-82ae-4d1b-84e4-8d80c71d6e0c",
   "metadata": {},
   "outputs": [],
   "source": [
    "print_failed_parses(failed_parses=failed_parses_pp)"
   ]
  },
  {
   "cell_type": "markdown",
   "id": "0eb8a103-2dc6-4914-a8e8-3ea5a4e9a014",
   "metadata": {},
   "source": [
    "## Reject none-useful, discrepant our outlying experiments"
   ]
  },
  {
   "cell_type": "markdown",
   "id": "369360e7-8ed3-4e88-bbf3-0323615c4d2f",
   "metadata": {},
   "source": [
    "# $(p,p)$ ratio"
   ]
  },
  {
   "cell_type": "markdown",
   "id": "16daeba0-4037-48c4-b4b4-f14f91d07df0",
   "metadata": {},
   "source": [
    "## handle failed parses for $(p,p)$ ratio"
   ]
  },
  {
   "cell_type": "code",
   "execution_count": 9,
   "id": "c3281fc7-6117-41f1-b3aa-10efdfbcf1d4",
   "metadata": {},
   "outputs": [],
   "source": [
    "print_failed_parses(failed_parses=failed_parses_ppr)"
   ]
  },
  {
   "cell_type": "markdown",
   "id": "1bb0d382-ca32-47e1-b34e-cc7a182930e6",
   "metadata": {},
   "source": [
    "## Reject non-useful, discrepant our outlying experiments"
   ]
  },
  {
   "cell_type": "markdown",
   "id": "88fc9bc6-9e7d-46a3-aa84-d28e14e77931",
   "metadata": {},
   "source": [
    "## handle failed parses for $(n,n)$"
   ]
  },
  {
   "cell_type": "code",
   "execution_count": 10,
   "id": "4d92dfdc-e7ac-4c78-afcb-a9e3ffa27429",
   "metadata": {},
   "outputs": [],
   "source": [
    "print_failed_parses(failed_parses=failed_parses_nn)"
   ]
  },
  {
   "cell_type": "markdown",
   "id": "e5e80347-17cd-4615-ad4e-a138f45044b1",
   "metadata": {},
   "source": [
    "# Plotting"
   ]
  },
  {
   "cell_type": "markdown",
   "id": "0d1d62b6-29fb-468d-995f-c2184a7922fb",
   "metadata": {},
   "source": [
    "## Plot $(p,p)$"
   ]
  },
  {
   "cell_type": "code",
   "execution_count": 11,
   "id": "c2d3c25d-e36e-4d7b-8fa5-8924956d6a35",
   "metadata": {},
   "outputs": [],
   "source": [
    "measurements_categorized = exfor_tools.categorize_measurements_by_energy(entries_pp)"
   ]
  },
  {
   "cell_type": "code",
   "execution_count": 12,
   "id": "f5c624f5-f384-4e3a-ac80-5c14b06b8809",
   "metadata": {},
   "outputs": [
    {
     "data": {
      "text/plain": [
       "[[16.0]]"
      ]
     },
     "execution_count": 12,
     "metadata": {},
     "output_type": "execute_result"
    }
   ],
   "source": [
    "[[m.Einc for m in l] for l in measurements_categorized]"
   ]
  },
  {
   "cell_type": "code",
   "execution_count": 14,
   "id": "0934c572-a6b4-4d4a-9d55-aaca5b9afccc",
   "metadata": {},
   "outputs": [
    {
     "data": {
      "image/png": "[encoded data removed]",
      "text/plain": [
       "<Figure size 600x400 with 1 Axes>"
      ]
     },
     "metadata": {},
     "output_type": "display_data"
    }
   ],
   "source": [
    "n_per_plot = 10\n",
    "N = len(measurements_categorized)\n",
    "num_plots = N // n_per_plot\n",
    "left_over = N % n_per_plot\n",
    "if left_over > 0:\n",
    "    num_plots += 1\n",
    "\n",
    "\n",
    "fig, axes = plt.subplots(1, num_plots, figsize=(6 * num_plots, 4))\n",
    "if not isinstance(axes,np.ndarray):\n",
    "    axes = [axes]\n",
    "for i in range(num_plots):\n",
    "    idx0 = i * n_per_plot\n",
    "    if i == num_plots - 1:\n",
    "        idxf = N \n",
    "    else:\n",
    "        idxf = (i + 1) * n_per_plot\n",
    "\n",
    "    exfor_tools.plot_angular_distributions(\n",
    "        measurements_categorized[idx0:idxf],\n",
    "        axes[i],\n",
    "        offsets=100,\n",
    "        data_symbol=list(entries_pp.values())[0].data_symbol,\n",
    "        rxn_label=list(entries_pp.values())[0].rxn,\n",
    "        label_kwargs={\n",
    "            \"label_xloc_deg\": None,\n",
    "            \"label_offset_factor\": 0.002,\n",
    "            \"label_energy_err\": False,\n",
    "            \"label_offset\": False,\n",
    "            \"label_incident_energy\": True,\n",
    "            \"label_excitation_energy\": False,\n",
    "            \"label_exfor\": True,\n",
    "        },\n",
    "    )\n",
    "    axes[i].set_xlim([-5, 220])"
   ]
  },
  {
   "cell_type": "markdown",
   "id": "4206247d-c2cf-4006-a957-04e3257ca0a8",
   "metadata": {},
   "source": [
    "## plot $(p,p)$ ratio"
   ]
  },
  {
   "cell_type": "code",
   "execution_count": 15,
   "id": "fa157e48-53d2-46c9-b224-f9095975d461",
   "metadata": {},
   "outputs": [],
   "source": [
    "measurements_categorized = exfor_tools.categorize_measurements_by_energy(entries_ppr)"
   ]
  },
  {
   "cell_type": "code",
   "execution_count": 16,
   "id": "3956fd0e-c9d9-4f08-bf53-2faa1b32376f",
   "metadata": {},
   "outputs": [
    {
     "data": {
      "text/plain": [
       "[[('O0169024', 20.4)], [('O0788011', 49.35)]]"
      ]
     },
     "execution_count": 16,
     "metadata": {},
     "output_type": "execute_result"
    }
   ],
   "source": [
    "[[(m.subentry, m.Einc) for m in l] for l in measurements_categorized]"
   ]
  },
  {
   "cell_type": "code",
   "execution_count": 19,
   "id": "0b38302d-a645-4fbe-8959-8bb3d2963d6b",
   "metadata": {},
   "outputs": [
    {
     "data": {
      "image/png": "[encoded data removed]",
      "text/plain": [
       "<Figure size 600x600 with 1 Axes>"
      ]
     },
     "metadata": {},
     "output_type": "display_data"
    }
   ],
   "source": [
    "n_per_plot = 9\n",
    "N = len(measurements_categorized)\n",
    "num_plots = N // n_per_plot\n",
    "left_over = N % n_per_plot\n",
    "if left_over > 0:\n",
    "    num_plots += 1\n",
    "\n",
    "\n",
    "fig, axes = plt.subplots(1, num_plots, figsize=(6 * num_plots, 6))\n",
    "if not isinstance(axes,np.ndarray):\n",
    "    axes = [axes]\n",
    "\n",
    "for i in range(num_plots):\n",
    "    idx0 = i * n_per_plot\n",
    "    if i == num_plots - 1:\n",
    "        idxf = N \n",
    "    else:\n",
    "        idxf = (i + 1) * n_per_plot\n",
    "    exfor_tools.plot_angular_distributions(\n",
    "        measurements_categorized[idx0:idxf],\n",
    "        axes[i],\n",
    "        offsets=1,\n",
    "        data_symbol=list(entries_ppr.values())[0].data_symbol,\n",
    "        rxn_label=list(entries_ppr.values())[0].rxn,\n",
    "        label_kwargs={\n",
    "            \"label_xloc_deg\": 120,\n",
    "            \"label_offset_factor\":1/2,\n",
    "            \"label_energy_err\": False,\n",
    "            \"label_offset\": False,\n",
    "            \"label_incident_energy\": True,\n",
    "            \"label_excitation_energy\": False,\n",
    "            \"label_exfor\": True,\n",
    "        },\n",
    "        log=False,\n",
    "        draw_baseline=True\n",
    "    )\n",
    "    axes[i].set_xlim([-5, 180])"
   ]
  },
  {
   "cell_type": "markdown",
   "id": "a7cdd9fa-eb0d-46b1-b1bb-db08e8e7a3f3",
   "metadata": {},
   "source": [
    "## Plot $(n,n)$"
   ]
  },
  {
   "cell_type": "code",
   "execution_count": 20,
   "id": "49a2c001-e87d-47e4-bbdc-eb7449f0fc95",
   "metadata": {},
   "outputs": [],
   "source": [
    "measurements_categorized = exfor_tools.categorize_measurements_by_energy(entries_nn)"
   ]
  },
  {
   "cell_type": "code",
   "execution_count": 21,
   "id": "3cde7478-52fb-4d8f-8bd3-ba3202bedb3a",
   "metadata": {},
   "outputs": [
    {
     "data": {
      "text/plain": [
       "[[11.0], [24.0]]"
      ]
     },
     "execution_count": 21,
     "metadata": {},
     "output_type": "execute_result"
    }
   ],
   "source": [
    "[[m.Einc for m in l] for l in measurements_categorized]"
   ]
  },
  {
   "cell_type": "code",
   "execution_count": 31,
   "id": "2692039a-3cdd-40f2-a6f6-28134d77e0ae",
   "metadata": {},
   "outputs": [
    {
     "data": {
      "text/plain": [
       "(-20.0, 180.0)"
      ]
     },
     "execution_count": 31,
     "metadata": {},
     "output_type": "execute_result"
    },
    {
     "data": {
      "image/png": "[encoded data removed]",
      "text/plain": [
       "<Figure size 600x600 with 1 Axes>"
      ]
     },
     "metadata": {},
     "output_type": "display_data"
    }
   ],
   "source": [
    "n_per_plot = 6\n",
    "N = len(measurements_categorized)\n",
    "num_plots = N // n_per_plot\n",
    "left_over = N % n_per_plot\n",
    "if left_over > 0:\n",
    "    num_plots += 1\n",
    "\n",
    "\n",
    "fig, axes = plt.subplots(1, num_plots, figsize=(6 * num_plots, 6))\n",
    "if not isinstance(axes,np.ndarray):\n",
    "    axes = [axes]\n",
    "\n",
    "for i in range(num_plots):\n",
    "    idx0 = i * n_per_plot\n",
    "    if i == num_plots - 1:\n",
    "        idxf = N \n",
    "    else:\n",
    "        idxf = (i + 1) * n_per_plot\n",
    "\n",
    "    exfor_tools.plot_angular_distributions(\n",
    "        measurements_categorized[idx0:idxf],\n",
    "        axes[i],\n",
    "        offsets=100,\n",
    "        data_symbol=list(entries_nn.values())[0].data_symbol,\n",
    "        rxn_label=list(entries_nn.values())[0].rxn,\n",
    "        label_kwargs={\n",
    "            \"label_xloc_deg\": 130,\n",
    "            \"label_offset_factor\": 0.05,\n",
    "            \"label_energy_err\": False,\n",
    "            \"label_offset\": False,\n",
    "            \"label_incident_energy\": True,\n",
    "            \"label_excitation_energy\": False,\n",
    "            \"label_exfor\": True,\n",
    "        },\n",
    "    )\n",
    "axes[0].set_xlim([-20, 180])"
   ]
  },
  {
   "cell_type": "markdown",
   "id": "43c40187-c5be-4951-be52-d8d11c2316ad",
   "metadata": {},
   "source": [
    "# Write data to disk"
   ]
  },
  {
   "cell_type": "code",
   "execution_count": 32,
   "id": "3825c00e-cbd5-465c-b219-85b05a1290a4",
   "metadata": {},
   "outputs": [],
   "source": [
    "A, Z = target\n",
    "with open(f\"{elements[Z]}{A}_diff_xs.pkl\", \"wb\") as f:\n",
    "    pickle.dump({\"n,n\": entries_nn, \"p,p\": { \"absolute\" :  entries_pp , \"ratio\" : entries_ppr }}, f)"
   ]
  }
 ],
 "metadata": {
  "kernelspec": {
   "display_name": "Python 3 (ipykernel)",
   "language": "python",
   "name": "python3"
  },
  "language_info": {
   "codemirror_mode": {
    "name": "ipython",
    "version": 3
   },
   "file_extension": ".py",
   "mimetype": "text/x-python",
   "name": "python",
   "nbconvert_exporter": "python",
   "pygments_lexer": "ipython3",
   "version": "3.11.9"
  }
 },
 "nbformat": 4,
 "nbformat_minor": 5
}
