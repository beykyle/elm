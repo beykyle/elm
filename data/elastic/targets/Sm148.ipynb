{
 "cells": [
  {
   "cell_type": "code",
   "execution_count": 1,
   "id": "9fbc70e4-6ac7-4a99-8a84-3197e65a8666",
   "metadata": {
    "scrolled": true
   },
   "outputs": [],
   "source": [
    "import pickle\n",
    "from pathlib import Path\n",
    "from periodictable import elements\n",
    "import numpy as np\n",
    "from matplotlib import pyplot as plt"
   ]
  },
  {
   "cell_type": "code",
   "execution_count": 2,
   "id": "229f9d5f-b2c6-4258-b862-b3adf013e263",
   "metadata": {},
   "outputs": [
    {
     "name": "stdout",
     "output_type": "stream",
     "text": [
      "Using database version X4-2024-12-31 located in: /home/beyerk/db/exfor/unpack_exfor-2024/X4-2024-12-31\n"
     ]
    }
   ],
   "source": [
    "import exfor_tools"
   ]
  },
  {
   "cell_type": "code",
   "execution_count": 3,
   "id": "87de5612-f957-433b-b911-2e27044cf969",
   "metadata": {},
   "outputs": [],
   "source": [
    "from query_elastic import print_failed_parses, query_elastic_data, reattempt_parse, output_dir"
   ]
  },
  {
   "cell_type": "code",
   "execution_count": 4,
   "id": "68abf328-8439-4ccf-9be3-b629f1c99dcb",
   "metadata": {},
   "outputs": [],
   "source": [
    "import jitr"
   ]
  },
  {
   "cell_type": "code",
   "execution_count": 5,
   "id": "356aa8f8-517a-4f1d-9b31-e93a4eba072c",
   "metadata": {},
   "outputs": [],
   "source": [
    "proton = (1, 1)\n",
    "neutron = (1, 0)"
   ]
  },
  {
   "cell_type": "code",
   "execution_count": 6,
   "id": "943628b1",
   "metadata": {},
   "outputs": [],
   "source": [
    "target =(148, 62)"
   ]
  },
  {
   "cell_type": "code",
   "execution_count": 7,
   "id": "7a4bd6f6-8cf6-448b-a013-86ab5f070636",
   "metadata": {},
   "outputs": [
    {
     "name": "stdout",
     "output_type": "stream",
     "text": [
      "\n",
      "========================================================\n",
      "Parsing (p,p) ...\n",
      "========================================================\n",
      "Found subentry C1397002 with the following columns:\n",
      "['EN', 'ANG-CM', 'DATA-CM']\n",
      "Warning: subentry C1397002 has no reported data errors\n",
      "Found subentry D0289002 with the following columns:\n",
      "['EN', 'EN-RSL', 'ERR-DIG', 'DATA-ERR1', 'ERR-1', 'ERR-2', 'ANG-CM', 'DATA-CM', 'ERR-S']\n",
      "Failed to parse subentry D0289002:\n",
      "\tAmbiguous statistical error labels:\n",
      "ERR-DIG, DATA-ERR1, ERR-1, ERR-2, ERR-S\n",
      "Found subentry E0904046 with the following columns:\n",
      "['EN', 'POL-BM-MIN', 'POL-BM-MAX', 'ANG-CM', 'DATA-CM']\n",
      "Warning: subentry E0904046 has no reported data errors\n",
      "Found subentry F1173002 with the following columns:\n",
      "['EN', 'ANG-ERR-D', 'ERR-DIG', 'ANG-CM', 'DATA-CM', 'DATA-ERR2']\n",
      "Failed to parse subentry F1173002:\n",
      "\tAmbiguous statistical error labels:\n",
      "ERR-DIG, DATA-ERR2\n",
      "\n",
      "========================================================\n",
      "Succesfully parsed 2 entries for (p,p)\n",
      "Failed to parse 2 entries\n",
      "========================================================\n",
      "\n",
      "\n",
      "\n",
      "========================================================\n",
      "Parsing (p,p) ratio ...\n",
      "========================================================\n",
      "\n",
      "========================================================\n",
      "Succesfully parsed 0 entries for (p,p) ratio\n",
      "Failed to parse 0 entries\n",
      "========================================================\n",
      "\n",
      "\n",
      "\n",
      "========================================================\n",
      "Parsing (n,n)...\n",
      "========================================================\n",
      "\n",
      "========================================================\n",
      "Succesfully parsed 0 entries for (n,n)\n",
      "Failed to parse 0 entries\n",
      "========================================================\n",
      "\n",
      "\n"
     ]
    }
   ],
   "source": [
    "(\n",
    "    (entries_pp, failed_parses_pp),\n",
    "    (entries_ppr, failed_parses_ppr),\n",
    "    (entries_nn, failed_parses_nn),\n",
    ") = query_elastic_data(target)"
   ]
  },
  {
   "cell_type": "markdown",
   "id": "0b3e6271-fc07-48f7-9e3a-563f500285af",
   "metadata": {},
   "source": [
    "# $(p,p)$"
   ]
  },
  {
   "cell_type": "markdown",
   "id": "cc84292e-e2d6-439a-a96d-c7a5ee26643b",
   "metadata": {},
   "source": [
    "## Handle failed parses for $(p,p)$"
   ]
  },
  {
   "cell_type": "code",
   "execution_count": 8,
   "id": "01f1b81e-82ae-4d1b-84e4-8d80c71d6e0c",
   "metadata": {},
   "outputs": [
    {
     "name": "stdout",
     "output_type": "stream",
     "text": [
      "Entry: D0289\n",
      "Ambiguous statistical error labels:\n",
      "ERR-DIG, DATA-ERR1, ERR-1, ERR-2, ERR-S\n",
      "Entry: F1173\n",
      "Ambiguous statistical error labels:\n",
      "ERR-DIG, DATA-ERR2\n"
     ]
    }
   ],
   "source": [
    "print_failed_parses(failed_parses=failed_parses_pp)"
   ]
  },
  {
   "cell_type": "code",
   "execution_count": 9,
   "id": "8e19a6d9-dd26-46e7-9432-94db43a61808",
   "metadata": {},
   "outputs": [
    {
     "name": "stdout",
     "output_type": "stream",
     "text": [
      "Found subentry D0289002 with the following columns:\n",
      "['EN', 'EN-RSL', 'ERR-DIG', 'DATA-ERR1', 'ERR-1', 'ERR-2', 'ANG-CM', 'DATA-CM', 'ERR-S']\n"
     ]
    }
   ],
   "source": [
    "# from the paper \"The errors in the elastic cross sections are statistical, to which should be added\n",
    "#absolute errors of +2 % for the dete~i~ation of target thickness and kO.25 % for\n",
    "#each of the errors due to determination of solid angle and calibration of the current\n",
    "#integrator\"\n",
    "# \"The targets + were 95 % pure self-supporting metallic foils of 5 and 15 mg * cm-’ for\n",
    "#the unpolarized and polarized measurements, respectively. \" - DATA-ERR1 is 5% - should that be systematic?\n",
    "\n",
    "entries_pp[\"D0289\"] = reattempt_parse(\n",
    "    failed_parses_pp[\"D0289\"],\n",
    "    parsing_kwargs={\n",
    "        \"statistical_err_labels\": [\"ERR-S\", \"ERR-1\", \"ERR-2\", \"ERR-DIG\"],\n",
    "        \"systematic_err_labels\": [\"DATA-ERR1\"],\n",
    "    },\n",
    ")"
   ]
  },
  {
   "cell_type": "code",
   "execution_count": 10,
   "id": "98c965ca-1bed-4b4a-b5e9-897e7dfb9467",
   "metadata": {},
   "outputs": [
    {
     "name": "stdout",
     "output_type": "stream",
     "text": [
      "Found subentry F1173002 with the following columns:\n",
      "['EN', 'ANG-ERR-D', 'ERR-DIG', 'ANG-CM', 'DATA-CM', 'DATA-ERR2']\n"
     ]
    }
   ],
   "source": [
    "entries_pp[\"F1173\"] = reattempt_parse(\n",
    "    failed_parses_pp[\"F1173\"],\n",
    "    parsing_kwargs={\n",
    "        \"statistical_err_labels\": [\"DATA-ERR2\", \"ERR-DIG\"],\n",
    "    },\n",
    ")"
   ]
  },
  {
   "cell_type": "markdown",
   "id": "0eb8a103-2dc6-4914-a8e8-3ea5a4e9a014",
   "metadata": {},
   "source": [
    "## Reject non-useful, discrepant our outlying experiments"
   ]
  },
  {
   "cell_type": "markdown",
   "id": "369360e7-8ed3-4e88-bbf3-0323615c4d2f",
   "metadata": {},
   "source": [
    "# $(p,p)$ ratio"
   ]
  },
  {
   "cell_type": "markdown",
   "id": "16daeba0-4037-48c4-b4b4-f14f91d07df0",
   "metadata": {},
   "source": [
    "## handle failed parses for $(p,p)$ ratio"
   ]
  },
  {
   "cell_type": "code",
   "execution_count": 12,
   "id": "c3281fc7-6117-41f1-b3aa-10efdfbcf1d4",
   "metadata": {},
   "outputs": [],
   "source": [
    "print_failed_parses(failed_parses=failed_parses_ppr)"
   ]
  },
  {
   "cell_type": "markdown",
   "id": "1bb0d382-ca32-47e1-b34e-cc7a182930e6",
   "metadata": {},
   "source": [
    "## Reject non-useful, discrepant our outlying experiments"
   ]
  },
  {
   "cell_type": "markdown",
   "id": "88fc9bc6-9e7d-46a3-aa84-d28e14e77931",
   "metadata": {},
   "source": [
    "## handle failed parses for $(n,n)$ ratio"
   ]
  },
  {
   "cell_type": "code",
   "execution_count": 13,
   "id": "4d92dfdc-e7ac-4c78-afcb-a9e3ffa27429",
   "metadata": {},
   "outputs": [],
   "source": [
    "print_failed_parses(failed_parses=failed_parses_nn)"
   ]
  },
  {
   "cell_type": "markdown",
   "id": "e5e80347-17cd-4615-ad4e-a138f45044b1",
   "metadata": {},
   "source": [
    "# Plotting"
   ]
  },
  {
   "cell_type": "markdown",
   "id": "0d1d62b6-29fb-468d-995f-c2184a7922fb",
   "metadata": {},
   "source": [
    "## Plot $(p,p)$"
   ]
  },
  {
   "cell_type": "code",
   "execution_count": 14,
   "id": "c2d3c25d-e36e-4d7b-8fa5-8924956d6a35",
   "metadata": {},
   "outputs": [],
   "source": [
    "measurements_categorized = exfor_tools.categorize_measurements_by_energy(entries_pp)"
   ]
  },
  {
   "cell_type": "code",
   "execution_count": 15,
   "id": "f5c624f5-f384-4e3a-ac80-5c14b06b8809",
   "metadata": {},
   "outputs": [
    {
     "data": {
      "text/plain": [
       "[[24.5], [49.8], [65.0], [66.5]]"
      ]
     },
     "execution_count": 15,
     "metadata": {},
     "output_type": "execute_result"
    }
   ],
   "source": [
    "[[m.Einc for m in l] for l in measurements_categorized]"
   ]
  },
  {
   "cell_type": "code",
   "execution_count": 17,
   "id": "0934c572-a6b4-4d4a-9d55-aaca5b9afccc",
   "metadata": {},
   "outputs": [
    {
     "data": {
      "image/png": "[encoded data removed]",
      "text/plain": [
       "<Figure size 600x400 with 1 Axes>"
      ]
     },
     "metadata": {},
     "output_type": "display_data"
    }
   ],
   "source": [
    "n_per_plot = 10\n",
    "N = len(measurements_categorized)\n",
    "num_plots = N // n_per_plot\n",
    "left_over = N % n_per_plot\n",
    "if left_over > 0:\n",
    "    num_plots += 1\n",
    "\n",
    "\n",
    "fig, axes = plt.subplots(1, num_plots, figsize=(6 * num_plots, 4))\n",
    "if not isinstance(axes,np.ndarray):\n",
    "    axes = [axes]\n",
    "for i in range(num_plots):\n",
    "    idx0 = i * n_per_plot\n",
    "    if i == num_plots - 1:\n",
    "        idxf = N \n",
    "    else:\n",
    "        idxf = (i + 1) * n_per_plot\n",
    "\n",
    "    exfor_tools.plot_angular_distributions(\n",
    "        measurements_categorized[idx0:idxf],\n",
    "        axes[i],\n",
    "        offsets=100,\n",
    "        data_symbol=list(entries_pp.values())[0].data_symbol,\n",
    "        rxn_label=list(entries_pp.values())[0].rxn,\n",
    "        label_kwargs={\n",
    "            \"label_xloc_deg\": None,\n",
    "            \"label_offset_factor\": 0.002,\n",
    "            \"label_energy_err\": False,\n",
    "            \"label_offset\": False,\n",
    "            \"label_incident_energy\": True,\n",
    "            \"label_excitation_energy\": False,\n",
    "            \"label_exfor\": True,\n",
    "        },\n",
    "    )\n",
    "    axes[i].set_xlim([-5, 220])"
   ]
  },
  {
   "cell_type": "markdown",
   "id": "4206247d-c2cf-4006-a957-04e3257ca0a8",
   "metadata": {},
   "source": [
    "## plot $(p,p)$ ratio"
   ]
  },
  {
   "cell_type": "markdown",
   "id": "a7cdd9fa-eb0d-46b1-b1bb-db08e8e7a3f3",
   "metadata": {},
   "source": [
    "## Plot $(n,n)$"
   ]
  },
  {
   "cell_type": "markdown",
   "id": "43c40187-c5be-4951-be52-d8d11c2316ad",
   "metadata": {},
   "source": [
    "# Write data to disk"
   ]
  },
  {
   "cell_type": "code",
   "execution_count": 18,
   "id": "3825c00e-cbd5-465c-b219-85b05a1290a4",
   "metadata": {},
   "outputs": [],
   "source": [
    "A, Z = target\n",
    "with open(output_dir / f\"{elements[Z]}{A}_diff_xs.pkl\", \"wb\") as f:\n",
    "    pickle.dump({\"n,n\": entries_nn, \"p,p\": { \"absolute\" :  entries_pp , \"ratio\" : entries_ppr }}, f)"
   ]
  },
  {
   "cell_type": "code",
   "execution_count": null,
   "id": "e512f811-c37b-496c-af2f-11fd5cb7fa02",
   "metadata": {},
   "outputs": [],
   "source": []
  }
 ],
 "metadata": {
  "kernelspec": {
   "display_name": "Python 3 (ipykernel)",
   "language": "python",
   "name": "python3"
  },
  "language_info": {
   "codemirror_mode": {
    "name": "ipython",
    "version": 3
   },
   "file_extension": ".py",
   "mimetype": "text/x-python",
   "name": "python",
   "nbconvert_exporter": "python",
   "pygments_lexer": "ipython3",
   "version": "3.11.9"
  }
 },
 "nbformat": 4,
 "nbformat_minor": 5
}
