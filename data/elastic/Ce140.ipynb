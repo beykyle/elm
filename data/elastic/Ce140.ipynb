{
 "cells": [
  {
   "cell_type": "markdown",
   "id": "93a49da0",
   "metadata": {},
   "source": [
    "# Let's explore EXFOR offerings for Ca48"
   ]
  },
  {
   "cell_type": "code",
   "execution_count": 1,
   "id": "9fbc70e4-6ac7-4a99-8a84-3197e65a8666",
   "metadata": {
    "scrolled": true
   },
   "outputs": [],
   "source": [
    "import pickle\n",
    "from pathlib import Path\n",
    "\n",
    "import numpy as np\n",
    "from matplotlib import pyplot as plt"
   ]
  },
  {
   "cell_type": "code",
   "execution_count": 2,
   "id": "fc9a4aea-85f7-47f5-ba23-339037959ed0",
   "metadata": {},
   "outputs": [
    {
     "name": "stdout",
     "output_type": "stream",
     "text": [
      "Using database version x4i3_X4-2023-04-29 located in: /home/beyerk/mambaforge/envs/sage/lib/python3.11/site-packages/x4i3/data\n"
     ]
    }
   ],
   "source": [
    "import exfor_tools\n",
    "import jitr"
   ]
  },
  {
   "cell_type": "code",
   "execution_count": 3,
   "id": "356aa8f8-517a-4f1d-9b31-e93a4eba072c",
   "metadata": {},
   "outputs": [],
   "source": [
    "proton = (1, 1)\n",
    "neutron = (1, 0)"
   ]
  },
  {
   "cell_type": "code",
   "execution_count": 4,
   "id": "943628b1",
   "metadata": {},
   "outputs": [],
   "source": [
    "target =(140, 58)"
   ]
  },
  {
   "cell_type": "code",
   "execution_count": 5,
   "id": "7a4bd6f6-8cf6-448b-a013-86ab5f070636",
   "metadata": {},
   "outputs": [],
   "source": [
    "all_entries_pp = exfor_tools.get_exfor_differential_data(\n",
    "    target=target,\n",
    "    projectile=(1, 1),\n",
    "    quantity=\"dXS/dA\",\n",
    "    product=\"EL\",\n",
    "    energy_range=[10, 200],  # MeV\n",
    ")"
   ]
  },
  {
   "cell_type": "code",
   "execution_count": 10,
   "id": "5889adee-125c-4ad5-a31d-d1e5de4a2290",
   "metadata": {},
   "outputs": [],
   "source": [
    "# these are considered outliers or not useful\n",
    "entries_to_ignore = ['O1894']\n",
    "for entry in entries_to_ignore:\n",
    "    del all_entries_pp[entry]"
   ]
  },
  {
   "cell_type": "code",
   "execution_count": 11,
   "id": "f1bf9ad1-49af-444c-8852-430a061122f3",
   "metadata": {},
   "outputs": [
    {
     "data": {
      "text/plain": [
       "{'O0553': <exfor_tools.exfor_tools.ExforDifferentialData at 0x78ee64335790>}"
      ]
     },
     "execution_count": 11,
     "metadata": {},
     "output_type": "execute_result"
    }
   ],
   "source": [
    "all_entries_pp"
   ]
  },
  {
   "cell_type": "code",
   "execution_count": 12,
   "id": "35d60a7b-6207-4696-ae05-c510d81990d0",
   "metadata": {},
   "outputs": [
    {
     "data": {
      "image/png": "[encoded data removed]",
      "text/plain": [
       "<Figure size 600x200 with 1 Axes>"
      ]
     },
     "metadata": {},
     "output_type": "display_data"
    }
   ],
   "source": [
    "for entry, data in all_entries_pp.items():\n",
    "\n",
    "    N = len(data.measurements)\n",
    "    if N < 10:\n",
    "        fig, ax = plt.subplots(1, 1, figsize=(6, 2 * N))\n",
    "        data.plot_experiment(\n",
    "            ax,\n",
    "            xlim=None,\n",
    "            offsets=10,\n",
    "            label_energy_err=False,\n",
    "            label_hloc_deg=np.max(data.measurements[0].data[0, :]) * 0.9,\n",
    "        )\n",
    "        ax.set_title(f\"{data.fancy_label} {entry}\")\n",
    "    else:\n",
    "        N_plots = N // 10\n",
    "        remaining = N % 10\n",
    "        if remaining > 0:\n",
    "            N_plots +=1\n",
    "        for i in range(N_plots):\n",
    "            fig, ax = plt.subplots(1, 1, figsize=(6, 20))\n",
    "            data.plot_experiment(\n",
    "                ax,\n",
    "                data.measurements[i * N_plots: (i+1)*N_plots],\n",
    "                xlim=None,\n",
    "                offsets=10,\n",
    "                label_energy_err=False,\n",
    "                label_hloc_deg=np.max(data.measurements[0].data[0, :]) * 0.9,\n",
    "            )\n",
    "            ax.set_title(f\"{data.fancy_label} {entry}\")\n"
   ]
  },
  {
   "cell_type": "code",
   "execution_count": 13,
   "id": "90d973df-8266-49d3-a6b8-c32c962bfc1e",
   "metadata": {},
   "outputs": [],
   "source": [
    "all_entries_pp_ruth = exfor_tools.get_exfor_differential_data(\n",
    "    target=target,\n",
    "    projectile=(1, 1),\n",
    "    quantity=\"dXS/dRuth\",\n",
    "    product=\"EL\",\n",
    "    energy_range=[10, 200],  # MeV\n",
    ")"
   ]
  },
  {
   "cell_type": "code",
   "execution_count": 14,
   "id": "128a8b63-0974-4302-b0c2-c91e9d8e0ae7",
   "metadata": {},
   "outputs": [
    {
     "data": {
      "text/plain": [
       "{}"
      ]
     },
     "execution_count": 14,
     "metadata": {},
     "output_type": "execute_result"
    }
   ],
   "source": [
    "all_entries_pp_ruth"
   ]
  },
  {
   "cell_type": "code",
   "execution_count": 15,
   "id": "3927adf4-2c4c-438a-a28a-5605fff82ed3",
   "metadata": {},
   "outputs": [],
   "source": [
    "# these are considered outliers or not useful\n",
    "entries_to_ignore = []\n",
    "for entry in entries_to_ignore:\n",
    "    del all_entries_pp_ruth[entry]"
   ]
  },
  {
   "cell_type": "code",
   "execution_count": 16,
   "id": "8319b37a-9390-402f-a17d-873a29aca18f",
   "metadata": {},
   "outputs": [],
   "source": [
    "for entry, data in all_entries_pp_ruth.items():\n",
    "\n",
    "    N = len(data.measurements)\n",
    "    fig, ax = plt.subplots(1, 1, figsize=(6, 2 * N))\n",
    "\n",
    "    data.plot_experiment(\n",
    "        ax,\n",
    "        xlim=None,\n",
    "        offsets=2,\n",
    "        label_energy_err=False,\n",
    "        label_hloc_deg=np.max(data.measurements[0].data[0, :]) * 0.9,\n",
    "        label_offset_factor=0.1,\n",
    "        log=False,\n",
    "        add_baseline=True,\n",
    "    )\n",
    "    ax.set_title(f\"{data.fancy_label} {entry}\")"
   ]
  },
  {
   "cell_type": "code",
   "execution_count": 17,
   "id": "a387a65c-f8f2-476e-8b36-c534944f63d4",
   "metadata": {},
   "outputs": [],
   "source": [
    "all_entries_nn = exfor_tools.get_exfor_differential_data(\n",
    "    target=target,\n",
    "    projectile=(1, 0),\n",
    "    quantity=\"dXS/dA\",\n",
    "    product=\"EL\",\n",
    "    energy_range=[10, 200],  # MeV\n",
    ")"
   ]
  },
  {
   "cell_type": "code",
   "execution_count": 18,
   "id": "25370e3c-1d85-4211-a4e6-09efd6a7417b",
   "metadata": {},
   "outputs": [
    {
     "data": {
      "text/plain": [
       "{'12935': <exfor_tools.exfor_tools.ExforDifferentialData at 0x78ee6372e9d0>}"
      ]
     },
     "execution_count": 18,
     "metadata": {},
     "output_type": "execute_result"
    }
   ],
   "source": [
    "all_entries_nn"
   ]
  },
  {
   "cell_type": "code",
   "execution_count": 19,
   "id": "bd16cde8-0001-4290-9f55-2c39dc1e7972",
   "metadata": {},
   "outputs": [],
   "source": [
    "# these are considered outliers or not useful\n",
    "entries_to_ignore = []\n",
    "for entry in entries_to_ignore:\n",
    "    del all_entries_nn[entry]"
   ]
  },
  {
   "cell_type": "code",
   "execution_count": 20,
   "id": "34525b82-8145-4732-b268-751b8adb55bd",
   "metadata": {},
   "outputs": [
    {
     "data": {
      "image/png": "[encoded data removed]",
      "text/plain": [
       "<Figure size 600x300 with 1 Axes>"
      ]
     },
     "metadata": {},
     "output_type": "display_data"
    }
   ],
   "source": [
    "for entry, data in all_entries_nn.items():\n",
    "    \n",
    "    N = len(data.measurements)\n",
    "    fig, ax = plt.subplots(1, 1, figsize=(6, 3*N))\n",
    "\n",
    "    data.plot_experiment(\n",
    "        ax,\n",
    "        xlim=None,\n",
    "        offsets=50,\n",
    "        label_energy_err=False,\n",
    "        label_hloc_deg=np.max(data.measurements[0].data[0,:])*0.9,\n",
    "    )\n",
    "    ax.set_title(f\"{data.fancy_label} {entry}\")"
   ]
  },
  {
   "cell_type": "code",
   "execution_count": null,
   "id": "bea2e38e-7472-4837-92b2-4e0ffc17f4a7",
   "metadata": {},
   "outputs": [],
   "source": []
  }
 ],
 "metadata": {
  "kernelspec": {
   "display_name": "Python 3 (ipykernel)",
   "language": "python",
   "name": "python3"
  },
  "language_info": {
   "codemirror_mode": {
    "name": "ipython",
    "version": 3
   },
   "file_extension": ".py",
   "mimetype": "text/x-python",
   "name": "python",
   "nbconvert_exporter": "python",
   "pygments_lexer": "ipython3",
   "version": "3.11.9"
  }
 },
 "nbformat": 4,
 "nbformat_minor": 5
}
