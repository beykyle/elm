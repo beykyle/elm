{
 "cells": [
  {
   "cell_type": "markdown",
   "id": "93a49da0",
   "metadata": {},
   "source": [
    "# Visualizing experimental elastic cross sections compared to Koning-Delaroche predictions"
   ]
  },
  {
   "cell_type": "code",
   "execution_count": 1,
   "id": "9fbc70e4-6ac7-4a99-8a84-3197e65a8666",
   "metadata": {
    "scrolled": true
   },
   "outputs": [],
   "source": [
    "import pickle\n",
    "from pathlib import Path\n",
    "import numpy as np\n",
    "from matplotlib import pyplot as plt\n",
    "from periodictable import elements\n",
    "import pickle"
   ]
  },
  {
   "cell_type": "code",
   "execution_count": 2,
   "id": "275cb9d5-d478-4ab0-8ed0-c67a54b3b63c",
   "metadata": {},
   "outputs": [
    {
     "name": "stdout",
     "output_type": "stream",
     "text": [
      "Using database version x4i3_X4-2023-04-29 located in: /home/beyerk/mambaforge/envs/sage/lib/python3.11/site-packages/x4i3/data\n"
     ]
    },
    {
     "ename": "AttributeError",
     "evalue": "module 'exfor_tools' has no attribute 'ExforDifferentialDataSet'",
     "output_type": "error",
     "traceback": [
      "\u001b[0;31m---------------------------------------------------------------------------\u001b[0m",
      "\u001b[0;31mAttributeError\u001b[0m                            Traceback (most recent call last)",
      "Cell \u001b[0;32mIn[2], line 1\u001b[0m\n\u001b[0;32m----> 1\u001b[0m \u001b[38;5;28;01mimport\u001b[39;00m \u001b[38;5;21;01melm\u001b[39;00m\n",
      "File \u001b[0;32m~/Projects/elm/src/elm/__init__.py:2\u001b[0m\n\u001b[1;32m      1\u001b[0m \u001b[38;5;28;01mfrom\u001b[39;00m \u001b[38;5;21;01m.\u001b[39;00m\u001b[38;5;21;01mmodel\u001b[39;00m \u001b[38;5;28;01mimport\u001b[39;00m \u001b[38;5;241m*\u001b[39m\n\u001b[0;32m----> 2\u001b[0m \u001b[38;5;28;01mfrom\u001b[39;00m \u001b[38;5;21;01m.\u001b[39;00m\u001b[38;5;21;01mcalibration\u001b[39;00m \u001b[38;5;28;01mimport\u001b[39;00m \u001b[38;5;241m*\u001b[39m\n",
      "File \u001b[0;32m~/Projects/elm/src/elm/calibration.py:57\u001b[0m\n\u001b[1;32m     50\u001b[0m     visualizer \u001b[38;5;241m=\u001b[39m jitr\u001b[38;5;241m.\u001b[39mxs\u001b[38;5;241m.\u001b[39melastic\u001b[38;5;241m.\u001b[39mDifferentialWorkspace(\n\u001b[1;32m     51\u001b[0m         integral_workspace\u001b[38;5;241m=\u001b[39mintegral_ws, angles\u001b[38;5;241m=\u001b[39mangles_vis\n\u001b[1;32m     52\u001b[0m     )\n\u001b[1;32m     54\u001b[0m     \u001b[38;5;28;01mreturn\u001b[39;00m calibrator, visualizer\n\u001b[0;32m---> 57\u001b[0m \u001b[38;5;28;43;01mclass\u001b[39;49;00m\u001b[43m \u001b[49m\u001b[38;5;21;43;01mDifferentialXS\u001b[39;49;00m\u001b[43m:\u001b[49m\n\u001b[1;32m     58\u001b[0m \u001b[43m    \u001b[49m\u001b[38;5;28;43;01mdef\u001b[39;49;00m\u001b[43m \u001b[49m\u001b[38;5;21;43m__init__\u001b[39;49m\u001b[43m(\u001b[49m\n\u001b[1;32m     59\u001b[0m \u001b[43m        \u001b[49m\u001b[38;5;28;43mself\u001b[39;49m\u001b[43m,\u001b[49m\n\u001b[1;32m     60\u001b[0m \u001b[43m        \u001b[49m\u001b[43mprojectile\u001b[49m\u001b[43m:\u001b[49m\u001b[43m \u001b[49m\u001b[38;5;28;43mtuple\u001b[39;49m\u001b[43m,\u001b[49m\n\u001b[0;32m   (...)\u001b[0m\n\u001b[1;32m     68\u001b[0m \u001b[43m        \u001b[49m\u001b[43mabsolute_xs\u001b[49m\u001b[38;5;241;43m=\u001b[39;49m\u001b[38;5;28;43;01mTrue\u001b[39;49;00m\u001b[43m,\u001b[49m\n\u001b[1;32m     69\u001b[0m \u001b[43m    \u001b[49m\u001b[43m)\u001b[49m\u001b[43m:\u001b[49m\n\u001b[1;32m     70\u001b[0m \u001b[43m        \u001b[49m\u001b[38;5;28;43mself\u001b[39;49m\u001b[38;5;241;43m.\u001b[39;49m\u001b[43mexp\u001b[49m\u001b[43m \u001b[49m\u001b[38;5;241;43m=\u001b[39;49m\u001b[43m \u001b[49m\u001b[43mexp\u001b[49m\n",
      "File \u001b[0;32m~/Projects/elm/src/elm/calibration.py:63\u001b[0m, in \u001b[0;36mDifferentialXS\u001b[0;34m()\u001b[0m\n\u001b[1;32m     57\u001b[0m \u001b[38;5;28;01mclass\u001b[39;00m \u001b[38;5;21;01mDifferentialXS\u001b[39;00m:\n\u001b[1;32m     58\u001b[0m     \u001b[38;5;28;01mdef\u001b[39;00m \u001b[38;5;21m__init__\u001b[39m(\n\u001b[1;32m     59\u001b[0m         \u001b[38;5;28mself\u001b[39m,\n\u001b[1;32m     60\u001b[0m         projectile: \u001b[38;5;28mtuple\u001b[39m,\n\u001b[1;32m     61\u001b[0m         target: \u001b[38;5;28mtuple\u001b[39m,\n\u001b[1;32m     62\u001b[0m         Elab: \u001b[38;5;28mfloat\u001b[39m,\n\u001b[0;32m---> 63\u001b[0m         exp: \u001b[43mexfor_tools\u001b[49m\u001b[38;5;241;43m.\u001b[39;49m\u001b[43mExforDifferentialDataSet\u001b[49m,\n\u001b[1;32m     64\u001b[0m         angles_vis: np\u001b[38;5;241m.\u001b[39marray,\n\u001b[1;32m     65\u001b[0m         core_solver: jitr\u001b[38;5;241m.\u001b[39mrmatrix\u001b[38;5;241m.\u001b[39mSolver,\n\u001b[1;32m     66\u001b[0m         channel_radius: \u001b[38;5;28mfloat\u001b[39m,\n\u001b[1;32m     67\u001b[0m         lmax: \u001b[38;5;28mint\u001b[39m \u001b[38;5;241m=\u001b[39m \u001b[38;5;241m20\u001b[39m,\n\u001b[1;32m     68\u001b[0m         absolute_xs\u001b[38;5;241m=\u001b[39m\u001b[38;5;28;01mTrue\u001b[39;00m,\n\u001b[1;32m     69\u001b[0m     ):\n\u001b[1;32m     70\u001b[0m         \u001b[38;5;28mself\u001b[39m\u001b[38;5;241m.\u001b[39mexp \u001b[38;5;241m=\u001b[39m exp\n\u001b[1;32m     71\u001b[0m         \u001b[38;5;28mself\u001b[39m\u001b[38;5;241m.\u001b[39mN \u001b[38;5;241m=\u001b[39m \u001b[38;5;28mself\u001b[39m\u001b[38;5;241m.\u001b[39mexp\u001b[38;5;241m.\u001b[39mdata\u001b[38;5;241m.\u001b[39mshape[\u001b[38;5;241m1\u001b[39m]\n",
      "\u001b[0;31mAttributeError\u001b[0m: module 'exfor_tools' has no attribute 'ExforDifferentialDataSet'"
     ]
    }
   ],
   "source": [
    "import elm"
   ]
  },
  {
   "cell_type": "code",
   "execution_count": null,
   "id": "fc9a4aea-85f7-47f5-ba23-339037959ed0",
   "metadata": {},
   "outputs": [],
   "source": [
    "import exfor_tools\n",
    "import jitr"
   ]
  },
  {
   "cell_type": "code",
   "execution_count": null,
   "id": "5e0f6e2d-d1e8-4114-afc5-f4b18b0e66f8",
   "metadata": {},
   "outputs": [],
   "source": [
    "# plotting\n",
    "kd_color = \"#bc5090\"\n",
    "qelm_color = \"#f28d3d\"\n",
    "elm_color = \"#4277c0\""
   ]
  },
  {
   "cell_type": "code",
   "execution_count": null,
   "id": "356aa8f8-517a-4f1d-9b31-e93a4eba072c",
   "metadata": {},
   "outputs": [],
   "source": [
    "proton = (1, 1)\n",
    "neutron = (1, 0)"
   ]
  },
  {
   "cell_type": "code",
   "execution_count": null,
   "id": "550816b2-bea7-44fd-b49c-36848896ddbf",
   "metadata": {},
   "outputs": [],
   "source": [
    "import json\n",
    "\n",
    "param_file = jitr.data_dir /  \"KD_default.json\"\n",
    "kduq_omp_neutron = jitr.reactions.kduq.KDGlobal(neutron, param_file)\n",
    "kduq_omp_proton = jitr.reactions.kduq.KDGlobal(proton, param_file)"
   ]
  },
  {
   "cell_type": "code",
   "execution_count": null,
   "id": "c247eb0c-662e-4b09-9298-70932e87a478",
   "metadata": {},
   "outputs": [],
   "source": [
    "with open(\"../workspaces/corpus_elastic.pkl\", \"rb\") as f:\n",
    "    workspaces = pickle.load(f)"
   ]
  },
  {
   "cell_type": "markdown",
   "id": "9e555df0-449a-4fa5-940a-4b264fda0857",
   "metadata": {},
   "source": [
    "## decide target and projectile"
   ]
  },
  {
   "cell_type": "code",
   "execution_count": null,
   "id": "62d3d33e-d29f-4f1b-8652-ea89cb470cd7",
   "metadata": {},
   "outputs": [],
   "source": [
    "target = (90,40)\n",
    "A,Z = target\n",
    "projectile = proton\n",
    "#projectile = neutron"
   ]
  },
  {
   "cell_type": "code",
   "execution_count": null,
   "id": "5361d6fa-0d97-4356-ace5-9953e52d44a2",
   "metadata": {},
   "outputs": [],
   "source": [
    "target_ws = workspaces[projectile][target]\n",
    "omp = kduq_omp_neutron if projectile == neutron else kduq_omp_proton"
   ]
  },
  {
   "cell_type": "code",
   "execution_count": null,
   "id": "bc204283-9d58-4742-b109-d47559405e22",
   "metadata": {},
   "outputs": [],
   "source": [
    "len(target_ws)"
   ]
  },
  {
   "cell_type": "markdown",
   "id": "dd122d2f-4089-4c5d-b87e-87b303bcdc5e",
   "metadata": {},
   "source": [
    " ## run calculation and plot"
   ]
  },
  {
   "cell_type": "code",
   "execution_count": null,
   "id": "58315eac-565c-4f91-b7f3-f16c2ef20c61",
   "metadata": {},
   "outputs": [],
   "source": [
    "n_per_plt = 8\n",
    "n_plts = len(target_ws) // n_per_plt\n",
    "n_plts = [n_per_plt] * n_plts\n",
    "rem = len(target_ws) % n_per_plt\n",
    "if rem > 0:\n",
    "    n_plts.append(rem)\n",
    "n_plts"
   ]
  },
  {
   "cell_type": "code",
   "execution_count": null,
   "id": "7f221138-926e-4848-9886-cf2ba0f5d7e1",
   "metadata": {},
   "outputs": [],
   "source": [
    "idx = 0\n",
    "for n in n_plts:\n",
    "    fig, ax = plt.subplots(figsize=(6, 10))\n",
    "    \n",
    "    for i in range(n):\n",
    "        offset = 10 ** (i)\n",
    "        ws = target_ws[idx + i]\n",
    "        #offset = 1\n",
    "        coulomb_params, central_params, spin_orbit_params = omp.get_params(\n",
    "            *ws.calibration_model.target,\n",
    "            ws.calibration_model.mu,\n",
    "            ws.exp.Elab,\n",
    "            ws.calibration_model.k,\n",
    "        )\n",
    "        xs_sample = ws.visualization_model.xs(\n",
    "            jitr.reactions.kduq.KD_central_plus_coulomb,\n",
    "            jitr.reactions.kduq.KD_spin_orbit,\n",
    "            (central_params, coulomb_params),\n",
    "            spin_orbit_params,\n",
    "        )\n",
    "        x, dx, y, dy = ws.exp.data\n",
    "        \n",
    "        xth = ws.angles_vis * 180 / np.pi\n",
    "        if projectile == proton:\n",
    "            yth = xs_sample.dsdo  / ws.visualization_model.rutherford\n",
    "        else:\n",
    "            yth = xs_sample.dsdo\n",
    "        mask = np.logical_and(xth >= x[0]*0.8, xth <= x[-1] * 1.05 )\n",
    "        \n",
    "        plt.plot( xth[mask], yth[mask] * offset, color=kd_color, alpha=0.8)\n",
    "\n",
    "        p = plt.errorbar(\n",
    "            x,\n",
    "            y * offset ,\n",
    "            yerr=dy *offset,\n",
    "            linestyle=\"none\",\n",
    "            elinewidth=3,\n",
    "            marker=\"s\",\n",
    "            markersize=2,\n",
    "         #   color='k'\n",
    "        )\n",
    "    \n",
    "        \n",
    "        if x[0] > 15 and x[-1] > 170:\n",
    "            xloc = -18\n",
    "            yloc = np.mean(y) \n",
    "        elif x[-1] < 140:\n",
    "            xloc = 150\n",
    "            yloc = np.mean(y) \n",
    "        else:\n",
    "            xloc = -18\n",
    "            yloc = np.mean(y) \n",
    "\n",
    "            \n",
    "        plt.text( xloc, yloc*offset, f\"{ws.exp.Elab:.1f} MeV\", color=p.lines[0].get_color())\n",
    "    idx += n\n",
    "    plt.yscale(\"log\")\n",
    "    plt.xlabel(r\"$\\theta$ [deg]\")\n",
    "    if projectile == proton:\n",
    "        plt.ylabel(r\"$d\\sigma/d\\sigma_\\text{Rutherford}$ [dimensionless]\")\n",
    "    else:\n",
    "        plt.ylabel(r\"$\\d\\sigma/d\\Omega$ [mb/Sr]\")\n",
    "    #plt.ylim([10, 1e6])\n",
    "    A,Z = target\n",
    "    rxn = r\"$(p,p)$\" if projectile == proton else r\"$(n,n)$\"\n",
    "    plt.title(f\"$^{{{A}}}${elements[Z]} {rxn}\")\n",
    "    plt.xlim([-20,190])"
   ]
  },
  {
   "cell_type": "code",
   "execution_count": null,
   "id": "597216b1-cea7-4381-8ae9-dc1aa49be1a4",
   "metadata": {},
   "outputs": [],
   "source": []
  },
  {
   "cell_type": "code",
   "execution_count": null,
   "id": "2c4dc2fa-e40c-4f23-ad07-8c82eb8db863",
   "metadata": {},
   "outputs": [],
   "source": []
  }
 ],
 "metadata": {
  "kernelspec": {
   "display_name": "Python 3 (ipykernel)",
   "language": "python",
   "name": "python3"
  },
  "language_info": {
   "codemirror_mode": {
    "name": "ipython",
    "version": 3
   },
   "file_extension": ".py",
   "mimetype": "text/x-python",
   "name": "python",
   "nbconvert_exporter": "python",
   "pygments_lexer": "ipython3",
   "version": "3.11.9"
  }
 },
 "nbformat": 4,
 "nbformat_minor": 5
}
