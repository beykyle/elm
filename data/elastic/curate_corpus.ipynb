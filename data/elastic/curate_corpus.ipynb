{
 "cells": [
  {
   "cell_type": "markdown",
   "id": "93a49da0",
   "metadata": {},
   "source": [
    "# Gathering of Bayesian evidence for the ELM model"
   ]
  },
  {
   "cell_type": "code",
   "execution_count": 1,
   "id": "9fbc70e4-6ac7-4a99-8a84-3197e65a8666",
   "metadata": {
    "scrolled": true
   },
   "outputs": [],
   "source": [
    "import pickle\n",
    "from pathlib import Path\n",
    "\n",
    "import numpy as np\n",
    "from matplotlib import pyplot as plt\n",
    "from periodictable import elements\n",
    "from tqdm import tqdm"
   ]
  },
  {
   "cell_type": "code",
   "execution_count": 2,
   "id": "fd68af72-e6cb-4890-a965-c7a9909b6e62",
   "metadata": {},
   "outputs": [
    {
     "name": "stdout",
     "output_type": "stream",
     "text": [
      "Using database version X4-2024-12-31 located in: /home/beyerk/db/exfor/unpack_exfor-2024/X4-2024-12-31\n"
     ]
    }
   ],
   "source": [
    "import elm"
   ]
  },
  {
   "cell_type": "code",
   "execution_count": 3,
   "id": "fc9a4aea-85f7-47f5-ba23-339037959ed0",
   "metadata": {},
   "outputs": [],
   "source": [
    "import exfor_tools\n",
    "import jitr"
   ]
  },
  {
   "cell_type": "code",
   "execution_count": 4,
   "id": "356aa8f8-517a-4f1d-9b31-e93a4eba072c",
   "metadata": {},
   "outputs": [],
   "source": [
    "proton = (1, 1)\n",
    "neutron = (1, 0)"
   ]
  },
  {
   "cell_type": "code",
   "execution_count": 5,
   "id": "943628b1",
   "metadata": {},
   "outputs": [],
   "source": [
    "Ca40 = (40, 20)\n",
    "Ca48 = (48, 20)\n",
    "\n",
    "Zr90 = (90, 40)\n",
    "Zr92 = (92, 40)\n",
    "Zr94 = (94, 40)\n",
    "Zr96 = (96, 40)\n",
    "\n",
    "Sn124 = (124, 50)\n",
    "Sn122 = (122, 50)\n",
    "Sn120 = (120, 50)\n",
    "Sn118 = (118, 50)\n",
    "Sn116 = (116, 50)\n",
    "\n",
    "Ba138 = (138, 56)\n",
    "\n",
    "Sm144 = (144, 62)\n",
    "Sm148 = (148, 62)\n",
    "\n",
    "Pb208 = (208, 82)\n",
    "Pb206 = (206, 82)"
   ]
  },
  {
   "cell_type": "code",
   "execution_count": 6,
   "id": "7a4bd6f6-8cf6-448b-a013-86ab5f070636",
   "metadata": {},
   "outputs": [],
   "source": [
    "targets = [\n",
    "    Ca40,\n",
    "    Ca48,\n",
    "    Zr90,\n",
    "    Zr92,\n",
    "    Zr94,\n",
    "    Zr96,\n",
    "    Sn116,\n",
    "    Sn118,\n",
    "    Sn120,\n",
    "    Sn122,\n",
    "    Sn124,\n",
    "    Ba138,\n",
    "    Sm144,\n",
    "    Sm148,\n",
    "    Pb206,\n",
    "    Pb208,\n",
    "]"
   ]
  },
  {
   "cell_type": "code",
   "execution_count": 7,
   "id": "bbeb9d10-74dc-48ad-8f19-33b7abd9f217",
   "metadata": {},
   "outputs": [],
   "source": [
    "workspaces_n_elastic = {}\n",
    "workspaces_p_elastic = {}"
   ]
  },
  {
   "cell_type": "code",
   "execution_count": 8,
   "id": "3b4e175b-7b26-4a92-9834-362f3cfc3cee",
   "metadata": {},
   "outputs": [],
   "source": [
    "core_solver = jitr.rmatrix.Solver(40)\n",
    "channel_radius = 10 * np.pi\n",
    "lmax = 20\n",
    "theta_vis = np.linspace(0.1, np.pi, 180)"
   ]
  },
  {
   "cell_type": "code",
   "execution_count": 17,
   "id": "4e328fde-68a3-4dab-862f-512549e46c4e",
   "metadata": {},
   "outputs": [],
   "source": [
    "data_sets_by_isotope = {}\n",
    "for (A,Z) in targets:\n",
    "    fname = Path(f\"{elements[Z]}{A}_diff_xs.pkl\")\n",
    "    if not fname.is_file():\n",
    "        print(f\"Could not find {fname}\")\n",
    "    else:\n",
    "        with open(fname, \"rb\") as f:\n",
    "            d = pickle.load(f)\n",
    "            data_sets_by_isotope[(A,Z)] = d"
   ]
  },
  {
   "cell_type": "code",
   "execution_count": 18,
   "id": "fd4e88a9-734d-46f7-bfec-7652b18428bf",
   "metadata": {},
   "outputs": [],
   "source": [
    "data_sets_by_entry = {}\n",
    "for (A,Z) in targets:\n",
    "    d = data_sets_by_isotope[(A,Z)]\n",
    "    for k,v in d['n,n'].items():\n",
    "        if k in data_sets_by_entry:\n",
    "            data_sets_by_entry[k].append(v)\n",
    "        else:\n",
    "            data_sets_by_entry[k] = [v]\n",
    "    \n",
    "    for k,v in d['p,p']['ratio'].items():\n",
    "        if k in data_sets_by_entry:\n",
    "            data_sets_by_entry[k].append(v)\n",
    "        else:\n",
    "            data_sets_by_entry[k] = [v]\n",
    "    \n",
    "    for k,v in d['p,p']['absolute'].items():\n",
    "        if k in data_sets_by_entry:\n",
    "            data_sets_by_entry[k].append(v)\n",
    "        else:\n",
    "            data_sets_by_entry[k] = [v]\n"
   ]
  },
  {
   "cell_type": "code",
   "execution_count": 19,
   "id": "1054e571-80af-4056-bff9-d7df55910ab9",
   "metadata": {},
   "outputs": [],
   "source": [
    "def remove_duplicates(entries_ppr, entries_pp):\n",
    "    all_dup = []\n",
    "    for kr,vr in entries_ppr.items():\n",
    "        for k,v in entries_pp.items():\n",
    "            if kr == k:\n",
    "                Eratio = [er.Einc for er in vr.measurements]\n",
    "                nm = [e for e in v.measurements if e.Einc not in Eratio]\n",
    "                if nm != v.measurements:\n",
    "                    print(f\"Found duplicates between (p,p) absolute and ratio to Rutherford in {k}\")\n",
    "                    print([x.Einc for x in v.measurements])\n",
    "                    print([x.Einc for x in vr.measurements])\n",
    "\n",
    "                    \n",
    "                    # replace (p,p) absolute with only non-duplicate measurements\n",
    "                    v.measurements = nm\n",
    "                    if nm == []:\n",
    "                        all_dup.append(k)\n",
    "    \n",
    "    # in cases where all (p,p) absolute measurements are duplicates, remove whole entry\n",
    "    for k in all_dup:\n",
    "        del entries_pp[k]\n",
    "\n",
    "    return entries_ppr, entries_pp"
   ]
  },
  {
   "cell_type": "code",
   "execution_count": 21,
   "id": "1a80bb12-339c-4e77-b839-3508079a4035",
   "metadata": {},
   "outputs": [],
   "source": [
    "for (A,Z) in targets:\n",
    "    remove_duplicates(data_sets_by_isotope[(A,Z)]['p,p']['ratio'], data_sets_by_isotope[(A,Z)]['p,p']['absolute'])"
   ]
  },
  {
   "cell_type": "code",
   "execution_count": 9,
   "id": "4b7f7546-3c71-4bb6-a149-9d702c3e7db3",
   "metadata": {},
   "outputs": [],
   "source": [
    "def set_up_p_elastic_workspaces(target, entries_xs, entries_ratio):\n",
    "    meas_ratio = exfor_tools.sort_measurements_by_energy(entries_ratio)\n",
    "    meas_xs = exfor_tools.sort_measurements_by_energy(entries_xs)\n",
    "\n",
    "    # only take non-ratio (p,p) data if it's not duplicate to ruth\n",
    "    for i in range(len(entries_xs)):\n",
    "        for j in range(len(entries_ratio)):\n",
    "            if entries_xs[i].entry == entries_ratio[j].entry\n",
    "            print(entries_xs[i].entry)\n",
    "            \n",
    "    workspaces = []\n",
    "    for m in meas_ratio:\n",
    "        workspaces.append(\n",
    "            elm.DifferentialXS(\n",
    "                proton,\n",
    "                target,\n",
    "                m.Elab,\n",
    "                m,\n",
    "                theta_vis,\n",
    "                core_solver,\n",
    "                channel_radius,\n",
    "                lmax,\n",
    "                absolute_xs=False,\n",
    "            )\n",
    "        )\n",
    "    for m in meas_xs:\n",
    "        workspaces.append(\n",
    "            elm.DifferentialXS(\n",
    "                proton,\n",
    "                target,\n",
    "                m.Elab,\n",
    "                m,\n",
    "                theta_vis,\n",
    "                core_solver,\n",
    "                channel_radius,\n",
    "                lmax,\n",
    "                absolute_xs=True,\n",
    "            )\n",
    "        )\n",
    "\n",
    "    workspaces.sort(key=lambda w: w.exp.Elab)\n",
    "\n",
    "    return workspaces"
   ]
  },
  {
   "cell_type": "code",
   "execution_count": 10,
   "id": "da4e3de4-2c19-4868-9642-e6b73f2bc6cd",
   "metadata": {},
   "outputs": [],
   "source": [
    "def set_up_n_elastic_workspaces(target, entries):\n",
    "    measurements = exfor_tools.sort_measurements_by_energy(entries)\n",
    "\n",
    "    return [\n",
    "        elm.DifferentialXS(\n",
    "            neutron, target, m.Elab, m, theta_vis, core_solver, channel_radius, lmax\n",
    "        )\n",
    "        for m in measurements\n",
    "    ]"
   ]
  },
  {
   "cell_type": "code",
   "execution_count": 11,
   "id": "4da8a4e9-b027-4040-98f2-d065f47bc850",
   "metadata": {},
   "outputs": [
    {
     "name": "stdout",
     "output_type": "stream",
     "text": [
      "Read 12 measurements from 3 entries from Ca40_n_elastic.pkl\n",
      "Read 43 measurements from 23 entries from Ca40_p_elastic.pkl\n",
      "Read 2 measurements from 1 entries from Ca48_n_elastic.pkl\n",
      "Read 15 measurements from 7 entries from Ca48_p_elastic.pkl\n",
      "Read 3 measurements from 2 entries from Zr90_n_elastic.pkl\n",
      "Read 23 measurements from 21 entries from Zr90_p_elastic.pkl\n",
      "Read 2 measurements from 1 entries from Zr92_n_elastic.pkl\n",
      "Read 9 measurements from 9 entries from Zr92_p_elastic.pkl\n",
      "Read 2 measurements from 1 entries from Zr94_n_elastic.pkl\n",
      "Read 5 measurements from 5 entries from Zr94_p_elastic.pkl\n",
      "Read 2 measurements from 2 entries from Zr96_p_elastic.pkl\n",
      "Read 3 measurements from 2 entries from Sn116_n_elastic.pkl\n",
      "Read 7 measurements from 7 entries from Sn116_p_elastic.pkl\n",
      "Read 2 measurements from 1 entries from Sn118_n_elastic.pkl\n",
      "Read 1 measurements from 1 entries from Sn118_p_elastic.pkl\n",
      "Read 3 measurements from 2 entries from Sn120_n_elastic.pkl\n",
      "Read 11 measurements from 10 entries from Sn120_p_elastic.pkl\n",
      "Read 1 measurements from 1 entries from Sn122_n_elastic.pkl\n",
      "Read 2 measurements from 2 entries from Sn122_p_elastic.pkl\n",
      "Read 4 measurements from 2 entries from Sn124_n_elastic.pkl\n",
      "Read 3 measurements from 3 entries from Sn124_p_elastic.pkl\n",
      "Read 1 measurements from 1 entries from Ba138_p_elastic.pkl\n",
      "Read 1 measurements from 1 entries from Sm144_p_elastic.pkl\n",
      "Read 0 measurements from 0 entries from Sm148_n_elastic.pkl\n",
      "Read 6 measurements from 6 entries from Sm148_p_elastic.pkl\n",
      "Read 2 measurements from 2 entries from Pb206_n_elastic.pkl\n",
      "Read 2 measurements from 2 entries from Pb206_p_elastic.pkl\n",
      "Read 20 measurements from 7 entries from Pb208_n_elastic.pkl\n",
      "Read 33 measurements from 17 entries from Pb208_p_elastic.pkl\n"
     ]
    }
   ],
   "source": [
    "for t in targets:\n",
    "    A, Z = t\n",
    "    n_data_path = Path(f\"./{elements[Z]}{A}_n_elastic.pkl\")\n",
    "    if n_data_path.is_file():\n",
    "        with open(n_data_path, \"rb\") as f:\n",
    "            entries = pickle.load(f)\n",
    "            n_entries = len(entries)\n",
    "            n_measurements = int(\n",
    "                np.sum([len(entry.measurements) for entry in entries.values()])\n",
    "            )\n",
    "        print(\n",
    "            f\"Read {n_measurements} measurements from {n_entries} entries from {n_data_path}\"\n",
    "        )\n",
    "        ws = set_up_n_elastic_workspaces(t, entries)\n",
    "        workspaces_n_elastic[t] = ws\n",
    "    p_data_path = Path(f\"./{elements[Z]}{A}_p_elastic.pkl\")\n",
    "    if p_data_path.is_file():\n",
    "        with open(p_data_path, \"rb\") as f:\n",
    "            entries = pickle.load(f)\n",
    "            n_entries = len(entries[\"xs\"]) + len(entries[\"ratio\"])\n",
    "            n_measurements = int(\n",
    "                np.sum([len(entry.measurements) for entry in entries[\"xs\"].values()])\n",
    "                + np.sum(\n",
    "                    [len(entry.measurements) for entry in entries[\"ratio\"].values()]\n",
    "                )\n",
    "            )\n",
    "        print(\n",
    "            f\"Read {n_measurements} measurements from {n_entries} entries from {p_data_path}\"\n",
    "        )\n",
    "        ws = set_up_p_elastic_workspaces(t, entries[\"xs\"], entries[\"ratio\"])\n",
    "        workspaces_p_elastic[t] = ws"
   ]
  },
  {
   "cell_type": "code",
   "execution_count": 13,
   "id": "b3e49fe5-e812-4c05-a524-d0e2a1d4bae5",
   "metadata": {},
   "outputs": [],
   "source": [
    "with open(\"../workspaces/corpus_elastic.pkl\", \"wb\") as f:\n",
    "    pickle.dump( {neutron : workspaces_n_elastic, proton : workspaces_p_elastic}, f)"
   ]
  },
  {
   "cell_type": "code",
   "execution_count": 17,
   "id": "2a908243-260c-4864-9c74-5d5f593c8ce1",
   "metadata": {},
   "outputs": [
    {
     "data": {
      "text/plain": [
       "np.int64(54)"
      ]
     },
     "execution_count": 17,
     "metadata": {},
     "output_type": "execute_result"
    }
   ],
   "source": [
    "np.sum([ len(l) for l in workspaces_n_elastic.values()])"
   ]
  },
  {
   "cell_type": "code",
   "execution_count": 18,
   "id": "68410245-7877-4753-807d-a1d7f8f5a08e",
   "metadata": {},
   "outputs": [
    {
     "data": {
      "text/plain": [
       "np.int64(137)"
      ]
     },
     "execution_count": 18,
     "metadata": {},
     "output_type": "execute_result"
    }
   ],
   "source": [
    "np.sum([ len(l) for l in workspaces_p_elastic.values()])"
   ]
  },
  {
   "cell_type": "code",
   "execution_count": 29,
   "id": "2d160502-06ec-46b0-8301-4933221f7971",
   "metadata": {},
   "outputs": [
    {
     "data": {
      "text/plain": [
       "np.float64(1285.0)"
      ]
     },
     "execution_count": 29,
     "metadata": {},
     "output_type": "execute_result"
    }
   ],
   "source": [
    "np.sum([ np.sum([  ws.exp.data.shape[1] for ws in iso ]) for iso in workspaces_n_elastic.values() ])"
   ]
  },
  {
   "cell_type": "code",
   "execution_count": 30,
   "id": "dc93b388-6010-445c-b599-22840950268b",
   "metadata": {},
   "outputs": [
    {
     "data": {
      "text/plain": [
       "np.int64(5830)"
      ]
     },
     "execution_count": 30,
     "metadata": {},
     "output_type": "execute_result"
    }
   ],
   "source": [
    "np.sum([ np.sum([  ws.exp.data.shape[1] for ws in iso ]) for iso in workspaces_p_elastic.values() ])"
   ]
  },
  {
   "cell_type": "code",
   "execution_count": null,
   "id": "1d7859f0-17c0-468d-ae9f-74b77740dc0d",
   "metadata": {},
   "outputs": [],
   "source": []
  }
 ],
 "metadata": {
  "kernelspec": {
   "display_name": "Python 3 (ipykernel)",
   "language": "python",
   "name": "python3"
  },
  "language_info": {
   "codemirror_mode": {
    "name": "ipython",
    "version": 3
   },
   "file_extension": ".py",
   "mimetype": "text/x-python",
   "name": "python",
   "nbconvert_exporter": "python",
   "pygments_lexer": "ipython3",
   "version": "3.11.9"
  }
 },
 "nbformat": 4,
 "nbformat_minor": 5
}
