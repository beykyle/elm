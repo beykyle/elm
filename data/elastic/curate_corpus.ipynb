{
 "cells": [
  {
   "cell_type": "markdown",
   "id": "93a49da0",
   "metadata": {},
   "source": [
    "# Gathering of Bayesian evidence for the ELM model"
   ]
  },
  {
   "cell_type": "code",
   "execution_count": null,
   "id": "9fbc70e4-6ac7-4a99-8a84-3197e65a8666",
   "metadata": {
    "scrolled": true
   },
   "outputs": [],
   "source": [
    "import pickle\n",
    "from pathlib import Path\n",
    "\n",
    "import numpy as np\n",
    "from matplotlib import pyplot as plt\n",
    "from periodictable import elements\n",
    "from tqdm import tqdm"
   ]
  },
  {
   "cell_type": "code",
   "execution_count": null,
   "id": "fd68af72-e6cb-4890-a965-c7a9909b6e62",
   "metadata": {},
   "outputs": [],
   "source": [
    "import elm"
   ]
  },
  {
   "cell_type": "code",
   "execution_count": null,
   "id": "fc9a4aea-85f7-47f5-ba23-339037959ed0",
   "metadata": {},
   "outputs": [],
   "source": [
    "import exfor_tools\n",
    "import jitr"
   ]
  },
  {
   "cell_type": "code",
   "execution_count": null,
   "id": "5e0f6e2d-d1e8-4114-afc5-f4b18b0e66f8",
   "metadata": {},
   "outputs": [],
   "source": [
    "# plotting\n",
    "kd_color = \"#bc5090\"\n",
    "qelm_color = \"#f28d3d\"\n",
    "elm_color = \"#4277c0\""
   ]
  },
  {
   "cell_type": "code",
   "execution_count": null,
   "id": "356aa8f8-517a-4f1d-9b31-e93a4eba072c",
   "metadata": {},
   "outputs": [],
   "source": [
    "proton = (1, 1)\n",
    "neutron = (1, 0)"
   ]
  },
  {
   "cell_type": "code",
   "execution_count": null,
   "id": "943628b1",
   "metadata": {},
   "outputs": [],
   "source": [
    "Ca40 = (40, 20)\n",
    "Ca48 = (48, 20)\n",
    "\n",
    "Zr90 = (90, 40)\n",
    "Zr92 = (92, 40)\n",
    "Zr94 = (94, 40)\n",
    "Zr96 = (96, 40)\n",
    "\n",
    "Sn124 = (124, 50)\n",
    "Sn122 = (122, 50)\n",
    "Sn120 = (120, 50)\n",
    "Sn118 = (118, 50)\n",
    "Sn116 = (116, 50)\n",
    "\n",
    "Ba138 = (138, 56)\n",
    "\n",
    "Ce140 = (140, 58)\n",
    "\n",
    "Sm144 = (144, 62)\n",
    "Sm148 = (148, 62)\n",
    "\n",
    "Pb208 = (208, 82)\n",
    "Pb206 = (206, 82)"
   ]
  },
  {
   "cell_type": "code",
   "execution_count": null,
   "id": "7a4bd6f6-8cf6-448b-a013-86ab5f070636",
   "metadata": {},
   "outputs": [],
   "source": [
    "targets = [\n",
    "    Ca40,\n",
    "    Ca48,\n",
    "    Zr90,\n",
    "    Zr92,\n",
    "    Zr94,\n",
    "    Zr96,\n",
    "    Sn116,\n",
    "    Sn118,\n",
    "    Sn120,\n",
    "    Sn122,\n",
    "    Sn124,\n",
    "    Ba138,\n",
    "    Ce140,\n",
    "    Sm144,\n",
    "    Sm148,\n",
    "    Pb206,\n",
    "    Pb208,\n",
    "]"
   ]
  },
  {
   "cell_type": "code",
   "execution_count": null,
   "id": "3b4e175b-7b26-4a92-9834-362f3cfc3cee",
   "metadata": {},
   "outputs": [],
   "source": [
    "core_solver = jitr.rmatrix.Solver(40)\n",
    "channel_radius = 10 * np.pi\n",
    "lmax = 20\n",
    "theta_vis = np.linspace(0.1, np.pi, 180)"
   ]
  },
  {
   "cell_type": "code",
   "execution_count": null,
   "id": "4b7f7546-3c71-4bb6-a149-9d702c3e7db3",
   "metadata": {},
   "outputs": [],
   "source": [
    "def set_up_p_elastic_workspaces(target, entries_xs, entries_ratio):\n",
    "    meas_ratio = exfor_tools.sort_measurements_by_energy(entries_ratio)\n",
    "    meas_xs = exfor_tools.sort_measurements_by_energy(entries_xs)\n",
    "\n",
    "    # only take non-ratio (p,p) data if it's not duplicate to ruth\n",
    "    Eratio = [m.Elab for m in meas_ratio]\n",
    "    Exs = [m.Elab for m in meas_xs]\n",
    "    for i, E in enumerate(Exs):\n",
    "        if E in Eratio:\n",
    "            del Exs[i]\n",
    "            del meas_xs[i]\n",
    "\n",
    "    workspaces = []\n",
    "    for m in meas_ratio:\n",
    "        workspaces.append(\n",
    "            elm.DifferentialXS(\n",
    "                proton,\n",
    "                target,\n",
    "                m.Elab,\n",
    "                m,\n",
    "                theta_vis,\n",
    "                core_solver,\n",
    "                channel_radius,\n",
    "                lmax,\n",
    "                absolute_xs=False,\n",
    "            )\n",
    "        )\n",
    "    for m in meas_xs:\n",
    "        workspaces.append(\n",
    "            elm.DifferentialXS(\n",
    "                proton,\n",
    "                target,\n",
    "                m.Elab,\n",
    "                m,\n",
    "                theta_vis,\n",
    "                core_solver,\n",
    "                channel_radius,\n",
    "                lmax,\n",
    "                absolute_xs=True,\n",
    "            )\n",
    "        )\n",
    "\n",
    "    workspaces.sort(key=lambda w: w.exp.Elab)\n",
    "\n",
    "    return workspaces"
   ]
  },
  {
   "cell_type": "code",
   "execution_count": null,
   "id": "da4e3de4-2c19-4868-9642-e6b73f2bc6cd",
   "metadata": {},
   "outputs": [],
   "source": [
    "def set_up_n_elastic_workspaces(target, entries):\n",
    "    measurements = exfor_tools.sort_measurements_by_energy(entries)\n",
    "\n",
    "    return [\n",
    "        elm.DifferentialXS(\n",
    "            neutron, target, m.Elab, m, theta_vis, core_solver, channel_radius, lmax\n",
    "        )\n",
    "        for m in measurements\n",
    "    ]"
   ]
  },
  {
   "cell_type": "code",
   "execution_count": null,
   "id": "4da8a4e9-b027-4040-98f2-d065f47bc850",
   "metadata": {},
   "outputs": [],
   "source": [
    "workspaces_n_elastic = {}\n",
    "workspaces_p_elastic = {}\n",
    "\n",
    "for t in targets:\n",
    "    A, Z = t\n",
    "    n_data_path = Path(f\"./{elements[Z]}{A}_n_elastic.pkl\")\n",
    "    if n_data_path.is_file():\n",
    "        with open(n_data_path, \"rb\") as f:\n",
    "            entries = pickle.load(f)\n",
    "            n_entries = len(entries)\n",
    "            n_measurements = int(\n",
    "                np.sum([len(entry.measurements) for entry in entries.values()])\n",
    "            )\n",
    "        print(\n",
    "            f\"Read {n_measurements} measurements from {n_entries} entries from {n_data_path}\"\n",
    "        )\n",
    "        ws = set_up_n_elastic_workspaces(t, entries)\n",
    "        workspaces_n_elastic[t] = ws\n",
    "    p_data_path = Path(f\"./{elements[Z]}{A}_p_elastic.pkl\")\n",
    "    if p_data_path.is_file():\n",
    "        with open(p_data_path, \"rb\") as f:\n",
    "            entries = pickle.load(f)\n",
    "            n_entries = len(entries[\"xs\"]) + len(entries[\"ratio\"])\n",
    "            n_measurements = int(\n",
    "                np.sum([len(entry.measurements) for entry in entries[\"xs\"].values()])\n",
    "                + np.sum(\n",
    "                    [len(entry.measurements) for entry in entries[\"ratio\"].values()]\n",
    "                )\n",
    "            )\n",
    "        print(\n",
    "            f\"Read {n_measurements} measurements from {n_entries} entries from {p_data_path}\"\n",
    "        )\n",
    "        ws = set_up_p_elastic_workspaces(t, entries[\"xs\"], entries[\"ratio\"])\n",
    "        workspaces_p_elastic[t] = ws"
   ]
  },
  {
   "cell_type": "code",
   "execution_count": null,
   "id": "2d6c9ebc-8974-4a74-ae4d-4a0f6f4f7088",
   "metadata": {},
   "outputs": [],
   "source": [
    "[ws.Elab for ws in workspaces_n_elastic[(40,20)]]"
   ]
  },
  {
   "cell_type": "code",
   "execution_count": null,
   "id": "b3e49fe5-e812-4c05-a524-d0e2a1d4bae5",
   "metadata": {},
   "outputs": [],
   "source": []
  }
 ],
 "metadata": {
  "kernelspec": {
   "display_name": "Python 3 (ipykernel)",
   "language": "python",
   "name": "python3"
  },
  "language_info": {
   "codemirror_mode": {
    "name": "ipython",
    "version": 3
   },
   "file_extension": ".py",
   "mimetype": "text/x-python",
   "name": "python",
   "nbconvert_exporter": "python",
   "pygments_lexer": "ipython3",
   "version": "3.11.9"
  }
 },
 "nbformat": 4,
 "nbformat_minor": 5
}
