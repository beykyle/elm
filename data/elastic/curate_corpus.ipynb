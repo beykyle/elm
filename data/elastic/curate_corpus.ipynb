{
 "cells": [
  {
   "cell_type": "markdown",
   "id": "93a49da0",
   "metadata": {},
   "source": [
    "# Gathering of Bayesian evidence for the ELM model"
   ]
  },
  {
   "cell_type": "code",
   "execution_count": 6,
   "id": "9fbc70e4-6ac7-4a99-8a84-3197e65a8666",
   "metadata": {
    "scrolled": true
   },
   "outputs": [],
   "source": [
    "import pickle\n",
    "from pathlib import Path\n",
    "import numpy as np\n",
    "from periodictable import elements"
   ]
  },
  {
   "cell_type": "code",
   "execution_count": 7,
   "id": "fc9a4aea-85f7-47f5-ba23-339037959ed0",
   "metadata": {},
   "outputs": [],
   "source": [
    "import exfor_tools\n",
    "import jitr"
   ]
  },
  {
   "cell_type": "code",
   "execution_count": 8,
   "id": "356aa8f8-517a-4f1d-9b31-e93a4eba072c",
   "metadata": {},
   "outputs": [],
   "source": [
    "proton = (1, 1)\n",
    "neutron = (1, 0)"
   ]
  },
  {
   "cell_type": "code",
   "execution_count": 9,
   "id": "943628b1",
   "metadata": {},
   "outputs": [],
   "source": [
    "Ca40 = (40, 20)\n",
    "Ca48 = (48, 20)\n",
    "\n",
    "Zr90 = (90, 40)\n",
    "Zr92 = (92, 40)\n",
    "Zr94 = (94, 40)\n",
    "Zr96 = (96, 40)\n",
    "\n",
    "Sn124 = (124, 50)\n",
    "Sn122 = (122, 50)\n",
    "Sn120 = (120, 50)\n",
    "Sn118 = (118, 50)\n",
    "Sn116 = (116, 50)\n",
    "\n",
    "Ba138 = (138, 56)\n",
    "\n",
    "Ce140 = (140, 58)\n",
    "\n",
    "Sm144 = (144, 62)\n",
    "Sm148 = (148, 62)\n",
    "\n",
    "Pb208 = (208, 82)\n",
    "Pb206 = (206, 82)"
   ]
  },
  {
   "cell_type": "code",
   "execution_count": 5,
   "id": "7a4bd6f6-8cf6-448b-a013-86ab5f070636",
   "metadata": {},
   "outputs": [],
   "source": [
    "targets = [\n",
    "    Ca40,\n",
    "    Ca48,\n",
    "    Zr90,\n",
    "    Zr92,\n",
    "    Zr94,\n",
    "    Zr96,\n",
    "    Sn116,\n",
    "    Sn118,\n",
    "    Sn120,\n",
    "    Sn122,\n",
    "    Sn124,\n",
    "    Ba138,\n",
    "    Ce140,\n",
    "    Sm144,\n",
    "    Sm148,\n",
    "    Pb206,\n",
    "    Pb208,\n",
    "]"
   ]
  },
  {
   "cell_type": "code",
   "execution_count": 18,
   "id": "4da8a4e9-b027-4040-98f2-d065f47bc850",
   "metadata": {},
   "outputs": [
    {
     "name": "stdout",
     "output_type": "stream",
     "text": [
      "Read 3 entries from Ca40_n_elastic.pkl\n",
      "Read 2 entries from Ca40_p_elastic.pkl\n",
      "Read 1 entries from Ca48_n_elastic.pkl\n",
      "Read 2 entries from Ca48_p_elastic.pkl\n",
      "Read 2 entries from Zr90_n_elastic.pkl\n",
      "Read 2 entries from Zr90_p_elastic.pkl\n",
      "Read 1 entries from Zr92_n_elastic.pkl\n",
      "Read 2 entries from Zr92_p_elastic.pkl\n",
      "Read 1 entries from Zr94_n_elastic.pkl\n",
      "Read 2 entries from Zr94_p_elastic.pkl\n",
      "Read 2 entries from Zr96_p_elastic.pkl\n",
      "Read 2 entries from Sn116_n_elastic.pkl\n",
      "Read 2 entries from Sn116_p_elastic.pkl\n",
      "Read 1 entries from Sn118_n_elastic.pkl\n",
      "Read 2 entries from Sn118_p_elastic.pkl\n",
      "Read 2 entries from Sn120_n_elastic.pkl\n",
      "Read 2 entries from Sn120_p_elastic.pkl\n",
      "Read 1 entries from Sn122_n_elastic.pkl\n",
      "Read 2 entries from Sn122_p_elastic.pkl\n",
      "Read 2 entries from Sn124_n_elastic.pkl\n",
      "Read 2 entries from Sn124_p_elastic.pkl\n",
      "Read 2 entries from Ba138_p_elastic.pkl\n",
      "Read 1 entries from Ce140_n_elastic.pkl\n",
      "Read 2 entries from Ce140_p_elastic.pkl\n",
      "Read 2 entries from Sm144_p_elastic.pkl\n",
      "Read 2 entries from Sm148_p_elastic.pkl\n",
      "Read 2 entries from Pb206_n_elastic.pkl\n",
      "Read 2 entries from Pb206_p_elastic.pkl\n",
      "Read 7 entries from Pb208_n_elastic.pkl\n",
      "Read 2 entries from Pb208_p_elastic.pkl\n"
     ]
    }
   ],
   "source": [
    "for t in targets:\n",
    "    A,Z = t\n",
    "    n_data_path = Path(f\"./{elements[Z]}{A}_n_elastic.pkl\")\n",
    "    if n_data_path.is_file():\n",
    "        with open(n_data_path, \"rb\") as f:\n",
    "            entries = pickle.load(f)\n",
    "            N = len(entries)\n",
    "        print(f\"Read {N} entries from {n_data_path}\")\n",
    "    p_data_path = Path(f\"./{elements[Z]}{A}_p_elastic.pkl\")\n",
    "    if p_data_path.is_file():\n",
    "        with open(p_data_path, \"rb\") as f:\n",
    "            entries = pickle.load(f)\n",
    "            N = len(entries)\n",
    "        print(f\"Read {N} entries from {p_data_path}\")\n"
   ]
  },
  {
   "cell_type": "code",
   "execution_count": 19,
   "id": "62d3d33e-d29f-4f1b-8652-ea89cb470cd7",
   "metadata": {},
   "outputs": [
    {
     "data": {
      "text/plain": [
       "True"
      ]
     },
     "execution_count": 19,
     "metadata": {},
     "output_type": "execute_result"
    }
   ],
   "source": [
    "A,Z = 48,20\n",
    "n_data_path = Path(f\"./{elements[Z]}{A}_n_elastic.pkl\")\n",
    "n_data_path.is_file()"
   ]
  },
  {
   "cell_type": "code",
   "execution_count": 20,
   "id": "c3ddf3d1-32eb-47fa-8b3c-172bbbd3317b",
   "metadata": {},
   "outputs": [],
   "source": [
    "with open(n_data_path, \"rb\") as f:\n",
    "    entries = pickle.load(f)"
   ]
  },
  {
   "cell_type": "code",
   "execution_count": 21,
   "id": "f5cd61e9-f1bd-466d-b9b3-7cdfd037ef6d",
   "metadata": {},
   "outputs": [
    {
     "data": {
      "text/plain": [
       "{'14303': <exfor_tools.exfor_tools.ExforDifferentialData at 0x7e5c8d7f14d0>}"
      ]
     },
     "execution_count": 21,
     "metadata": {},
     "output_type": "execute_result"
    }
   ],
   "source": [
    "entries"
   ]
  },
  {
   "cell_type": "code",
   "execution_count": null,
   "id": "6b4ae2ec-e7ff-4171-9c71-121eb07c2574",
   "metadata": {},
   "outputs": [],
   "source": []
  }
 ],
 "metadata": {
  "kernelspec": {
   "display_name": "Python 3 (ipykernel)",
   "language": "python",
   "name": "python3"
  },
  "language_info": {
   "codemirror_mode": {
    "name": "ipython",
    "version": 3
   },
   "file_extension": ".py",
   "mimetype": "text/x-python",
   "name": "python",
   "nbconvert_exporter": "python",
   "pygments_lexer": "ipython3",
   "version": "3.11.9"
  }
 },
 "nbformat": 4,
 "nbformat_minor": 5
}
