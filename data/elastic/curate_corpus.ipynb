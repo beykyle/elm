{
 "cells": [
  {
   "cell_type": "markdown",
   "id": "93a49da0",
   "metadata": {},
   "source": [
    "# Gathering of Bayesian evidence for the ELM model"
   ]
  },
  {
   "cell_type": "code",
   "execution_count": 1,
   "id": "9fbc70e4-6ac7-4a99-8a84-3197e65a8666",
   "metadata": {
    "scrolled": true
   },
   "outputs": [],
   "source": [
    "import pickle\n",
    "from pathlib import Path\n",
    "import numpy as np"
   ]
  },
  {
   "cell_type": "code",
   "execution_count": 2,
   "id": "fc9a4aea-85f7-47f5-ba23-339037959ed0",
   "metadata": {},
   "outputs": [
    {
     "name": "stdout",
     "output_type": "stream",
     "text": [
      "Using database version x4i3_X4-2023-04-29 located in: /home/beyerk/mambaforge/envs/sage/lib/python3.11/site-packages/x4i3/data\n"
     ]
    }
   ],
   "source": [
    "import exfor_tools\n",
    "import jitr"
   ]
  },
  {
   "cell_type": "code",
   "execution_count": 3,
   "id": "356aa8f8-517a-4f1d-9b31-e93a4eba072c",
   "metadata": {},
   "outputs": [],
   "source": [
    "proton = (1, 1)\n",
    "neutron = (1, 0)"
   ]
  },
  {
   "cell_type": "code",
   "execution_count": 4,
   "id": "943628b1",
   "metadata": {},
   "outputs": [],
   "source": [
    "Ca40 = (40, 20)\n",
    "Ca48 = (48, 20)\n",
    "\n",
    "Zr90 = (90, 40)\n",
    "Zr92 = (92, 40)\n",
    "Zr94 = (94, 40)\n",
    "Zr96 = (96, 40)\n",
    "\n",
    "Sn124 = (124, 50)\n",
    "Sn122 = (122, 50)\n",
    "Sn120 = (120, 50)\n",
    "Sn118 = (118, 50)\n",
    "Sn116 = (116, 50)\n",
    "\n",
    "Ba138 = (138, 56)\n",
    "\n",
    "Ce140 = (140, 58)\n",
    "\n",
    "Sm144 = (144, 62)\n",
    "Sm148 = (148, 62)\n",
    "\n",
    "Pb208 = (208, 82)\n",
    "Pb206 = (206, 82)"
   ]
  },
  {
   "cell_type": "code",
   "execution_count": 1,
   "id": "7a4bd6f6-8cf6-448b-a013-86ab5f070636",
   "metadata": {},
   "outputs": [
    {
     "ename": "NameError",
     "evalue": "name 'Ca40' is not defined",
     "output_type": "error",
     "traceback": [
      "\u001b[0;31m---------------------------------------------------------------------------\u001b[0m",
      "\u001b[0;31mNameError\u001b[0m                                 Traceback (most recent call last)",
      "Cell \u001b[0;32mIn[1], line 2\u001b[0m\n\u001b[1;32m      1\u001b[0m targets \u001b[38;5;241m=\u001b[39m [\n\u001b[0;32m----> 2\u001b[0m     \u001b[43mCa40\u001b[49m,\n\u001b[1;32m      3\u001b[0m     Ca48,\n\u001b[1;32m      4\u001b[0m     Zr90,\n\u001b[1;32m      5\u001b[0m     Zr92,\n\u001b[1;32m      6\u001b[0m     Zr94,\n\u001b[1;32m      7\u001b[0m     Zr96,\n\u001b[1;32m      8\u001b[0m     Sn116,\n\u001b[1;32m      9\u001b[0m     Sn118,\n\u001b[1;32m     10\u001b[0m     Sn120,\n\u001b[1;32m     11\u001b[0m     Sn122,\n\u001b[1;32m     12\u001b[0m     Sn124,\n\u001b[1;32m     13\u001b[0m     Ba138,\n\u001b[1;32m     14\u001b[0m     Ce140,\n\u001b[1;32m     15\u001b[0m     Sm144,\n\u001b[1;32m     16\u001b[0m     Sm148,\n\u001b[1;32m     17\u001b[0m     Pb206,\n\u001b[1;32m     18\u001b[0m     Pb208,\n\u001b[1;32m     19\u001b[0m ]\n",
      "\u001b[0;31mNameError\u001b[0m: name 'Ca40' is not defined"
     ]
    }
   ],
   "source": [
    "targets = [\n",
    "    Ca40,\n",
    "    Ca48,\n",
    "    Zr90,\n",
    "    Zr92,\n",
    "    Zr94,\n",
    "    Zr96,\n",
    "    Sn116,\n",
    "    Sn118,\n",
    "    Sn120,\n",
    "    Sn122,\n",
    "    Sn124,\n",
    "    Ba138,\n",
    "    Ce140,\n",
    "    Sm144,\n",
    "    Sm148,\n",
    "    Pb206,\n",
    "    Pb208,\n",
    "]"
   ]
  },
  {
   "cell_type": "code",
   "execution_count": null,
   "id": "4da8a4e9-b027-4040-98f2-d065f47bc850",
   "metadata": {},
   "outputs": [],
   "source": []
  }
 ],
 "metadata": {
  "kernelspec": {
   "display_name": "Python 3 (ipykernel)",
   "language": "python",
   "name": "python3"
  },
  "language_info": {
   "codemirror_mode": {
    "name": "ipython",
    "version": 3
   },
   "file_extension": ".py",
   "mimetype": "text/x-python",
   "name": "python",
   "nbconvert_exporter": "python",
   "pygments_lexer": "ipython3",
   "version": "3.11.9"
  }
 },
 "nbformat": 4,
 "nbformat_minor": 5
}
