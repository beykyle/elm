{
 "cells": [
  {
   "cell_type": "code",
   "execution_count": 1,
   "id": "03e97c0a-68bb-411f-a424-fc22218d418f",
   "metadata": {},
   "outputs": [
    {
     "name": "stdout",
     "output_type": "stream",
     "text": [
      "Using database version X4-2024-12-31 located in: /home/kyle/db/exfor/unpack_exfor-2024/X4-2024-12-31\n"
     ]
    }
   ],
   "source": [
    "from x4i3 import exfor_manager"
   ]
  },
  {
   "cell_type": "code",
   "execution_count": 12,
   "id": "9e7b0c4a-a6fa-4968-9ba1-4f5d68e64994",
   "metadata": {},
   "outputs": [],
   "source": [
    "db = exfor_manager.X4DBManagerDefault()"
   ]
  },
  {
   "cell_type": "code",
   "execution_count": 13,
   "id": "9f24d103-abb8-4550-b94b-3211c0904ce6",
   "metadata": {},
   "outputs": [],
   "source": [
    "from exfor_tools import Reaction"
   ]
  },
  {
   "cell_type": "code",
   "execution_count": 14,
   "id": "bcc34357-d077-4a01-9e5a-c247a2e51243",
   "metadata": {},
   "outputs": [],
   "source": [
    "r1 = Reaction(target=(48, 20), projectile=(1, 1), product=(1, 0), residual=(48, 21))\n",
    "r2 = Reaction(target=(48, 20), projectile=(1, 1), product=(1, 1), residual=(48, 20))"
   ]
  },
  {
   "cell_type": "code",
   "execution_count": 25,
   "id": "f8a0b550-103f-4d7e-b827-72605a210f5a",
   "metadata": {},
   "outputs": [
    {
     "data": {
      "text/plain": [
       "dict_keys(['C0154', 'C0156', 'C0586', 'C0624', 'C0657', 'C1216', 'E0166', 'E0249', 'F0690', 'O0032', 'O0239', 'O0366', 'O0387'])"
      ]
     },
     "execution_count": 25,
     "metadata": {},
     "output_type": "execute_result"
    }
   ],
   "source": [
    "db.query(reaction='P,EL', target='Ca-48').keys()"
   ]
  },
  {
   "cell_type": "code",
   "execution_count": 30,
   "id": "812a21d3-6cb4-4cf3-90ee-236e30f3b8af",
   "metadata": {},
   "outputs": [
    {
     "data": {
      "text/plain": [
       "dict_keys(['A0168', 'A0195', 'C0134', 'C0154', 'C0156', 'C0213', 'C0249', 'C0387', 'C0462', 'C0576', 'C0586', 'C0624', 'C0652', 'C0657', 'C0670', 'C0785', 'C1216', 'C1612', 'C2128', 'D0495', 'D0891', 'D6164', 'E0149', 'E0166', 'E0249', 'E0933', 'E1195', 'E1440', 'E1442', 'E1446', 'E1667', 'E2151', 'E2503', 'E2558', 'E2757', 'F0690', 'O0032', 'O0138', 'O0178', 'O0188', 'O0222', 'O0239', 'O0249', 'O0366', 'O0387', 'O0481', 'O0748', 'O1125', 'O2422', 'T0109'])"
      ]
     },
     "execution_count": 30,
     "metadata": {},
     "output_type": "execute_result"
    }
   ],
   "source": [
    "db.query(projectile='P', target='Ca-48', product='P').keys()"
   ]
  },
  {
   "cell_type": "code",
   "execution_count": 27,
   "id": "d2fe59e8-c6b6-487d-b955-13cfbd795d03",
   "metadata": {},
   "outputs": [
    {
     "data": {
      "text/plain": [
       "dict_keys(['C0134', 'C0249', 'C0670', 'C1612', 'D0495', 'D0891', 'D6164', 'E0149', 'E1667', 'E2151', 'O0138', 'O0178', 'O0748', 'O1125', 'O2422'])"
      ]
     },
     "execution_count": 27,
     "metadata": {},
     "output_type": "execute_result"
    }
   ],
   "source": [
    "db.query(\n",
    "    reaction='P,N',\n",
    "    target='Ca-48'\n",
    ").keys()"
   ]
  },
  {
   "cell_type": "code",
   "execution_count": 28,
   "id": "80347d2a-48ba-4f42-b251-a6746269a79f",
   "metadata": {},
   "outputs": [],
   "source": [
    "# TODO: make Reaction class polymorphic with Elastic and QuasielasticPN derived types\n",
    "# query based on target and reaction string (e.g. 'P,EL' or 'P,N')"
   ]
  }
 ],
 "metadata": {
  "kernelspec": {
   "display_name": "Python 3 (ipykernel)",
   "language": "python",
   "name": "python3"
  },
  "language_info": {
   "codemirror_mode": {
    "name": "ipython",
    "version": 3
   },
   "file_extension": ".py",
   "mimetype": "text/x-python",
   "name": "python",
   "nbconvert_exporter": "python",
   "pygments_lexer": "ipython3",
   "version": "3.10.14"
  }
 },
 "nbformat": 4,
 "nbformat_minor": 5
}
