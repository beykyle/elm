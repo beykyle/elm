{
 "cells": [
  {
   "cell_type": "code",
   "execution_count": 1,
   "id": "6c38824c-cb69-4561-9f07-9f6b3fe169ac",
   "metadata": {},
   "outputs": [],
   "source": [
    "import pickle\n",
    "from collections import OrderedDict\n",
    "from pathlib import Path\n",
    "import numpy as np\n",
    "from matplotlib import pyplot as plt\n",
    "from periodictable import elements\n",
    "from tqdm import tqdm"
   ]
  },
  {
   "cell_type": "code",
   "execution_count": 2,
   "id": "22a9ad00-d3fc-45c0-a348-3921e515520d",
   "metadata": {},
   "outputs": [
    {
     "name": "stdout",
     "output_type": "stream",
     "text": [
      "Using database version X4-2024-12-31 located in: /home/beyerk/db/exfor/unpack_exfor-2024/X4-2024-12-31\n"
     ]
    }
   ],
   "source": [
    "from exfor_tools.distribution import AngularDistribution"
   ]
  },
  {
   "cell_type": "code",
   "execution_count": 3,
   "id": "57172f8d-9af1-41cc-abbc-7c89cd166558",
   "metadata": {},
   "outputs": [],
   "source": [
    "from jitr.optical_potentials import kduq, wlh"
   ]
  },
  {
   "cell_type": "code",
   "execution_count": 4,
   "id": "7a7efd0a-e8b9-4999-b0b8-cbef94b4ad42",
   "metadata": {},
   "outputs": [],
   "source": [
    "import elm"
   ]
  },
  {
   "cell_type": "code",
   "execution_count": 5,
   "id": "2c66da99-d112-4f80-8ef9-afcf996859d8",
   "metadata": {},
   "outputs": [],
   "source": [
    "neutron = (1, 0)\n",
    "proton = (1, 1)"
   ]
  },
  {
   "cell_type": "code",
   "execution_count": 6,
   "id": "04c79a30-64b2-4abc-a148-50fdcda3c3f4",
   "metadata": {},
   "outputs": [],
   "source": [
    "with open(Path(\"../prior/prior_distribution.pickle\"), \"rb\") as f:\n",
    "    prior_distribution = pickle.load(f)\n",
    "param_samples = elm.elm.array_to_list(prior_distribution.rvs(1000))"
   ]
  },
  {
   "cell_type": "markdown",
   "id": "512b3967-c1b2-412e-becd-a4373d64e35e",
   "metadata": {},
   "source": [
    "## read in measurements and pre-computed workspaces"
   ]
  },
  {
   "cell_type": "code",
   "execution_count": 7,
   "id": "92a6bbc4-4db9-4b91-8fd9-6d0d8a485978",
   "metadata": {},
   "outputs": [],
   "source": [
    "corpus_dir = Path(\"./corpus/\")\n",
    "output_dir = Path(\"./elm_prior_propagation/\")\n",
    "output_dir.mkdir(parents=True, exist_ok=True)"
   ]
  },
  {
   "cell_type": "code",
   "execution_count": 8,
   "id": "713de3a2-3bb9-485a-97f5-11e95e6a6b72",
   "metadata": {},
   "outputs": [],
   "source": [
    "with open(corpus_dir / \"nn_elastic_data.pkl\", \"rb\") as f:\n",
    "    nn_elastic_data = pickle.load(f)\n",
    "with open(corpus_dir / \"pp_elastic_data.pkl\", \"rb\") as f:\n",
    "    pp_elastic_data = pickle.load(f)"
   ]
  },
  {
   "cell_type": "code",
   "execution_count": 9,
   "id": "af6e9ec9-a13e-4064-b49d-1c5c8f26cee2",
   "metadata": {},
   "outputs": [],
   "source": [
    "with open(corpus_dir / \"nn_elastic_workspaces.pkl\", \"rb\") as f:\n",
    "    nn_elastic_workspaces = pickle.load(f)\n",
    "with open(corpus_dir / \"pp_elastic_workspaces.pkl\", \"rb\") as f:\n",
    "    pp_elastic_workspaces = pickle.load(f)"
   ]
  },
  {
   "cell_type": "code",
   "execution_count": 10,
   "id": "475ccbaf-1471-419f-8f60-a91a2848d9ba",
   "metadata": {},
   "outputs": [],
   "source": [
    "kduq_params_nn = kduq.get_samples_federal(neutron)\n",
    "kduq_params_pp = kduq.get_samples_federal(proton)"
   ]
  },
  {
   "cell_type": "markdown",
   "id": "481b4d9a-f74a-4a2f-be35-1fd81bf08404",
   "metadata": {},
   "source": [
    "## set up corpora from workspaces"
   ]
  },
  {
   "cell_type": "code",
   "execution_count": 11,
   "id": "e648f854-cf15-4856-826c-a5281aee6ba4",
   "metadata": {},
   "outputs": [],
   "source": [
    "nn_corpus = elm.corpus.ElasticAngularCorpus(\n",
    "    elm.elm.calculate_elastic_differential_xs,\n",
    "    \"ELM\",\n",
    "    elm.elm.NUM_PARAMS,\n",
    "    \"dXS/dA\",\n",
    "    nn_elastic_workspaces,\n",
    "    nn_elastic_data,\n",
    ")\n",
    "pp_corpus = elm.corpus.ElasticAngularCorpus(\n",
    "    elm.elm.calculate_elastic_differential_xs,\n",
    "    \"ELM\",\n",
    "    elm.elm.NUM_PARAMS,\n",
    "    \"dXS/dRuth\",\n",
    "    pp_elastic_workspaces,\n",
    "    pp_elastic_data,\n",
    ")\n",
    "with open(output_dir / \"elm_nn_corpus.pkl\", \"wb\") as f:\n",
    "    pickle.dump(nn_corpus, f)\n",
    "with open(output_dir / \"elm_pp_corpus.pkl\", \"wb\") as f:\n",
    "    pickle.dump(pp_corpus, f)"
   ]
  },
  {
   "cell_type": "markdown",
   "id": "8215260d-d1b3-4f06-a887-834db4f8a71b",
   "metadata": {},
   "source": [
    "## Propagate ELM prior into constraint observables"
   ]
  },
  {
   "cell_type": "code",
   "execution_count": 12,
   "id": "f2aba072-76fe-4cfe-89a0-3e1674136b0e",
   "metadata": {},
   "outputs": [
    {
     "name": "stderr",
     "output_type": "stream",
     "text": [
      "100%|█████████████████████████████████████████████████████████████████████████████████████████████████████████████████████████████████████████████████████████| 65/65 [02:21<00:00,  2.17s/it]\n"
     ]
    }
   ],
   "source": [
    "yth_nn = []\n",
    "for i, constraint in enumerate(tqdm(nn_corpus.constraints)):\n",
    "    yth_nn.append(np.vstack([constraint.model(p) for p in param_samples]))"
   ]
  },
  {
   "cell_type": "code",
   "execution_count": 13,
   "id": "2e18238a-67dc-4644-9455-94b3ad19b54a",
   "metadata": {},
   "outputs": [
    {
     "name": "stderr",
     "output_type": "stream",
     "text": [
      "100%|███████████████████████████████████████████████████████████████████████████████████████████████████████████████████████████████████████████████████████| 160/160 [05:27<00:00,  2.05s/it]\n"
     ]
    }
   ],
   "source": [
    "yth_pp = []\n",
    "for i, constraint in enumerate(tqdm(pp_corpus.constraints)):\n",
    "    yth_pp.append(np.vstack([constraint.model(p) for p in param_samples]))"
   ]
  },
  {
   "cell_type": "markdown",
   "id": "f4b0581d-f651-4d1c-b4ce-534dcb289f29",
   "metadata": {},
   "source": [
    "## Write posterior predictive distributions to disk"
   ]
  },
  {
   "cell_type": "code",
   "execution_count": 14,
   "id": "4c1c022c-532f-424a-a3ed-df0c4179eb17",
   "metadata": {},
   "outputs": [],
   "source": [
    "with open(output_dir / \"nn_elm_prior_predictive.pkl\", \"wb\") as f:\n",
    "    pickle.dump(yth_nn, f)"
   ]
  },
  {
   "cell_type": "code",
   "execution_count": 15,
   "id": "55031bd9-5ec3-49b8-9455-eb676733b3a6",
   "metadata": {},
   "outputs": [],
   "source": [
    "with open(output_dir / \"pp_elm_prior_predictive.pkl\", \"wb\") as f:\n",
    "    pickle.dump(yth_pp, f)"
   ]
  }
 ],
 "metadata": {
  "kernelspec": {
   "display_name": "Python 3 (ipykernel)",
   "language": "python",
   "name": "python3"
  },
  "language_info": {
   "codemirror_mode": {
    "name": "ipython",
    "version": 3
   },
   "file_extension": ".py",
   "mimetype": "text/x-python",
   "name": "python",
   "nbconvert_exporter": "python",
   "pygments_lexer": "ipython3",
   "version": "3.11.9"
  }
 },
 "nbformat": 4,
 "nbformat_minor": 5
}
