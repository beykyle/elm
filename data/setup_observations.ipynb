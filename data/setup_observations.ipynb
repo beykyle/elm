{
 "cells": [
  {
   "cell_type": "markdown",
   "id": "a354614a-4676-44ad-bc1a-b2cfbf6bc7ea",
   "metadata": {},
   "source": [
    "# Set up `Observation` objects for each Exfor subentry\n",
    "\n",
    "Internally, this involves initializing a `jitr.xs.elastic.DifferentialWorkspace` for each `Observation`, which precomputes things like boundary conditions to speed up computation of observables for an interaction parameter."
   ]
  },
  {
   "cell_type": "code",
   "execution_count": 1,
   "id": "23e2576e-2184-4254-b321-71cc69c7602b",
   "metadata": {},
   "outputs": [],
   "source": [
    "import numpy as np"
   ]
  },
  {
   "cell_type": "code",
   "execution_count": 2,
   "id": "61b9a25d-96d7-4211-83f7-9e76663ea48e",
   "metadata": {},
   "outputs": [
    {
     "name": "stdout",
     "output_type": "stream",
     "text": [
      "Using database version X4-2024-12-31 located in: /home/beyerk/db/exfor/unpack_exfor-2024/X4-2024-12-31\n"
     ]
    }
   ],
   "source": [
    "import rxmc"
   ]
  },
  {
   "cell_type": "code",
   "execution_count": 3,
   "id": "f6441957-0644-40ed-b5b9-ae6062dbd688",
   "metadata": {},
   "outputs": [],
   "source": [
    "import lzma\n",
    "import pickle\n",
    "from pathlib import Path\n",
    "from tqdm import tqdm\n",
    "\n",
    "output_dir = Path(\"./corpus/\")"
   ]
  },
  {
   "cell_type": "code",
   "execution_count": 4,
   "id": "19d177a9-9154-479d-aca3-f83bf30856d4",
   "metadata": {},
   "outputs": [],
   "source": [
    "with lzma.open(output_dir / \"pp_elastic_data.xz\", \"rb\") as f:\n",
    "    pp_elastic_measurements = pickle.load(f)\n",
    "with lzma.open(output_dir / \"nn_elastic_data.xz\", \"rb\") as f:\n",
    "    nn_elastic_measurements = pickle.load(f)"
   ]
  },
  {
   "cell_type": "code",
   "execution_count": 7,
   "id": "1dcbd23b-1107-4a5a-b015-67a4ac6e9e73",
   "metadata": {},
   "outputs": [
    {
     "name": "stderr",
     "output_type": "stream",
     "text": [
      "  9%|█████▉                                                          | 6/65 [00:12<02:05,  2.14s/it]\n"
     ]
    },
    {
     "ename": "ValueError",
     "evalue": "In 13946003: cannot handle general systematic errors for elastic differential cross sections.",
     "output_type": "error",
     "traceback": [
      "\u001b[0;31m---------------------------------------------------------------------------\u001b[0m",
      "\u001b[0;31mValueError\u001b[0m                                Traceback (most recent call last)",
      "Cell \u001b[0;32mIn[7], line 4\u001b[0m\n\u001b[1;32m      1\u001b[0m nn_observations \u001b[38;5;241m=\u001b[39m []\n\u001b[1;32m      2\u001b[0m \u001b[38;5;28;01mfor\u001b[39;00m rxn, m \u001b[38;5;129;01min\u001b[39;00m tqdm(nn_elastic_measurements):\n\u001b[1;32m      3\u001b[0m     nn_observations\u001b[38;5;241m.\u001b[39mappend(\n\u001b[0;32m----> 4\u001b[0m         \u001b[43mrxmc\u001b[49m\u001b[38;5;241;43m.\u001b[39;49m\u001b[43melastic_diffxs_observation\u001b[49m\u001b[38;5;241;43m.\u001b[39;49m\u001b[43mElasticDifferentialXSObservation\u001b[49m\u001b[43m(\u001b[49m\n\u001b[1;32m      5\u001b[0m \u001b[43m            \u001b[49m\u001b[43mm\u001b[49m\u001b[43m,\u001b[49m\n\u001b[1;32m      6\u001b[0m \u001b[43m            \u001b[49m\u001b[43mrxn\u001b[49m\u001b[43m,\u001b[49m\n\u001b[1;32m      7\u001b[0m \u001b[43m            \u001b[49m\u001b[38;5;124;43m\"\u001b[39;49m\u001b[38;5;124;43mdXS/dA\u001b[39;49m\u001b[38;5;124;43m\"\u001b[39;49m\u001b[43m,\u001b[49m\n\u001b[1;32m      8\u001b[0m \u001b[43m            \u001b[49m\u001b[38;5;241;43m50\u001b[39;49m\u001b[43m,\u001b[49m\n\u001b[1;32m      9\u001b[0m \u001b[43m        \u001b[49m\u001b[43m)\u001b[49m\n\u001b[1;32m     10\u001b[0m     )\n",
      "File \u001b[0;32m~/Projects/rxmc/src/rxmc/elastic_diffxs_observation.py:109\u001b[0m, in \u001b[0;36m__init__\u001b[0;34m(self, measurement, reaction, quantity, lmax, angles_vis)\u001b[0m\n\u001b[1;32m    107\u001b[0m     norm \u001b[38;5;241m=\u001b[39m \u001b[38;5;241m1.0\u001b[39m\n\u001b[1;32m    108\u001b[0m     \u001b[38;5;28;01mif\u001b[39;00m \u001b[38;5;28mself\u001b[39m\u001b[38;5;241m.\u001b[39mquantity \u001b[38;5;241m!=\u001b[39m \u001b[38;5;28mself\u001b[39m\u001b[38;5;241m.\u001b[39mmeasurement\u001b[38;5;241m.\u001b[39mquantity:\n\u001b[0;32m--> 109\u001b[0m         \u001b[38;5;28;01mraise\u001b[39;00m \u001b[38;5;167;01mValueError\u001b[39;00m(\n\u001b[1;32m    110\u001b[0m             \u001b[38;5;124mf\u001b[39m\u001b[38;5;124m\"\u001b[39m\u001b[38;5;124mQuantity mismatch: \u001b[39m\u001b[38;5;132;01m{\u001b[39;00m\u001b[38;5;28mself\u001b[39m\u001b[38;5;241m.\u001b[39mquantity\u001b[38;5;132;01m}\u001b[39;00m\u001b[38;5;124m != \u001b[39m\u001b[38;5;132;01m{\u001b[39;00m\u001b[38;5;28mself\u001b[39m\u001b[38;5;241m.\u001b[39mmeasurement\u001b[38;5;241m.\u001b[39mquantity\u001b[38;5;132;01m}\u001b[39;00m\u001b[38;5;124m\"\u001b[39m\n\u001b[1;32m    111\u001b[0m         )\n\u001b[1;32m    113\u001b[0m \u001b[38;5;28;01mif\u001b[39;00m \u001b[38;5;129;01mnot\u001b[39;00m np\u001b[38;5;241m.\u001b[39mallclose(\u001b[38;5;28mself\u001b[39m\u001b[38;5;241m.\u001b[39mmeasurement\u001b[38;5;241m.\u001b[39mgeneral_systematic_err, \u001b[38;5;241m0\u001b[39m):\n\u001b[1;32m    114\u001b[0m     \u001b[38;5;28;01mraise\u001b[39;00m \u001b[38;5;167;01mValueError\u001b[39;00m(\n\u001b[1;32m    115\u001b[0m         \u001b[38;5;124mf\u001b[39m\u001b[38;5;124m\"\u001b[39m\u001b[38;5;124mIn \u001b[39m\u001b[38;5;132;01m{\u001b[39;00mmeasurement\u001b[38;5;241m.\u001b[39msubentry\u001b[38;5;132;01m}\u001b[39;00m\u001b[38;5;124m: cannot handle general \u001b[39m\u001b[38;5;124m\"\u001b[39m\n\u001b[1;32m    116\u001b[0m         \u001b[38;5;124m\"\u001b[39m\u001b[38;5;124msystematic errors for elastic differential cross sections.\u001b[39m\u001b[38;5;124m\"\u001b[39m\n\u001b[1;32m    117\u001b[0m     )\n",
      "\u001b[0;31mValueError\u001b[0m: In 13946003: cannot handle general systematic errors for elastic differential cross sections."
     ]
    }
   ],
   "source": [
    "nn_observations = []\n",
    "for rxn, m in tqdm(nn_elastic_measurements):\n",
    "    nn_observations.append(\n",
    "        rxmc.elastic_diffxs_observation.ElasticDifferentialXSObservation(\n",
    "            m,\n",
    "            rxn,\n",
    "            \"dXS/dA\",\n",
    "            50,\n",
    "        )\n",
    "    )"
   ]
  },
  {
   "cell_type": "code",
   "execution_count": 5,
   "id": "6f4b8849-6307-46df-8eaf-e9a66756d6a3",
   "metadata": {},
   "outputs": [
    {
     "name": "stderr",
     "output_type": "stream",
     "text": [
      "100%|█████████████████████████████████████████████████████████████| 160/160 [05:41<00:00,  2.13s/it]\n"
     ]
    }
   ],
   "source": [
    "pp_observations = []\n",
    "for rxn, m in tqdm(pp_elastic_measurements):\n",
    "    pp_observations.append(\n",
    "        rxmc.elastic_diffxs_observation.ElasticDifferentialXSObservation(\n",
    "            m,\n",
    "            rxn,\n",
    "            \"dXS/dRuth\",\n",
    "            50,\n",
    "        )\n",
    "    )"
   ]
  },
  {
   "cell_type": "code",
   "execution_count": null,
   "id": "447da9cc-af5b-4cd3-9520-065dab2b75ad",
   "metadata": {},
   "outputs": [],
   "source": [
    "with lmza.open(output_dir / \"pp_elastic_observations.xz\", \"wb\") as f:\n",
    "    pickle.dump(pp_observations, f)\n",
    "with lzma.open(output_dir / \"nn_elastic_observations.xz\", \"wb\") as f:\n",
    "    pickle.dump(nn_observations, f)"
   ]
  }
 ],
 "metadata": {
  "kernelspec": {
   "display_name": "Python 3 (ipykernel)",
   "language": "python",
   "name": "python3"
  },
  "language_info": {
   "codemirror_mode": {
    "name": "ipython",
    "version": 3
   },
   "file_extension": ".py",
   "mimetype": "text/x-python",
   "name": "python",
   "nbconvert_exporter": "python",
   "pygments_lexer": "ipython3",
   "version": "3.11.9"
  }
 },
 "nbformat": 4,
 "nbformat_minor": 5
}
