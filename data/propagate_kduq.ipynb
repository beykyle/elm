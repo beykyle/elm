{
 "cells": [
  {
   "cell_type": "code",
   "execution_count": null,
   "id": "6c38824c-cb69-4561-9f07-9f6b3fe169ac",
   "metadata": {},
   "outputs": [],
   "source": [
    "import pickle\n",
    "from collections import OrderedDict\n",
    "\n",
    "import numpy as np\n",
    "from matplotlib import pyplot as plt\n",
    "from periodictable import elements\n",
    "from tqdm import tqdm"
   ]
  },
  {
   "cell_type": "code",
   "execution_count": null,
   "id": "22a9ad00-d3fc-45c0-a348-3921e515520d",
   "metadata": {},
   "outputs": [],
   "source": [
    "from exfor_tools.distribution import AngularDistribution"
   ]
  },
  {
   "cell_type": "code",
   "execution_count": null,
   "id": "57172f8d-9af1-41cc-abbc-7c89cd166558",
   "metadata": {},
   "outputs": [],
   "source": [
    "from jitr.optical_potentials import kduq, wlh"
   ]
  },
  {
   "cell_type": "code",
   "execution_count": null,
   "id": "7a7efd0a-e8b9-4999-b0b8-cbef94b4ad42",
   "metadata": {},
   "outputs": [],
   "source": [
    "import elm"
   ]
  },
  {
   "cell_type": "code",
   "execution_count": null,
   "id": "2c66da99-d112-4f80-8ef9-afcf996859d8",
   "metadata": {},
   "outputs": [],
   "source": [
    "neutron = (1, 0)\n",
    "proton = (1, 1)"
   ]
  },
  {
   "cell_type": "code",
   "execution_count": null,
   "id": "d4a5c3fe-4443-4f25-a1b5-f2dfb5e16431",
   "metadata": {},
   "outputs": [],
   "source": [
    "kduq_params_nn = kduq.get_samples_federal(neutron)\n",
    "kduq_params_pp = kduq.get_samples_federal(proton)"
   ]
  },
  {
   "cell_type": "markdown",
   "id": "512b3967-c1b2-412e-becd-a4373d64e35e",
   "metadata": {},
   "source": [
    "## read in measurements and pre-computed workspaces"
   ]
  },
  {
   "cell_type": "code",
   "execution_count": null,
   "id": "92a6bbc4-4db9-4b91-8fd9-6d0d8a485978",
   "metadata": {},
   "outputs": [],
   "source": [
    "from pathlib import Path\n",
    "\n",
    "output_dir = Path(\"./corpus/\")\n",
    "output_dir.mkdir(parents=True, exist_ok=True)"
   ]
  },
  {
   "cell_type": "code",
   "execution_count": null,
   "id": "713de3a2-3bb9-485a-97f5-11e95e6a6b72",
   "metadata": {},
   "outputs": [],
   "source": [
    "with open(output_dir / \"nn_elastic_data.pkl\", \"rb\") as f:\n",
    "    nn_elastic_data = pickle.load(f)\n",
    "with open(output_dir / \"pp_elastic_data.pkl\", \"rb\") as f:\n",
    "    pp_elastic_data = pickle.load(f)"
   ]
  },
  {
   "cell_type": "code",
   "execution_count": null,
   "id": "af6e9ec9-a13e-4064-b49d-1c5c8f26cee2",
   "metadata": {},
   "outputs": [],
   "source": [
    "with open(output_dir / \"nn_elastic_workspaces.pkl\", \"rb\") as f:\n",
    "    nn_elastic_workspaces = pickle.load(f)\n",
    "with open(output_dir / \"pp_elastic_workspaces.pkl\", \"rb\") as f:\n",
    "    pp_elastic_workspaces = pickle.load(f)"
   ]
  },
  {
   "cell_type": "markdown",
   "id": "481b4d9a-f74a-4a2f-be35-1fd81bf08404",
   "metadata": {},
   "source": [
    "## set up corpora from workspaces"
   ]
  },
  {
   "cell_type": "code",
   "execution_count": null,
   "id": "6fdc7bee-731f-499e-a874-3392c34d396e",
   "metadata": {},
   "outputs": [],
   "source": [
    "%%time\n",
    "kduq_pp_corpus = elm.corpus.ElasticAngularCorpus(\n",
    "    kduq.calculate_diff_xs,\n",
    "    \"dXS/dRuth\",\n",
    "    pp_elastic_workspaces,\n",
    "    pp_elastic_data,\n",
    ")"
   ]
  },
  {
   "cell_type": "code",
   "execution_count": null,
   "id": "e25be543-c47e-4e51-87f0-47c4bfc07dc7",
   "metadata": {},
   "outputs": [],
   "source": [
    "%%time\n",
    "kduq_nn_corpus = elm.corpus.ElasticAngularCorpus(\n",
    "    kduq.calculate_diff_xs,\n",
    "    \"dXS/dA\",\n",
    "    nn_elastic_workspaces,\n",
    "    nn_elastic_data,\n",
    ")"
   ]
  },
  {
   "cell_type": "code",
   "execution_count": null,
   "id": "dc2b3802-2557-44a5-86ee-c496849900fd",
   "metadata": {},
   "outputs": [],
   "source": [
    "nparams_nn = len(kduq_params_nn[0])\n",
    "nparams_pp = len(kduq_params_pp[0])\n",
    "ndof_nn = kduq_nn_corpus.n_data_pts - nparams_nn\n",
    "ndof_pp = kduq_pp_corpus.n_data_pts - nparams_pp"
   ]
  },
  {
   "cell_type": "markdown",
   "id": "8215260d-d1b3-4f06-a887-834db4f8a71b",
   "metadata": {},
   "source": [
    "## Propagate KDUQ into constraint observables"
   ]
  },
  {
   "cell_type": "code",
   "execution_count": null,
   "id": "1a2d0aaf-0011-4314-b6b3-7c8f07208e61",
   "metadata": {},
   "outputs": [],
   "source": [
    "inner_pctls = np.arange(10, 100, 10)\n",
    "confidence_intervals_ec = np.hstack((50 - inner_pctls[::-1] / 2, 50 + inner_pctls / 2))\n",
    "confidence_intervals_plot = [2.5, 97.5]  # inner 95%"
   ]
  },
  {
   "cell_type": "code",
   "execution_count": null,
   "id": "2dda90d6-b73e-4ed9-b09c-54543bd6add9",
   "metadata": {},
   "outputs": [],
   "source": [
    "inner_pctls"
   ]
  },
  {
   "cell_type": "code",
   "execution_count": null,
   "id": "f2aba072-76fe-4cfe-89a0-3e1674136b0e",
   "metadata": {},
   "outputs": [],
   "source": [
    "kduq_nn_ci_plot = []\n",
    "kduq_nn_ci_ec = []\n",
    "chi2_nn = np.zeros(\n",
    "    (\n",
    "        len(kduq_nn_corpus.constraints),\n",
    "        len(kduq_params_nn),\n",
    "    ),\n",
    "    dtype=float,\n",
    ")\n",
    "for i, constraint in enumerate(tqdm(kduq_nn_corpus.constraints)):\n",
    "    yth = np.vstack([constraint.model(p) for p in kduq_params_nn])\n",
    "    residual = yth - constraint.y\n",
    "    chi2_nn[i, :] = [r.T @ constraint.cov_inv @ r for r in residual]\n",
    "    kduq_nn_ci_plot.append(np.percentile(yth, confidence_intervals_plot, axis=0))\n",
    "    kduq_nn_ci_ec.append(np.percentile(yth, confidence_intervals_ec, axis=0))"
   ]
  },
  {
   "cell_type": "code",
   "execution_count": null,
   "id": "b8664656-a056-4fc0-b96a-8f20d3a4491e",
   "metadata": {},
   "outputs": [],
   "source": [
    "plt.hist(np.sum(chi2_nn, axis=0) / ndof_nn, bins=np.logspace(1, 3, 50), density=True)\n",
    "plt.title(f\"KDUQ against {len(kduq_nn_corpus.constraints)} (n,n) measurements\")\n",
    "plt.xlabel(r\"generalized $\\chi^2/\\rm{DOF}$\")\n",
    "plt.xscale(\"log\")"
   ]
  },
  {
   "cell_type": "code",
   "execution_count": null,
   "id": "2e18238a-67dc-4644-9455-94b3ad19b54a",
   "metadata": {},
   "outputs": [],
   "source": [
    "kduq_pp_ci_plot = []\n",
    "kduq_pp_ci_ec = []\n",
    "chi2_pp = np.zeros(\n",
    "    (\n",
    "        len(kduq_pp_corpus.constraints),\n",
    "        len(kduq_params_pp),\n",
    "    ),\n",
    "    dtype=float,\n",
    ")\n",
    "for i, constraint in enumerate(tqdm(kduq_pp_corpus.constraints)):\n",
    "    yth = np.vstack([constraint.model(p) for p in kduq_params_pp])\n",
    "    residual = yth - constraint.y\n",
    "    chi2_pp[i, :] = [r.T @ constraint.cov_inv @ r for r in residual]\n",
    "    kduq_pp_ci_plot.append(np.percentile(yth, confidence_intervals_plot, axis=0))\n",
    "    kduq_pp_ci_ec.append(np.percentile(yth, confidence_intervals_ec, axis=0))"
   ]
  },
  {
   "cell_type": "code",
   "execution_count": null,
   "id": "e4d2341a-c2e0-4406-902c-588daaaa25d8",
   "metadata": {},
   "outputs": [],
   "source": [
    "plt.hist(np.sum(chi2_pp, axis=0) / ndof_pp, bins=np.logspace(3, 7, 50), density=True)\n",
    "plt.title(f\"KDUQ against {len(kduq_pp_corpus.constraints)} (p,p) measurements\")\n",
    "plt.xlabel(r\"generalized $\\chi^2/\\rm{DOF}$\")\n",
    "plt.xscale(\"log\")"
   ]
  },
  {
   "cell_type": "markdown",
   "id": "5c7848f8-3b38-4884-acce-ec42c0bfa58b",
   "metadata": {},
   "source": [
    "## Emprical coverage"
   ]
  },
  {
   "cell_type": "markdown",
   "id": "15cad80d-3501-4d34-ada6-7725b80357d8",
   "metadata": {},
   "source": [
    "## Plotting constraints and confidence intervals"
   ]
  },
  {
   "cell_type": "code",
   "execution_count": null,
   "id": "857e98d0-f654-4b3b-924f-4d77e549da0d",
   "metadata": {},
   "outputs": [],
   "source": [
    "from mpl_toolkits.axes_grid1.inset_locator import inset_axes"
   ]
  },
  {
   "cell_type": "markdown",
   "id": "c3fb60fc-79d5-45b0-b53f-4e1721bb0a4d",
   "metadata": {},
   "source": [
    "## $(p,p)$"
   ]
  },
  {
   "cell_type": "code",
   "execution_count": null,
   "id": "f76c058f-2289-49d0-b8a1-791f5fa85862",
   "metadata": {},
   "outputs": [],
   "source": [
    "def sort_by_subentry(constraints, other_list):\n",
    "    return zip(*sorted(list(zip(constraints, other_list)), key=lambda x: x[0].subentry))"
   ]
  },
  {
   "cell_type": "code",
   "execution_count": null,
   "id": "a9cb5d5b-bfbb-41e7-9820-c1f625acbca3",
   "metadata": {},
   "outputs": [],
   "source": [
    "kduq_pp_corpus.constraints, kduq_pp_ci_plot = sort_by_subentry(\n",
    "    kduq_pp_corpus.constraints, kduq_pp_ci_plot\n",
    ")\n",
    "for i, (constraint, (lower, upper)) in enumerate(\n",
    "    zip(kduq_pp_corpus.constraints, kduq_pp_ci_plot)\n",
    "):\n",
    "    plt.errorbar(\n",
    "        constraint.x * 180 / np.pi,\n",
    "        constraint.y,\n",
    "        yerr=np.sqrt(np.diag(constraint.covariance)),\n",
    "        marker=\"s\",\n",
    "        markersize=2,\n",
    "        linestyle=\"none\",\n",
    "        elinewidth=3,\n",
    "    )\n",
    "\n",
    "    plt.fill_between(constraint.x * 180 / np.pi, lower, upper, alpha=0.3)\n",
    "    rxn = constraint.model.workspace.visualization_workspace.reaction.reaction_latex\n",
    "    Elab = constraint.model.workspace.visualization_workspace.kinematics.Elab\n",
    "    plt.title(\n",
    "        f\"{constraint.subentry}: ${rxn}$ at {Elab} MeV || reported as ${pp_elastic_data[i][1].quantity}$\"\n",
    "    )\n",
    "    plt.xlabel(r\"$\\theta$ [deg]\")\n",
    "    plt.ylabel(r\"$d\\sigma/d \\sigma_{\\rm{Ruth}}$ [dimensionless]\")\n",
    "\n",
    "    plt.yscale(\"log\")\n",
    "\n",
    "    ax_inset = inset_axes(plt.gca(), width=\"30%\", height=\"30%\", loc=\"upper right\")\n",
    "    ax_inset.hist(chi2_pp[i, :] / len(constraint.x), bins=20, color=\"gray\", alpha=0.7)\n",
    "    ax_inset.set_xlabel(r\"$\\chi^2/N$\")\n",
    "    ax_inset.set_yticks([])\n",
    "    ax_inset.patch.set_alpha(0.5)\n",
    "\n",
    "    plt.show()"
   ]
  },
  {
   "cell_type": "markdown",
   "id": "11ee80e2-6009-4995-b012-d6415b582d7a",
   "metadata": {},
   "source": [
    "## $(n,n)$"
   ]
  },
  {
   "cell_type": "code",
   "execution_count": null,
   "id": "387a51d9-0ef2-4768-9b85-88ac4abe8158",
   "metadata": {},
   "outputs": [],
   "source": [
    "kduq_nn_corpus.constraints, kduq_nn_ci_plot = sort_by_subentry(\n",
    "    kduq_nn_corpus.constraints, kduq_nn_ci_plot\n",
    ")\n",
    "\n",
    "for i, (constraint, (lower, upper)) in enumerate(\n",
    "    zip(kduq_nn_corpus.constraints, kduq_nn_ci_plot)\n",
    "):\n",
    "    plt.errorbar(\n",
    "        constraint.x * 180 / np.pi,\n",
    "        constraint.y,\n",
    "        yerr=np.sqrt(np.diag(constraint.covariance)),\n",
    "        marker=\"s\",\n",
    "        markersize=2,\n",
    "        linestyle=\"none\",\n",
    "        elinewidth=3,\n",
    "    )\n",
    "    plt.fill_between(constraint.x * 180 / np.pi, lower, upper, alpha=0.3)\n",
    "    rxn = constraint.model.workspace.visualization_workspace.reaction.reaction_latex\n",
    "    Elab = constraint.model.workspace.visualization_workspace.kinematics.Elab\n",
    "\n",
    "    plt.title(f\"{constraint.subentry}: ${rxn}$ at {Elab} MeV\")\n",
    "    plt.xlabel(r\"$\\theta$ [deg]\")\n",
    "    plt.ylabel(r\"$d\\sigma/d\\Omega$ [b/Sr]\")\n",
    "    plt.yscale(\"log\")\n",
    "\n",
    "    ax_inset = inset_axes(plt.gca(), width=\"30%\", height=\"30%\", loc=\"upper right\")\n",
    "    ax_inset.hist(chi2_nn[i, :] / len(constraint.x), bins=20, color=\"gray\", alpha=0.7)\n",
    "    ax_inset.set_xlabel(\"$\\chi^2/N$\")\n",
    "    ax_inset.set_yticks([])\n",
    "    ax_inset.patch.set_alpha(0.5)\n",
    "    plt.show()"
   ]
  },
  {
   "cell_type": "code",
   "execution_count": null,
   "id": "15006e81-53e9-4509-b397-bed5fdec72ce",
   "metadata": {},
   "outputs": [],
   "source": []
  }
 ],
 "metadata": {
  "kernelspec": {
   "display_name": "Python 3 (ipykernel)",
   "language": "python",
   "name": "python3"
  },
  "language_info": {
   "codemirror_mode": {
    "name": "ipython",
    "version": 3
   },
   "file_extension": ".py",
   "mimetype": "text/x-python",
   "name": "python",
   "nbconvert_exporter": "python",
   "pygments_lexer": "ipython3",
   "version": "3.11.9"
  }
 },
 "nbformat": 4,
 "nbformat_minor": 5
}
