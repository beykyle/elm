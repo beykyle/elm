{
 "cells": [
  {
   "cell_type": "markdown",
   "id": "ae0c24fb-6e31-4659-ac18-5ec276c52e75",
   "metadata": {},
   "source": [
    "# Curating a data set for $(p,n)$ to the isobaric analog state for multiple isotopes\n",
    "\n",
    " We will make use of the class `TargetData` class in `exfor_tools.curate`. "
   ]
  },
  {
   "cell_type": "code",
   "execution_count": 1,
   "id": "0aa5c76c-a804-4f4f-830c-f4eeed0302bf",
   "metadata": {},
   "outputs": [
    {
     "name": "stdout",
     "output_type": "stream",
     "text": [
      "Using database version X4-2024-12-31 located in: /home/kyle/db/exfor/unpack_exfor-2024/X4-2024-12-31\n"
     ]
    }
   ],
   "source": [
    "from exfor_tools import Reaction, curate, quantities\n",
    "from periodictable import elements"
   ]
  },
  {
   "cell_type": "markdown",
   "id": "9cd459f9-0fcb-45df-9e85-1e53ae967dee",
   "metadata": {},
   "source": [
    "We will use the 2024 evaluation, avilable here: https://nds.iaea.org/nrdc/exfor-master/list.html\n",
    "\n",
    "If you have an older version, instructions for updating the database for your `exfor_tools` install are available here: https://github.com/beykyle/exfor_tools?tab=readme-ov-file#updating-the-exfor-data-base"
   ]
  },
  {
   "cell_type": "code",
   "execution_count": 2,
   "id": "b5ab1d35-4d28-403c-8851-41345e8d77fc",
   "metadata": {},
   "outputs": [],
   "source": [
    "import numpy as np\n",
    "from IPython.display import Latex, Math, display"
   ]
  },
  {
   "cell_type": "code",
   "execution_count": 3,
   "id": "843da735-1ae1-4272-aa37-923bc11634df",
   "metadata": {},
   "outputs": [
    {
     "name": "stdout",
     "output_type": "stream",
     "text": [
      "['dXS/dA', 'dXS/dRuth', 'Ay']\n"
     ]
    }
   ],
   "source": [
    "print(quantities)"
   ]
  },
  {
   "cell_type": "code",
   "execution_count": 4,
   "id": "3eca248b-4d02-4f9a-b351-8de7b3fa6b73",
   "metadata": {},
   "outputs": [],
   "source": [
    "Ca48 = (48, 20)\n",
    "Ca44 = (44, 20)\n",
    "Ca42 = (42, 20)\n",
    "Ca40 = (40, 20)\n",
    "\n",
    "Ni64 = (64, 28)\n",
    "Sr86 = (86, 38)\n",
    "Sr88 = (88, 38)\n",
    "Mo92 = (92, 42)\n",
    "Mo94 = (94, 42)\n",
    "\n",
    "Ba138 = (138, 56)\n",
    "Ce140 = (140, 58)\n",
    "\n",
    "Pb206 = (206, 82)\n",
    "Pb208 = (208, 82)\n",
    "\n",
    "Sm144 = (144, 62)\n",
    "Sm148 = (148, 62)\n",
    "\n",
    "Sn116 = (116, 50)\n",
    "Sn118 = (118, 50)\n",
    "Sn120 = (120, 50)\n",
    "Sn122 = (122, 50)\n",
    "Sn124 = (124, 50)\n",
    "\n",
    "Zr90 = (90, 40)\n",
    "Zr92 = (92, 40)\n",
    "Zr94 = (94, 40)\n",
    "Zr96 = (96, 40)\n",
    "\n",
    "neutron = (1, 0)\n",
    "proton = (1, 1)"
   ]
  },
  {
   "cell_type": "code",
   "execution_count": 5,
   "id": "2da1f6ed-079a-4313-8c30-b7bc730a9c81",
   "metadata": {},
   "outputs": [],
   "source": [
    "projectiles = [neutron, proton]"
   ]
  },
  {
   "cell_type": "code",
   "execution_count": 6,
   "id": "8a4ecad0-bc33-4e61-ab2e-6fe3a3dcb768",
   "metadata": {},
   "outputs": [],
   "source": [
    "beta2_by_target = dict(\n",
    "    [\n",
    "        (Ca48, 0.1074),\n",
    "        (Ca44, 0.251),\n",
    "        (Ca42, 0.2454),\n",
    "        (Ca40, 0.11712),\n",
    "        (Ni64, 0.1583),\n",
    "        (Sr86, 0.1444),\n",
    "        (Sr88, 0.1153),\n",
    "        (Zr90, 0.091911),\n",
    "        (Zr92, 0.1014),\n",
    "        (Zr94, 0.08810),\n",
    "        (Zr96, 0.0604),\n",
    "        (Mo92, 0.1093),\n",
    "        (Mo94, 0.1511),\n",
    "        (Sn116, 0.111715),\n",
    "        (Sn118, 0.110122),\n",
    "        (Sn120, 0.107110),\n",
    "        (Sn122, 0.102811),\n",
    "        (Sn124, 0.0095216),\n",
    "        (Ba138, 0.0938),\n",
    "        (Ce140, 0.102),\n",
    "        (Sm144, 0.088),\n",
    "        (Sm148, 0.142),\n",
    "        (Pb206, 0.03235),\n",
    "        (Pb208, 0.056314),\n",
    "    ]\n",
    ")"
   ]
  },
  {
   "cell_type": "code",
   "execution_count": 7,
   "id": "fef5c306-f764-4b00-b4d1-d42010d6ea42",
   "metadata": {},
   "outputs": [
    {
     "data": {
      "text/latex": [
       "$\\displaystyle ^{48} \\rm{Ca}$"
      ],
      "text/plain": [
       "<IPython.core.display.Math object>"
      ]
     },
     "metadata": {},
     "output_type": "display_data"
    },
    {
     "data": {
      "text/latex": [
       "$\\displaystyle ^{40} \\rm{Ca}$"
      ],
      "text/plain": [
       "<IPython.core.display.Math object>"
      ]
     },
     "metadata": {},
     "output_type": "display_data"
    },
    {
     "data": {
      "text/latex": [
       "$\\displaystyle ^{64} \\rm{Ni}$"
      ],
      "text/plain": [
       "<IPython.core.display.Math object>"
      ]
     },
     "metadata": {},
     "output_type": "display_data"
    },
    {
     "data": {
      "text/latex": [
       "$\\displaystyle ^{86} \\rm{Sr}$"
      ],
      "text/plain": [
       "<IPython.core.display.Math object>"
      ]
     },
     "metadata": {},
     "output_type": "display_data"
    },
    {
     "data": {
      "text/latex": [
       "$\\displaystyle ^{88} \\rm{Sr}$"
      ],
      "text/plain": [
       "<IPython.core.display.Math object>"
      ]
     },
     "metadata": {},
     "output_type": "display_data"
    },
    {
     "data": {
      "text/latex": [
       "$\\displaystyle ^{90} \\rm{Zr}$"
      ],
      "text/plain": [
       "<IPython.core.display.Math object>"
      ]
     },
     "metadata": {},
     "output_type": "display_data"
    },
    {
     "data": {
      "text/latex": [
       "$\\displaystyle ^{92} \\rm{Zr}$"
      ],
      "text/plain": [
       "<IPython.core.display.Math object>"
      ]
     },
     "metadata": {},
     "output_type": "display_data"
    },
    {
     "data": {
      "text/latex": [
       "$\\displaystyle ^{94} \\rm{Zr}$"
      ],
      "text/plain": [
       "<IPython.core.display.Math object>"
      ]
     },
     "metadata": {},
     "output_type": "display_data"
    },
    {
     "data": {
      "text/latex": [
       "$\\displaystyle ^{96} \\rm{Zr}$"
      ],
      "text/plain": [
       "<IPython.core.display.Math object>"
      ]
     },
     "metadata": {},
     "output_type": "display_data"
    },
    {
     "data": {
      "text/latex": [
       "$\\displaystyle ^{92} \\rm{Mo}$"
      ],
      "text/plain": [
       "<IPython.core.display.Math object>"
      ]
     },
     "metadata": {},
     "output_type": "display_data"
    },
    {
     "data": {
      "text/latex": [
       "$\\displaystyle ^{94} \\rm{Mo}$"
      ],
      "text/plain": [
       "<IPython.core.display.Math object>"
      ]
     },
     "metadata": {},
     "output_type": "display_data"
    },
    {
     "data": {
      "text/latex": [
       "$\\displaystyle ^{116} \\rm{Sn}$"
      ],
      "text/plain": [
       "<IPython.core.display.Math object>"
      ]
     },
     "metadata": {},
     "output_type": "display_data"
    },
    {
     "data": {
      "text/latex": [
       "$\\displaystyle ^{118} \\rm{Sn}$"
      ],
      "text/plain": [
       "<IPython.core.display.Math object>"
      ]
     },
     "metadata": {},
     "output_type": "display_data"
    },
    {
     "data": {
      "text/latex": [
       "$\\displaystyle ^{120} \\rm{Sn}$"
      ],
      "text/plain": [
       "<IPython.core.display.Math object>"
      ]
     },
     "metadata": {},
     "output_type": "display_data"
    },
    {
     "data": {
      "text/latex": [
       "$\\displaystyle ^{122} \\rm{Sn}$"
      ],
      "text/plain": [
       "<IPython.core.display.Math object>"
      ]
     },
     "metadata": {},
     "output_type": "display_data"
    },
    {
     "data": {
      "text/latex": [
       "$\\displaystyle ^{124} \\rm{Sn}$"
      ],
      "text/plain": [
       "<IPython.core.display.Math object>"
      ]
     },
     "metadata": {},
     "output_type": "display_data"
    },
    {
     "data": {
      "text/latex": [
       "$\\displaystyle ^{138} \\rm{Ba}$"
      ],
      "text/plain": [
       "<IPython.core.display.Math object>"
      ]
     },
     "metadata": {},
     "output_type": "display_data"
    },
    {
     "data": {
      "text/latex": [
       "$\\displaystyle ^{140} \\rm{Ce}$"
      ],
      "text/plain": [
       "<IPython.core.display.Math object>"
      ]
     },
     "metadata": {},
     "output_type": "display_data"
    },
    {
     "data": {
      "text/latex": [
       "$\\displaystyle ^{144} \\rm{Sm}$"
      ],
      "text/plain": [
       "<IPython.core.display.Math object>"
      ]
     },
     "metadata": {},
     "output_type": "display_data"
    },
    {
     "data": {
      "text/latex": [
       "$\\displaystyle ^{148} \\rm{Sm}$"
      ],
      "text/plain": [
       "<IPython.core.display.Math object>"
      ]
     },
     "metadata": {},
     "output_type": "display_data"
    },
    {
     "data": {
      "text/latex": [
       "$\\displaystyle ^{206} \\rm{Pb}$"
      ],
      "text/plain": [
       "<IPython.core.display.Math object>"
      ]
     },
     "metadata": {},
     "output_type": "display_data"
    },
    {
     "data": {
      "text/latex": [
       "$\\displaystyle ^{208} \\rm{Pb}$"
      ],
      "text/plain": [
       "<IPython.core.display.Math object>"
      ]
     },
     "metadata": {},
     "output_type": "display_data"
    }
   ],
   "source": [
    "max_beta2 = 0.16\n",
    "targets = list(\n",
    "    [target for target, beta2 in beta2_by_target.items() if beta2 < max_beta2]\n",
    ")\n",
    "for target in targets:\n",
    "    display(Math(f\"^{{{target[0]}}} \\\\rm{{{elements[target[1]]}}}\"))"
   ]
  },
  {
   "cell_type": "code",
   "execution_count": 8,
   "id": "fc1a467c-faab-4b7e-86f9-6c8226e41878",
   "metadata": {},
   "outputs": [],
   "source": [
    "energy_range = [10, 200]\n",
    "min_num_points = 5\n",
    "\n",
    "# if normalization uncertainty isn't reported assign it to be 5%\n",
    "default_systematic_normalization_err = 0.05\n",
    "\n",
    "settings = {\n",
    "    \"Einc_range\": energy_range,\n",
    "    \"filter_kwargs\": {\"min_num_pts\": min_num_points},\n",
    "}\n",
    "\n",
    "entries_to_ignore_pp_absolute = [\n",
    "    \"E0120\",\n",
    "    \"C0078\",  # redundant, huge uncertainties\n",
    "    \"E0795\",  # duplicate, no uncertainties\n",
    "    \"O0032\",  # duplicate to E0166 and E0249\n",
    "    \"E0249\",  # duplicate to E0166 and O0032\n",
    "    \"O0253\",  # duplicate to Ruth O0253\n",
    "    \"C3000\",  # no uncertainties\n",
    "    \"E0904\",  # no uncertainties\n",
    "]\n",
    "entries_to_ignore_pp_Ruth = [\n",
    "    \"O0490\",\n",
    "    \"E0120\",  # no uncertainties\n",
    "    \"O0432\",  # no uncertainties\n",
    "    \"C3001\",  # no uncertainties\n",
    "    \"E1846\",  # no uncertainties\n",
    "    \"C1397\",  # no uncertainties\n",
    "]\n",
    "\n",
    "entries_to_ignore_nn = [\n",
    "    \"14317\",  # duplicate\n",
    "]"
   ]
  },
  {
   "cell_type": "markdown",
   "id": "38a988a9-7d9e-4410-805f-4cf84c1cd2ea",
   "metadata": {},
   "source": [
    "## EXFOR querying and parsing"
   ]
  },
  {
   "cell_type": "markdown",
   "id": "fb8aa34f-274b-41e8-9b5d-ee71b6456dbf",
   "metadata": {},
   "source": [
    "## Parsing $(p,n)$ data"
   ]
  },
  {
   "cell_type": "code",
   "execution_count": 9,
   "id": "2f55d05e-a9e4-4763-bf71-42425d928fce",
   "metadata": {},
   "outputs": [
    {
     "name": "stdout",
     "output_type": "stream",
     "text": [
      "\n",
      "========================================================\n",
      "Now parsing dXS/dA for $^{48}$Ca$(p,n)$$^{48}$Sc\n",
      "\n",
      "========================================================\n",
      "\n",
      "========================================================\n",
      "Succesfully parsed 0 entries\n",
      "Failed to parse 0 entries:\n",
      "\n",
      "========================================================\n",
      "\n",
      "========================================================\n",
      "Now parsing dXS/dA for $^{40}$Ca$(p,n)$$^{40}$Sc\n",
      "\n",
      "========================================================\n",
      "\n",
      "========================================================\n",
      "Succesfully parsed 0 entries\n",
      "Failed to parse 0 entries:\n",
      "\n",
      "========================================================\n",
      "\n",
      "========================================================\n",
      "Now parsing dXS/dA for $^{64}$Ni$(p,n)$$^{64}$Cu\n",
      "\n",
      "========================================================\n",
      "\n",
      "========================================================\n",
      "Succesfully parsed 0 entries\n",
      "Failed to parse 0 entries:\n",
      "\n",
      "========================================================\n",
      "\n",
      "========================================================\n",
      "Now parsing dXS/dA for $^{86}$Sr$(p,n)$$^{86}$Y\n",
      "\n",
      "========================================================\n",
      "\n",
      "========================================================\n",
      "Succesfully parsed 0 entries\n",
      "Failed to parse 0 entries:\n",
      "\n",
      "========================================================\n",
      "\n",
      "========================================================\n",
      "Now parsing dXS/dA for $^{88}$Sr$(p,n)$$^{88}$Y\n",
      "\n",
      "========================================================\n",
      "\n",
      "========================================================\n",
      "Succesfully parsed 0 entries\n",
      "Failed to parse 0 entries:\n",
      "\n",
      "========================================================\n",
      "\n",
      "========================================================\n",
      "Now parsing dXS/dA for $^{90}$Zr$(p,n)$$^{90}$Nb\n",
      "\n",
      "========================================================\n",
      "\n",
      "========================================================\n",
      "Succesfully parsed 0 entries\n",
      "Failed to parse 0 entries:\n",
      "\n",
      "========================================================\n",
      "\n",
      "========================================================\n",
      "Now parsing dXS/dA for $^{92}$Zr$(p,n)$$^{92}$Nb\n",
      "\n",
      "========================================================\n",
      "\n",
      "========================================================\n",
      "Succesfully parsed 0 entries\n",
      "Failed to parse 0 entries:\n",
      "\n",
      "========================================================\n",
      "\n",
      "========================================================\n",
      "Now parsing dXS/dA for $^{94}$Zr$(p,n)$$^{94}$Nb\n",
      "\n",
      "========================================================\n",
      "\n",
      "========================================================\n",
      "Succesfully parsed 0 entries\n",
      "Failed to parse 0 entries:\n",
      "\n",
      "========================================================\n",
      "\n",
      "========================================================\n",
      "Now parsing dXS/dA for $^{96}$Zr$(p,n)$$^{96}$Nb\n",
      "\n",
      "========================================================\n",
      "\n",
      "========================================================\n",
      "Succesfully parsed 0 entries\n",
      "Failed to parse 0 entries:\n",
      "\n",
      "========================================================\n",
      "\n",
      "========================================================\n",
      "Now parsing dXS/dA for $^{92}$Mo$(p,n)$$^{92}$Tc\n",
      "\n",
      "========================================================\n",
      "\n",
      "========================================================\n",
      "Succesfully parsed 0 entries\n",
      "Failed to parse 0 entries:\n",
      "\n",
      "========================================================\n",
      "\n",
      "========================================================\n",
      "Now parsing dXS/dA for $^{94}$Mo$(p,n)$$^{94}$Tc\n",
      "\n",
      "========================================================\n",
      "\n",
      "========================================================\n",
      "Succesfully parsed 0 entries\n",
      "Failed to parse 0 entries:\n",
      "\n",
      "========================================================\n",
      "\n",
      "========================================================\n",
      "Now parsing dXS/dA for $^{116}$Sn$(p,n)$$^{116}$Sb\n",
      "\n",
      "========================================================\n",
      "\n",
      "========================================================\n",
      "Succesfully parsed 0 entries\n",
      "Failed to parse 0 entries:\n",
      "\n",
      "========================================================\n",
      "\n",
      "========================================================\n",
      "Now parsing dXS/dA for $^{118}$Sn$(p,n)$$^{118}$Sb\n",
      "\n",
      "========================================================\n",
      "\n",
      "========================================================\n",
      "Succesfully parsed 0 entries\n",
      "Failed to parse 0 entries:\n",
      "\n",
      "========================================================\n",
      "\n",
      "========================================================\n",
      "Now parsing dXS/dA for $^{120}$Sn$(p,n)$$^{120}$Sb\n",
      "\n",
      "========================================================\n",
      "\n",
      "========================================================\n",
      "Succesfully parsed 0 entries\n",
      "Failed to parse 0 entries:\n",
      "\n",
      "========================================================\n",
      "\n",
      "========================================================\n",
      "Now parsing dXS/dA for $^{122}$Sn$(p,n)$$^{122}$Sb\n",
      "\n",
      "========================================================\n",
      "\n",
      "========================================================\n",
      "Succesfully parsed 0 entries\n",
      "Failed to parse 0 entries:\n",
      "\n",
      "========================================================\n",
      "\n",
      "========================================================\n",
      "Now parsing dXS/dA for $^{124}$Sn$(p,n)$$^{124}$Sb\n",
      "\n",
      "========================================================\n",
      "\n",
      "========================================================\n",
      "Succesfully parsed 0 entries\n",
      "Failed to parse 0 entries:\n",
      "\n",
      "========================================================\n",
      "\n",
      "========================================================\n",
      "Now parsing dXS/dA for $^{138}$Ba$(p,n)$$^{138}$La\n",
      "\n",
      "========================================================\n",
      "\n",
      "========================================================\n",
      "Succesfully parsed 0 entries\n",
      "Failed to parse 0 entries:\n",
      "\n",
      "========================================================\n",
      "\n",
      "========================================================\n",
      "Now parsing dXS/dA for $^{140}$Ce$(p,n)$$^{140}$Pr\n",
      "\n",
      "========================================================\n",
      "\n",
      "========================================================\n",
      "Succesfully parsed 0 entries\n",
      "Failed to parse 0 entries:\n",
      "\n",
      "========================================================\n",
      "\n",
      "========================================================\n",
      "Now parsing dXS/dA for $^{144}$Sm$(p,n)$$^{144}$Eu\n",
      "\n",
      "========================================================\n",
      "\n",
      "========================================================\n",
      "Succesfully parsed 0 entries\n",
      "Failed to parse 0 entries:\n",
      "\n",
      "========================================================\n",
      "\n",
      "========================================================\n",
      "Now parsing dXS/dA for $^{148}$Sm$(p,n)$$^{148}$Eu\n",
      "\n",
      "========================================================\n",
      "\n",
      "========================================================\n",
      "Succesfully parsed 0 entries\n",
      "Failed to parse 0 entries:\n",
      "\n",
      "========================================================\n",
      "\n",
      "========================================================\n",
      "Now parsing dXS/dA for $^{206}$Pb$(p,n)$$^{206}$Bi\n",
      "\n",
      "========================================================\n",
      "\n",
      "========================================================\n",
      "Succesfully parsed 0 entries\n",
      "Failed to parse 0 entries:\n",
      "\n",
      "========================================================\n",
      "\n",
      "========================================================\n",
      "Now parsing dXS/dA for $^{208}$Pb$(p,n)$$^{208}$Bi\n",
      "\n",
      "========================================================\n",
      "\n",
      "========================================================\n",
      "Succesfully parsed 0 entries\n",
      "Failed to parse 0 entries:\n",
      "\n",
      "========================================================\n"
     ]
    }
   ],
   "source": [
    "for target in targets:\n",
    "    residual = (target[0], target[1] +1)\n",
    "    pn_data = dict(\n",
    "        [\n",
    "            (\n",
    "                target,\n",
    "                curate.MulltiQuantityReactionData(\n",
    "                    Reaction(target=target, projectile=proton, product=neutron, residual=residual),\n",
    "                    quantities=[\"dXS/dA\"],\n",
    "                    settings=settings,\n",
    "                    vocal=True,\n",
    "                ),\n",
    "            )\n",
    "        ]\n",
    "    )"
   ]
  },
  {
   "cell_type": "markdown",
   "id": "f613fe28-6139-4995-bac3-13b863cf7bdf",
   "metadata": {},
   "source": [
    "## Let's step through the targets one by one, handling any failed parses our outliers, and plotting the data\n"
   ]
  },
  {
   "cell_type": "code",
   "execution_count": 10,
   "id": "6f3066da-e913-4853-85c9-9d2f20d9cc4e",
   "metadata": {},
   "outputs": [],
   "source": [
    "def check_measurements_for_errs(entry):\n",
    "    for m in entry.measurements:\n",
    "        if np.allclose(m.statistical_err, 0):\n",
    "            print(f\"subentry {m.subentry} is missing statisitcal errors!\")\n",
    "\n",
    "\n",
    "def flag_entries(target):\n",
    "    pass"
   ]
  },
  {
   "cell_type": "markdown",
   "id": "921666c5-2bf4-4beb-8896-4a3db2df4f6d",
   "metadata": {},
   "source": [
    "## $^{48}$Ca"
   ]
  },
  {
   "cell_type": "code",
   "execution_count": 11,
   "id": "98ce8aef-bcdd-4fe3-8fc7-cdb3412f5ab8",
   "metadata": {},
   "outputs": [
    {
     "ename": "KeyError",
     "evalue": "(48, 20)",
     "output_type": "error",
     "traceback": [
      "\u001b[0;31m---------------------------------------------------------------------------\u001b[0m",
      "\u001b[0;31mKeyError\u001b[0m                                  Traceback (most recent call last)",
      "Cell \u001b[0;32mIn[11], line 2\u001b[0m\n\u001b[1;32m      1\u001b[0m target \u001b[38;5;241m=\u001b[39m Ca48\n\u001b[0;32m----> 2\u001b[0m \u001b[38;5;28mprint\u001b[39m(\u001b[38;5;124mf\u001b[39m\u001b[38;5;124m\"\u001b[39m\u001b[38;5;124mNumber of (p,n) measurements: \u001b[39m\u001b[38;5;132;01m{\u001b[39;00m\u001b[43mpn_data\u001b[49m\u001b[43m[\u001b[49m\u001b[43mtarget\u001b[49m\u001b[43m]\u001b[49m\u001b[38;5;241m.\u001b[39mnum_measurements\u001b[38;5;132;01m}\u001b[39;00m\u001b[38;5;124m\"\u001b[39m)\n\u001b[1;32m      3\u001b[0m flag_entries(target)\n",
      "\u001b[0;31mKeyError\u001b[0m: (48, 20)"
     ]
    }
   ],
   "source": [
    "target = Ca48\n",
    "print(f\"Number of (p,n) measurements: {pn_data[target].num_measurements}\")\n",
    "flag_entries(target)"
   ]
  }
 ],
 "metadata": {
  "kernelspec": {
   "display_name": "Python 3 (ipykernel)",
   "language": "python",
   "name": "python3"
  },
  "language_info": {
   "codemirror_mode": {
    "name": "ipython",
    "version": 3
   },
   "file_extension": ".py",
   "mimetype": "text/x-python",
   "name": "python",
   "nbconvert_exporter": "python",
   "pygments_lexer": "ipython3",
   "version": "3.10.14"
  }
 },
 "nbformat": 4,
 "nbformat_minor": 5
}
