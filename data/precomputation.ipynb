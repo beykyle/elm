{
 "cells": [
  {
   "cell_type": "markdown",
   "id": "133ba0d0-6819-4813-be66-1ef43b123bff",
   "metadata": {},
   "source": [
    "# Building workspaces for calibration\n",
    "In this notebook, we will take all the measurements we pulled from EXFOR and build `ElasticWorkspace` objects defined in this repo. These classes allow us to precompute useful things (like kinematics and Coulomb scattering amplitudes) for model calculations for each measurement, so that we can toss in a model and a bunch of parameters and quickly generate an ensemble of predictions for our data corpus, calculate things like $\\chi^2$ distributions and empirical coverages."
   ]
  },
  {
   "cell_type": "code",
   "execution_count": 1,
   "id": "0736858d-0cee-4636-a4d0-5fbc844b5a44",
   "metadata": {},
   "outputs": [],
   "source": [
    "from collections import OrderedDict\n",
    "\n",
    "import numpy as np\n",
    "from periodictable import elements\n",
    "from tqdm import tqdm"
   ]
  },
  {
   "cell_type": "code",
   "execution_count": 2,
   "id": "f8ccf208-db93-4322-97f0-8b8b0e706291",
   "metadata": {},
   "outputs": [
    {
     "name": "stdout",
     "output_type": "stream",
     "text": [
      "Using database version X4-2024-12-31 located in: /home/beyerk/db/exfor/unpack_exfor-2024/X4-2024-12-31\n"
     ]
    }
   ],
   "source": [
    "from exfor_tools import curate, quantities, reaction"
   ]
  },
  {
   "cell_type": "code",
   "execution_count": 3,
   "id": "d9584046-d72b-4e56-8018-5efa575fb9b7",
   "metadata": {},
   "outputs": [],
   "source": [
    "import elm"
   ]
  },
  {
   "cell_type": "code",
   "execution_count": 4,
   "id": "9f985805-b804-4dd1-944d-d205e5f80f47",
   "metadata": {},
   "outputs": [],
   "source": [
    "import pickle\n",
    "from pathlib import Path\n",
    "\n",
    "output_dir = Path(\"./corpus/\")\n",
    "output_dir.mkdir(parents=True, exist_ok=True)"
   ]
  },
  {
   "cell_type": "markdown",
   "id": "f5af1348-64d8-456a-97e4-f0719d956a59",
   "metadata": {},
   "source": [
    "## Read in the measurements"
   ]
  },
  {
   "cell_type": "code",
   "execution_count": 5,
   "id": "ce5e76e5-61cf-4b4f-b6d2-9541eec3bdd4",
   "metadata": {},
   "outputs": [],
   "source": [
    "with open(output_dir / \"nn_elastic_data.pkl\", \"rb\") as f:\n",
    "    nn_measurements = pickle.load(f)"
   ]
  },
  {
   "cell_type": "code",
   "execution_count": 6,
   "id": "cf0bbc9d-ee3f-4ea7-97d7-75c59f9033cc",
   "metadata": {},
   "outputs": [],
   "source": [
    "with open(output_dir / \"pp_elastic_data.pkl\", \"rb\") as f:\n",
    "    pp_data = pickle.load(f)"
   ]
  },
  {
   "cell_type": "markdown",
   "id": "4fee0a1e-4f14-457f-89c0-50c843315bc7",
   "metadata": {},
   "source": [
    "### first, let's do $(n,n)$"
   ]
  },
  {
   "cell_type": "code",
   "execution_count": 7,
   "id": "310badb4-bb59-4e57-9865-c1b12e2b733c",
   "metadata": {},
   "outputs": [
    {
     "name": "stdout",
     "output_type": "stream",
     "text": [
      "CPU times: user 1min 26s, sys: 474 ms, total: 1min 27s\n",
      "Wall time: 1min 27s\n"
     ]
    }
   ],
   "source": [
    "%%time\n",
    "nn_elastic_workspaces = elm.corpus.build_workspaces_from_measurements(\n",
    "    \"dXS/dA\", nn_measurements\n",
    ")"
   ]
  },
  {
   "cell_type": "code",
   "execution_count": 8,
   "id": "de375285-2365-4d7f-b37c-c0f191119c1f",
   "metadata": {},
   "outputs": [],
   "source": [
    "with open(output_dir / \"nn_elastic_workspaces.pkl\", \"wb\") as f:\n",
    "    pickle.dump(nn_elastic_workspaces, f)"
   ]
  },
  {
   "cell_type": "markdown",
   "id": "e9e72987-4435-4f97-8dc6-b1ab448de2a0",
   "metadata": {},
   "source": [
    "### next, let's do $(p,p)$"
   ]
  },
  {
   "cell_type": "code",
   "execution_count": 9,
   "id": "3469b780-0c02-49e3-9d19-cbbb68c64d0a",
   "metadata": {},
   "outputs": [
    {
     "name": "stdout",
     "output_type": "stream",
     "text": [
      "CPU times: user 3min 24s, sys: 728 ms, total: 3min 25s\n",
      "Wall time: 3min 25s\n"
     ]
    }
   ],
   "source": [
    "%%time\n",
    "pp_elastic_workspaces = elm.corpus.build_workspaces_from_measurements(\n",
    "    \"dXS/dRuth\", pp_data\n",
    ")"
   ]
  },
  {
   "cell_type": "code",
   "execution_count": 10,
   "id": "0142a596-8484-4d92-8321-566fcb1e2fc8",
   "metadata": {},
   "outputs": [],
   "source": [
    "with open(output_dir / \"pp_elastic_workspaces.pkl\", \"wb\") as f:\n",
    "    pickle.dump(pp_elastic_workspaces, f)"
   ]
  }
 ],
 "metadata": {
  "kernelspec": {
   "display_name": "Python 3 (ipykernel)",
   "language": "python",
   "name": "python3"
  },
  "language_info": {
   "codemirror_mode": {
    "name": "ipython",
    "version": 3
   },
   "file_extension": ".py",
   "mimetype": "text/x-python",
   "name": "python",
   "nbconvert_exporter": "python",
   "pygments_lexer": "ipython3",
   "version": "3.11.9"
  }
 },
 "nbformat": 4,
 "nbformat_minor": 5
}
