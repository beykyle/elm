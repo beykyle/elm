{
 "cells": [
  {
   "cell_type": "markdown",
   "id": "133ba0d0-6819-4813-be66-1ef43b123bff",
   "metadata": {},
   "source": [
    "In this notebook, we compare some out of the box models to the ELM prior with respect to our set of constraints"
   ]
  },
  {
   "cell_type": "code",
   "execution_count": 1,
   "id": "0736858d-0cee-4636-a4d0-5fbc844b5a44",
   "metadata": {},
   "outputs": [],
   "source": [
    "import pickle\n",
    "from collections import OrderedDict\n",
    "\n",
    "import numpy as np\n",
    "from periodictable import elements"
   ]
  },
  {
   "cell_type": "code",
   "execution_count": 2,
   "id": "f8ccf208-db93-4322-97f0-8b8b0e706291",
   "metadata": {},
   "outputs": [
    {
     "name": "stdout",
     "output_type": "stream",
     "text": [
      "Using database version X4-2024-12-31 located in: /home/beyerk/db/exfor/unpack_exfor-2024/X4-2024-12-31\n"
     ]
    }
   ],
   "source": [
    "from exfor_tools import curate, quantities, reaction"
   ]
  },
  {
   "cell_type": "code",
   "execution_count": 3,
   "id": "ec572563-7eaf-4fb4-98fe-684925f5f9f4",
   "metadata": {},
   "outputs": [],
   "source": [
    "from jitr import rmatrix\n",
    "from jitr.optical_potentials import kduq, wlh\n",
    "from jitr.utils import kinematics\n",
    "from jitr.xs.elastic import DifferentialWorkspace\n",
    "from jitr import data_dir"
   ]
  },
  {
   "cell_type": "code",
   "execution_count": 4,
   "id": "d9584046-d72b-4e56-8018-5efa575fb9b7",
   "metadata": {},
   "outputs": [],
   "source": [
    "import elm"
   ]
  },
  {
   "cell_type": "code",
   "execution_count": 5,
   "id": "e3bbcb6d-5260-4d68-8ce0-815b5584d77c",
   "metadata": {},
   "outputs": [],
   "source": [
    "proton = (1,1)\n",
    "neutron = (1,0)"
   ]
  },
  {
   "cell_type": "code",
   "execution_count": 6,
   "id": "ce5e76e5-61cf-4b4f-b6d2-9541eec3bdd4",
   "metadata": {},
   "outputs": [],
   "source": [
    "with open(\"nn_elastic_data.pkl\", \"rb\") as f:\n",
    "    nn_data = pickle.load(f)"
   ]
  },
  {
   "cell_type": "code",
   "execution_count": 7,
   "id": "cf0bbc9d-ee3f-4ea7-97d7-75c59f9033cc",
   "metadata": {},
   "outputs": [],
   "source": [
    "with open(\"pp_elastic_data.pkl\", \"rb\") as f:\n",
    "    pp_data = pickle.load(f)"
   ]
  },
  {
   "cell_type": "code",
   "execution_count": 8,
   "id": "ce0526fb-e993-4ab1-bd77-2287d2c086d2",
   "metadata": {},
   "outputs": [],
   "source": [
    "all_data = list(pp_data.values()) + list(nn_data.values())\n",
    "all_data_by_entry, sys_uncertainties_by_entry = (\n",
    "    curate.cross_reference_entry_systematic_err(all_data)\n",
    ")"
   ]
  },
  {
   "cell_type": "code",
   "execution_count": 9,
   "id": "64b619c2-f926-4c36-b830-c11055065514",
   "metadata": {},
   "outputs": [],
   "source": [
    "measurement_groups = curate.categorize_measurements_by_energy(\n",
    "    pp_data[(40, 20)].data[\"dXS/dA\"].entries\n",
    ")"
   ]
  },
  {
   "cell_type": "code",
   "execution_count": 11,
   "id": "f5d7392f-0ff8-473d-b574-23d8d190c214",
   "metadata": {},
   "outputs": [],
   "source": [
    "default_sys_norm_err = 0.05\n",
    "constraints = []\n",
    "core_solver = rmatrix.Solver(40)\n",
    "angles_vis = np.linspace(0.01, 180, 100)\n",
    "\n",
    "for measurement_group in measurement_groups:\n",
    "    for m in measurement_group:\n",
    "        \n",
    "        # assign default systematic normalization error\n",
    "        if np.isclose(m.systematic_norm_err, 0):\n",
    "            m.systematic_norm_err = default_sys_norm_err\n",
    "\n",
    "        # convert to mB/Sr TODO put convert function in exfor_tools and do this during parsing\n",
    "        if m.y_units == 'barns/ster':\n",
    "            m.y_units = 'mb/Sr'\n",
    "            m.y *= 1000\n",
    "            m.statistical_err *= 1000\n",
    "            m.systematic_offset_err *= 1000\n",
    "            m.general_systematic_err *= 1000\n",
    "            for i in range(len(m.y_errs)):\n",
    "                m.y_errs[i] *= 1000\n",
    "            \n",
    "        model = elm.ElasticModel(\n",
    "                quantity=\"dXS/dRuth\",\n",
    "                reaction=pp_data[(40, 20)].reaction,\n",
    "                Elab=m.Einc,\n",
    "                angles_rad_constraint=m.x * np.pi / 180,\n",
    "                angles_rad_vis=angles_vis * np.pi / 180,\n",
    "                core_solver=core_solver,\n",
    "                lmax=30,\n",
    "            )\n",
    "        constraint = elm.calibration.ReactionDistribution(\n",
    "                quantity=\"dXS/dRuth\",\n",
    "                measurement=m,\n",
    "                normalize=model.constraint_workspace.rutherford\n",
    "            )\n",
    "        constraints.append((constraint, model))"
   ]
  },
  {
   "cell_type": "markdown",
   "id": "c094912c-d126-4241-a252-a73b1c9d197e",
   "metadata": {},
   "source": [
    "## Parameters"
   ]
  },
  {
   "cell_type": "markdown",
   "id": "019bfb62-2d28-4f8d-84aa-9a0af8360108",
   "metadata": {},
   "source": [
    "### ELM prior"
   ]
  },
  {
   "cell_type": "code",
   "execution_count": 12,
   "id": "380983ac-3982-43ee-93b2-b73a383256af",
   "metadata": {},
   "outputs": [],
   "source": [
    "with open(\"../prior/prior_distribution.pickle\", \"rb\") as f:\n",
    "    prior = pickle.load(f)"
   ]
  },
  {
   "cell_type": "code",
   "execution_count": 13,
   "id": "bc60aea8-63f8-47da-857b-b390eb056531",
   "metadata": {},
   "outputs": [],
   "source": [
    "prior_samples = prior.rvs(size=1000)"
   ]
  },
  {
   "cell_type": "code",
   "execution_count": 14,
   "id": "ad66252b-dc44-48cd-bb33-deb19ea3e4cf",
   "metadata": {},
   "outputs": [],
   "source": [
    "prior_samples = [OrderedDict([(p.name, v) for p, v in zip(elm.params, sample)]) for sample in prior_samples]"
   ]
  },
  {
   "cell_type": "markdown",
   "id": "5901deeb-9dce-4426-ad0f-ce40f228ea6c",
   "metadata": {},
   "source": [
    "## kduq"
   ]
  },
  {
   "cell_type": "code",
   "execution_count": 15,
   "id": "e88808fd-304e-4282-a1fb-493c2049835b",
   "metadata": {},
   "outputs": [],
   "source": [
    "kd_samples = kduq.get_samples_federal(proton)"
   ]
  },
  {
   "cell_type": "code",
   "execution_count": 16,
   "id": "c9a10576-c18a-4228-b969-7cc519efef8a",
   "metadata": {},
   "outputs": [],
   "source": [
    "def kduq_calculate_xs(workspace: DifferentialWorkspace, params: OrderedDict):\n",
    "    coul, cen, so = kduq.calculate_params(proton, tuple(workspace.reaction.target), workspace.kinematics.Elab, params)\n",
    "    return workspace.xs(\n",
    "        interaction_central=kduq.central_plus_coulomb,\n",
    "        interaction_spin_orbit=kduq.spin_orbit,\n",
    "        args_central=(cen, coul),\n",
    "        args_spin_orbit=so\n",
    "    )"
   ]
  },
  {
   "cell_type": "markdown",
   "id": "11f6d6f0-1d64-4103-89c6-b2e34d568e6b",
   "metadata": {},
   "source": [
    "## WLH"
   ]
  },
  {
   "cell_type": "code",
   "execution_count": 17,
   "id": "364dbd8f-679e-4d22-b8fe-6487e5e79cac",
   "metadata": {},
   "outputs": [],
   "source": [
    "wlh_samples = wlh.get_samples(proton)"
   ]
  },
  {
   "cell_type": "code",
   "execution_count": 18,
   "id": "87536353-81b7-4fb8-8cf2-611ee752cdee",
   "metadata": {},
   "outputs": [],
   "source": [
    "def wlh_calculate_xs(workspace: DifferentialWorkspace, params: OrderedDict):\n",
    "    coul, cen, so = wlh.calculate_params(proton, tuple(workspace.reaction.target), workspace.kinematics.Elab, params)\n",
    "    return workspace.xs(\n",
    "        interaction_central=wlh.central_plus_coulomb,\n",
    "        interaction_spin_orbit=wlh.spin_orbit,\n",
    "        args_central=(cen, coul),\n",
    "        args_spin_orbit=so\n",
    "    )"
   ]
  },
  {
   "cell_type": "markdown",
   "id": "ea6b495a-b732-4e84-884b-1b1ac6cdd051",
   "metadata": {},
   "source": [
    "# Run UQ"
   ]
  },
  {
   "cell_type": "code",
   "execution_count": 19,
   "id": "e9a6829c-0633-4787-a526-27a0c628003a",
   "metadata": {},
   "outputs": [],
   "source": [
    "def run_uq_vis(model, func, params):\n",
    "    xs = np.zeros((len(params), len(angles_vis)))\n",
    "    for i in range(len(params)):\n",
    "        xs[i, :] = (\n",
    "        model.get_quantity_vis(\n",
    "            func,\n",
    "            params[i],\n",
    "        )\n",
    "        )\n",
    "    return np.percentile(xs, [16, 84], axis=0)"
   ]
  },
  {
   "cell_type": "code",
   "execution_count": 20,
   "id": "90655bf5-f034-4796-9d4e-307299020c3c",
   "metadata": {},
   "outputs": [],
   "source": [
    "len(constraints)\n",
    "i = 0"
   ]
  },
  {
   "cell_type": "code",
   "execution_count": 21,
   "id": "c5dac19b-4ba0-43a1-80e8-89df6f7ba778",
   "metadata": {},
   "outputs": [
    {
     "name": "stderr",
     "output_type": "stream",
     "text": [
      "/home/beyerk/Projects/jitr/src/jitr/optical_potentials/kduq.py:302: RuntimeWarning: overflow encountered in exp\n",
      "  1 + np.exp((A - params[\"d2_A3\"]) / params[\"d2_A2\"])\n"
     ]
    }
   ],
   "source": [
    "kduq_confint = run_uq_vis(constraints[i][1], kduq_calculate_xs, kd_samples)"
   ]
  },
  {
   "cell_type": "code",
   "execution_count": 22,
   "id": "4ea1ac72-a351-4b08-88fd-62d7726f10a4",
   "metadata": {},
   "outputs": [],
   "source": [
    "wlh_confint = run_uq_vis(constraints[i][1], wlh_calculate_xs, wlh_samples)"
   ]
  },
  {
   "cell_type": "code",
   "execution_count": 23,
   "id": "cd3e5a88-29f4-4c9a-ad6d-3568d068b725",
   "metadata": {},
   "outputs": [],
   "source": [
    "wlh_confint = run_uq_vis(constraints[i][1], wlh_calculate_xs, wlh_samples)"
   ]
  },
  {
   "cell_type": "code",
   "execution_count": 24,
   "id": "926ef83a-da45-40bc-9866-7185ef1635e2",
   "metadata": {},
   "outputs": [],
   "source": [
    "elm_prior_confint = run_uq_vis(constraints[i][1], elm.calculate_diff_xs, prior_samples)"
   ]
  },
  {
   "cell_type": "code",
   "execution_count": 25,
   "id": "5b48431f-5d43-4144-898d-d1df7a36360d",
   "metadata": {},
   "outputs": [],
   "source": [
    "from matplotlib import pyplot as plt"
   ]
  },
  {
   "cell_type": "code",
   "execution_count": 27,
   "id": "5bb166c4-6ee7-461d-b3ac-f844be147aca",
   "metadata": {},
   "outputs": [
    {
     "data": {
      "text/plain": [
       "<matplotlib.legend.Legend at 0x76f2f7d82450>"
      ]
     },
     "execution_count": 27,
     "metadata": {},
     "output_type": "execute_result"
    },
    {
     "data": {
      "image/png": "[encoded data removed]",
      "text/plain": [
       "<Figure size 640x480 with 1 Axes>"
      ]
     },
     "metadata": {},
     "output_type": "display_data"
    }
   ],
   "source": [
    "plt.title(f\"${pp_data[(40, 20)].reaction.reaction_latex}$ at {constraints[i][1].kinematics.Elab} MeV\")\n",
    "plt.fill_between(angles_vis, elm_prior_confint[1], elm_prior_confint[0], alpha=0.5, label=\"ELM Prior\")\n",
    "plt.fill_between(angles_vis, kduq_confint[1], kduq_confint[0], alpha=0.5, label=\"KDUQ\")\n",
    "plt.fill_between(angles_vis, wlh_confint[1], wlh_confint[0], alpha=0.5, label=\"WLH\")\n",
    "plt.errorbar(constraints[i][0].x, constraints[i][0].y, constraints[i][0].stat_err_y, linestyle=\"none\")\n",
    "\n",
    "plt.yscale(\"log\")\n",
    "plt.xlabel(r\"$\\theta$ [deg]\")\n",
    "plt.ylabel(r\"$d \\sigma/d\\Omega$ [b/Sr]\")\n",
    "plt.legend()"
   ]
  },
  {
   "cell_type": "code",
   "execution_count": null,
   "id": "731d34ac-a47f-4f41-a9b3-9bc320f37837",
   "metadata": {},
   "outputs": [],
   "source": []
  }
 ],
 "metadata": {
  "kernelspec": {
   "display_name": "Python 3 (ipykernel)",
   "language": "python",
   "name": "python3"
  },
  "language_info": {
   "codemirror_mode": {
    "name": "ipython",
    "version": 3
   },
   "file_extension": ".py",
   "mimetype": "text/x-python",
   "name": "python",
   "nbconvert_exporter": "python",
   "pygments_lexer": "ipython3",
   "version": "3.11.9"
  }
 },
 "nbformat": 4,
 "nbformat_minor": 5
}
