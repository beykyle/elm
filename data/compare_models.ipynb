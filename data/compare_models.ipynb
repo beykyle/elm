{
 "cells": [
  {
   "cell_type": "markdown",
   "id": "133ba0d0-6819-4813-be66-1ef43b123bff",
   "metadata": {},
   "source": [
    "In this notebook, we compare some out of the box models to the ELM prior with respect to our set of constraints"
   ]
  },
  {
   "cell_type": "code",
   "execution_count": 1,
   "id": "0736858d-0cee-4636-a4d0-5fbc844b5a44",
   "metadata": {},
   "outputs": [],
   "source": [
    "import pickle\n",
    "from collections import OrderedDict\n",
    "from tqdm import tqdm\n",
    "import numpy as np\n",
    "from matplotlib import pyplot as plt\n",
    "from periodictable import elements"
   ]
  },
  {
   "cell_type": "code",
   "execution_count": 2,
   "id": "f8ccf208-db93-4322-97f0-8b8b0e706291",
   "metadata": {},
   "outputs": [
    {
     "name": "stdout",
     "output_type": "stream",
     "text": [
      "Using database version X4-2024-12-31 located in: /home/beyerk/db/exfor/unpack_exfor-2024/X4-2024-12-31\n"
     ]
    }
   ],
   "source": [
    "from exfor_tools import curate, quantities, reaction"
   ]
  },
  {
   "cell_type": "code",
   "execution_count": 3,
   "id": "ec572563-7eaf-4fb4-98fe-684925f5f9f4",
   "metadata": {},
   "outputs": [],
   "source": [
    "from jitr import data_dir, rmatrix\n",
    "from jitr.optical_potentials import kduq, wlh\n",
    "from jitr.utils import kinematics\n",
    "from jitr.xs.elastic import DifferentialWorkspace"
   ]
  },
  {
   "cell_type": "code",
   "execution_count": 4,
   "id": "d9584046-d72b-4e56-8018-5efa575fb9b7",
   "metadata": {},
   "outputs": [],
   "source": [
    "import elm"
   ]
  },
  {
   "cell_type": "code",
   "execution_count": 5,
   "id": "e3bbcb6d-5260-4d68-8ce0-815b5584d77c",
   "metadata": {},
   "outputs": [],
   "source": [
    "proton = (1, 1)\n",
    "neutron = (1, 0)"
   ]
  },
  {
   "cell_type": "markdown",
   "id": "125cf858-aace-4622-b94a-670a3d5ab922",
   "metadata": {},
   "source": [
    "## Load constraints and workspaces"
   ]
  },
  {
   "cell_type": "code",
   "execution_count": 6,
   "id": "01f078d5-383f-4760-b371-2430dbcde4ca",
   "metadata": {},
   "outputs": [],
   "source": [
    "with open(\"./constraints.pkl\", \"rb\") as f:\n",
    "    constraints = pickle.load(f)"
   ]
  },
  {
   "cell_type": "markdown",
   "id": "c094912c-d126-4241-a252-a73b1c9d197e",
   "metadata": {},
   "source": [
    "## Parameters"
   ]
  },
  {
   "cell_type": "markdown",
   "id": "019bfb62-2d28-4f8d-84aa-9a0af8360108",
   "metadata": {},
   "source": [
    "### ELM prior"
   ]
  },
  {
   "cell_type": "code",
   "execution_count": 7,
   "id": "380983ac-3982-43ee-93b2-b73a383256af",
   "metadata": {},
   "outputs": [],
   "source": [
    "with open(\"../prior/prior_distribution.pickle\", \"rb\") as f:\n",
    "    prior = pickle.load(f)"
   ]
  },
  {
   "cell_type": "code",
   "execution_count": 8,
   "id": "bc60aea8-63f8-47da-857b-b390eb056531",
   "metadata": {},
   "outputs": [],
   "source": [
    "prior_samples = prior.rvs(size=1000)"
   ]
  },
  {
   "cell_type": "code",
   "execution_count": 9,
   "id": "ad66252b-dc44-48cd-bb33-deb19ea3e4cf",
   "metadata": {},
   "outputs": [],
   "source": [
    "prior_samples = [\n",
    "    OrderedDict([(p.name, v) for p, v in zip(elm.params, sample)])\n",
    "    for sample in prior_samples\n",
    "]"
   ]
  },
  {
   "cell_type": "markdown",
   "id": "5901deeb-9dce-4426-ad0f-ce40f228ea6c",
   "metadata": {},
   "source": [
    "## kduq"
   ]
  },
  {
   "cell_type": "code",
   "execution_count": 10,
   "id": "e88808fd-304e-4282-a1fb-493c2049835b",
   "metadata": {},
   "outputs": [],
   "source": [
    "kd_samples = {\n",
    "    proton: kduq.get_samples_federal(proton),\n",
    "    neutron: kduq.get_samples_federal(neutron),\n",
    "}"
   ]
  },
  {
   "cell_type": "code",
   "execution_count": 11,
   "id": "c9a10576-c18a-4228-b969-7cc519efef8a",
   "metadata": {},
   "outputs": [],
   "source": [
    "def kduq_calculate_xs(workspace: DifferentialWorkspace, params: OrderedDict):\n",
    "    coul, cen, so = kduq.calculate_params(\n",
    "        tuple(workspace.reaction.projectile),\n",
    "        tuple(workspace.reaction.target),\n",
    "        workspace.kinematics.Elab,\n",
    "        params,\n",
    "    )\n",
    "    return workspace.xs(\n",
    "        interaction_central=kduq.central_plus_coulomb,\n",
    "        interaction_spin_orbit=kduq.spin_orbit,\n",
    "        args_central=(cen, coul),\n",
    "        args_spin_orbit=so,\n",
    "    )"
   ]
  },
  {
   "cell_type": "markdown",
   "id": "11f6d6f0-1d64-4103-89c6-b2e34d568e6b",
   "metadata": {},
   "source": [
    "## WLH"
   ]
  },
  {
   "cell_type": "code",
   "execution_count": 12,
   "id": "364dbd8f-679e-4d22-b8fe-6487e5e79cac",
   "metadata": {},
   "outputs": [],
   "source": [
    "wlh_samples = {proton: wlh.get_samples(proton), neutron: wlh.get_samples(neutron)}"
   ]
  },
  {
   "cell_type": "code",
   "execution_count": 13,
   "id": "87536353-81b7-4fb8-8cf2-611ee752cdee",
   "metadata": {},
   "outputs": [],
   "source": [
    "def wlh_calculate_xs(workspace: DifferentialWorkspace, params: OrderedDict):\n",
    "    coul, cen, so = wlh.calculate_params(\n",
    "        tuple(workspace.reaction.projectile),\n",
    "        tuple(workspace.reaction.target),\n",
    "        workspace.kinematics.Elab,\n",
    "        params,\n",
    "    )\n",
    "    return workspace.xs(\n",
    "        interaction_central=wlh.central_plus_coulomb,\n",
    "        interaction_spin_orbit=wlh.spin_orbit,\n",
    "        args_central=(cen, coul),\n",
    "        args_spin_orbit=so,\n",
    "    )"
   ]
  },
  {
   "cell_type": "markdown",
   "id": "ea6b495a-b732-4e84-884b-1b1ac6cdd051",
   "metadata": {},
   "source": [
    "# Run UQ"
   ]
  },
  {
   "cell_type": "code",
   "execution_count": 14,
   "id": "e9a6829c-0633-4787-a526-27a0c628003a",
   "metadata": {},
   "outputs": [],
   "source": [
    "class UQResult:\n",
    "    def __init__(self, model, constraint, func, params):\n",
    "        self.intervals =  np.arange(5, 100, 5)\n",
    "        xvis = model.visualization_workspace.angles\n",
    "        ndof = constraint.n_data_pts\n",
    "        xs_vis = np.zeros((len(params), len(xvis)))\n",
    "        xs_cal = np.zeros((len(params), ndof))\n",
    "\n",
    "        self.residuals = np.zeros((len(params), len(constraint.x)))\n",
    "        self.chi2 = np.zeros((len(params)))\n",
    "        for i in range(len(params)):\n",
    "            # calibration stuff\n",
    "            ym = model(func, params[i])\n",
    "            self.residuals[i, :] = constraint.residual(ym)\n",
    "            self.chi2[i] = constraint.chi2(ym)\n",
    "            xs_cal[i, :] = ym\n",
    "    \n",
    "            # visualization stuff\n",
    "            xs_vis[i, :] = model.get_quantity_vis(\n",
    "                func,\n",
    "                params[i],\n",
    "            )\n",
    "\n",
    "        self.ci = np.percentile(xs_cal, self.intervals, axis=0)\n",
    "        self.visual_confidence_intervals = np.percentile(xs_vis, [16, 84], axis=0)"
   ]
  },
  {
   "cell_type": "code",
   "execution_count": 15,
   "id": "73dde8af-d1bb-4798-b345-3f5444299851",
   "metadata": {},
   "outputs": [
    {
     "name": "stderr",
     "output_type": "stream",
     "text": [
      "  0%|                                                                         | 0/2 [00:00<?, ?it/s]/home/beyerk/Projects/jitr/src/jitr/optical_potentials/kduq.py:302: RuntimeWarning: overflow encountered in exp\n",
      "  1 + np.exp((A - params[\"d2_A3\"]) / params[\"d2_A2\"])\n",
      "100%|████████████████████████████████████████████████████████████████| 2/2 [09:32<00:00, 286.28s/it]\n"
     ]
    }
   ],
   "source": [
    "results_kduq = {}\n",
    "results_wlh = {}\n",
    "results_elm = {}\n",
    "\n",
    "for rxn in tqdm(list(constraints.keys())[:2]):\n",
    "    results_kduq[rxn] = []    \n",
    "    results_wlh[rxn] = []\n",
    "    results_elm[rxn] = []\n",
    "\n",
    "    for constraint, model in constraints[rxn]:\n",
    "        results_kduq[rxn].append(\n",
    "            UQResult(\n",
    "                model, constraint, kduq_calculate_xs, kd_samples[tuple(rxn.projectile)]\n",
    "            )\n",
    "        )\n",
    "        results_wlh[rxn].append(\n",
    "            UQResult(\n",
    "                model, constraint,  wlh_calculate_xs, wlh_samples[tuple(rxn.projectile)]\n",
    "            )\n",
    "        )        \n",
    "        results_elm[rxn].append(\n",
    "            UQResult(\n",
    "                model, constraint, elm.calculate_diff_xs, prior_samples\n",
    "            )\n",
    "        )"
   ]
  },
  {
   "cell_type": "code",
   "execution_count": 16,
   "id": "5bb166c4-6ee7-461d-b3ac-f844be147aca",
   "metadata": {},
   "outputs": [
    {
     "ename": "NameError",
     "evalue": "name 'xvis' is not defined",
     "output_type": "error",
     "traceback": [
      "\u001b[0;31m---------------------------------------------------------------------------\u001b[0m",
      "\u001b[0;31mNameError\u001b[0m                                 Traceback (most recent call last)",
      "Cell \u001b[0;32mIn[16], line 3\u001b[0m\n\u001b[1;32m      1\u001b[0m plt\u001b[38;5;241m.\u001b[39mtitle(\u001b[38;5;124mf\u001b[39m\u001b[38;5;124m\"\u001b[39m\u001b[38;5;124m$\u001b[39m\u001b[38;5;132;01m{\u001b[39;00mmodel\u001b[38;5;241m.\u001b[39mreaction\u001b[38;5;241m.\u001b[39mreaction_latex\u001b[38;5;132;01m}\u001b[39;00m\u001b[38;5;124m$ at \u001b[39m\u001b[38;5;132;01m{\u001b[39;00mmodel\u001b[38;5;241m.\u001b[39mkinematics\u001b[38;5;241m.\u001b[39mElab\u001b[38;5;132;01m}\u001b[39;00m\u001b[38;5;124m MeV\u001b[39m\u001b[38;5;124m\"\u001b[39m)\n\u001b[1;32m      2\u001b[0m plt\u001b[38;5;241m.\u001b[39mfill_between(\n\u001b[0;32m----> 3\u001b[0m     \u001b[43mxvis\u001b[49m, kduq_confint_vis[\u001b[38;5;241m1\u001b[39m], kduq_confint_vis[\u001b[38;5;241m0\u001b[39m], alpha\u001b[38;5;241m=\u001b[39m\u001b[38;5;241m0.5\u001b[39m, label\u001b[38;5;241m=\u001b[39m\u001b[38;5;124m\"\u001b[39m\u001b[38;5;124mKDUQ\u001b[39m\u001b[38;5;124m\"\u001b[39m\n\u001b[1;32m      4\u001b[0m )\n\u001b[1;32m      5\u001b[0m plt\u001b[38;5;241m.\u001b[39mfill_between(xvis, wlh_confint_vis[\u001b[38;5;241m1\u001b[39m], wlh_confint_vis[\u001b[38;5;241m0\u001b[39m], alpha\u001b[38;5;241m=\u001b[39m\u001b[38;5;241m0.5\u001b[39m, label\u001b[38;5;241m=\u001b[39m\u001b[38;5;124m\"\u001b[39m\u001b[38;5;124mWLH\u001b[39m\u001b[38;5;124m\"\u001b[39m)\n\u001b[1;32m      6\u001b[0m plt\u001b[38;5;241m.\u001b[39mfill_between(\n\u001b[1;32m      7\u001b[0m     xvis, elm_confint_vis[\u001b[38;5;241m1\u001b[39m], elm_confint_vis[\u001b[38;5;241m0\u001b[39m], alpha\u001b[38;5;241m=\u001b[39m\u001b[38;5;241m0.5\u001b[39m, label\u001b[38;5;241m=\u001b[39m\u001b[38;5;124m\"\u001b[39m\u001b[38;5;124mELM Prior\u001b[39m\u001b[38;5;124m\"\u001b[39m\n\u001b[1;32m      8\u001b[0m )\n",
      "\u001b[0;31mNameError\u001b[0m: name 'xvis' is not defined"
     ]
    },
    {
     "data": {
      "image/png": "[encoded data removed]",
      "text/plain": [
       "<Figure size 640x480 with 1 Axes>"
      ]
     },
     "metadata": {},
     "output_type": "display_data"
    }
   ],
   "source": [
    "plt.title(f\"${model.reaction.reaction_latex}$ at {model.kinematics.Elab} MeV\")\n",
    "plt.fill_between(\n",
    "    xvis, kduq_confint_vis[1], kduq_confint_vis[0], alpha=0.5, label=\"KDUQ\"\n",
    ")\n",
    "plt.fill_between(xvis, wlh_confint_vis[1], wlh_confint_vis[0], alpha=0.5, label=\"WLH\")\n",
    "plt.fill_between(\n",
    "    xvis, elm_confint_vis[1], elm_confint_vis[0], alpha=0.5, label=\"ELM Prior\"\n",
    ")\n",
    "\n",
    "plt.errorbar(\n",
    "    constraint.x,\n",
    "    constraint.y,\n",
    "    constraint.stat_err_y,\n",
    "    linestyle=\"none\",\n",
    "    marker=\".\",\n",
    "    color=\"k\",\n",
    ")\n",
    "\n",
    "plt.yscale(\"log\")\n",
    "plt.xlabel(r\"$\\theta$ [deg]\")\n",
    "plt.ylabel(r\"$d \\sigma/d\\Omega$ [b/Sr]\")\n",
    "plt.legend()"
   ]
  },
  {
   "cell_type": "code",
   "execution_count": null,
   "id": "731d34ac-a47f-4f41-a9b3-9bc320f37837",
   "metadata": {},
   "outputs": [],
   "source": [
    "plt.title(f\"${model.reaction.reaction_latex}$ at {model.kinematics.Elab} MeV\")\n",
    "plt.ylabel(\"frequency\")\n",
    "plt.xlabel(r\"$\\chi^2 / \\,\\rm{DOF}$\")\n",
    "plt.hist(kduq_chi2 / ndof, label=\"KDUQ\", bins=17, density=True, alpha=0.7)\n",
    "plt.hist(wlh_chi2 / ndof, label=\"WLH\", bins=17, density=True, alpha=0.7)\n",
    "plt.legend()"
   ]
  }
 ],
 "metadata": {
  "kernelspec": {
   "display_name": "Python 3 (ipykernel)",
   "language": "python",
   "name": "python3"
  },
  "language_info": {
   "codemirror_mode": {
    "name": "ipython",
    "version": 3
   },
   "file_extension": ".py",
   "mimetype": "text/x-python",
   "name": "python",
   "nbconvert_exporter": "python",
   "pygments_lexer": "ipython3",
   "version": "3.11.9"
  }
 },
 "nbformat": 4,
 "nbformat_minor": 5
}
