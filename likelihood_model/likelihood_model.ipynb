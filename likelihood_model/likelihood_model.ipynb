{
 "cells": [
  {
   "cell_type": "markdown",
   "id": "fe640126-c1c8-401a-98cd-a925073a7556",
   "metadata": {},
   "source": [
    "## Setting up a likelihood model for cross sections\n",
    "\n",
    "We will use a very simple likelihood model with no correlations between data points. The assumption is that each data point $(x_i,y_i)$ in the evidence is sampled independently from a normal distribution $\\mathcal{N}(y_i^{\\rm{true}}, \\sigma_i)$, where $\\sigma_i$ is the experimentally reported statistical error. We will also include a fractional uncorrelated error to \"regularize\" our covariance matrix, $\\eta$. This models the physical model prediction with \"true\" parameters $y_m(x_i;\\alpha^{\\rm{true}})$ as varying according to $\\mathcal{N}( y_i^{\\rm{true}}, \\eta y_m(x_i;\\alpha^{\\rm{true}}) )$, that is, even for the best-fit parameters, the form of the model itself introduces some approximations that we model as having an error of a fraction $\\eta$ of the value of the model prediction. This is sometimes called \"un-accounted for uncertainty\". In this model, the log-likelihood will be:\n",
    "\n",
    "\\begin{equation}\n",
    "\\mathcal{L}(\\alpha | y) \\equiv \\sum_i \\frac{ (y_i - y_m(x_i; \\alpha))^2}{\\sigma_i^2 + \\eta^2 y_m^2(x_i; \\alpha) }\n",
    "\\end{equation}\n",
    "\n",
    "In our case, following [KDUQ](https://journals.aps.org/prc/abstract/10.1103/PhysRevC.107.014602), we will choose $\\eta = 0.3$ for all reactions. In KDUQ, they actually fit $\\eta$ and find results in the range 0.2-0.5 or so for elastic scattering differential cross sections for $(n,n)$ and  $(p,p)$.\n",
    "\n",
    "Low-hanging fruits for improving this likelihood model are fitting $\\eta$, including a description of systematic error in the normalization of each experimennt, and handling outliers."
   ]
  },
  {
   "cell_type": "code",
   "execution_count": 1,
   "id": "bcbe4eaa-48c2-41f5-98ec-3524fab50ce0",
   "metadata": {},
   "outputs": [
    {
     "name": "stdout",
     "output_type": "stream",
     "text": [
      "Using database version X4-2024-12-31 located in: /home/kyle/db/exfor/unpack_exfor-2024/X4-2024-12-31\n"
     ]
    }
   ],
   "source": [
    "import rxmc\n",
    "import pickle"
   ]
  },
  {
   "cell_type": "code",
   "execution_count": 2,
   "id": "e65b0dce-94f7-4fef-ba49-5c4cb72fc9f9",
   "metadata": {},
   "outputs": [],
   "source": [
    "likelihood_model = rxmc.likelihood_model.LikelihoodModel(fractional_uncorrelated_error=0.3) "
   ]
  },
  {
   "cell_type": "code",
   "execution_count": 3,
   "id": "523eec35-94e8-4464-bfdd-6bf1fb3e3f84",
   "metadata": {},
   "outputs": [],
   "source": [
    "with open(\"likelihood_model.pkl\", \"wb\") as f:\n",
    "    pickle.dump(likelihood_model, f)"
   ]
  }
 ],
 "metadata": {
  "kernelspec": {
   "display_name": "Python 3 (ipykernel)",
   "language": "python",
   "name": "python3"
  },
  "language_info": {
   "codemirror_mode": {
    "name": "ipython",
    "version": 3
   },
   "file_extension": ".py",
   "mimetype": "text/x-python",
   "name": "python",
   "nbconvert_exporter": "python",
   "pygments_lexer": "ipython3",
   "version": "3.10.13"
  }
 },
 "nbformat": 4,
 "nbformat_minor": 5
}
